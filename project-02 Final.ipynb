{
 "cells": [
  {
   "cell_type": "markdown",
   "metadata": {},
   "source": [
    "# Project 02 - Due Friday, November 11 at 12pm\n",
    "\n",
    "*Objectives*: Gain experience loading a transactional dataset into a relational database model you define yourself and using SQL to explore its contents. Transform the data into a star schema, documenting the schema visually, and explore the transformed data analytically by writing and executing a number of SQL queries using common syntax and functions and describing your findings.  Gain practice working on these tasks with a partner.\n",
    "\n",
    "*Grading criteria*: The tasks should all be completed, and questions should all be answered with SQL queries, diagrams, and charts in the space provided, unless a text answer is requested.  The notebook itself should be completely reproducible at datanotebook.org, from start to finish: another person should be able to use the same code to obtain the same results as yours.  Note that you will receive no more than partial credit if you do not add text/markdown cells explaining your thinking at each major step in each problem.\n",
    "\n",
    "*Attestation*: **Work in pairs**.  At the end of your submitted notebook, identify the work each partner performed and attest that each contributed substantially to the work.\n",
    "\n",
    "*Deadline*: Friday, November 11, 12pm.  One member of each pair must submit your notebook to Blackboard; you should not both submit it separately.  You may each push a copy to your own GitHub repository.\n",
    "\n",
    "\n",
    "## Setup - select and obtain data\n",
    "\n",
    "The US City Open Data Census has a variety of [transactional data from all over the country](http://us-city.census.okfn.org/).  Select one topic and one city from this Census, download the data, and explain your reason for this choice before proceeding.  Provide a link to the web page for the data set you've chosen.\n",
    "\n",
    "I strongly encourage you to select a dataset from among the following topics:  Crime, Property Assessment, Campaign Finance Contributions, Service Requests (311), and Web Analytics.\n",
    "\n",
    "By *transactional* data I mean records at the grain of one event per business process.  In the case of Service Requests (311), for example, that would require data at the level of each individual report of a service request.  If this isn't clear, think about the bike trip data - each individual ride was included - and look for data at that level of event/process specificity.  Avoid data like the Connecticut boating data, which was summarized by year, not individual transactions.\n",
    "\n",
    "Please aim for a dataset of at least 10,000 individual records, but less than 250,000 records.  A little more or a little less is okay, but try to stay within these limits."
   ]
  },
  {
   "cell_type": "markdown",
   "metadata": {},
   "source": [
    "Project 2 Team:\n",
    "    \n",
    "    RITHVIK MUNDRA\n",
    "    \n",
    "    RONGCHU ZHAO"
   ]
  },
  {
   "cell_type": "markdown",
   "metadata": {},
   "source": [
    "We chose the Property Assessment data of Baton Rouge city of Lousiana state which is available at the following website:\n",
    "\n",
    "https://data.brla.gov/Housing-and-Development/EBRP-Tax-Roll/myfc-nh6n\n",
    "\n",
    "We are choosing this dataset because as a team we are interested in analyzing propoerty assessment data. The property assessment data for the Baton Rouge city is extensive and challenging to work on and hence we chose this data."
   ]
  },
  {
   "cell_type": "code",
   "execution_count": 1,
   "metadata": {
    "collapsed": false
   },
   "outputs": [
    {
     "name": "stdout",
     "output_type": "stream",
     "text": [
      "--2016-11-11 00:39:02--  https://data.brla.gov/api/views/myfc-nh6n/rows.csv?accessType=DOWNLOAD\n",
      "Resolving data.brla.gov (data.brla.gov)... 52.206.68.26\n",
      "Connecting to data.brla.gov (data.brla.gov)|52.206.68.26|:443... connected.\n",
      "HTTP request sent, awaiting response... 200 OK\n",
      "Length: unspecified [text/csv]\n",
      "Saving to: ‘rows.csv?accessType=DOWNLOAD’\n",
      "\n",
      "rows.csv?accessType     [ <=>                  ] 208.60M  5.18MB/s   in 47s    \n",
      "\n",
      "Last-modified header invalid -- time-stamp ignored.\n",
      "2016-11-11 00:39:49 (4.48 MB/s) - ‘rows.csv?accessType=DOWNLOAD’ saved [218738097]\n",
      "\n"
     ]
    }
   ],
   "source": [
    "!wget https://data.brla.gov/api/views/myfc-nh6n/rows.csv?accessType=DOWNLOAD"
   ]
  },
  {
   "cell_type": "markdown",
   "metadata": {},
   "source": [
    "Now renaming the file to baton.csv."
   ]
  },
  {
   "cell_type": "code",
   "execution_count": 2,
   "metadata": {
    "collapsed": false
   },
   "outputs": [],
   "source": [
    "!mv rows.csv?accessType=DOWNLOAD baton.csv"
   ]
  },
  {
   "cell_type": "markdown",
   "metadata": {},
   "source": [
    "Observing the column names in the data. "
   ]
  },
  {
   "cell_type": "code",
   "execution_count": 190,
   "metadata": {
    "collapsed": false
   },
   "outputs": [
    {
     "name": "stdout",
     "output_type": "stream",
     "text": [
      "  1: TAX YEAR\r\n",
      "  2: PROPERTY NUMBER\r\n",
      "  3: ASSESSMENT TYPE\r\n",
      "  4: ASSESSMENT STATUS\r\n",
      "  5: TAXPAYER NAME\r\n",
      "  6: TAXPAYER ADDRESS\r\n",
      "  7: TAXPAYER SUBADDRESS\r\n",
      "  8: TAXPAYER CITY STATE ZIP\r\n",
      "  9: WARD\r\n",
      " 10: SUBDIVISION NAME\r\n",
      " 11: BLOCK/SQUARE NO\r\n",
      " 12: LOT NO\r\n",
      " 13: PHYSICAL ADDRESS\r\n",
      " 14: STRUCTURE USE\r\n",
      " 15: UNIT TYPE\r\n",
      " 16: NO UNITS\r\n",
      " 17: VACANT\r\n",
      " 18: TRANSFER TYPE\r\n",
      " 19: TRANSFER DATE\r\n",
      " 20: ORIGINAL\r\n",
      " 21: BUNDLE\r\n",
      " 22: LEGAL DESCRIPTION\r\n",
      " 23: RESTORATION TAX ABATEMENT\r\n",
      " 24: HOMESTEAD EXEMPTION\r\n",
      " 25: FAIR MARKET VALUE\r\n",
      " 26: TOTAL ASSESSED VALUE\r\n",
      " 27: HOMESTEAD EXEMPTION VALUE\r\n",
      " 28: TAXABLE PARISH\r\n"
     ]
    }
   ],
   "source": [
    "!csvcut -n baton.csv"
   ]
  },
  {
   "cell_type": "markdown",
   "metadata": {},
   "source": [
    "Now finding the number of rows in the data."
   ]
  },
  {
   "cell_type": "code",
   "execution_count": 191,
   "metadata": {
    "collapsed": false
   },
   "outputs": [
    {
     "name": "stdout",
     "output_type": "stream",
     "text": [
      "385718 baton.csv\r\n"
     ]
    }
   ],
   "source": [
    "!wc -l baton.csv"
   ]
  },
  {
   "cell_type": "markdown",
   "metadata": {},
   "source": [
    "The data has 385718 observations in the dataset. We need to minimize the amount of data to analyze so that huge data will not become a overhead to the VM or datanotebook.org.Hence we are choosing to analyze data of ward 2 and unit type as \"lot\".The reason we are chossing ward 2 and unit type as \"lot\" is that it will give us the reasonable amount of data and makes the data transactional."
   ]
  },
  {
   "cell_type": "code",
   "execution_count": 4,
   "metadata": {
    "collapsed": true
   },
   "outputs": [],
   "source": [
    "!csvgrep -c9 -m '2' baton.csv | csvgrep -c15 -m 'LOT' > baton_prop.csv "
   ]
  },
  {
   "cell_type": "markdown",
   "metadata": {},
   "source": [
    "Now we are checking the number of observations in the file which contains transactional data of ward 2 and of unit type 'LOT'"
   ]
  },
  {
   "cell_type": "code",
   "execution_count": 5,
   "metadata": {
    "collapsed": false
   },
   "outputs": [
    {
     "name": "stdout",
     "output_type": "stream",
     "text": [
      "25977 baton_prop.csv\r\n"
     ]
    }
   ],
   "source": [
    "!wc -l baton_prop.csv"
   ]
  },
  {
   "cell_type": "markdown",
   "metadata": {},
   "source": [
    "Hence ward 2 and unit type 'LOT' data is reasonable and we can proceed with our analysis."
   ]
  },
  {
   "cell_type": "markdown",
   "metadata": {},
   "source": [
    "## Problem 1 - examine the data (20 points)\n",
    "\n",
    "Use `csvstat`, `pandas`, or other tools as you see fit and observe the contents of your dataset.  Review important points from any metadata provided.  Describe what you see:  What do the columns mean?  Are there null values?  Which columns interest you the most?  Which columns present some opportunities, challenges, or questions you would like to ask?"
   ]
  },
  {
   "cell_type": "markdown",
   "metadata": {},
   "source": [
    "We use csvstat to get an idea about our dataset"
   ]
  },
  {
   "cell_type": "code",
   "execution_count": 192,
   "metadata": {
    "collapsed": false
   },
   "outputs": [
    {
     "name": "stdout",
     "output_type": "stream",
     "text": [
      "  1. TAX YEAR\n",
      "\t<type 'int'>\n",
      "\tNulls: False\n",
      "\tValues: 2015\n",
      "  2. PROPERTY NUMBER\n",
      "\t<type 'unicode'>\n",
      "\tNulls: False\n",
      "\tUnique values: 25976\n",
      "\tMax length: 14\n",
      "  3. ASSESSMENT TYPE\n",
      "\t<type 'unicode'>\n",
      "\tNulls: False\n",
      "\tValues: REAL PROPERTY, PUBLIC SERVICE\n",
      "  4. ASSESSMENT STATUS\n",
      "\t<type 'unicode'>\n",
      "\tNulls: False\n",
      "\tValues: ADJUDICATED, ACTUAL, EXEMPT\n",
      "  5. TAXPAYER NAME\n",
      "\t<type 'unicode'>\n",
      "\tNulls: False\n",
      "\tUnique values: 21310\n",
      "\t5 most frequent values:\n",
      "\t\tLLE WITH 4-PLEXES, L.L.C.:\t104\n",
      "\t\tAMERICAN DEVLOPMENT COMPANY, LLC:\t82\n",
      "\t\tCEDAR POINTE SUBDIVISION LIMITED:\t81\n",
      "\t\tOAKWOOD TERRACE SUBDIVISION LIMITED:\t61\n",
      "\t\tCITY - CITY OF ZACHARY:\t58\n",
      "\tMax length: 36\n",
      "  6. TAXPAYER ADDRESS\n",
      "\t<type 'unicode'>\n",
      "\tNulls: True\n",
      "\tUnique values: 19958\n",
      "\t5 most frequent values:\n",
      "\t\t232-B LITTLE JOHN DR.:\t115\n",
      "\t\t450 MAIN ST:\t97\n",
      "\t\t1220 S RANGE AVE:\t82\n",
      "\t\t1520 ROYAL PALM SQUARE BLVD., #360:\t81\n",
      "\t\t12791 WORLD PLAZA LANE BLDG. 89:\t63\n",
      "\tMax length: 36\n",
      "  7. TAXPAYER SUBADDRESS\n",
      "\t<type 'unicode'>\n",
      "\tNulls: True\n",
      "\tUnique values: 546\n",
      "\t5 most frequent values:\n",
      "\t\t6300 MAIN ST.:\t36\n",
      "\t\t5905 HOOPER RD.:\t33\n",
      "\t\t129791 WORLD PLAZA LANE BLDG. 89:\t27\n",
      "\t\t7249 SKYLARK AVE:\t21\n",
      "\t\t26 DEL OAKS DR.:\t18\n",
      "\tMax length: 36\n",
      "  8. TAXPAYER CITY STATE ZIP\n",
      "\t<type 'unicode'>\n",
      "\tNulls: False\n",
      "\tUnique values: 661\n",
      "\t5 most frequent values:\n",
      "\t\tZACHARY LA  70791:\t8471\n",
      "\t\tBAKER LA  70714:\t5651\n",
      "\t\tBATON ROUGE LA  70812:\t2582\n",
      "\t\tBATON ROUGE LA  70811:\t2494\n",
      "\t\tBATON ROUGE LA  70807:\t681\n",
      "\tMax length: 30\n",
      "  9. WARD\n",
      "\t<type 'int'>\n",
      "\tNulls: False\n",
      "\tValues: 2\n",
      " 10. SUBDIVISION NAME\n",
      "\t<type 'unicode'>\n",
      "\tNulls: True\n",
      "\tUnique values: 1424\n",
      "\t5 most frequent values:\n",
      "\t\tLELAND COLLEGE ANNEX:\t504\n",
      "\t\tBAKERFIELD:\t458\n",
      "\t\tNORTH MERRYDALE:\t444\n",
      "\t\tBAKER TOWNSITE:\t384\n",
      "\t\tCOPPER MILL GOLF COMMUNITY:\t370\n",
      "\tMax length: 30\n",
      " 11. BLOCK/SQUARE NO\n",
      "\t<type 'int'>\n",
      "\tNulls: True\n",
      "\tMin: 1\n",
      "\tMax: 111\n",
      "\tSum: 28435\n",
      "\tMean: 17.1295180723\n",
      "\tMedian: 11.0\n",
      "\tStandard Deviation: 19.3862942769\n",
      "\tUnique values: 66\n",
      "\t5 most frequent values:\n",
      "\t\t2:\t189\n",
      "\t\t3:\t160\n",
      "\t\t1:\t113\n",
      "\t\t6:\t72\n",
      "\t\t7:\t63\n",
      " 12. LOT NO\n",
      "\t<type 'unicode'>\n",
      "\tNulls: True\n",
      "\tUnique values: 1410\n",
      "\t5 most frequent values:\n",
      "\t\tSEC:\t440\n",
      "\t\t1:\t345\n",
      "\t\t3:\t344\n",
      "\t\t4:\t339\n",
      "\t\t2:\t331\n",
      "\tMax length: 4\n",
      " 13. PHYSICAL ADDRESS\n",
      "\t<type 'unicode'>\n",
      "\tNulls: True\n",
      "\tUnique values: 20033\n",
      "\t5 most frequent values:\n",
      "\t\t11021 PLANK RD.:\t32\n",
      "\t\t9999 GOODWOOD BLVD.:\t18\n",
      "\t\t7444 PETTIT RD.:\t14\n",
      "\t\t4385 NEW WEIS RD.:\t12\n",
      "\t\t2755 LORAINE ST.:\t11\n",
      "\tMax length: 36\n",
      " 14. STRUCTURE USE\n",
      "\t<type 'unicode'>\n",
      "\tNulls: False\n",
      "\tValues: RESIDENTIAL, NOT DETERMINED, COMMERCIAL\n",
      " 15. UNIT TYPE\n",
      "\t<type 'unicode'>\n",
      "\tNulls: False\n",
      "\tValues: LOT\n",
      " 16. NO UNITS\n",
      "\t<type 'int'>\n",
      "\tNulls: False\n",
      "\tMin: 1\n",
      "\tMax: 36\n",
      "\tSum: 47003\n",
      "\tMean: 1.80947797967\n",
      "\tMedian: 2.0\n",
      "\tStandard Deviation: 0.532371638226\n",
      "\tUnique values: 14\n",
      "\t5 most frequent values:\n",
      "\t\t2:\t19953\n",
      "\t\t1:\t5597\n",
      "\t\t3:\t330\n",
      "\t\t4:\t59\n",
      "\t\t5:\t17\n",
      " 17. VACANT\n",
      "\t<type 'bool'>\n",
      "\tNulls: False\n",
      "\tUnique values: 2\n",
      "\t5 most frequent values:\n",
      "\t\tFalse:\t20341\n",
      "\t\tTrue:\t5635\n",
      " 18. TRANSFER TYPE\n",
      "\t<type 'unicode'>\n",
      "\tNulls: True\n",
      "\tUnique values: 152\n",
      "\t5 most frequent values:\n",
      "\t\tCash Sale:\t15322\n",
      "\t\tSale with Mortgage:\t1540\n",
      "\t\tJudgement of Possession:\t1014\n",
      "\t\tSale with Assumption:\t731\n",
      "\t\tDONATION:\t628\n",
      "\tMax length: 23\n",
      " 19. TRANSFER DATE\n",
      "\t<type 'datetime.date'>\n",
      "\tNulls: True\n",
      "\tMin: 1900-01-01\n",
      "\tMax: 2015-09-30\n",
      "\tUnique values: 7544\n",
      "\t5 most frequent values:\n",
      "\t\t1900-01-01:\t904\n",
      "\t\t1977-01-01:\t351\n",
      "\t\t1976-01-01:\t252\n",
      "\t\t1975-01-01:\t197\n",
      "\t\t1972-01-01:\t176\n",
      " 20. ORIGINAL\n",
      "\t<type 'int'>\n",
      "\tNulls: True\n",
      "\tMin: 0\n",
      "\tMax: 9049\n",
      "\tSum: 11086036\n",
      "\tMean: 460.996174318\n",
      "\tMedian: 448.0\n",
      "\tStandard Deviation: 311.414206542\n",
      "\tUnique values: 1001\n",
      "\t5 most frequent values:\n",
      "\t\t5:\t162\n",
      "\t\t9:\t151\n",
      "\t\t6:\t150\n",
      "\t\t4:\t148\n",
      "\t\t1:\t146\n",
      " 21. BUNDLE\n",
      "\t<type 'int'>\n",
      "\tNulls: True\n",
      "\tMin: 167\n",
      "\tMax: 9999\n",
      "\tSum: 68506826\n",
      "\tMean: 2841.07435823\n",
      "\tMedian: 1198\n",
      "\tStandard Deviation: 3264.94559745\n",
      "\tUnique values: 2051\n",
      "\t5 most frequent values:\n",
      "\t\t1261:\t200\n",
      "\t\t1259:\t194\n",
      "\t\t1241:\t191\n",
      "\t\t1211:\t170\n",
      "\t\t1258:\t165\n",
      " 22. LEGAL DESCRIPTION\n",
      "\t<type 'unicode'>\n",
      "\tNulls: False\n",
      "\tUnique values: 25976\n",
      "\tMax length: 1200\n",
      " 23. RESTORATION TAX ABATEMENT\n",
      "\t<type 'bool'>\n",
      "\tNulls: False\n",
      "\tUnique values: 1\n",
      "\t5 most frequent values:\n",
      "\t\tFalse:\t25976\n",
      " 24. HOMESTEAD EXEMPTION\n",
      "\t<type 'bool'>\n",
      "\tNulls: False\n",
      "\tUnique values: 2\n",
      "\t5 most frequent values:\n",
      "\t\tTrue:\t15620\n",
      "\t\tFalse:\t10356\n",
      " 25. FAIR MARKET VALUE\n",
      "\t<type 'unicode'>\n",
      "\tNulls: False\n",
      "\tUnique values: 363\n",
      "\t5 most frequent values:\n",
      "\t\t$10000:\t2555\n",
      "\t\t$2000:\t2084\n",
      "\t\t$6000:\t1785\n",
      "\t\t$8000:\t1577\n",
      "\t\t$4000:\t1327\n",
      "\tMax length: 8\n",
      " 26. TOTAL ASSESSED VALUE\n",
      "\t<type 'unicode'>\n",
      "\tNulls: False\n",
      "\tUnique values: 363\n",
      "\t5 most frequent values:\n",
      "\t\t$1000:\t2555\n",
      "\t\t$200:\t2084\n",
      "\t\t$600:\t1785\n",
      "\t\t$800:\t1577\n",
      "\t\t$400:\t1327\n",
      "\tMax length: 7\n",
      " 27. HOMESTEAD EXEMPTION VALUE\n",
      "\t<type 'unicode'>\n",
      "\tNulls: False\n",
      "\tUnique values: 87\n",
      "\t5 most frequent values:\n",
      "\t\t$0:\t19291\n",
      "\t\t$200:\t746\n",
      "\t\t$400:\t653\n",
      "\t\t$600:\t637\n",
      "\t\t$800:\t587\n",
      "\tMax length: 5\n",
      " 28. TAXABLE PARISH\n",
      "\t<type 'unicode'>\n",
      "\tNulls: False\n",
      "\tUnique values: 361\n",
      "\t5 most frequent values:\n",
      "\t\t$0:\t5547\n",
      "\t\t$1000:\t1968\n",
      "\t\t$200:\t1484\n",
      "\t\t$600:\t1151\n",
      "\t\t$800:\t901\n",
      "\tMax length: 7\n",
      "\n",
      "Row count: 25976\n"
     ]
    }
   ],
   "source": [
    "!csvstat baton_prop.csv"
   ]
  },
  {
   "cell_type": "markdown",
   "metadata": {},
   "source": [
    "#### Column meaning:\n",
    " \n",
    "1. TAX YEAR: Indicates the year of the Tax Roll.\n",
    "\n",
    "2. PROPERTY NUMBER : The unique property number assigned to each tax parcel.\n",
    "\n",
    "3. ASSESSMENT TYPE : The type of assessment used to determine taxes.\n",
    "\n",
    "4. ASSESSMENT STATUS : Taxing status of the parcel.\n",
    "\n",
    "5. TAXPAYER NAME :Name of the taxpayer.\n",
    "\n",
    "6. TAXPAYER ADDRESS : Mailing address of the taxpayer.\n",
    "\n",
    "7. TAXPAYER SUBADDRESS : Mailing subaddress of the taxpayer.\n",
    "\n",
    "8. TAXPAYER CITY STATE ZIP : Mailing city, state and ZIP code of the taxpayer.\n",
    "\n",
    "9. WARD: Ward number of the tax parcel.\n",
    "\n",
    "10. SUBDIVISION NAME: Name of the subdivision in which the tax parcel is located.\n",
    "\n",
    "11. BLOCK/SQUARE NO :Block or square number in which the tax parcel is located.\n",
    "\n",
    "12. LOT NO :Lot number of the tax parcel.\n",
    "\n",
    "13. PHYSICAL ADDRESS :The physical or situs address of the tax parcel.\n",
    "\n",
    "14. STRUCTURE USE: Type of use of the structure including commercial, residential or not determined.\n",
    "\n",
    "15. UNIT TYPE: The type of unit on the tax parcel which may include a structure, lot, or acreage.\n",
    "\n",
    "16. NO UNITS :Total number of structures attached to the tax parcel.\n",
    "\n",
    "17. VACANT: Tax parcel with no structure attached.\n",
    "\n",
    "18. TRANSFER TYPE: The transaction type of the last conveyance.\n",
    "\n",
    "19. TRANSFER DATE: Date of last conveyance.\n",
    "\n",
    "20. ORIGINAL: Clerk of Court filing system original number.\n",
    "\n",
    "21. BUNDLE : Clerk of Court filing system bundle number.\n",
    "\n",
    "22. LEGAL DESCRIPTION: Full legal description of the tax parcel.\n",
    "\n",
    "23. RESTORATION TAX ABATEMENT: Determination whether the tax parcel has a property tax reduction for the renovation  of existing structures from a qualifying historic or economic development district.\n",
    "\n",
    "24. HOMESTEAD EXEMPTION: Determination whether the tax parcel qualifies to receive a homestead exemption.\n",
    "\n",
    "25. FAIR MARKET VALUE: FAIR MARKET VALUE. \n",
    "\n",
    "26. TOTAL ASSESSED VALUE: A percentage of the fair market value determined by the use of the property.\n",
    "\n",
    "27. HOMESTEAD EXEMPTION VALUE: Homestead exemption amount for the tax parcel.\n",
    "\n",
    "28. TAXABLE PARISH: The taxable amount for determining Parish taxes derived from the sum of land/acreage value and any improvement value minus any applicable homestead exemption. "
   ]
  },
  {
   "cell_type": "markdown",
   "metadata": {},
   "source": [
    "### Columns with Missing value:\n",
    " 1. TAXPAYER ADDRESS: 168 missing values.\n",
    " \n",
    " 2. TAXPAYER SUBADDRESS : 25088 missing values.\n",
    " \n",
    " 3. SUBDIVISION NAME: 364 missing values.\n",
    " \n",
    " 4. BLOCK/SQUARE NO : 24316 missing values.\n",
    " \n",
    " 5. LOT NO: 521 missing values.\n",
    " \n",
    " 6. PHYSICAL ADDRESS : 4889 missing values.\n",
    " \n",
    " 7. TRANSFER TYPE: 3715 missing values.\n",
    " \n",
    " 8. TRANSFER DATE: 3 missing values.\n",
    " \n",
    " 9. ORIGINAL : 1928 missing values.\n",
    " \n",
    " 10. BUNDLE: 1863 missing values.\n",
    " \n",
    "The columns we are interested in are,ASSESMENT TYPE,ASSESSMENT STATUS,TAXPAYER NAME,TAXPAYER CITY STATE ZIP, STRUCTURE USE,VACANT,TRANSFER TYPE, TRANSFER DATE,FAIR MARKET VALUE,HOMESTEAD EXEMPTION VALUE,TOTAL ASSESSED VALUE AND TAXABLE PARISH because by analyzing these columns will give us some insights of property market.\n",
    "\n",
    "So, there are some problematic columns. The first one is LOT NUMBER, few observations show the time value instead of showing the lot number. The second one is, SUBDIVISION NAME, which includes inaccurate data as it shows acreage instead of the subdivision name in several transactions. The third one is TRANSFER TYPE, which should only have detail about the type of transfer but few transactions have numerical value. "
   ]
  },
  {
   "cell_type": "markdown",
   "metadata": {},
   "source": [
    "## Problem 2 - define a database model, load the data, and explore (20 points)\n",
    "\n",
    "Based on what you found above, create and connect to a new database, define a database table in it, and load this dataset into it.  You may use either of the methods for this step you have seen in earlier class notebooks.  You may choose to eliminate variables/columns if they are not relevant or interesting to you - explain your reasoning if you do.  Either way, you should load a majority of the columns present in the source dataset as it is in its raw form into the database, and all of its rows.\n",
    "\n",
    "Once your data has loaded successfully, run a `COUNT(*)` query to verify that all the data has loaded correctly.\n",
    "\n",
    "Explore the data to zero in on a few themes you would like to further study analytically.  Discuss columns that present opportunities for extraction into dimensions, and identify the specific columns that contain facts you want to measure."
   ]
  },
  {
   "cell_type": "markdown",
   "metadata": {},
   "source": [
    "Now we will connect to the POSTGRESql server"
   ]
  },
  {
   "cell_type": "code",
   "execution_count": 2,
   "metadata": {
    "collapsed": false
   },
   "outputs": [],
   "source": [
    "%load_ext sql"
   ]
  },
  {
   "cell_type": "markdown",
   "metadata": {},
   "source": [
    "If you are using a VM please proceed with the following code to connect to POSTGREsql server"
   ]
  },
  {
   "cell_type": "code",
   "execution_count": 9,
   "metadata": {
    "collapsed": false
   },
   "outputs": [
    {
     "name": "stdout",
     "output_type": "stream",
     "text": [
      "createdb: database creation failed: ERROR:  database \"project2\" already exists\r\n"
     ]
    }
   ],
   "source": [
    "!createdb -U dbuser project2"
   ]
  },
  {
   "cell_type": "code",
   "execution_count": 193,
   "metadata": {
    "collapsed": false
   },
   "outputs": [
    {
     "data": {
      "text/plain": [
       "'Connected: dbuser@project2'"
      ]
     },
     "execution_count": 193,
     "metadata": {},
     "output_type": "execute_result"
    }
   ],
   "source": [
    "%sql postgresql://dbuser@localhost:5432/project2"
   ]
  },
  {
   "cell_type": "markdown",
   "metadata": {},
   "source": [
    "If you are using DATANOTEBOOK.ORG please proceed with the following code to connect to POSTGREsql server"
   ]
  },
  {
   "cell_type": "code",
   "execution_count": 10,
   "metadata": {
    "collapsed": false
   },
   "outputs": [
    {
     "name": "stdout",
     "output_type": "stream",
     "text": [
      "[sudo] password for jovyan: Restarting PostgreSQL 9.5 database server: main.\n"
     ]
    }
   ],
   "source": [
    "!echo 'redspot' | sudo -S service postgresql restart"
   ]
  },
  {
   "cell_type": "code",
   "execution_count": null,
   "metadata": {
    "collapsed": true
   },
   "outputs": [],
   "source": [
    "!createdb -U dbuser project2"
   ]
  },
  {
   "cell_type": "code",
   "execution_count": 11,
   "metadata": {
    "collapsed": false
   },
   "outputs": [
    {
     "data": {
      "text/plain": [
       "'Connected: dbuser@project2'"
      ]
     },
     "execution_count": 11,
     "metadata": {},
     "output_type": "execute_result"
    }
   ],
   "source": [
    "%sql postgresql://dbuser@localhost:5432/project2"
   ]
  },
  {
   "cell_type": "markdown",
   "metadata": {},
   "source": [
    "Now we create an empty table named baton and load the data from the file baton_prop.csv to the baton table."
   ]
  },
  {
   "cell_type": "code",
   "execution_count": 194,
   "metadata": {
    "collapsed": false
   },
   "outputs": [
    {
     "name": "stdout",
     "output_type": "stream",
     "text": [
      "Done.\n",
      "Done.\n"
     ]
    },
    {
     "data": {
      "text/plain": [
       "[]"
      ]
     },
     "execution_count": 194,
     "metadata": {},
     "output_type": "execute_result"
    }
   ],
   "source": [
    "%%sql\n",
    "DROP TABLE IF EXISTS baton;\n",
    "CREATE TABLE baton (\n",
    "    tax_year INTEGER,\n",
    "    property_number VARCHAR(25),\n",
    "    assessment_type VARCHAR(50),\n",
    "    assessment_status VARCHAR(50),\n",
    "    taxpayer_name VARCHAR(50),\n",
    "    taxpayer_address VARCHAR(50),\n",
    "    taxpayer_subaddress VARCHAR(50),\n",
    "    taxpayer_city_state_zip VARCHAR(40),\n",
    "    ward INTEGER,\n",
    "    subdivision_name VARCHAR(40),\n",
    "    block_square_no INTEGER,\n",
    "    lot_no VARCHAR(10),\n",
    "    physical_address VARCHAR(40),\n",
    "    structure_use VARCHAR(40),\n",
    "    unit_type VARCHAR(20),\n",
    "    no_units INTEGER,\n",
    "    vacant BOOLEAN,\n",
    "    transfer_type VARCHAR(35),\n",
    "    transfer_date TIMESTAMP,\n",
    "    original INTEGER,\n",
    "    bundel INTEGER,\n",
    "    legal_description VARCHAR(1500),\n",
    "    restoration_tax_abatement BOOLEAN,\n",
    "    homestead_exemption BOOLEAN,\n",
    "    fair_market_value MONEY,\n",
    "    total_assessed_value MONEY,\n",
    "    homestead_exemption_value MONEY,\n",
    "    taxable_parish MONEY  \n",
    ");"
   ]
  },
  {
   "cell_type": "code",
   "execution_count": 195,
   "metadata": {
    "collapsed": false
   },
   "outputs": [
    {
     "name": "stdout",
     "output_type": "stream",
     "text": [
      "/home/rithvik/datamanagement/project2\r\n"
     ]
    }
   ],
   "source": [
    "!pwd"
   ]
  },
  {
   "cell_type": "markdown",
   "metadata": {},
   "source": [
    "For VM use the following code to load data into the table"
   ]
  },
  {
   "cell_type": "code",
   "execution_count": 197,
   "metadata": {
    "collapsed": false
   },
   "outputs": [
    {
     "name": "stdout",
     "output_type": "stream",
     "text": [
      "25976 rows affected.\n"
     ]
    },
    {
     "data": {
      "text/plain": [
       "[]"
      ]
     },
     "execution_count": 197,
     "metadata": {},
     "output_type": "execute_result"
    }
   ],
   "source": [
    "%%sql\n",
    "\n",
    "COPY baton FROM '/home/rithvik/datamanagement/project2/baton_prop.csv'\n",
    "CSV\n",
    "HEADER\n",
    "QUOTE '\"'\n",
    "DELIMITER ',';"
   ]
  },
  {
   "cell_type": "markdown",
   "metadata": {},
   "source": [
    "FOR DATANOTEBOOK.ORG we need to explicitly change the loaction where the file is downloaded to.\n",
    "The location is '/home/jovyan/work/baton_prop.csv'"
   ]
  },
  {
   "cell_type": "code",
   "execution_count": 198,
   "metadata": {
    "collapsed": false
   },
   "outputs": [
    {
     "name": "stdout",
     "output_type": "stream",
     "text": [
      "1 rows affected.\n"
     ]
    },
    {
     "data": {
      "text/html": [
       "<table>\n",
       "    <tr>\n",
       "        <th>count</th>\n",
       "    </tr>\n",
       "    <tr>\n",
       "        <td>25976</td>\n",
       "    </tr>\n",
       "</table>"
      ],
      "text/plain": [
       "[(25976,)]"
      ]
     },
     "execution_count": 198,
     "metadata": {},
     "output_type": "execute_result"
    }
   ],
   "source": [
    "%%sql\n",
    "\n",
    "SELECT COUNT(*) FROM baton;"
   ]
  },
  {
   "cell_type": "markdown",
   "metadata": {},
   "source": [
    "#### Deleting columns:\n",
    "\n",
    "We are decided to remove column Ward and unit_type,because we are choosing ward=2 and unit_type ='LOT' data at the first step, so it does not have any significance and hence we remove the attribute ward. Secondly, we are removing column taxpayer_subaddress, tax_payer_address and block_square_no, because 95% of the values are missing and the information is overlapped with other columns, such as the taxpayer_state_city_zip. And removing physical_address, because the as stated earlier the taxpayer_state_city_zip is covering the location infromation, so removing the physica_address. Then, removing columns lot_no, subdivision_name and no_units because we feel that all attributes will not help us significantly in analyzing the data and there are some data quality issues like missing data and illogical records. After that, removing the column bundel, origina and legal_description, because we think all attributes would not give us significant meaning and too many columns are a little bit overhead for us. Moreover, we are removing the column homestead_exemption and column restoration_tax_abatement becasue we only want to analyze the assessment value and fair market value of a property, so we decide to remove these two columns. Finally, removing the column tax_year because the data is collected in the year 2015 and hence this attribute has same value for all observations."
   ]
  },
  {
   "cell_type": "code",
   "execution_count": 199,
   "metadata": {
    "collapsed": false
   },
   "outputs": [
    {
     "name": "stdout",
     "output_type": "stream",
     "text": [
      "Done.\n"
     ]
    },
    {
     "data": {
      "text/plain": [
       "[]"
      ]
     },
     "execution_count": 199,
     "metadata": {},
     "output_type": "execute_result"
    }
   ],
   "source": [
    "%%sql\n",
    "ALTER TABLE baton\n",
    "DROP COLUMN ward, DROP COLUMN taxpayer_subaddress,DROP COLUMN block_square_no, DROP COLUMN lot_no, DROP COLUMN subdivision_name, DROP COLUMN tax_year,DROP COLUMN unit_type,DROP COLUMN taxpayer_address,DROP COLUMN no_units,DROP COLUMN original,DROP COLUMN bundel, DROP COLUMN restoration_tax_abatement,DROP COLUMN homestead_exemption,DROP COLUMN physical_address;"
   ]
  },
  {
   "cell_type": "markdown",
   "metadata": {},
   "source": [
    "Updating missing values in Transfer_type column to \"N/A\""
   ]
  },
  {
   "cell_type": "code",
   "execution_count": 200,
   "metadata": {
    "collapsed": false
   },
   "outputs": [
    {
     "name": "stdout",
     "output_type": "stream",
     "text": [
      "25976 rows affected.\n"
     ]
    },
    {
     "data": {
      "text/plain": [
       "[]"
      ]
     },
     "execution_count": 200,
     "metadata": {},
     "output_type": "execute_result"
    }
   ],
   "source": [
    "%%sql\n",
    "\n",
    "UPDATE baton\n",
    "SET transfer_type=trim(transfer_type);"
   ]
  },
  {
   "cell_type": "code",
   "execution_count": 201,
   "metadata": {
    "collapsed": false
   },
   "outputs": [
    {
     "name": "stdout",
     "output_type": "stream",
     "text": [
      "3715 rows affected.\n"
     ]
    },
    {
     "data": {
      "text/plain": [
       "[]"
      ]
     },
     "execution_count": 201,
     "metadata": {},
     "output_type": "execute_result"
    }
   ],
   "source": [
    "%%sql\n",
    "\n",
    "UPDATE baton\n",
    "set transfer_type='N/A'\n",
    "WHERE transfer_type='';"
   ]
  },
  {
   "cell_type": "markdown",
   "metadata": {},
   "source": [
    "Now removing the null values from the transfer_date column and assigning \"9999-09-09\" as the default date for the records with missing date values."
   ]
  },
  {
   "cell_type": "code",
   "execution_count": 202,
   "metadata": {
    "collapsed": false
   },
   "outputs": [
    {
     "name": "stdout",
     "output_type": "stream",
     "text": [
      "3 rows affected.\n"
     ]
    },
    {
     "data": {
      "text/plain": [
       "[]"
      ]
     },
     "execution_count": 202,
     "metadata": {},
     "output_type": "execute_result"
    }
   ],
   "source": [
    "%%sql\n",
    "\n",
    "UPDATE baton\n",
    "set transfer_date='9999-09-09'\n",
    "WHERE transfer_date IS NULL;"
   ]
  },
  {
   "cell_type": "markdown",
   "metadata": {},
   "source": [
    "Looking at the metadata of the baton table which we created, looks fine and continue processing."
   ]
  },
  {
   "cell_type": "code",
   "execution_count": 203,
   "metadata": {
    "collapsed": false
   },
   "outputs": [
    {
     "name": "stdout",
     "output_type": "stream",
     "text": [
      "14 rows affected.\n"
     ]
    },
    {
     "data": {
      "text/html": [
       "<table>\n",
       "    <tr>\n",
       "        <th>column_name</th>\n",
       "        <th>data_type</th>\n",
       "    </tr>\n",
       "    <tr>\n",
       "        <td>property_number</td>\n",
       "        <td>character varying</td>\n",
       "    </tr>\n",
       "    <tr>\n",
       "        <td>assessment_type</td>\n",
       "        <td>character varying</td>\n",
       "    </tr>\n",
       "    <tr>\n",
       "        <td>assessment_status</td>\n",
       "        <td>character varying</td>\n",
       "    </tr>\n",
       "    <tr>\n",
       "        <td>taxpayer_name</td>\n",
       "        <td>character varying</td>\n",
       "    </tr>\n",
       "    <tr>\n",
       "        <td>taxpayer_city_state_zip</td>\n",
       "        <td>character varying</td>\n",
       "    </tr>\n",
       "    <tr>\n",
       "        <td>structure_use</td>\n",
       "        <td>character varying</td>\n",
       "    </tr>\n",
       "    <tr>\n",
       "        <td>vacant</td>\n",
       "        <td>boolean</td>\n",
       "    </tr>\n",
       "    <tr>\n",
       "        <td>transfer_type</td>\n",
       "        <td>character varying</td>\n",
       "    </tr>\n",
       "    <tr>\n",
       "        <td>transfer_date</td>\n",
       "        <td>timestamp without time zone</td>\n",
       "    </tr>\n",
       "    <tr>\n",
       "        <td>legal_description</td>\n",
       "        <td>character varying</td>\n",
       "    </tr>\n",
       "    <tr>\n",
       "        <td>fair_market_value</td>\n",
       "        <td>money</td>\n",
       "    </tr>\n",
       "    <tr>\n",
       "        <td>total_assessed_value</td>\n",
       "        <td>money</td>\n",
       "    </tr>\n",
       "    <tr>\n",
       "        <td>homestead_exemption_value</td>\n",
       "        <td>money</td>\n",
       "    </tr>\n",
       "    <tr>\n",
       "        <td>taxable_parish</td>\n",
       "        <td>money</td>\n",
       "    </tr>\n",
       "</table>"
      ],
      "text/plain": [
       "[('property_number', 'character varying'),\n",
       " ('assessment_type', 'character varying'),\n",
       " ('assessment_status', 'character varying'),\n",
       " ('taxpayer_name', 'character varying'),\n",
       " ('taxpayer_city_state_zip', 'character varying'),\n",
       " ('structure_use', 'character varying'),\n",
       " ('vacant', 'boolean'),\n",
       " ('transfer_type', 'character varying'),\n",
       " ('transfer_date', 'timestamp without time zone'),\n",
       " ('legal_description', 'character varying'),\n",
       " ('fair_market_value', 'money'),\n",
       " ('total_assessed_value', 'money'),\n",
       " ('homestead_exemption_value', 'money'),\n",
       " ('taxable_parish', 'money')]"
      ]
     },
     "execution_count": 203,
     "metadata": {},
     "output_type": "execute_result"
    }
   ],
   "source": [
    "%%sql\n",
    "\n",
    "SELECT column_name,data_type\n",
    "FROM INFORMATION_SCHEMA.COLUMNS WHERE table_name='baton';"
   ]
  },
  {
   "cell_type": "markdown",
   "metadata": {},
   "source": [
    "#### EXPLORING THE DATA"
   ]
  },
  {
   "cell_type": "code",
   "execution_count": 204,
   "metadata": {
    "collapsed": false
   },
   "outputs": [
    {
     "name": "stdout",
     "output_type": "stream",
     "text": [
      "2 rows affected.\n"
     ]
    },
    {
     "data": {
      "text/html": [
       "<table>\n",
       "    <tr>\n",
       "        <th>assessment_type</th>\n",
       "        <th>Number of Assessments</th>\n",
       "    </tr>\n",
       "    <tr>\n",
       "        <td>REAL PROPERTY</td>\n",
       "        <td>25966</td>\n",
       "    </tr>\n",
       "    <tr>\n",
       "        <td>PUBLIC SERVICE</td>\n",
       "        <td>10</td>\n",
       "    </tr>\n",
       "</table>"
      ],
      "text/plain": [
       "[('REAL PROPERTY', 25966), ('PUBLIC SERVICE', 10)]"
      ]
     },
     "execution_count": 204,
     "metadata": {},
     "output_type": "execute_result"
    }
   ],
   "source": [
    "%%sql\n",
    "\n",
    "SELECT assessment_type, COUNT(property_number) AS \"Number of Assessments\"\n",
    "FROM baton\n",
    "GROUP BY assessment_type;"
   ]
  },
  {
   "cell_type": "markdown",
   "metadata": {},
   "source": [
    "Exploring the data, we found majority of the assessment is real property. It also shows that assessment_type could be our candidate for dimension table. "
   ]
  },
  {
   "cell_type": "code",
   "execution_count": 205,
   "metadata": {
    "collapsed": false
   },
   "outputs": [
    {
     "name": "stdout",
     "output_type": "stream",
     "text": [
      "10 rows affected.\n"
     ]
    },
    {
     "data": {
      "text/html": [
       "<table>\n",
       "    <tr>\n",
       "        <th>taxpayer_name</th>\n",
       "        <th>Number of Properties</th>\n",
       "    </tr>\n",
       "    <tr>\n",
       "        <td>LLE WITH 4-PLEXES, L.L.C.                         </td>\n",
       "        <td>104</td>\n",
       "    </tr>\n",
       "    <tr>\n",
       "        <td>AMERICAN DEVLOPMENT COMPANY, LLC                  </td>\n",
       "        <td>82</td>\n",
       "    </tr>\n",
       "    <tr>\n",
       "        <td>CEDAR POINTE SUBDIVISION LIMITED                  </td>\n",
       "        <td>81</td>\n",
       "    </tr>\n",
       "    <tr>\n",
       "        <td>OAKWOOD TERRACE SUBDIVISION LIMITED               </td>\n",
       "        <td>61</td>\n",
       "    </tr>\n",
       "    <tr>\n",
       "        <td>CITY - CITY OF ZACHARY                            </td>\n",
       "        <td>58</td>\n",
       "    </tr>\n",
       "    <tr>\n",
       "        <td>FIRST HORIZON, INC.                               </td>\n",
       "        <td>47</td>\n",
       "    </tr>\n",
       "    <tr>\n",
       "        <td>DSLD HOMES, LLC                                   </td>\n",
       "        <td>44</td>\n",
       "    </tr>\n",
       "    <tr>\n",
       "        <td>DSLD, L.L.C.                                      </td>\n",
       "        <td>40</td>\n",
       "    </tr>\n",
       "    <tr>\n",
       "        <td>CITY - CITY OF BAKER, LA.                         </td>\n",
       "        <td>40</td>\n",
       "    </tr>\n",
       "    <tr>\n",
       "        <td>HOSPITALS - HOSPITAL SERVICE DIST. 1              </td>\n",
       "        <td>39</td>\n",
       "    </tr>\n",
       "</table>"
      ],
      "text/plain": [
       "[('LLE WITH 4-PLEXES, L.L.C.                         ', 104),\n",
       " ('AMERICAN DEVLOPMENT COMPANY, LLC                  ', 82),\n",
       " ('CEDAR POINTE SUBDIVISION LIMITED                  ', 81),\n",
       " ('OAKWOOD TERRACE SUBDIVISION LIMITED               ', 61),\n",
       " ('CITY - CITY OF ZACHARY                            ', 58),\n",
       " ('FIRST HORIZON, INC.                               ', 47),\n",
       " ('DSLD HOMES, LLC                                   ', 44),\n",
       " ('DSLD, L.L.C.                                      ', 40),\n",
       " ('CITY - CITY OF BAKER, LA.                         ', 40),\n",
       " ('HOSPITALS - HOSPITAL SERVICE DIST. 1              ', 39)]"
      ]
     },
     "execution_count": 205,
     "metadata": {},
     "output_type": "execute_result"
    }
   ],
   "source": [
    "%%sql\n",
    "\n",
    "SELECT taxpayer_name, COUNT(property_number) AS \"Number of Properties\"\n",
    "FROM baton \n",
    "GROUP BY taxpayer_name\n",
    "ORDER BY COUNT(property_number) DESC\n",
    "LIMIT 10;"
   ]
  },
  {
   "cell_type": "markdown",
   "metadata": {},
   "source": [
    "Here we found the top 10 property owners and list them each with their property number. Again, we think the taxpayer information could be a good candidate of dimension. "
   ]
  },
  {
   "cell_type": "code",
   "execution_count": 206,
   "metadata": {
    "collapsed": false
   },
   "outputs": [],
   "source": [
    "%matplotlib inline"
   ]
  },
  {
   "cell_type": "code",
   "execution_count": 207,
   "metadata": {
    "collapsed": false
   },
   "outputs": [
    {
     "data": {
      "text/plain": [
       "<Container object of 10 artists>"
      ]
     },
     "execution_count": 207,
     "metadata": {},
     "output_type": "execute_result"
    },
    {
     "data": {
      "image/png": "[encoded data removed]",
      "text/plain": [
       "<matplotlib.figure.Figure at 0x7fc4006aacc0>"
      ]
     },
     "metadata": {},
     "output_type": "display_data"
    }
   ],
   "source": [
    "result=_\n",
    "result.bar()"
   ]
  },
  {
   "cell_type": "markdown",
   "metadata": {},
   "source": [
    "Finding the total tax paid by top 10 tax payers"
   ]
  },
  {
   "cell_type": "code",
   "execution_count": 208,
   "metadata": {
    "collapsed": false
   },
   "outputs": [
    {
     "name": "stdout",
     "output_type": "stream",
     "text": [
      "10 rows affected.\n"
     ]
    },
    {
     "data": {
      "text/html": [
       "<table>\n",
       "    <tr>\n",
       "        <th>taxpayer_name</th>\n",
       "        <th>Total Market Value</th>\n",
       "        <th>Total Taxable Parish</th>\n",
       "    </tr>\n",
       "    <tr>\n",
       "        <td>LLE WITH 4-PLEXES, L.L.C.                         </td>\n",
       "        <td>$276,000.00</td>\n",
       "        <td>$27,600.00</td>\n",
       "    </tr>\n",
       "    <tr>\n",
       "        <td>AMERICAN DEVLOPMENT COMPANY, LLC                  </td>\n",
       "        <td>$1,830,000.00</td>\n",
       "        <td>$183,000.00</td>\n",
       "    </tr>\n",
       "    <tr>\n",
       "        <td>CEDAR POINTE SUBDIVISION LIMITED                  </td>\n",
       "        <td>$484,500.00</td>\n",
       "        <td>$48,450.00</td>\n",
       "    </tr>\n",
       "    <tr>\n",
       "        <td>OAKWOOD TERRACE SUBDIVISION LIMITED               </td>\n",
       "        <td>$361,000.00</td>\n",
       "        <td>$36,100.00</td>\n",
       "    </tr>\n",
       "    <tr>\n",
       "        <td>CITY - CITY OF ZACHARY                            </td>\n",
       "        <td>$690,000.00</td>\n",
       "        <td>$69,000.00</td>\n",
       "    </tr>\n",
       "    <tr>\n",
       "        <td>FIRST HORIZON, INC.                               </td>\n",
       "        <td>$671,000.00</td>\n",
       "        <td>$67,100.00</td>\n",
       "    </tr>\n",
       "    <tr>\n",
       "        <td>DSLD HOMES, LLC                                   </td>\n",
       "        <td>$1,870,000.00</td>\n",
       "        <td>$187,000.00</td>\n",
       "    </tr>\n",
       "    <tr>\n",
       "        <td>DSLD, L.L.C.                                      </td>\n",
       "        <td>$1,445,000.00</td>\n",
       "        <td>$144,500.00</td>\n",
       "    </tr>\n",
       "    <tr>\n",
       "        <td>CITY - CITY OF BAKER, LA.                         </td>\n",
       "        <td>$919,000.00</td>\n",
       "        <td>$91,900.00</td>\n",
       "    </tr>\n",
       "    <tr>\n",
       "        <td>HOSPITALS - HOSPITAL SERVICE DIST. 1              </td>\n",
       "        <td>$3,022,000.00</td>\n",
       "        <td>$302,200.00</td>\n",
       "    </tr>\n",
       "</table>"
      ],
      "text/plain": [
       "[('LLE WITH 4-PLEXES, L.L.C.                         ', '$276,000.00', '$27,600.00'),\n",
       " ('AMERICAN DEVLOPMENT COMPANY, LLC                  ', '$1,830,000.00', '$183,000.00'),\n",
       " ('CEDAR POINTE SUBDIVISION LIMITED                  ', '$484,500.00', '$48,450.00'),\n",
       " ('OAKWOOD TERRACE SUBDIVISION LIMITED               ', '$361,000.00', '$36,100.00'),\n",
       " ('CITY - CITY OF ZACHARY                            ', '$690,000.00', '$69,000.00'),\n",
       " ('FIRST HORIZON, INC.                               ', '$671,000.00', '$67,100.00'),\n",
       " ('DSLD HOMES, LLC                                   ', '$1,870,000.00', '$187,000.00'),\n",
       " ('DSLD, L.L.C.                                      ', '$1,445,000.00', '$144,500.00'),\n",
       " ('CITY - CITY OF BAKER, LA.                         ', '$919,000.00', '$91,900.00'),\n",
       " ('HOSPITALS - HOSPITAL SERVICE DIST. 1              ', '$3,022,000.00', '$302,200.00')]"
      ]
     },
     "execution_count": 208,
     "metadata": {},
     "output_type": "execute_result"
    }
   ],
   "source": [
    "%%sql\n",
    "\n",
    "SELECT taxpayer_name, SUM(fair_market_value) AS \"Total Market Value\",SUM(taxable_parish) AS \"Total Taxable Parish\"\n",
    "FROM baton \n",
    "GROUP BY taxpayer_name\n",
    "ORDER BY COUNT(property_number) DESC\n",
    "LIMIT 10;"
   ]
  },
  {
   "cell_type": "markdown",
   "metadata": {},
   "source": [
    "Here, we list the total tax paid by top 10 tax payers and comparing with total market value for each taxpayer. We can find that all top 10 taxpayers need to pay 10% of the value of market value of the property, which means there are no exemption for them. "
   ]
  },
  {
   "cell_type": "code",
   "execution_count": 209,
   "metadata": {
    "collapsed": false
   },
   "outputs": [
    {
     "name": "stdout",
     "output_type": "stream",
     "text": [
      "10 rows affected.\n"
     ]
    },
    {
     "data": {
      "text/html": [
       "<table>\n",
       "    <tr>\n",
       "        <th>transfer_type</th>\n",
       "        <th>Number of Properties</th>\n",
       "    </tr>\n",
       "    <tr>\n",
       "        <td>Cash Sale</td>\n",
       "        <td>15322</td>\n",
       "    </tr>\n",
       "    <tr>\n",
       "        <td>N/A</td>\n",
       "        <td>3715</td>\n",
       "    </tr>\n",
       "    <tr>\n",
       "        <td>Sale with Mortgage</td>\n",
       "        <td>1540</td>\n",
       "    </tr>\n",
       "    <tr>\n",
       "        <td>Judgement of Possession</td>\n",
       "        <td>1014</td>\n",
       "    </tr>\n",
       "    <tr>\n",
       "        <td>Sale with Assumption</td>\n",
       "        <td>731</td>\n",
       "    </tr>\n",
       "    <tr>\n",
       "        <td>DONATION</td>\n",
       "        <td>628</td>\n",
       "    </tr>\n",
       "    <tr>\n",
       "        <td>TRANSFER</td>\n",
       "        <td>493</td>\n",
       "    </tr>\n",
       "    <tr>\n",
       "        <td>Adjudicated</td>\n",
       "        <td>372</td>\n",
       "    </tr>\n",
       "    <tr>\n",
       "        <td>Tax Redemption</td>\n",
       "        <td>298</td>\n",
       "    </tr>\n",
       "    <tr>\n",
       "        <td>Tax Deed</td>\n",
       "        <td>282</td>\n",
       "    </tr>\n",
       "</table>"
      ],
      "text/plain": [
       "[('Cash Sale', 15322),\n",
       " ('N/A', 3715),\n",
       " ('Sale with Mortgage', 1540),\n",
       " ('Judgement of Possession', 1014),\n",
       " ('Sale with Assumption', 731),\n",
       " ('DONATION', 628),\n",
       " ('TRANSFER', 493),\n",
       " ('Adjudicated', 372),\n",
       " ('Tax Redemption', 298),\n",
       " ('Tax Deed', 282)]"
      ]
     },
     "execution_count": 209,
     "metadata": {},
     "output_type": "execute_result"
    }
   ],
   "source": [
    "%%sql\n",
    "\n",
    "SELECT transfer_type, COUNT(property_number) AS \"Number of Properties\"\n",
    "FROM baton \n",
    "GROUP BY transfer_type\n",
    "ORDER BY COUNT(property_number) DESC\n",
    "LIMIT 10;"
   ]
  },
  {
   "cell_type": "markdown",
   "metadata": {},
   "source": [
    "After dealing with missing value in column transfer_type, we can using query to see for each transfer type how many transfer happened for the use of property transfer. So, we found transfer_type also could be a good candidate for dimension."
   ]
  },
  {
   "cell_type": "markdown",
   "metadata": {},
   "source": [
    "Finding the trend of last 15 years"
   ]
  },
  {
   "cell_type": "code",
   "execution_count": 210,
   "metadata": {
    "collapsed": false
   },
   "outputs": [
    {
     "name": "stdout",
     "output_type": "stream",
     "text": [
      "15 rows affected.\n"
     ]
    },
    {
     "data": {
      "text/html": [
       "<table>\n",
       "    <tr>\n",
       "        <th>date_part</th>\n",
       "        <th>Number of Properties Transferred</th>\n",
       "    </tr>\n",
       "    <tr>\n",
       "        <td>2015.0</td>\n",
       "        <td>488</td>\n",
       "    </tr>\n",
       "    <tr>\n",
       "        <td>2014.0</td>\n",
       "        <td>1236</td>\n",
       "    </tr>\n",
       "    <tr>\n",
       "        <td>2013.0</td>\n",
       "        <td>976</td>\n",
       "    </tr>\n",
       "    <tr>\n",
       "        <td>2012.0</td>\n",
       "        <td>908</td>\n",
       "    </tr>\n",
       "    <tr>\n",
       "        <td>2011.0</td>\n",
       "        <td>723</td>\n",
       "    </tr>\n",
       "    <tr>\n",
       "        <td>2010.0</td>\n",
       "        <td>632</td>\n",
       "    </tr>\n",
       "    <tr>\n",
       "        <td>2009.0</td>\n",
       "        <td>733</td>\n",
       "    </tr>\n",
       "    <tr>\n",
       "        <td>2008.0</td>\n",
       "        <td>852</td>\n",
       "    </tr>\n",
       "    <tr>\n",
       "        <td>2007.0</td>\n",
       "        <td>1046</td>\n",
       "    </tr>\n",
       "    <tr>\n",
       "        <td>2006.0</td>\n",
       "        <td>1199</td>\n",
       "    </tr>\n",
       "    <tr>\n",
       "        <td>2005.0</td>\n",
       "        <td>962</td>\n",
       "    </tr>\n",
       "    <tr>\n",
       "        <td>2004.0</td>\n",
       "        <td>791</td>\n",
       "    </tr>\n",
       "    <tr>\n",
       "        <td>2003.0</td>\n",
       "        <td>720</td>\n",
       "    </tr>\n",
       "    <tr>\n",
       "        <td>2002.0</td>\n",
       "        <td>620</td>\n",
       "    </tr>\n",
       "    <tr>\n",
       "        <td>2001.0</td>\n",
       "        <td>506</td>\n",
       "    </tr>\n",
       "</table>"
      ],
      "text/plain": [
       "[(2015.0, 488),\n",
       " (2014.0, 1236),\n",
       " (2013.0, 976),\n",
       " (2012.0, 908),\n",
       " (2011.0, 723),\n",
       " (2010.0, 632),\n",
       " (2009.0, 733),\n",
       " (2008.0, 852),\n",
       " (2007.0, 1046),\n",
       " (2006.0, 1199),\n",
       " (2005.0, 962),\n",
       " (2004.0, 791),\n",
       " (2003.0, 720),\n",
       " (2002.0, 620),\n",
       " (2001.0, 506)]"
      ]
     },
     "execution_count": 210,
     "metadata": {},
     "output_type": "execute_result"
    }
   ],
   "source": [
    "%%sql\n",
    "\n",
    "SELECT EXTRACT (YEAR FROM transfer_date), COUNT(property_number) AS \"Number of Properties Transferred\"\n",
    "FROM baton \n",
    "WHERE EXTRACT (YEAR FROM transfer_date)<>'9999'\n",
    "GROUP BY EXTRACT (YEAR FROM transfer_date)\n",
    "ORDER BY EXTRACT (YEAR FROM transfer_date) DESC,COUNT(property_number) DESC\n",
    "LIMIT 15;"
   ]
  },
  {
   "cell_type": "markdown",
   "metadata": {},
   "source": [
    "We are listing the top 10 years with highest number of transacation that based on property. This will give us a clear trend among each year, so we decide to seperate this column from main data table to form a new dimension. "
   ]
  },
  {
   "cell_type": "code",
   "execution_count": 211,
   "metadata": {
    "collapsed": false
   },
   "outputs": [
    {
     "data": {
      "text/plain": [
       "<Container object of 15 artists>"
      ]
     },
     "execution_count": 211,
     "metadata": {},
     "output_type": "execute_result"
    },
    {
     "data": {
      "image/png": "[encoded data removed]",
      "text/plain": [
       "<matplotlib.figure.Figure at 0x7fc4005e7518>"
      ]
     },
     "metadata": {},
     "output_type": "display_data"
    }
   ],
   "source": [
    "result=_\n",
    "result.bar()"
   ]
  },
  {
   "cell_type": "markdown",
   "metadata": {},
   "source": [
    "After several explortions, we decided to put column fair_market_value, total_assessed_value, homestead_exemption_value , taxable_parish and porperty_number to our fact table as the fact we want to measure because they are numeric and will give us some insights when aggregating them based on different dimensions. Column property_number is unique for each observations in our data, so it will be a good fit for adding it in the fact table. Column transfer_date and transfer_type will be one dimension, because we think it will give us the information about the transfer, so it makes good sense to put them in one dimension. Furthermore, we will put assessment_type and assessment_status to another dimension table. It will give us the information about the type of assessment. Other than that, we will put taxpayer_name and taxpayer_state,city,zip to another dimension table. Structure_use and vacant will form a dimension table, which includes the information about the property. "
   ]
  },
  {
   "cell_type": "markdown",
   "metadata": {},
   "source": [
    "## Problem 3 - define a star schema, and load your data into it (30 points)\n",
    "\n",
    "Define a star schema consisting of at least one fact table and at least two dimensions.  Transform your source data into the new fact table and dimensions.  Discuss your key modeling decisions.\n",
    "\n",
    "Document your star schema with a diagram.  There several tools available for this, such as Google Docs and Microsoft Visio."
   ]
  },
  {
   "cell_type": "code",
   "execution_count": 212,
   "metadata": {
    "collapsed": false
   },
   "outputs": [
    {
     "data": {
      "text/html": [
       "<img src=\"https://github.com/gwsb-istm-6212-fall-2016/Rongchu-Zhao/raw/master/SS.png\"/>"
      ],
      "text/plain": [
       "<IPython.core.display.Image object>"
      ]
     },
     "execution_count": 212,
     "metadata": {},
     "output_type": "execute_result"
    }
   ],
   "source": [
    "from IPython.display import Image\n",
    "Image(url=\"https://github.com/gwsb-istm-6212-fall-2016/Rongchu-Zhao/raw/master/SS.png\")"
   ]
  },
  {
   "cell_type": "markdown",
   "metadata": {},
   "source": [
    "Here is the star schema that we created for our data."
   ]
  },
  {
   "cell_type": "markdown",
   "metadata": {},
   "source": [
    "Dimension tables store the description of the characteritics of our facts. So, we think the transfer_type and transfer_date could give us information about the tranfer of each property. Taxpayer Dimension will tell us the name and location of a property's taxpayer.\n",
    "Assessment Dimension describes the assessment information about each property.\n",
    "Structure Dimension inlcudes the characteritic of structure type of each property and whether this property is vacant or not. \n"
   ]
  },
  {
   "cell_type": "markdown",
   "metadata": {
    "collapsed": true
   },
   "source": [
    "Now creating the Dimension & Fact Tables"
   ]
  },
  {
   "cell_type": "markdown",
   "metadata": {},
   "source": [
    "First, creating the assessment dimension table by selecting all unique combinations of assessment_type and assessment_status. After that, loading the data into this dimension table.\n"
   ]
  },
  {
   "cell_type": "code",
   "execution_count": 213,
   "metadata": {
    "collapsed": false
   },
   "outputs": [
    {
     "name": "stdout",
     "output_type": "stream",
     "text": [
      "Done.\n",
      "Done.\n"
     ]
    },
    {
     "data": {
      "text/plain": [
       "[]"
      ]
     },
     "execution_count": 213,
     "metadata": {},
     "output_type": "execute_result"
    }
   ],
   "source": [
    "%%sql\n",
    "\n",
    "DROP TABLE IF EXISTS assessment CASCADE;\n",
    "CREATE TABLE assessment(\n",
    "    assessment_id SERIAL PRIMARY KEY,\n",
    "    assessment_type VARCHAR(30),\n",
    "    assessment_status VARCHAR(20)\n",
    ");"
   ]
  },
  {
   "cell_type": "code",
   "execution_count": 214,
   "metadata": {
    "collapsed": false
   },
   "outputs": [
    {
     "name": "stdout",
     "output_type": "stream",
     "text": [
      "4 rows affected.\n"
     ]
    },
    {
     "data": {
      "text/plain": [
       "[]"
      ]
     },
     "execution_count": 214,
     "metadata": {},
     "output_type": "execute_result"
    }
   ],
   "source": [
    "%%sql\n",
    "\n",
    "INSERT INTO assessment (assessment_type, assessment_status)\n",
    "SELECT DISTINCT assessment_type, assessment_status FROM baton;"
   ]
  },
  {
   "cell_type": "code",
   "execution_count": 215,
   "metadata": {
    "collapsed": false
   },
   "outputs": [
    {
     "name": "stdout",
     "output_type": "stream",
     "text": [
      "4 rows affected.\n"
     ]
    },
    {
     "data": {
      "text/html": [
       "<table>\n",
       "    <tr>\n",
       "        <th>assessment_id</th>\n",
       "        <th>assessment_type</th>\n",
       "        <th>assessment_status</th>\n",
       "    </tr>\n",
       "    <tr>\n",
       "        <td>1</td>\n",
       "        <td>REAL PROPERTY</td>\n",
       "        <td>ADJUDICATED</td>\n",
       "    </tr>\n",
       "    <tr>\n",
       "        <td>2</td>\n",
       "        <td>REAL PROPERTY</td>\n",
       "        <td>ACTUAL</td>\n",
       "    </tr>\n",
       "    <tr>\n",
       "        <td>3</td>\n",
       "        <td>REAL PROPERTY</td>\n",
       "        <td>EXEMPT</td>\n",
       "    </tr>\n",
       "    <tr>\n",
       "        <td>4</td>\n",
       "        <td>PUBLIC SERVICE</td>\n",
       "        <td>ACTUAL</td>\n",
       "    </tr>\n",
       "</table>"
      ],
      "text/plain": [
       "[(1, 'REAL PROPERTY', 'ADJUDICATED'),\n",
       " (2, 'REAL PROPERTY', 'ACTUAL'),\n",
       " (3, 'REAL PROPERTY', 'EXEMPT'),\n",
       " (4, 'PUBLIC SERVICE', 'ACTUAL')]"
      ]
     },
     "execution_count": 215,
     "metadata": {},
     "output_type": "execute_result"
    }
   ],
   "source": [
    "%%sql\n",
    "\n",
    "SELECT * FROM assessment;"
   ]
  },
  {
   "cell_type": "markdown",
   "metadata": {},
   "source": [
    "Checking the assessment table.Looks right and then create the structure dimension table and load data into it."
   ]
  },
  {
   "cell_type": "code",
   "execution_count": 216,
   "metadata": {
    "collapsed": false
   },
   "outputs": [
    {
     "name": "stdout",
     "output_type": "stream",
     "text": [
      "Done.\n",
      "Done.\n"
     ]
    },
    {
     "data": {
      "text/plain": [
       "[]"
      ]
     },
     "execution_count": 216,
     "metadata": {},
     "output_type": "execute_result"
    }
   ],
   "source": [
    "%%sql\n",
    "\n",
    "DROP TABLE IF EXISTS structure CASCADE;\n",
    "CREATE TABLE structure(\n",
    "    structure_id SERIAL PRIMARY KEY,\n",
    "    structure_use VARCHAR(30),\n",
    "    vacant BOOLEAN\n",
    ");"
   ]
  },
  {
   "cell_type": "code",
   "execution_count": 217,
   "metadata": {
    "collapsed": false
   },
   "outputs": [
    {
     "name": "stdout",
     "output_type": "stream",
     "text": [
      "6 rows affected.\n"
     ]
    },
    {
     "data": {
      "text/plain": [
       "[]"
      ]
     },
     "execution_count": 217,
     "metadata": {},
     "output_type": "execute_result"
    }
   ],
   "source": [
    "%%sql\n",
    "\n",
    "INSERT INTO structure (structure_use, vacant)\n",
    "SELECT DISTINCT structure_use, vacant FROM baton;"
   ]
  },
  {
   "cell_type": "code",
   "execution_count": 218,
   "metadata": {
    "collapsed": false
   },
   "outputs": [
    {
     "name": "stdout",
     "output_type": "stream",
     "text": [
      "6 rows affected.\n"
     ]
    },
    {
     "data": {
      "text/html": [
       "<table>\n",
       "    <tr>\n",
       "        <th>structure_id</th>\n",
       "        <th>structure_use</th>\n",
       "        <th>vacant</th>\n",
       "    </tr>\n",
       "    <tr>\n",
       "        <td>1</td>\n",
       "        <td>COMMERCIAL</td>\n",
       "        <td>False</td>\n",
       "    </tr>\n",
       "    <tr>\n",
       "        <td>2</td>\n",
       "        <td>COMMERCIAL</td>\n",
       "        <td>True</td>\n",
       "    </tr>\n",
       "    <tr>\n",
       "        <td>3</td>\n",
       "        <td>RESIDENTIAL</td>\n",
       "        <td>False</td>\n",
       "    </tr>\n",
       "    <tr>\n",
       "        <td>4</td>\n",
       "        <td>NOT DETERMINED</td>\n",
       "        <td>False</td>\n",
       "    </tr>\n",
       "    <tr>\n",
       "        <td>5</td>\n",
       "        <td>RESIDENTIAL</td>\n",
       "        <td>True</td>\n",
       "    </tr>\n",
       "    <tr>\n",
       "        <td>6</td>\n",
       "        <td>NOT DETERMINED</td>\n",
       "        <td>True</td>\n",
       "    </tr>\n",
       "</table>"
      ],
      "text/plain": [
       "[(1, 'COMMERCIAL', False),\n",
       " (2, 'COMMERCIAL', True),\n",
       " (3, 'RESIDENTIAL', False),\n",
       " (4, 'NOT DETERMINED', False),\n",
       " (5, 'RESIDENTIAL', True),\n",
       " (6, 'NOT DETERMINED', True)]"
      ]
     },
     "execution_count": 218,
     "metadata": {},
     "output_type": "execute_result"
    }
   ],
   "source": [
    "%%sql\n",
    "\n",
    "SELECT * FROM structure;"
   ]
  },
  {
   "cell_type": "markdown",
   "metadata": {},
   "source": [
    "Then creating the taxpayer dimension table."
   ]
  },
  {
   "cell_type": "code",
   "execution_count": 219,
   "metadata": {
    "collapsed": false
   },
   "outputs": [
    {
     "name": "stdout",
     "output_type": "stream",
     "text": [
      "Done.\n",
      "Done.\n"
     ]
    },
    {
     "data": {
      "text/plain": [
       "[]"
      ]
     },
     "execution_count": 219,
     "metadata": {},
     "output_type": "execute_result"
    }
   ],
   "source": [
    "%%sql\n",
    "\n",
    "DROP TABLE IF EXISTS taxpayer CASCADE;\n",
    "CREATE TABLE taxpayer(\n",
    "    taxpayer_id SERIAL PRIMARY KEY,\n",
    "    taxpayer_name VARCHAR(50),\n",
    "    taxpayer_city VARCHAR(50),\n",
    "    taxpayer_state CHAR(20),\n",
    "    taxpayer_zipcode VARCHAR(20)\n",
    ");"
   ]
  },
  {
   "cell_type": "markdown",
   "metadata": {},
   "source": [
    "The column taxpayer_city_state_zip contain three part information, so we want to seperate them to each columns in our dimension table.We are writing the below code to correctly extract the city,state and zipcode from the attribute taxpayer_city_state_zip. It was quite challenging to use many complex querry functions like SPLIT_PART,REVERSE,SUBSTRING,TRIM and RIGHT to get the desired output."
   ]
  },
  {
   "cell_type": "code",
   "execution_count": 220,
   "metadata": {
    "collapsed": false
   },
   "outputs": [
    {
     "name": "stdout",
     "output_type": "stream",
     "text": [
      "21439 rows affected.\n"
     ]
    },
    {
     "data": {
      "text/plain": [
       "[]"
      ]
     },
     "execution_count": 220,
     "metadata": {},
     "output_type": "execute_result"
    }
   ],
   "source": [
    "%%sql\n",
    "\n",
    "INSERT INTO taxpayer(taxpayer_name,taxpayer_city,taxpayer_state,taxpayer_zipcode)\n",
    "SELECT DISTINCT taxpayer_name,split_part(taxpayer_city_state_zip,' ',1),REVERSE(SUBSTRING(REVERSE(TRIM(taxpayer_city_state_zip)),8,2)),RIGHT(TRIM(taxpayer_city_state_zip),5)\n",
    "FROM baton"
   ]
  },
  {
   "cell_type": "code",
   "execution_count": 221,
   "metadata": {
    "collapsed": false
   },
   "outputs": [
    {
     "name": "stdout",
     "output_type": "stream",
     "text": [
      "10 rows affected.\n"
     ]
    },
    {
     "data": {
      "text/html": [
       "<table>\n",
       "    <tr>\n",
       "        <th>taxpayer_id</th>\n",
       "        <th>taxpayer_name</th>\n",
       "        <th>taxpayer_city</th>\n",
       "        <th>taxpayer_state</th>\n",
       "        <th>taxpayer_zipcode</th>\n",
       "    </tr>\n",
       "    <tr>\n",
       "        <td>1</td>\n",
       "        <td>SHILLING, DARLENE FRANK                           </td>\n",
       "        <td>BAKER</td>\n",
       "        <td>LA                  </td>\n",
       "        <td>70714</td>\n",
       "    </tr>\n",
       "    <tr>\n",
       "        <td>2</td>\n",
       "        <td>TANNER, KEAVIN L. &amp; AMY D.                        </td>\n",
       "        <td>ZACHARY</td>\n",
       "        <td>LA                  </td>\n",
       "        <td>70791</td>\n",
       "    </tr>\n",
       "    <tr>\n",
       "        <td>3</td>\n",
       "        <td>JOHNSON, BRYANT KEITH &amp; SHARELLE                  </td>\n",
       "        <td>ZACHARY</td>\n",
       "        <td>LA                  </td>\n",
       "        <td>70791</td>\n",
       "    </tr>\n",
       "    <tr>\n",
       "        <td>4</td>\n",
       "        <td>GRANT, GREGORY STEVEN &amp; ROSALIND                  </td>\n",
       "        <td>BAKER</td>\n",
       "        <td>LA                  </td>\n",
       "        <td>70714</td>\n",
       "    </tr>\n",
       "    <tr>\n",
       "        <td>5</td>\n",
       "        <td>THOMPSON, ROBERT MILLS, SR. &amp;                     </td>\n",
       "        <td>ZACHARY</td>\n",
       "        <td>LA                  </td>\n",
       "        <td>70791</td>\n",
       "    </tr>\n",
       "    <tr>\n",
       "        <td>6</td>\n",
       "        <td>JONES, LOUIS W., SR.                              </td>\n",
       "        <td>BAKER</td>\n",
       "        <td>LA                  </td>\n",
       "        <td>70714</td>\n",
       "    </tr>\n",
       "    <tr>\n",
       "        <td>7</td>\n",
       "        <td>MYER, GEORGE DERAN &amp; CAROLYN                      </td>\n",
       "        <td>BAKER</td>\n",
       "        <td>LA                  </td>\n",
       "        <td>70714</td>\n",
       "    </tr>\n",
       "    <tr>\n",
       "        <td>8</td>\n",
       "        <td>JAMES, ANITTA                                     </td>\n",
       "        <td>BATON</td>\n",
       "        <td>LA                  </td>\n",
       "        <td>70811</td>\n",
       "    </tr>\n",
       "    <tr>\n",
       "        <td>9</td>\n",
       "        <td>LEE, ROSEMARY                                     </td>\n",
       "        <td>GREENWELL</td>\n",
       "        <td>LA                  </td>\n",
       "        <td>70739</td>\n",
       "    </tr>\n",
       "    <tr>\n",
       "        <td>10</td>\n",
       "        <td>MCMANUS, SANDRA ELIZABETH                         </td>\n",
       "        <td>ZACHARY</td>\n",
       "        <td>LA                  </td>\n",
       "        <td>70791</td>\n",
       "    </tr>\n",
       "</table>"
      ],
      "text/plain": [
       "[(1, 'SHILLING, DARLENE FRANK                           ', 'BAKER', 'LA                  ', '70714'),\n",
       " (2, 'TANNER, KEAVIN L. & AMY D.                        ', 'ZACHARY', 'LA                  ', '70791'),\n",
       " (3, 'JOHNSON, BRYANT KEITH & SHARELLE                  ', 'ZACHARY', 'LA                  ', '70791'),\n",
       " (4, 'GRANT, GREGORY STEVEN & ROSALIND                  ', 'BAKER', 'LA                  ', '70714'),\n",
       " (5, 'THOMPSON, ROBERT MILLS, SR. &                     ', 'ZACHARY', 'LA                  ', '70791'),\n",
       " (6, 'JONES, LOUIS W., SR.                              ', 'BAKER', 'LA                  ', '70714'),\n",
       " (7, 'MYER, GEORGE DERAN & CAROLYN                      ', 'BAKER', 'LA                  ', '70714'),\n",
       " (8, 'JAMES, ANITTA                                     ', 'BATON', 'LA                  ', '70811'),\n",
       " (9, 'LEE, ROSEMARY                                     ', 'GREENWELL', 'LA                  ', '70739'),\n",
       " (10, 'MCMANUS, SANDRA ELIZABETH                         ', 'ZACHARY', 'LA                  ', '70791')]"
      ]
     },
     "execution_count": 221,
     "metadata": {},
     "output_type": "execute_result"
    }
   ],
   "source": [
    "%%sql\n",
    "SELECT * FROM taxpayer\n",
    "LIMIT 10;"
   ]
  },
  {
   "cell_type": "code",
   "execution_count": 222,
   "metadata": {
    "collapsed": false
   },
   "outputs": [
    {
     "name": "stdout",
     "output_type": "stream",
     "text": [
      "Done.\n",
      "Done.\n"
     ]
    },
    {
     "data": {
      "text/plain": [
       "[]"
      ]
     },
     "execution_count": 222,
     "metadata": {},
     "output_type": "execute_result"
    }
   ],
   "source": [
    "%%sql\n",
    "\n",
    "DROP TABLE IF EXISTS transfer CASCADE;\n",
    "CREATE TABLE transfer(\n",
    "    transfer_id SERIAL PRIMARY KEY,\n",
    "    transfer_type VARCHAR(30),\n",
    "    transfer_year INTEGER,\n",
    "    transfer_month INTEGER,\n",
    "    transfer_day INTEGER\n",
    ");"
   ]
  },
  {
   "cell_type": "code",
   "execution_count": 223,
   "metadata": {
    "collapsed": false
   },
   "outputs": [
    {
     "name": "stdout",
     "output_type": "stream",
     "text": [
      "11716 rows affected.\n"
     ]
    },
    {
     "data": {
      "text/plain": [
       "[]"
      ]
     },
     "execution_count": 223,
     "metadata": {},
     "output_type": "execute_result"
    }
   ],
   "source": [
    "%%sql\n",
    "\n",
    "INSERT INTO transfer (transfer_type, transfer_year, transfer_month, transfer_day)\n",
    "SELECT DISTINCT transfer_type,\n",
    "EXTRACT (year FROM transfer_date), EXTRACT (month FROM transfer_date), EXTRACT(day FROM transfer_date)\n",
    "FROM baton;"
   ]
  },
  {
   "cell_type": "code",
   "execution_count": 224,
   "metadata": {
    "collapsed": false
   },
   "outputs": [
    {
     "name": "stdout",
     "output_type": "stream",
     "text": [
      "10 rows affected.\n"
     ]
    },
    {
     "data": {
      "text/html": [
       "<table>\n",
       "    <tr>\n",
       "        <th>transfer_id</th>\n",
       "        <th>transfer_type</th>\n",
       "        <th>transfer_year</th>\n",
       "        <th>transfer_month</th>\n",
       "        <th>transfer_day</th>\n",
       "    </tr>\n",
       "    <tr>\n",
       "        <td>1</td>\n",
       "        <td>Sheriff Sale</td>\n",
       "        <td>2001</td>\n",
       "        <td>4</td>\n",
       "        <td>16</td>\n",
       "    </tr>\n",
       "    <tr>\n",
       "        <td>2</td>\n",
       "        <td>Cash Sale</td>\n",
       "        <td>1995</td>\n",
       "        <td>9</td>\n",
       "        <td>21</td>\n",
       "    </tr>\n",
       "    <tr>\n",
       "        <td>3</td>\n",
       "        <td>DONATION</td>\n",
       "        <td>1987</td>\n",
       "        <td>2</td>\n",
       "        <td>11</td>\n",
       "    </tr>\n",
       "    <tr>\n",
       "        <td>4</td>\n",
       "        <td>Sale with Mortgage</td>\n",
       "        <td>1997</td>\n",
       "        <td>7</td>\n",
       "        <td>11</td>\n",
       "    </tr>\n",
       "    <tr>\n",
       "        <td>5</td>\n",
       "        <td>DONATION</td>\n",
       "        <td>1992</td>\n",
       "        <td>6</td>\n",
       "        <td>5</td>\n",
       "    </tr>\n",
       "    <tr>\n",
       "        <td>6</td>\n",
       "        <td>Cash Sale</td>\n",
       "        <td>2005</td>\n",
       "        <td>6</td>\n",
       "        <td>3</td>\n",
       "    </tr>\n",
       "    <tr>\n",
       "        <td>7</td>\n",
       "        <td>Cash Sale</td>\n",
       "        <td>2000</td>\n",
       "        <td>11</td>\n",
       "        <td>9</td>\n",
       "    </tr>\n",
       "    <tr>\n",
       "        <td>8</td>\n",
       "        <td>N/A</td>\n",
       "        <td>1980</td>\n",
       "        <td>1</td>\n",
       "        <td>21</td>\n",
       "    </tr>\n",
       "    <tr>\n",
       "        <td>9</td>\n",
       "        <td>Cash Sale</td>\n",
       "        <td>2012</td>\n",
       "        <td>6</td>\n",
       "        <td>5</td>\n",
       "    </tr>\n",
       "    <tr>\n",
       "        <td>10</td>\n",
       "        <td>Cash Sale</td>\n",
       "        <td>2014</td>\n",
       "        <td>4</td>\n",
       "        <td>3</td>\n",
       "    </tr>\n",
       "</table>"
      ],
      "text/plain": [
       "[(1, 'Sheriff Sale', 2001, 4, 16),\n",
       " (2, 'Cash Sale', 1995, 9, 21),\n",
       " (3, 'DONATION', 1987, 2, 11),\n",
       " (4, 'Sale with Mortgage', 1997, 7, 11),\n",
       " (5, 'DONATION', 1992, 6, 5),\n",
       " (6, 'Cash Sale', 2005, 6, 3),\n",
       " (7, 'Cash Sale', 2000, 11, 9),\n",
       " (8, 'N/A', 1980, 1, 21),\n",
       " (9, 'Cash Sale', 2012, 6, 5),\n",
       " (10, 'Cash Sale', 2014, 4, 3)]"
      ]
     },
     "execution_count": 224,
     "metadata": {},
     "output_type": "execute_result"
    }
   ],
   "source": [
    "%%sql\n",
    "\n",
    "SELECT * FROM transfer\n",
    "LIMIT 10;"
   ]
  },
  {
   "cell_type": "markdown",
   "metadata": {},
   "source": [
    "Then creating the fact table."
   ]
  },
  {
   "cell_type": "code",
   "execution_count": 225,
   "metadata": {
    "collapsed": false
   },
   "outputs": [
    {
     "name": "stdout",
     "output_type": "stream",
     "text": [
      "Done.\n",
      "25976 rows affected.\n"
     ]
    },
    {
     "data": {
      "text/plain": [
       "[]"
      ]
     },
     "execution_count": 225,
     "metadata": {},
     "output_type": "execute_result"
    }
   ],
   "source": [
    "%%sql\n",
    "DROP TABLE IF EXISTS fact;\n",
    "CREATE TABLE fact as\n",
    "SELECT * from baton"
   ]
  },
  {
   "cell_type": "markdown",
   "metadata": {},
   "source": [
    "We are selecting all records from original table and loading thoes records into fact table. After that we create 4 new columns into it, which will hold each dimension key value. Then,set  each key column equals to the each dimension key and specify some conditions to match all records with each dimension key that we create before. Finally, deleting all irrelative columns. "
   ]
  },
  {
   "cell_type": "code",
   "execution_count": 226,
   "metadata": {
    "collapsed": false
   },
   "outputs": [
    {
     "name": "stdout",
     "output_type": "stream",
     "text": [
      "Done.\n"
     ]
    },
    {
     "data": {
      "text/plain": [
       "[]"
      ]
     },
     "execution_count": 226,
     "metadata": {},
     "output_type": "execute_result"
    }
   ],
   "source": [
    "%%sql\n",
    "\n",
    "ALTER TABLE fact \n",
    "ADD COLUMN assessment_KEY INTEGER,\n",
    "ADD COLUMN structure_KEY INTEGER,\n",
    "ADD COLUMN transfer_KEY INTEGER,\n",
    "ADD COLUMN taxpayer_KEY INTEGER;"
   ]
  },
  {
   "cell_type": "code",
   "execution_count": 227,
   "metadata": {
    "collapsed": false
   },
   "outputs": [
    {
     "name": "stdout",
     "output_type": "stream",
     "text": [
      "25976 rows affected.\n"
     ]
    },
    {
     "data": {
      "text/plain": [
       "[]"
      ]
     },
     "execution_count": 227,
     "metadata": {},
     "output_type": "execute_result"
    }
   ],
   "source": [
    "%%sql\n",
    "\n",
    "UPDATE fact AS f\n",
    "SET assessment_KEY=assessment_id\n",
    "FROM assessment AS a\n",
    "WHERE f.assessment_type=a.assessment_type AND f.assessment_status=a.assessment_status"
   ]
  },
  {
   "cell_type": "code",
   "execution_count": 228,
   "metadata": {
    "collapsed": false
   },
   "outputs": [
    {
     "name": "stdout",
     "output_type": "stream",
     "text": [
      "25976 rows affected.\n"
     ]
    },
    {
     "data": {
      "text/plain": [
       "[]"
      ]
     },
     "execution_count": 228,
     "metadata": {},
     "output_type": "execute_result"
    }
   ],
   "source": [
    "%%sql\n",
    "\n",
    "UPDATE fact AS f\n",
    "SET structure_KEY= structure_id\n",
    "FROM structure AS s\n",
    "WHERE f.structure_use = s.structure_use AND f.vacant = s.vacant;"
   ]
  },
  {
   "cell_type": "code",
   "execution_count": 229,
   "metadata": {
    "collapsed": false
   },
   "outputs": [
    {
     "name": "stdout",
     "output_type": "stream",
     "text": [
      "25976 rows affected.\n"
     ]
    },
    {
     "data": {
      "text/plain": [
       "[]"
      ]
     },
     "execution_count": 229,
     "metadata": {},
     "output_type": "execute_result"
    }
   ],
   "source": [
    "%%sql\n",
    "\n",
    "UPDATE fact AS f\n",
    "SET taxpayer_KEY=taxpayer_id\n",
    "FROM taxpayer AS t\n",
    "WHERE f.taxpayer_name = t.taxpayer_name "
   ]
  },
  {
   "cell_type": "code",
   "execution_count": 230,
   "metadata": {
    "collapsed": false
   },
   "outputs": [
    {
     "name": "stdout",
     "output_type": "stream",
     "text": [
      "25976 rows affected.\n"
     ]
    },
    {
     "data": {
      "text/plain": [
       "[]"
      ]
     },
     "execution_count": 230,
     "metadata": {},
     "output_type": "execute_result"
    }
   ],
   "source": [
    "%%sql\n",
    "\n",
    "UPDATE fact AS f\n",
    "SET transfer_KEY=transfer_id\n",
    "FROM transfer AS t\n",
    "WHERE EXTRACT(YEAR FROM f.transfer_date)=t.transfer_year AND \n",
    "EXTRACT(MONTH FROM f.transfer_date)=t.transfer_month AND\n",
    "EXTRACT(DAY FROM f.transfer_date)=t.transfer_day;"
   ]
  },
  {
   "cell_type": "markdown",
   "metadata": {},
   "source": [
    "After several previous cells we are checking wether each records were matched with each keys."
   ]
  },
  {
   "cell_type": "code",
   "execution_count": 231,
   "metadata": {
    "collapsed": false
   },
   "outputs": [
    {
     "name": "stdout",
     "output_type": "stream",
     "text": [
      "5 rows affected.\n"
     ]
    },
    {
     "data": {
      "text/html": [
       "<table>\n",
       "    <tr>\n",
       "        <th>property_number</th>\n",
       "        <th>assessment_type</th>\n",
       "        <th>assessment_status</th>\n",
       "        <th>taxpayer_name</th>\n",
       "        <th>taxpayer_city_state_zip</th>\n",
       "        <th>structure_use</th>\n",
       "        <th>vacant</th>\n",
       "        <th>transfer_type</th>\n",
       "        <th>transfer_date</th>\n",
       "        <th>legal_description</th>\n",
       "        <th>fair_market_value</th>\n",
       "        <th>total_assessed_value</th>\n",
       "        <th>homestead_exemption_value</th>\n",
       "        <th>taxable_parish</th>\n",
       "        <th>assessment_key</th>\n",
       "        <th>structure_key</th>\n",
       "        <th>transfer_key</th>\n",
       "        <th>taxpayer_key</th>\n",
       "    </tr>\n",
       "    <tr>\n",
       "        <td>003-9756-3          </td>\n",
       "        <td>REAL PROPERTY</td>\n",
       "        <td>ACTUAL</td>\n",
       "        <td>THOMPSON, BERNELL                                 </td>\n",
       "        <td>ZACHARY LA  70791                       </td>\n",
       "        <td>RESIDENTIAL</td>\n",
       "        <td>False</td>\n",
       "        <td>Cash Sale</td>\n",
       "        <td>1993-04-26 00:00:00</td>\n",
       "        <td>Ward 2-5 #2649, Lot: 9, Subdiv: CASTLE PLACE. 1ST FILING, SEC. 1. RESUB. 1983</td>\n",
       "        <td>$2,500.00</td>\n",
       "        <td>$250.00</td>\n",
       "        <td>$0.00</td>\n",
       "        <td>$250.00</td>\n",
       "        <td>2</td>\n",
       "        <td>3</td>\n",
       "        <td>5156</td>\n",
       "        <td>16238</td>\n",
       "    </tr>\n",
       "    <tr>\n",
       "        <td>012-9845-3          </td>\n",
       "        <td>REAL PROPERTY</td>\n",
       "        <td>ACTUAL</td>\n",
       "        <td>HILTON, CURTIS D., SR.                            </td>\n",
       "        <td>BATON ROUGE LA  70811                   </td>\n",
       "        <td>RESIDENTIAL</td>\n",
       "        <td>False</td>\n",
       "        <td>Cash Sale</td>\n",
       "        <td>2010-09-21 00:00:00</td>\n",
       "        <td>Ward 2-1 #5274, Lot: 71, Subdiv: CEDAR GLEN.</td>\n",
       "        <td>$10,000.00</td>\n",
       "        <td>$1,000.00</td>\n",
       "        <td>$0.00</td>\n",
       "        <td>$1,000.00</td>\n",
       "        <td>2</td>\n",
       "        <td>3</td>\n",
       "        <td>9643</td>\n",
       "        <td>21232</td>\n",
       "    </tr>\n",
       "    <tr>\n",
       "        <td>000-1393-5          </td>\n",
       "        <td>REAL PROPERTY</td>\n",
       "        <td>ACTUAL</td>\n",
       "        <td>HAYNES &amp; HAYNES, L.L.C.                           </td>\n",
       "        <td>CLINTON LA  70722                       </td>\n",
       "        <td>RESIDENTIAL</td>\n",
       "        <td>True</td>\n",
       "        <td>Adjudicated</td>\n",
       "        <td>1999-06-14 00:00:00</td>\n",
       "        <td>Ward 2-5 #1190, Lot: X-5, Subdiv: CHANEY, L. L. TRACT. TRACT X-5 CONT. 0.37 ACRES RESUB. OF 200 ACRES, MORE OR LESS, BEING PART OF MRS. L. L. CHANEY 300 ACRE TRACT IN SECS. 42 &amp; 22, T4S, R1E. 1989. MAP.</td>\n",
       "        <td>$1,000.00</td>\n",
       "        <td>$100.00</td>\n",
       "        <td>$0.00</td>\n",
       "        <td>$100.00</td>\n",
       "        <td>2</td>\n",
       "        <td>5</td>\n",
       "        <td>11302</td>\n",
       "        <td>8671</td>\n",
       "    </tr>\n",
       "    <tr>\n",
       "        <td>013-3836-6          </td>\n",
       "        <td>REAL PROPERTY</td>\n",
       "        <td>ACTUAL</td>\n",
       "        <td>MONTGOMERY, WILMAN FRANK &amp;                        </td>\n",
       "        <td>BATON ROUGE LA  70811                   </td>\n",
       "        <td>RESIDENTIAL</td>\n",
       "        <td>False</td>\n",
       "        <td>Sale with Mortgage</td>\n",
       "        <td>1977-01-01 00:00:00</td>\n",
       "        <td>Ward 2-1 #7942, Lot: 76, Subdiv: HOLIDAY WOODS.</td>\n",
       "        <td>$6,000.00</td>\n",
       "        <td>$600.00</td>\n",
       "        <td>$600.00</td>\n",
       "        <td>$0.00</td>\n",
       "        <td>2</td>\n",
       "        <td>3</td>\n",
       "        <td>8077</td>\n",
       "        <td>9107</td>\n",
       "    </tr>\n",
       "    <tr>\n",
       "        <td>001-8801-8          </td>\n",
       "        <td>REAL PROPERTY</td>\n",
       "        <td>ACTUAL</td>\n",
       "        <td>A AND C RENOVATIONS, LLC                          </td>\n",
       "        <td>PRAIRIEVILLE LA   70769                 </td>\n",
       "        <td>RESIDENTIAL</td>\n",
       "        <td>False</td>\n",
       "        <td>Cash Sale</td>\n",
       "        <td>2011-07-27 00:00:00</td>\n",
       "        <td>Ward 2-1 #1, Lot: 328-B, Subdiv: KILDARE. CONT. 1.26 ACRES BEING A RESUB. OF LOTS 328-A-1 &amp; 328-B-1. RESUB. 1988. SEC. 3.</td>\n",
       "        <td>$10,000.00</td>\n",
       "        <td>$1,000.00</td>\n",
       "        <td>$0.00</td>\n",
       "        <td>$1,000.00</td>\n",
       "        <td>2</td>\n",
       "        <td>3</td>\n",
       "        <td>5178</td>\n",
       "        <td>15043</td>\n",
       "    </tr>\n",
       "</table>"
      ],
      "text/plain": [
       "[('003-9756-3          ', 'REAL PROPERTY', 'ACTUAL', 'THOMPSON, BERNELL                                 ', 'ZACHARY LA  70791                       ', 'RESIDENTIAL', False, 'Cash Sale', datetime.datetime(1993, 4, 26, 0, 0), 'Ward 2-5 #2649, Lot: 9, Subdiv: CASTLE PLACE. 1ST FILING, SEC. 1. RESUB. 1983', '$2,500.00', '$250.00', '$0.00', '$250.00', 2, 3, 5156, 16238),\n",
       " ('012-9845-3          ', 'REAL PROPERTY', 'ACTUAL', 'HILTON, CURTIS D., SR.                            ', 'BATON ROUGE LA  70811                   ', 'RESIDENTIAL', False, 'Cash Sale', datetime.datetime(2010, 9, 21, 0, 0), 'Ward 2-1 #5274, Lot: 71, Subdiv: CEDAR GLEN.', '$10,000.00', '$1,000.00', '$0.00', '$1,000.00', 2, 3, 9643, 21232),\n",
       " ('000-1393-5          ', 'REAL PROPERTY', 'ACTUAL', 'HAYNES & HAYNES, L.L.C.                           ', 'CLINTON LA  70722                       ', 'RESIDENTIAL', True, 'Adjudicated', datetime.datetime(1999, 6, 14, 0, 0), 'Ward 2-5 #1190, Lot: X-5, Subdiv: CHANEY, L. L. TRACT. TRACT X-5 CONT. 0.37 ACRES RESUB. OF 200 ACRES, MORE OR LESS, BEING PART OF MRS. L. L. CHANEY 300 ACRE TRACT IN SECS. 42 & 22, T4S, R1E. 1989. MAP.', '$1,000.00', '$100.00', '$0.00', '$100.00', 2, 5, 11302, 8671),\n",
       " ('013-3836-6          ', 'REAL PROPERTY', 'ACTUAL', 'MONTGOMERY, WILMAN FRANK &                        ', 'BATON ROUGE LA  70811                   ', 'RESIDENTIAL', False, 'Sale with Mortgage', datetime.datetime(1977, 1, 1, 0, 0), 'Ward 2-1 #7942, Lot: 76, Subdiv: HOLIDAY WOODS.', '$6,000.00', '$600.00', '$600.00', '$0.00', 2, 3, 8077, 9107),\n",
       " ('001-8801-8          ', 'REAL PROPERTY', 'ACTUAL', 'A AND C RENOVATIONS, LLC                          ', 'PRAIRIEVILLE LA   70769                 ', 'RESIDENTIAL', False, 'Cash Sale', datetime.datetime(2011, 7, 27, 0, 0), 'Ward 2-1 #1, Lot: 328-B, Subdiv: KILDARE. CONT. 1.26 ACRES BEING A RESUB. OF LOTS 328-A-1 & 328-B-1. RESUB. 1988. SEC. 3.', '$10,000.00', '$1,000.00', '$0.00', '$1,000.00', 2, 3, 5178, 15043)]"
      ]
     },
     "execution_count": 231,
     "metadata": {},
     "output_type": "execute_result"
    }
   ],
   "source": [
    "%%sql\n",
    "\n",
    "SELECT * FROM fact\n",
    "LIMIT 5;"
   ]
  },
  {
   "cell_type": "markdown",
   "metadata": {},
   "source": [
    "Now removing unwanted columns from the fact table."
   ]
  },
  {
   "cell_type": "code",
   "execution_count": 232,
   "metadata": {
    "collapsed": false
   },
   "outputs": [
    {
     "name": "stdout",
     "output_type": "stream",
     "text": [
      "Done.\n"
     ]
    },
    {
     "data": {
      "text/plain": [
       "[]"
      ]
     },
     "execution_count": 232,
     "metadata": {},
     "output_type": "execute_result"
    }
   ],
   "source": [
    "%%sql\n",
    "\n",
    "ALTER TABLE fact\n",
    "DROP COLUMN assessment_type,\n",
    "DROP COLUMN assessment_status,\n",
    "DROP COLUMN taxpayer_name,\n",
    "DROP COLUMN taxpayer_city_state_zip,\n",
    "DROP COLUMN structure_use,\n",
    "DROP COLUMN vacant,\n",
    "DROP COLUMN transfer_type,\n",
    "DROP COLUMN transfer_date,\n",
    "DROP COLUMN legal_description;"
   ]
  },
  {
   "cell_type": "code",
   "execution_count": 233,
   "metadata": {
    "collapsed": false
   },
   "outputs": [
    {
     "name": "stdout",
     "output_type": "stream",
     "text": [
      "5 rows affected.\n"
     ]
    },
    {
     "data": {
      "text/html": [
       "<table>\n",
       "    <tr>\n",
       "        <th>property_number</th>\n",
       "        <th>fair_market_value</th>\n",
       "        <th>total_assessed_value</th>\n",
       "        <th>homestead_exemption_value</th>\n",
       "        <th>taxable_parish</th>\n",
       "        <th>assessment_key</th>\n",
       "        <th>structure_key</th>\n",
       "        <th>transfer_key</th>\n",
       "        <th>taxpayer_key</th>\n",
       "    </tr>\n",
       "    <tr>\n",
       "        <td>013-3836-6          </td>\n",
       "        <td>$6,000.00</td>\n",
       "        <td>$600.00</td>\n",
       "        <td>$600.00</td>\n",
       "        <td>$0.00</td>\n",
       "        <td>2</td>\n",
       "        <td>3</td>\n",
       "        <td>8077</td>\n",
       "        <td>9107</td>\n",
       "    </tr>\n",
       "    <tr>\n",
       "        <td>001-8801-8          </td>\n",
       "        <td>$10,000.00</td>\n",
       "        <td>$1,000.00</td>\n",
       "        <td>$0.00</td>\n",
       "        <td>$1,000.00</td>\n",
       "        <td>2</td>\n",
       "        <td>3</td>\n",
       "        <td>5178</td>\n",
       "        <td>15043</td>\n",
       "    </tr>\n",
       "    <tr>\n",
       "        <td>004-0430-6          </td>\n",
       "        <td>$16,000.00</td>\n",
       "        <td>$1,600.00</td>\n",
       "        <td>$0.00</td>\n",
       "        <td>$1,600.00</td>\n",
       "        <td>2</td>\n",
       "        <td>6</td>\n",
       "        <td>3573</td>\n",
       "        <td>15855</td>\n",
       "    </tr>\n",
       "    <tr>\n",
       "        <td>004-0521-3          </td>\n",
       "        <td>$50,000.00</td>\n",
       "        <td>$5,000.00</td>\n",
       "        <td>$0.00</td>\n",
       "        <td>$5,000.00</td>\n",
       "        <td>2</td>\n",
       "        <td>3</td>\n",
       "        <td>5877</td>\n",
       "        <td>3131</td>\n",
       "    </tr>\n",
       "    <tr>\n",
       "        <td>005-0496-3          </td>\n",
       "        <td>$7,000.00</td>\n",
       "        <td>$700.00</td>\n",
       "        <td>$0.00</td>\n",
       "        <td>$700.00</td>\n",
       "        <td>2</td>\n",
       "        <td>3</td>\n",
       "        <td>9381</td>\n",
       "        <td>9096</td>\n",
       "    </tr>\n",
       "</table>"
      ],
      "text/plain": [
       "[('013-3836-6          ', '$6,000.00', '$600.00', '$600.00', '$0.00', 2, 3, 8077, 9107),\n",
       " ('001-8801-8          ', '$10,000.00', '$1,000.00', '$0.00', '$1,000.00', 2, 3, 5178, 15043),\n",
       " ('004-0430-6          ', '$16,000.00', '$1,600.00', '$0.00', '$1,600.00', 2, 6, 3573, 15855),\n",
       " ('004-0521-3          ', '$50,000.00', '$5,000.00', '$0.00', '$5,000.00', 2, 3, 5877, 3131),\n",
       " ('005-0496-3          ', '$7,000.00', '$700.00', '$0.00', '$700.00', 2, 3, 9381, 9096)]"
      ]
     },
     "execution_count": 233,
     "metadata": {},
     "output_type": "execute_result"
    }
   ],
   "source": [
    "%%sql\n",
    "\n",
    "SELECT * FROM fact\n",
    "LIMIT 5;"
   ]
  },
  {
   "cell_type": "markdown",
   "metadata": {},
   "source": [
    "Now we are creating a new table for changing the column positions such that all the surrogate keys are in order and are followed by the measurable facts."
   ]
  },
  {
   "cell_type": "code",
   "execution_count": 234,
   "metadata": {
    "collapsed": false
   },
   "outputs": [
    {
     "name": "stdout",
     "output_type": "stream",
     "text": [
      "Done.\n",
      "25976 rows affected.\n"
     ]
    },
    {
     "data": {
      "text/plain": [
       "[]"
      ]
     },
     "execution_count": 234,
     "metadata": {},
     "output_type": "execute_result"
    }
   ],
   "source": [
    "%%sql\n",
    "\n",
    "DROP TABLE IF EXISTS property_fact;\n",
    "CREATE TABLE property_fact AS\n",
    "SELECT property_number,taxpayer_KEY,assessment_key,structure_KEY,transfer_KEY,fair_market_value,total_assessed_value,homestead_exemption_value,taxable_parish\n",
    "FROM fact;"
   ]
  },
  {
   "cell_type": "code",
   "execution_count": 235,
   "metadata": {
    "collapsed": false
   },
   "outputs": [
    {
     "name": "stdout",
     "output_type": "stream",
     "text": [
      "5 rows affected.\n"
     ]
    },
    {
     "data": {
      "text/html": [
       "<table>\n",
       "    <tr>\n",
       "        <th>property_number</th>\n",
       "        <th>taxpayer_key</th>\n",
       "        <th>assessment_key</th>\n",
       "        <th>structure_key</th>\n",
       "        <th>transfer_key</th>\n",
       "        <th>fair_market_value</th>\n",
       "        <th>total_assessed_value</th>\n",
       "        <th>homestead_exemption_value</th>\n",
       "        <th>taxable_parish</th>\n",
       "    </tr>\n",
       "    <tr>\n",
       "        <td>005-0496-3          </td>\n",
       "        <td>9096</td>\n",
       "        <td>2</td>\n",
       "        <td>3</td>\n",
       "        <td>9381</td>\n",
       "        <td>$7,000.00</td>\n",
       "        <td>$700.00</td>\n",
       "        <td>$0.00</td>\n",
       "        <td>$700.00</td>\n",
       "    </tr>\n",
       "    <tr>\n",
       "        <td>006-4288-6          </td>\n",
       "        <td>19849</td>\n",
       "        <td>2</td>\n",
       "        <td>3</td>\n",
       "        <td>9275</td>\n",
       "        <td>$8,000.00</td>\n",
       "        <td>$800.00</td>\n",
       "        <td>$0.00</td>\n",
       "        <td>$800.00</td>\n",
       "    </tr>\n",
       "    <tr>\n",
       "        <td>006-6616-5          </td>\n",
       "        <td>5909</td>\n",
       "        <td>2</td>\n",
       "        <td>3</td>\n",
       "        <td>8799</td>\n",
       "        <td>$10,000.00</td>\n",
       "        <td>$1,000.00</td>\n",
       "        <td>$0.00</td>\n",
       "        <td>$1,000.00</td>\n",
       "    </tr>\n",
       "    <tr>\n",
       "        <td>013-6349-2          </td>\n",
       "        <td>21051</td>\n",
       "        <td>2</td>\n",
       "        <td>3</td>\n",
       "        <td>4184</td>\n",
       "        <td>$1,000.00</td>\n",
       "        <td>$100.00</td>\n",
       "        <td>$0.00</td>\n",
       "        <td>$100.00</td>\n",
       "    </tr>\n",
       "    <tr>\n",
       "        <td>007-2988-4          </td>\n",
       "        <td>12539</td>\n",
       "        <td>2</td>\n",
       "        <td>3</td>\n",
       "        <td>6824</td>\n",
       "        <td>$20,000.00</td>\n",
       "        <td>$2,000.00</td>\n",
       "        <td>$0.00</td>\n",
       "        <td>$2,000.00</td>\n",
       "    </tr>\n",
       "</table>"
      ],
      "text/plain": [
       "[('005-0496-3          ', 9096, 2, 3, 9381, '$7,000.00', '$700.00', '$0.00', '$700.00'),\n",
       " ('006-4288-6          ', 19849, 2, 3, 9275, '$8,000.00', '$800.00', '$0.00', '$800.00'),\n",
       " ('006-6616-5          ', 5909, 2, 3, 8799, '$10,000.00', '$1,000.00', '$0.00', '$1,000.00'),\n",
       " ('013-6349-2          ', 21051, 2, 3, 4184, '$1,000.00', '$100.00', '$0.00', '$100.00'),\n",
       " ('007-2988-4          ', 12539, 2, 3, 6824, '$20,000.00', '$2,000.00', '$0.00', '$2,000.00')]"
      ]
     },
     "execution_count": 235,
     "metadata": {},
     "output_type": "execute_result"
    }
   ],
   "source": [
    "%%sql\n",
    "\n",
    "SELECT * FROM property_fact\n",
    "LIMIT 5;"
   ]
  },
  {
   "cell_type": "markdown",
   "metadata": {},
   "source": [
    "Now we are creating the Foreign Key references for the surrogate keys in the property_fact table."
   ]
  },
  {
   "cell_type": "code",
   "execution_count": 236,
   "metadata": {
    "collapsed": false
   },
   "outputs": [
    {
     "name": "stdout",
     "output_type": "stream",
     "text": [
      "Done.\n"
     ]
    },
    {
     "data": {
      "text/plain": [
       "[]"
      ]
     },
     "execution_count": 236,
     "metadata": {},
     "output_type": "execute_result"
    }
   ],
   "source": [
    "%%sql\n",
    "\n",
    "ALTER TABLE property_fact\n",
    "ADD CONSTRAINT taxpayer_fk\n",
    "FOREIGN KEY(taxpayer_KEY)\n",
    "REFERENCES taxpayer\n",
    "ON DELETE CASCADE;"
   ]
  },
  {
   "cell_type": "code",
   "execution_count": 237,
   "metadata": {
    "collapsed": false
   },
   "outputs": [
    {
     "name": "stdout",
     "output_type": "stream",
     "text": [
      "Done.\n"
     ]
    },
    {
     "data": {
      "text/plain": [
       "[]"
      ]
     },
     "execution_count": 237,
     "metadata": {},
     "output_type": "execute_result"
    }
   ],
   "source": [
    "%%sql\n",
    "\n",
    "ALTER TABLE property_fact\n",
    "ADD CONSTRAINT assessment_fk\n",
    "FOREIGN KEY(assessment_KEY)\n",
    "REFERENCES assessment\n",
    "ON DELETE CASCADE;"
   ]
  },
  {
   "cell_type": "code",
   "execution_count": 238,
   "metadata": {
    "collapsed": false
   },
   "outputs": [
    {
     "name": "stdout",
     "output_type": "stream",
     "text": [
      "Done.\n"
     ]
    },
    {
     "data": {
      "text/plain": [
       "[]"
      ]
     },
     "execution_count": 238,
     "metadata": {},
     "output_type": "execute_result"
    }
   ],
   "source": [
    "%%sql\n",
    "\n",
    "ALTER TABLE property_fact\n",
    "ADD CONSTRAINT transfer_fk\n",
    "FOREIGN KEY (transfer_KEY)\n",
    "REFERENCES transfer\n",
    "ON DELETE CASCADE;"
   ]
  },
  {
   "cell_type": "code",
   "execution_count": 239,
   "metadata": {
    "collapsed": false
   },
   "outputs": [
    {
     "name": "stdout",
     "output_type": "stream",
     "text": [
      "Done.\n"
     ]
    },
    {
     "data": {
      "text/plain": [
       "[]"
      ]
     },
     "execution_count": 239,
     "metadata": {},
     "output_type": "execute_result"
    }
   ],
   "source": [
    "%%sql\n",
    "\n",
    "ALTER TABLE property_fact\n",
    "ADD CONSTRAINT structure_fk\n",
    "FOREIGN KEY(structure_KEY)\n",
    "REFERENCES structure\n",
    "ON DELETE CASCADE;"
   ]
  },
  {
   "cell_type": "markdown",
   "metadata": {},
   "source": [
    "Now, we finished the creating our star schema. "
   ]
  },
  {
   "cell_type": "markdown",
   "metadata": {},
   "source": [
    "## Problem 4 - explore your data in its new schema (30 points)\n",
    "\n",
    "Strictly using the dimensional model tables you defined and populated for Problem 3, explore your data in its new form.  Use any of the query strategies we've seen in class, including transformations, aggregates, subqueries, rollups, and, of course, joins.  Add plots to highlight particular themes that stand out.  Describe your thinking and observations along the way."
   ]
  },
  {
   "cell_type": "markdown",
   "metadata": {},
   "source": [
    "Latest 15 years how many transfers took place?"
   ]
  },
  {
   "cell_type": "code",
   "execution_count": 240,
   "metadata": {
    "collapsed": false
   },
   "outputs": [
    {
     "name": "stdout",
     "output_type": "stream",
     "text": [
      "15 rows affected.\n"
     ]
    },
    {
     "data": {
      "text/html": [
       "<table>\n",
       "    <tr>\n",
       "        <th>transfer_year</th>\n",
       "        <th>count</th>\n",
       "    </tr>\n",
       "    <tr>\n",
       "        <td>2015</td>\n",
       "        <td>488</td>\n",
       "    </tr>\n",
       "    <tr>\n",
       "        <td>2014</td>\n",
       "        <td>1236</td>\n",
       "    </tr>\n",
       "    <tr>\n",
       "        <td>2013</td>\n",
       "        <td>976</td>\n",
       "    </tr>\n",
       "    <tr>\n",
       "        <td>2012</td>\n",
       "        <td>908</td>\n",
       "    </tr>\n",
       "    <tr>\n",
       "        <td>2011</td>\n",
       "        <td>723</td>\n",
       "    </tr>\n",
       "    <tr>\n",
       "        <td>2010</td>\n",
       "        <td>632</td>\n",
       "    </tr>\n",
       "    <tr>\n",
       "        <td>2009</td>\n",
       "        <td>733</td>\n",
       "    </tr>\n",
       "    <tr>\n",
       "        <td>2008</td>\n",
       "        <td>852</td>\n",
       "    </tr>\n",
       "    <tr>\n",
       "        <td>2007</td>\n",
       "        <td>1046</td>\n",
       "    </tr>\n",
       "    <tr>\n",
       "        <td>2006</td>\n",
       "        <td>1199</td>\n",
       "    </tr>\n",
       "    <tr>\n",
       "        <td>2005</td>\n",
       "        <td>962</td>\n",
       "    </tr>\n",
       "    <tr>\n",
       "        <td>2004</td>\n",
       "        <td>791</td>\n",
       "    </tr>\n",
       "    <tr>\n",
       "        <td>2003</td>\n",
       "        <td>720</td>\n",
       "    </tr>\n",
       "    <tr>\n",
       "        <td>2002</td>\n",
       "        <td>620</td>\n",
       "    </tr>\n",
       "    <tr>\n",
       "        <td>2001</td>\n",
       "        <td>506</td>\n",
       "    </tr>\n",
       "</table>"
      ],
      "text/plain": [
       "[(2015, 488),\n",
       " (2014, 1236),\n",
       " (2013, 976),\n",
       " (2012, 908),\n",
       " (2011, 723),\n",
       " (2010, 632),\n",
       " (2009, 733),\n",
       " (2008, 852),\n",
       " (2007, 1046),\n",
       " (2006, 1199),\n",
       " (2005, 962),\n",
       " (2004, 791),\n",
       " (2003, 720),\n",
       " (2002, 620),\n",
       " (2001, 506)]"
      ]
     },
     "execution_count": 240,
     "metadata": {},
     "output_type": "execute_result"
    }
   ],
   "source": [
    "%%sql\n",
    "\n",
    "SELECT t.transfer_year,COUNT(p.property_number)\n",
    "FROM property_fact p LEFT JOIN transfer t ON p.transfer_KEY=t.transfer_id\n",
    "WHERE t.transfer_year<> '9999'\n",
    "GROUP BY t.transfer_year\n",
    "ORDER BY t.transfer_year DESC\n",
    "LIMIT 15;"
   ]
  },
  {
   "cell_type": "markdown",
   "metadata": {},
   "source": [
    "What are the top 10 zip codes with high average market value?"
   ]
  },
  {
   "cell_type": "code",
   "execution_count": 241,
   "metadata": {
    "collapsed": false
   },
   "outputs": [
    {
     "name": "stdout",
     "output_type": "stream",
     "text": [
      "10 rows affected.\n"
     ]
    },
    {
     "data": {
      "text/html": [
       "<table>\n",
       "    <tr>\n",
       "        <th>taxpayer_zipcode</th>\n",
       "        <th>Avg Market Value</th>\n",
       "    </tr>\n",
       "    <tr>\n",
       "        <td>50392</td>\n",
       "        <td>1300000.000000000000</td>\n",
       "    </tr>\n",
       "    <tr>\n",
       "        <td>80120</td>\n",
       "        <td>1012000.000000000000</td>\n",
       "    </tr>\n",
       "    <tr>\n",
       "        <td>72716</td>\n",
       "        <td>1000000.000000000000</td>\n",
       "    </tr>\n",
       "    <tr>\n",
       "        <td>07013</td>\n",
       "        <td>915000.000000000000</td>\n",
       "    </tr>\n",
       "    <tr>\n",
       "        <td>92046</td>\n",
       "        <td>850000.000000000000</td>\n",
       "    </tr>\n",
       "    <tr>\n",
       "        <td>85038</td>\n",
       "        <td>800000.000000000000</td>\n",
       "    </tr>\n",
       "    <tr>\n",
       "        <td>35804</td>\n",
       "        <td>689500.000000000000</td>\n",
       "    </tr>\n",
       "    <tr>\n",
       "        <td>94404</td>\n",
       "        <td>650000.000000000000</td>\n",
       "    </tr>\n",
       "    <tr>\n",
       "        <td>02895</td>\n",
       "        <td>637500.000000000000</td>\n",
       "    </tr>\n",
       "    <tr>\n",
       "        <td>71731</td>\n",
       "        <td>625000.000000000000</td>\n",
       "    </tr>\n",
       "</table>"
      ],
      "text/plain": [
       "[('50392', Decimal('1300000.000000000000')),\n",
       " ('80120', Decimal('1012000.000000000000')),\n",
       " ('72716', Decimal('1000000.000000000000')),\n",
       " ('07013', Decimal('915000.000000000000')),\n",
       " ('92046', Decimal('850000.000000000000')),\n",
       " ('85038', Decimal('800000.000000000000')),\n",
       " ('35804', Decimal('689500.000000000000')),\n",
       " ('94404', Decimal('650000.000000000000')),\n",
       " ('02895', Decimal('637500.000000000000')),\n",
       " ('71731', Decimal('625000.000000000000'))]"
      ]
     },
     "execution_count": 241,
     "metadata": {},
     "output_type": "execute_result"
    }
   ],
   "source": [
    "%%sql\n",
    "\n",
    "SELECT t.taxpayer_zipcode,AVG(CAST(p.fair_market_value AS numeric)) AS \"Avg Market Value\"\n",
    "FROM property_fact p LEFT JOIN taxpayer t on p.taxpayer_key=t.taxpayer_id\n",
    "GROUP BY t.taxpayer_zipcode\n",
    "ORDER BY avg(cast(p.fair_market_value AS numeric)) DESC\n",
    "LIMIT 10;"
   ]
  },
  {
   "cell_type": "markdown",
   "metadata": {},
   "source": [
    "Is there any difference in the market value for the Vacant and Non Vacant properties?"
   ]
  },
  {
   "cell_type": "code",
   "execution_count": 242,
   "metadata": {
    "collapsed": false
   },
   "outputs": [
    {
     "name": "stdout",
     "output_type": "stream",
     "text": [
      "2 rows affected.\n"
     ]
    },
    {
     "data": {
      "text/html": [
       "<table>\n",
       "    <tr>\n",
       "        <th>vacant</th>\n",
       "        <th>Avg Market Value</th>\n",
       "    </tr>\n",
       "    <tr>\n",
       "        <td>True</td>\n",
       "        <td>20177.187222715173</td>\n",
       "    </tr>\n",
       "    <tr>\n",
       "        <td>False</td>\n",
       "        <td>17455.432377955853</td>\n",
       "    </tr>\n",
       "</table>"
      ],
      "text/plain": [
       "[(True, Decimal('20177.187222715173')), (False, Decimal('17455.432377955853'))]"
      ]
     },
     "execution_count": 242,
     "metadata": {},
     "output_type": "execute_result"
    }
   ],
   "source": [
    "%%sql\n",
    "\n",
    "SELECT s.vacant, AVG(CAST(p.fair_market_value AS numeric)) AS \"Avg Market Value\"\n",
    "FROM property_fact p LEFT JOIN structure s ON s.structure_id=p.structure_key\n",
    "GROUP BY s.vacant\n",
    "ORDER BY AVG(CAST(p.fair_market_value AS numeric)) DESC;"
   ]
  },
  {
   "cell_type": "markdown",
   "metadata": {},
   "source": [
    "From previous cells we can see that the vacant property has a relativley high average market values compare to non-vacant property."
   ]
  },
  {
   "cell_type": "code",
   "execution_count": 243,
   "metadata": {
    "collapsed": false
   },
   "outputs": [
    {
     "data": {
      "text/plain": [
       "([<matplotlib.patches.Wedge at 0x7fc40051c2b0>,\n",
       "  <matplotlib.patches.Wedge at 0x7fc40051cf28>],\n",
       " [<matplotlib.text.Text at 0x7fc40051cac8>,\n",
       "  <matplotlib.text.Text at 0x7fc4004a2748>])"
      ]
     },
     "execution_count": 243,
     "metadata": {},
     "output_type": "execute_result"
    },
    {
     "data": {
      "image/png": "[encoded data removed]",
      "text/plain": [
       "<matplotlib.figure.Figure at 0x7fc400544898>"
      ]
     },
     "metadata": {},
     "output_type": "display_data"
    }
   ],
   "source": [
    "result=_\n",
    "result.pie()"
   ]
  },
  {
   "cell_type": "markdown",
   "metadata": {},
   "source": [
    "Give a breakdown on the number of assessments of each type and status"
   ]
  },
  {
   "cell_type": "code",
   "execution_count": 244,
   "metadata": {
    "collapsed": false
   },
   "outputs": [
    {
     "name": "stdout",
     "output_type": "stream",
     "text": [
      "4 rows affected.\n"
     ]
    },
    {
     "data": {
      "text/html": [
       "<table>\n",
       "    <tr>\n",
       "        <th>assessment_type</th>\n",
       "        <th>assessment_status</th>\n",
       "        <th>count</th>\n",
       "    </tr>\n",
       "    <tr>\n",
       "        <td>REAL PROPERTY</td>\n",
       "        <td>ACTUAL</td>\n",
       "        <td>24809</td>\n",
       "    </tr>\n",
       "    <tr>\n",
       "        <td>REAL PROPERTY</td>\n",
       "        <td>EXEMPT</td>\n",
       "        <td>743</td>\n",
       "    </tr>\n",
       "    <tr>\n",
       "        <td>REAL PROPERTY</td>\n",
       "        <td>ADJUDICATED</td>\n",
       "        <td>414</td>\n",
       "    </tr>\n",
       "    <tr>\n",
       "        <td>PUBLIC SERVICE</td>\n",
       "        <td>ACTUAL</td>\n",
       "        <td>10</td>\n",
       "    </tr>\n",
       "</table>"
      ],
      "text/plain": [
       "[('REAL PROPERTY', 'ACTUAL', 24809),\n",
       " ('REAL PROPERTY', 'EXEMPT', 743),\n",
       " ('REAL PROPERTY', 'ADJUDICATED', 414),\n",
       " ('PUBLIC SERVICE', 'ACTUAL', 10)]"
      ]
     },
     "execution_count": 244,
     "metadata": {},
     "output_type": "execute_result"
    }
   ],
   "source": [
    "%%sql\n",
    "\n",
    "SELECT a.assessment_type,a.assessment_status,COUNT(property_number)\n",
    "FROM property_fact p LEFT JOIN assessment a \n",
    "ON p.assessment_key=a.assessment_id\n",
    "GROUP BY a.assessment_type,a.assessment_status\n",
    "ORDER BY COUNT(property_number) DESC ;"
   ]
  },
  {
   "cell_type": "markdown",
   "metadata": {},
   "source": [
    "Check if there exists any seasonality in the tranfer months."
   ]
  },
  {
   "cell_type": "code",
   "execution_count": 245,
   "metadata": {
    "collapsed": false
   },
   "outputs": [
    {
     "name": "stdout",
     "output_type": "stream",
     "text": [
      "12 rows affected.\n"
     ]
    },
    {
     "data": {
      "text/html": [
       "<table>\n",
       "    <tr>\n",
       "        <th>transfer_month</th>\n",
       "        <th>count</th>\n",
       "    </tr>\n",
       "    <tr>\n",
       "        <td>1</td>\n",
       "        <td>5127</td>\n",
       "    </tr>\n",
       "    <tr>\n",
       "        <td>2</td>\n",
       "        <td>1447</td>\n",
       "    </tr>\n",
       "    <tr>\n",
       "        <td>3</td>\n",
       "        <td>1824</td>\n",
       "    </tr>\n",
       "    <tr>\n",
       "        <td>4</td>\n",
       "        <td>1912</td>\n",
       "    </tr>\n",
       "    <tr>\n",
       "        <td>5</td>\n",
       "        <td>2109</td>\n",
       "    </tr>\n",
       "    <tr>\n",
       "        <td>6</td>\n",
       "        <td>2073</td>\n",
       "    </tr>\n",
       "    <tr>\n",
       "        <td>7</td>\n",
       "        <td>2117</td>\n",
       "    </tr>\n",
       "    <tr>\n",
       "        <td>8</td>\n",
       "        <td>2153</td>\n",
       "    </tr>\n",
       "    <tr>\n",
       "        <td>9</td>\n",
       "        <td>1793</td>\n",
       "    </tr>\n",
       "    <tr>\n",
       "        <td>10</td>\n",
       "        <td>1847</td>\n",
       "    </tr>\n",
       "    <tr>\n",
       "        <td>11</td>\n",
       "        <td>1704</td>\n",
       "    </tr>\n",
       "    <tr>\n",
       "        <td>12</td>\n",
       "        <td>1870</td>\n",
       "    </tr>\n",
       "</table>"
      ],
      "text/plain": [
       "[(1, 5127),\n",
       " (2, 1447),\n",
       " (3, 1824),\n",
       " (4, 1912),\n",
       " (5, 2109),\n",
       " (6, 2073),\n",
       " (7, 2117),\n",
       " (8, 2153),\n",
       " (9, 1793),\n",
       " (10, 1847),\n",
       " (11, 1704),\n",
       " (12, 1870)]"
      ]
     },
     "execution_count": 245,
     "metadata": {},
     "output_type": "execute_result"
    }
   ],
   "source": [
    "%%sql\n",
    "\n",
    "SELECT t.transfer_month,COUNT(property_number)\n",
    "FROM property_fact p LEFT JOIN transfer t \n",
    "ON p.transfer_key=t.transfer_id\n",
    "GROUP BY t.transfer_month\n",
    "ORDER BY t.transfer_month;"
   ]
  },
  {
   "cell_type": "code",
   "execution_count": 246,
   "metadata": {
    "collapsed": false
   },
   "outputs": [
    {
     "data": {
      "text/plain": [
       "<Container object of 12 artists>"
      ]
     },
     "execution_count": 246,
     "metadata": {},
     "output_type": "execute_result"
    },
    {
     "data": {
      "image/png": "[encoded data removed]",
      "text/plain": [
       "<matplotlib.figure.Figure at 0x7fc4004e8978>"
      ]
     },
     "metadata": {},
     "output_type": "display_data"
    }
   ],
   "source": [
    "result=_\n",
    "result.bar()"
   ]
  },
  {
   "cell_type": "markdown",
   "metadata": {},
   "source": [
    "We can see that there is some seasonality in transfers in the month of January.In the month of January total 5127 times tranfers took place in all the years whereas in other month only apporximately 1000-2000 transfers took place.   "
   ]
  },
  {
   "cell_type": "markdown",
   "metadata": {},
   "source": [
    "Top 5 cities with highest asset values in 2015"
   ]
  },
  {
   "cell_type": "code",
   "execution_count": 249,
   "metadata": {
    "collapsed": false
   },
   "outputs": [
    {
     "name": "stdout",
     "output_type": "stream",
     "text": [
      "5 rows affected.\n"
     ]
    },
    {
     "data": {
      "text/html": [
       "<table>\n",
       "    <tr>\n",
       "        <th>taxpayer_city</th>\n",
       "        <th>sum</th>\n",
       "    </tr>\n",
       "    <tr>\n",
       "        <td>ZACHARY</td>\n",
       "        <td>$8,624,500.00</td>\n",
       "    </tr>\n",
       "    <tr>\n",
       "        <td>BATON</td>\n",
       "        <td>$1,109,000.00</td>\n",
       "    </tr>\n",
       "    <tr>\n",
       "        <td>BAKER</td>\n",
       "        <td>$584,000.00</td>\n",
       "    </tr>\n",
       "    <tr>\n",
       "        <td>NEW</td>\n",
       "        <td>$177,000.00</td>\n",
       "    </tr>\n",
       "    <tr>\n",
       "        <td>JACKSON</td>\n",
       "        <td>$105,000.00</td>\n",
       "    </tr>\n",
       "</table>"
      ],
      "text/plain": [
       "[('ZACHARY', '$8,624,500.00'),\n",
       " ('BATON', '$1,109,000.00'),\n",
       " ('BAKER', '$584,000.00'),\n",
       " ('NEW', '$177,000.00'),\n",
       " ('JACKSON', '$105,000.00')]"
      ]
     },
     "execution_count": 249,
     "metadata": {},
     "output_type": "execute_result"
    }
   ],
   "source": [
    "%%sql\n",
    "\n",
    "SELECT t.taxpayer_city, SUM(p.fair_market_value) \n",
    "FROM transfer tf LEFT JOIN property_fact p ON tf.transfer_id=p.transfer_key\n",
    "LEFT JOIN taxpayer t\n",
    "ON p.taxpayer_key=t.taxpayer_id\n",
    "WHERE tf.transfer_year=2015 AND t.taxpayer_city IS NOT NULL\n",
    "GROUP BY t.taxpayer_city\n",
    "ORDER BY SUM(p.fair_market_value) DESC\n",
    "LIMIT 5;"
   ]
  },
  {
   "cell_type": "markdown",
   "metadata": {},
   "source": [
    "Which Cities pays the highest tax? "
   ]
  },
  {
   "cell_type": "code",
   "execution_count": 250,
   "metadata": {
    "collapsed": false
   },
   "outputs": [
    {
     "name": "stdout",
     "output_type": "stream",
     "text": [
      "5 rows affected.\n"
     ]
    },
    {
     "data": {
      "text/html": [
       "<table>\n",
       "    <tr>\n",
       "        <th>taxpayer_city</th>\n",
       "        <th>sum</th>\n",
       "    </tr>\n",
       "    <tr>\n",
       "        <td>ZACHARY</td>\n",
       "        <td>$19,060,850.00</td>\n",
       "    </tr>\n",
       "    <tr>\n",
       "        <td>BATON</td>\n",
       "        <td>$8,936,765.00</td>\n",
       "    </tr>\n",
       "    <tr>\n",
       "        <td>BAKER</td>\n",
       "        <td>$4,990,400.00</td>\n",
       "    </tr>\n",
       "    <tr>\n",
       "        <td>DENHAM</td>\n",
       "        <td>$731,650.00</td>\n",
       "    </tr>\n",
       "    <tr>\n",
       "        <td>GREENWELL</td>\n",
       "        <td>$712,350.00</td>\n",
       "    </tr>\n",
       "</table>"
      ],
      "text/plain": [
       "[('ZACHARY', '$19,060,850.00'),\n",
       " ('BATON', '$8,936,765.00'),\n",
       " ('BAKER', '$4,990,400.00'),\n",
       " ('DENHAM', '$731,650.00'),\n",
       " ('GREENWELL', '$712,350.00')]"
      ]
     },
     "execution_count": 250,
     "metadata": {},
     "output_type": "execute_result"
    }
   ],
   "source": [
    "%%sql\n",
    "\n",
    "SELECT t.taxpayer_city, SUM(p.taxable_parish) \n",
    "FROM property_fact p LEFT JOIN taxpayer t\n",
    "ON p.taxpayer_key=t.taxpayer_id\n",
    "WHERE t.taxpayer_city IS NOT NULL\n",
    "GROUP BY t.taxpayer_city\n",
    "ORDER BY SUM(p.taxable_parish) DESC\n",
    "LIMIT 5;"
   ]
  },
  {
   "cell_type": "markdown",
   "metadata": {},
   "source": [
    "We can do the above querry by connecting to python also using psycopyg2 package "
   ]
  },
  {
   "cell_type": "code",
   "execution_count": 251,
   "metadata": {
    "collapsed": true
   },
   "outputs": [],
   "source": [
    "import psycopg2\n",
    "\n",
    "conn = psycopg2.connect(\"dbname='project2' user='dbuser' host='localhost'\")\n",
    "c = conn.cursor()"
   ]
  },
  {
   "cell_type": "code",
   "execution_count": 252,
   "metadata": {
    "collapsed": false
   },
   "outputs": [
    {
     "name": "stdout",
     "output_type": "stream",
     "text": [
      "ZACHARY has total $19,060,850.00  taxable parish during 2015\n",
      "BATON has total $8,936,765.00  taxable parish during 2015\n",
      "BAKER has total $4,990,400.00  taxable parish during 2015\n",
      "DENHAM has total $731,650.00  taxable parish during 2015\n",
      "GREENWELL has total $712,350.00  taxable parish during 2015\n"
     ]
    }
   ],
   "source": [
    "c.execute(\"SELECT t.taxpayer_city, SUM(p.taxable_parish) FROM property_fact p LEFT JOIN taxpayer t ON p.taxpayer_key=t.taxpayer_id WHERE t.taxpayer_city IS NOT NULL GROUP BY t.taxpayer_city ORDER BY SUM(p.taxable_parish) DESC LIMIT 5;\")\n",
    "rows = c.fetchall()\n",
    "for r in rows:\n",
    "    taxpayer_city, taxable_parish = r\n",
    "    print('%s has total %s  taxable parish during 2015' % (taxpayer_city, taxable_parish))\n",
    "conn.commit()"
   ]
  },
  {
   "cell_type": "markdown",
   "metadata": {},
   "source": [
    "We can see that city Zachary not only has the highest market value but highest tax, which very reasonable.\n"
   ]
  },
  {
   "cell_type": "markdown",
   "metadata": {},
   "source": [
    "What kind of property will has the highest tax-exmption?\n"
   ]
  },
  {
   "cell_type": "code",
   "execution_count": 253,
   "metadata": {
    "collapsed": false
   },
   "outputs": [
    {
     "name": "stdout",
     "output_type": "stream",
     "text": [
      "6 rows affected.\n"
     ]
    },
    {
     "data": {
      "text/html": [
       "<table>\n",
       "    <tr>\n",
       "        <th>sum</th>\n",
       "        <th>structure_use</th>\n",
       "        <th>vacant</th>\n",
       "    </tr>\n",
       "    <tr>\n",
       "        <td>$4,567,200.00</td>\n",
       "        <td>RESIDENTIAL</td>\n",
       "        <td>False</td>\n",
       "    </tr>\n",
       "    <tr>\n",
       "        <td>$207,200.00</td>\n",
       "        <td>RESIDENTIAL</td>\n",
       "        <td>True</td>\n",
       "    </tr>\n",
       "    <tr>\n",
       "        <td>$23,950.00</td>\n",
       "        <td>NOT DETERMINED</td>\n",
       "        <td>True</td>\n",
       "    </tr>\n",
       "    <tr>\n",
       "        <td>$1,000.00</td>\n",
       "        <td>NOT DETERMINED</td>\n",
       "        <td>False</td>\n",
       "    </tr>\n",
       "    <tr>\n",
       "        <td>$0.00</td>\n",
       "        <td>COMMERCIAL</td>\n",
       "        <td>True</td>\n",
       "    </tr>\n",
       "    <tr>\n",
       "        <td>$0.00</td>\n",
       "        <td>COMMERCIAL</td>\n",
       "        <td>False</td>\n",
       "    </tr>\n",
       "</table>"
      ],
      "text/plain": [
       "[('$4,567,200.00', 'RESIDENTIAL', False),\n",
       " ('$207,200.00', 'RESIDENTIAL', True),\n",
       " ('$23,950.00', 'NOT DETERMINED', True),\n",
       " ('$1,000.00', 'NOT DETERMINED', False),\n",
       " ('$0.00', 'COMMERCIAL', True),\n",
       " ('$0.00', 'COMMERCIAL', False)]"
      ]
     },
     "execution_count": 253,
     "metadata": {},
     "output_type": "execute_result"
    }
   ],
   "source": [
    "%%sql\n",
    "\n",
    "SELECT SUM (p.homestead_exemption_value), s.structure_use,s.vacant\n",
    "FROM structure s RIGHT JOIN property_fact p ON s.structure_id = p.structure_key\n",
    "GROUP BY s.structure_use, s.vacant\n",
    "ORDER BY SUM (p.homestead_exemption_value) DESC;"
   ]
  },
  {
   "cell_type": "markdown",
   "metadata": {},
   "source": [
    "We can see that Residential structure have the highest tax exemption whereas commercial properties are not given any exemption"
   ]
  },
  {
   "cell_type": "markdown",
   "metadata": {},
   "source": [
    "For properties with highest market value which type of transfers did the taxpayer choose?"
   ]
  },
  {
   "cell_type": "code",
   "execution_count": 254,
   "metadata": {
    "collapsed": false
   },
   "outputs": [
    {
     "name": "stdout",
     "output_type": "stream",
     "text": [
      "10 rows affected.\n"
     ]
    },
    {
     "data": {
      "text/html": [
       "<table>\n",
       "    <tr>\n",
       "        <th>transfer_type</th>\n",
       "        <th>ave_value</th>\n",
       "    </tr>\n",
       "    <tr>\n",
       "        <td>DEPOSIT</td>\n",
       "        <td>209500.000000000000</td>\n",
       "    </tr>\n",
       "    <tr>\n",
       "        <td>SALE</td>\n",
       "        <td>96000.000000000000</td>\n",
       "    </tr>\n",
       "    <tr>\n",
       "        <td>CS</td>\n",
       "        <td>52500.000000000000</td>\n",
       "    </tr>\n",
       "    <tr>\n",
       "        <td>Q/CLAIM</td>\n",
       "        <td>51557.692307692308</td>\n",
       "    </tr>\n",
       "    <tr>\n",
       "        <td>EXPROPRI</td>\n",
       "        <td>47500.000000000000</td>\n",
       "    </tr>\n",
       "    <tr>\n",
       "        <td>TANSFER</td>\n",
       "        <td>38500.000000000000</td>\n",
       "    </tr>\n",
       "    <tr>\n",
       "        <td>DATION</td>\n",
       "        <td>33824.324324324324</td>\n",
       "    </tr>\n",
       "    <tr>\n",
       "        <td>W/D</td>\n",
       "        <td>30600.000000000000</td>\n",
       "    </tr>\n",
       "    <tr>\n",
       "        <td>A/BAL/M</td>\n",
       "        <td>30000.000000000000</td>\n",
       "    </tr>\n",
       "    <tr>\n",
       "        <td>MERGER</td>\n",
       "        <td>29650.000000000000</td>\n",
       "    </tr>\n",
       "</table>"
      ],
      "text/plain": [
       "[('DEPOSIT', Decimal('209500.000000000000')),\n",
       " ('SALE', Decimal('96000.000000000000')),\n",
       " ('CS', Decimal('52500.000000000000')),\n",
       " ('Q/CLAIM', Decimal('51557.692307692308')),\n",
       " ('EXPROPRI', Decimal('47500.000000000000')),\n",
       " ('TANSFER', Decimal('38500.000000000000')),\n",
       " ('DATION', Decimal('33824.324324324324')),\n",
       " ('W/D', Decimal('30600.000000000000')),\n",
       " ('A/BAL/M', Decimal('30000.000000000000')),\n",
       " ('MERGER', Decimal('29650.000000000000'))]"
      ]
     },
     "execution_count": 254,
     "metadata": {},
     "output_type": "execute_result"
    }
   ],
   "source": [
    "%%sql\n",
    "\n",
    "SELECT tr.transfer_type,AVG(CAST(p.fair_market_value AS numeric)) AS \"ave_value\"\n",
    "FROM transfer tr RIGHT JOIN property_fact p ON tr.transfer_id = p.transfer_key\n",
    "GROUP BY tr.transfer_type\n",
    "ORDER BY \"ave_value\" DESC\n",
    "LIMIT 10;"
   ]
  },
  {
   "cell_type": "markdown",
   "metadata": {},
   "source": [
    "People using 'Deposit' type of transfer when have relatively big tranfer. "
   ]
  },
  {
   "cell_type": "code",
   "execution_count": 255,
   "metadata": {
    "collapsed": false
   },
   "outputs": [
    {
     "data": {
      "text/plain": [
       "<Container object of 10 artists>"
      ]
     },
     "execution_count": 255,
     "metadata": {},
     "output_type": "execute_result"
    },
    {
     "data": {
      "image/png": "[encoded data removed]",
      "text/plain": [
       "<matplotlib.figure.Figure at 0x7fc400426e80>"
      ]
     },
     "metadata": {},
     "output_type": "display_data"
    }
   ],
   "source": [
    "result=_\n",
    "result.bar()"
   ]
  },
  {
   "cell_type": "markdown",
   "metadata": {},
   "source": [
    "## Bonus (10 points for one of A or B)\n",
    "\n",
    "\n",
    "### Option A - Automating ETL\n",
    "\n",
    "Consider the work you did to load your original raw dataset and then transform it into a dimensional model for analysis.  What would it take to automate this process?  How often would you need to update the data?  Could you easily automate any data cleaning steps?  What checks would you need to put in place to ensure quality?  Would humans need to be involved, or could you automate it all?\n",
    "\n",
    "Discuss.\n",
    "\n",
    "\n",
    "### Option B - Augmenting dimensions\n",
    "\n",
    "Considering your dimensional model, what external data could you find to augment it?  As in the case of bike trips, where weather might provide an interesting added dimension/context not present in the original data, you can probably find another source of data to complement your own model.  Identify one such source and add it to your model, demonstrating its value with a few new queries."
   ]
  },
  {
   "cell_type": "markdown",
   "metadata": {},
   "source": [
    "Option A:\n",
    "\n",
    "For the fact table, whenever there is a new records come in, we have to update the fact table. But, for the dimension table we do not need to update that often, only when a unique combination comes up we have to update the dimension table. More specifically, for taxpayer_dimension, if there is a new taxpayer comes up or the a specific taxpayer change he/she address we have to update both fact table and taxpayer_dimension. We think in problem3, when we creating dimension tables we examine all columns and find out almost every possible data quality issue. We did a lot work on cleaning the data using several sql techniques. The queries we used in cleaning data are more general, which means we can use thoes queries to deal with future data so we think we can relatively easily automate the data cleaning steps. We think we need humans to be involved in data cleaning steps. Because, we think our query did not cover every possible data issues, so if there are some new data quality issue comes up, we have to change the query correspond. On the whole we can automate the process of choosing dimensions like similar columns ( taxpayer name, city , state etc) but the whole process needs some amount of human intervention to make sure it not error prone. \n"
   ]
  },
  {
   "cell_type": "markdown",
   "metadata": {},
   "source": [
    "#### BOTH THE TEAM MEMBERS WORKED EQUALLY TO COMPLETE THE PROJECT-2. WE ALWAYS WORKED TOGETHER AS A GROUP TO ACHEIVE THIS TASK.\n",
    "\n",
    "THANK YOU"
   ]
  }
 ],
 "metadata": {
  "anaconda-cloud": {},
  "kernelspec": {
   "display_name": "Python [Root]",
   "language": "python",
   "name": "Python [Root]"
  },
  "language_info": {
   "codemirror_mode": {
    "name": "ipython",
    "version": 3
   },
   "file_extension": ".py",
   "mimetype": "text/x-python",
   "name": "python",
   "nbconvert_exporter": "python",
   "pygments_lexer": "ipython3",
   "version": "3.5.2"
  }
 },
 "nbformat": 4,
 "nbformat_minor": 1
}
