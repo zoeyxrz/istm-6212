{
 "cells": [
  {
   "cell_type": "markdown",
   "metadata": {
    "slideshow": {
     "slide_type": "slide"
    }
   },
   "source": [
    "# Project 3 --- Where the government money goes in Austin?\n",
    "\n",
    "\n",
    "## Group Member:\n",
    "### Rongchu Zhao\n",
    "### Rithvik Mundra\n",
    "### Soomin Park\n",
    "### Szu-Ying Yang"
   ]
  },
  {
   "cell_type": "markdown",
   "metadata": {
    "slideshow": {
     "slide_type": "slide"
    }
   },
   "source": [
    "## Part 1 - Select Data: Austin Finance eCheckbook data\n",
    "\n",
    "## Why this data?"
   ]
  },
  {
   "cell_type": "markdown",
   "metadata": {
    "slideshow": {
     "slide_type": "subslide"
    }
   },
   "source": [
    "### Austin Finance Online eCheckbook data. "
   ]
  },
  {
   "cell_type": "markdown",
   "metadata": {
    "slideshow": {
     "slide_type": "skip"
    }
   },
   "source": [
    "We decided to use the Austin Finance Online eCheckbook data, this data provides details on the city’s expenditure on different purposes. The data in the eCheckbook represents purchases of goods and services made by City departments from third parties. According to the Austin government website, the transactions that related to energy have been excluded because of the regulation.\n",
    "The data source is https://data.austintexas.gov/Financial/Austin-Finance-Online-eCheckbook/8c6z-qnmj. \n",
    "### Reason of choosing the dataset:\n",
    "First, Austin is one of the largest city in Texas and they provide thorough information about government spending, so we are thrilled to have the opportunity to analyze the data and see the picture of what the government has done with tax collected from the taxpayers. \n",
    "Second, we did crime and property related topics in previous assignment, hence this time we want to do something different and more financial related topic. Therefore, we choose the spending data as our topic this time.  \n",
    "Furthermore, we checked spending data in other cities and found that this dataset leaves more room for us to do some wrangling and analysis, so it will be challenging and interesting.\n",
    "At last, because this data is recorded as the each check was spend on specific purchase that performed by government, so we think each record represents individual transaction, which meets the requirement of data set choosing. "
   ]
  },
  {
   "cell_type": "code",
   "execution_count": 5,
   "metadata": {},
   "outputs": [
    {
     "name": "stdout",
     "output_type": "stream",
     "text": [
      "--2016-12-09 00:43:42--  https://data.austintexas.gov/api/views/8c6z-qnmj/rows.csv?accessType=DOWNLOAD\n",
      "Resolving data.austintexas.gov (data.austintexas.gov)... 52.206.68.26\n",
      "Connecting to data.austintexas.gov (data.austintexas.gov)|52.206.68.26|:443... connected.\n",
      "HTTP request sent, awaiting response... 200 OK\n",
      "Length: unspecified [text/csv]\n",
      "Saving to: ‘rows.csv?accessType=DOWNLOAD’\n",
      "\n",
      "rows.csv?accessType     [              <=>   ] 354.92M  3.23MB/s    in 2m 5s   \n",
      "\n",
      "Last-modified header invalid -- time-stamp ignored.\n",
      "2016-12-09 00:45:48 (2.85 MB/s) - ‘rows.csv?accessType=DOWNLOAD’ saved [372162617]\n",
      "\n"
     ]
    }
   ],
   "source": [
    "!wget https://data.austintexas.gov/api/views/8c6z-qnmj/rows.csv?accessType=DOWNLOAD"
   ]
  },
  {
   "cell_type": "markdown",
   "metadata": {},
   "source": [
    "Now renaming the downloaded file to austin_data.csv.\n"
   ]
  },
  {
   "cell_type": "code",
   "execution_count": 6,
   "metadata": {
    "collapsed": true
   },
   "outputs": [],
   "source": [
    "!mv rows.csv?accessType=DOWNLOAD austin_data.csv"
   ]
  },
  {
   "cell_type": "markdown",
   "metadata": {},
   "source": [
    "Observing the column names in the datset."
   ]
  },
  {
   "cell_type": "code",
   "execution_count": 7,
   "metadata": {},
   "outputs": [
    {
     "name": "stdout",
     "output_type": "stream",
     "text": [
      "  1: FY_DC\r\n",
      "  2: PER_CD\r\n",
      "  3: DEPT_CD\r\n",
      "  4: DEPT_NM\r\n",
      "  5: FUND_CD\r\n",
      "  6: FUND_NM\r\n",
      "  7: DIV_CD\r\n",
      "  8: DIV_NM\r\n",
      "  9: GP_CD\r\n",
      " 10: GP_NM\r\n",
      " 11: OCAT_CD\r\n",
      " 12: OCAT_NM\r\n",
      " 13: OBJ_CD\r\n",
      " 14: OBJ_NM\r\n",
      " 15: LGL_NM\r\n",
      " 16: VEND_CUST_CD\r\n",
      " 17: VEND_CUST_IND\r\n",
      " 18: RFED_DOC_CD\r\n",
      " 19: RFED_DOC_DEPT_CD\r\n",
      " 20: RFED_DOC_ID\r\n",
      " 21: COMM_CD\r\n",
      " 22: COMM_DSCR\r\n",
      " 23: CHK_EFT_ISS_DT\r\n",
      " 24: CVL_CHK_STA_DV\r\n",
      " 25: RFED_VEND_LN_NO\r\n",
      " 26: RFED_COMM_LN_NO\r\n",
      " 27: RFED_ACTG_LN_NO\r\n",
      " 28: RF_DOC_CD\r\n",
      " 29: RF_DOC_DEPT_CD\r\n",
      " 30: RF_DOC_ID\r\n",
      " 31: ACTG_LN_DSCR\r\n",
      " 32: AMOUNT\r\n",
      " 33: CAL_YEAR\r\n",
      " 34: CAL_MONTH\r\n"
     ]
    }
   ],
   "source": [
    "!csvcut -n austin_data.csv"
   ]
  },
  {
   "cell_type": "markdown",
   "metadata": {
    "slideshow": {
     "slide_type": "slide"
    }
   },
   "source": [
    "### Column Description:\n",
    "    1. FY_DC: Fiscal Year, from Oct.1-Sep.30    \n",
    "    2. PER_CD: Fiscal Month, start from Oct to Sept. \n",
    "    3. DEPT_CD: Department code (A department is a primary organizational unit used by the city of Austin.)  \n",
    "    4. DEPT_NM: Department name    \n",
    "    5. FUND_CD: Fund code. Funds help organize the City's finances.  \n",
    "    6. FUND_NM: Fund name   \n",
    "    7. DIV_CD: Division code / Program Code (A program is the secondary organizational unit used by the City of Austin.)    \n",
    "    8. DIV_NM: Division name / Program Name    \n",
    "    9. GP_CD: Group Code/Activity Code, which is a sub-group under programs that further segregates the organization to track the City of Austin's functions and expenses.    \n",
    "    10. GP_NM: Group Name/Activity Name    \n",
    "    11. OCAT_CD: Object Category, which is a high level grouping of expenses.    \n",
    "    12. OCAT_NM: Object Category Name    \n",
    "    13. OBJ_CD: Object code, which is identification code associated with an object of expenditure.    \n",
    "    14. OBJ_NM: Object name    \n",
    "    15. LGL_NM: The legally defined name of the company or individual.    \n",
    "    16. VEND_CUST_CD: Vendor identification number with the City.   \n",
    "    17. VEND_CUST_IND: Vendor/Customer indicator.    \n",
    "    18. RFED_DOC_CD: Referenced document code, which is the actual payment document code.    \n",
    "    19. RFED_DOC_DEPT_CD: Referenced document department, that created the payment document, code.   \n",
    "    20. RFED_DOC_ID: Referenced document identification number.    \n",
    "    21. COMM_CD: Commodity code\n",
    "    22. COMM_DSCR: Commodity description\n",
    "    23. CHK_EFT_ISS_DT: Check issued date\n",
    "    24. CVL_CHK_STA_DV: Check status (either show Paid or Outstanding)\n",
    "    25. RFED_VEND_LN_NO: Referenced vendor line number\n",
    "    26. RFED_COMM_LN_NO: Referenced commodity line number\n",
    "    27. RFED_ACTG_LN_NO: Referenced accounting line number\n",
    "    28. RF_DOC_CD: Referenced document code\n",
    "    29. RF_DOC_DEPT_CD: Referenced document department code\n",
    "    30. RF_DOC_ID: Referenced document identification number\n",
    "    31. ACTG_LN_DSCR: Accounting Line Description\n",
    "    32. AMOUNT: Payment amount\n",
    "    33. CAL_YEAR: Calendar Year (from Jan.1 - Dec.31)\n",
    "    34. CAL_MONTH: Calendar Month"
   ]
  },
  {
   "cell_type": "markdown",
   "metadata": {
    "slideshow": {
     "slide_type": "slide"
    }
   },
   "source": [
    "### Questions we want to be able to answer with the data\n",
    "How is the government expenditure being distributed among each category? For example, among each organization, or object, or specific funds or etc.\n",
    "We want to visualize the government spending information to check if there is any seasonality in the spending?\n",
    "What kind of expenditure are most likely to result in outstanding check. For example which kind of object type, of program, of division, or etc."
   ]
  },
  {
   "cell_type": "markdown",
   "metadata": {
    "slideshow": {
     "slide_type": "skip"
    }
   },
   "source": [
    "### Challenges and Concerns:\n",
    "The data is thoroughly recorded, so in future we have to figure out how to set up the star schema, like which columns should formed as one dimension table and etc. \n",
    "\n",
    "Second, some columns has missing value issues, so we have to deal with it. \n",
    "\n",
    "Third, we found some columns may referenced to another table, which is not related to our analysis, so we have to decided how to handle these columns. \n",
    "\n",
    "Then, there are some description columns include similar information, such as the column Accounting line description and column Commodity description, so we will decide to choose which one. \n",
    "\n",
    "Furthermore, some categorical columns are include too many categories, for example the column Fund_Name so it will be difficult to show an interesting trend by grouping them. \n",
    "\n",
    "Finally, the original data includes more than 1000,000 records, which is relatively burdensome for us and for notebook and VMware. In order to do the analysis smoothly we will reduce the amount of the data. "
   ]
  },
  {
   "cell_type": "markdown",
   "metadata": {
    "slideshow": {
     "slide_type": "skip"
    }
   },
   "source": [
    "Now we are finding the number of rows in the data."
   ]
  },
  {
   "cell_type": "code",
   "execution_count": 8,
   "metadata": {
    "slideshow": {
     "slide_type": "skip"
    }
   },
   "outputs": [
    {
     "name": "stdout",
     "output_type": "stream",
     "text": [
      "1106654 austin_data.csv\n"
     ]
    }
   ],
   "source": [
    "!wc -l austin_data.csv"
   ]
  },
  {
   "cell_type": "markdown",
   "metadata": {
    "slideshow": {
     "slide_type": "slide"
    }
   },
   "source": [
    "### Filtering :    \n",
    "As we mentioned earlier, we have to take a subset of the data. The original data is recorded from 2009 to 2016, we want to analyze the most recent data so we  select only three years from 2014-2016. "
   ]
  },
  {
   "cell_type": "code",
   "execution_count": 1,
   "metadata": {
    "slideshow": {
     "slide_type": "subslide"
    }
   },
   "outputs": [],
   "source": [
    "!csvgrep -c1 -m '2014' austin_data.csv > austin.csv"
   ]
  },
  {
   "cell_type": "code",
   "execution_count": 2,
   "metadata": {
    "collapsed": true,
    "slideshow": {
     "slide_type": "subslide"
    }
   },
   "outputs": [],
   "source": [
    "!csvgrep -c1 -m '2015' austin_data.csv | sed 1d >> austin.csv"
   ]
  },
  {
   "cell_type": "code",
   "execution_count": 3,
   "metadata": {
    "collapsed": true,
    "slideshow": {
     "slide_type": "subslide"
    }
   },
   "outputs": [],
   "source": [
    "!csvgrep -c1 -m '2016' austin_data.csv | sed 1d >> austin.csv"
   ]
  },
  {
   "cell_type": "markdown",
   "metadata": {},
   "source": [
    "When appending other years to the three years csv file, we need to get rid of the first header line by using the sed command."
   ]
  },
  {
   "cell_type": "markdown",
   "metadata": {},
   "source": [
    "Now checking the number of rows in the new dataset."
   ]
  },
  {
   "cell_type": "code",
   "execution_count": 4,
   "metadata": {},
   "outputs": [
    {
     "name": "stdout",
     "output_type": "stream",
     "text": [
      "390288 austin.csv\r\n"
     ]
    }
   ],
   "source": [
    "!wc -l austin.csv"
   ]
  },
  {
   "cell_type": "markdown",
   "metadata": {},
   "source": [
    "We feel that 390k records of data is a good amount of data to work on for the project 3."
   ]
  },
  {
   "cell_type": "markdown",
   "metadata": {
    "slideshow": {
     "slide_type": "slide"
    }
   },
   "source": [
    "## Part2 - Wrangling"
   ]
  },
  {
   "cell_type": "markdown",
   "metadata": {
    "slideshow": {
     "slide_type": "skip"
    }
   },
   "source": [
    "We use csvstat to get an idea about our dataset."
   ]
  },
  {
   "cell_type": "code",
   "execution_count": 10,
   "metadata": {
    "collapsed": true,
    "slideshow": {
     "slide_type": "skip"
    }
   },
   "outputs": [
    {
     "name": "stdout",
     "output_type": "stream",
     "text": [
      "  1. FY_DC\n",
      "\t<class 'int'>\n",
      "\tNulls: False\n",
      "\tValues: 2016, 2014, 2015\n",
      "  2. PER_CD\n",
      "\t<class 'int'>\n",
      "\tNulls: False\n",
      "\tMin: 1\n",
      "\tMax: 12\n",
      "\tSum: 2525257\n",
      "\tMean: 6.47025650354739\n",
      "\tMedian: 6\n",
      "\tStandard Deviation: 3.4509658782260613\n",
      "\tUnique values: 12\n",
      "\t5 most frequent values:\n",
      "\t\t1:\t40565\n",
      "\t\t6:\t36605\n",
      "\t\t11:\t35201\n",
      "\t\t10:\t34643\n",
      "\t\t9:\t34298\n",
      "  3. DEPT_CD\n",
      "\t<class 'int'>\n",
      "\tNulls: False\n",
      "\tMin: 11\n",
      "\tMax: 94\n",
      "\tSum: 20172240\n",
      "\tMean: 51.6856569652589\n",
      "\tMedian: 62\n",
      "\tStandard Deviation: 30.133110925669527\n",
      "\tUnique values: 46\n",
      "\t5 most frequent values:\n",
      "\t\t11:\t67918\n",
      "\t\t22:\t56163\n",
      "\t\t86:\t28697\n",
      "\t\t62:\t22767\n",
      "\t\t78:\t21959\n",
      "  4. DEPT_NM\n",
      "\t<class 'str'>\n",
      "\tNulls: False\n",
      "\tUnique values: 46\n",
      "\t5 most frequent values:\n",
      "\t\tAustin Energy:\t67918\n",
      "\t\tAustin Water Utility:\t56163\n",
      "\t\tParks & Recreation:\t28697\n",
      "\t\tPublic Works - Transportation:\t22767\n",
      "\t\tFleet Services:\t21959\n",
      "\tMax length: 40\n",
      "  5. FUND_CD\n",
      "\t<class 'str'>\n",
      "\tNulls: False\n",
      "\tUnique values: 237\n",
      "\t5 most frequent values:\n",
      "\t\t1000:\t77888\n",
      "\t\t5010:\t32327\n",
      "\t\t5150:\t24602\n",
      "\t\t5540:\t20173\n",
      "\t\t5120:\t19116\n",
      "\tMax length: 4\n",
      "  6. FUND_NM\n",
      "\t<class 'str'>\n",
      "\tNulls: False\n",
      "\tUnique values: 239\n",
      "\t5 most frequent values:\n",
      "\t\tGeneral Fund:\t77888\n",
      "\t\tAustin Energy Fund:\t32327\n",
      "\t\tSupport Services Fund:\t24602\n",
      "\t\tElectric Inventory Fund:\t20173\n",
      "\t\tTransportation Fund:\t19116\n",
      "\tMax length: 60\n",
      "  7. DIV_CD\n",
      "\t<class 'str'>\n",
      "\tNulls: False\n",
      "\tUnique values: 680\n",
      "\t5 most frequent values:\n",
      "\t\t9MGT:\t60792\n",
      "\t\tZZZZ:\t46114\n",
      "\t\t7SVC:\t15858\n",
      "\t\t7CRS:\t15457\n",
      "\t\tTRMT:\t14047\n",
      "\tMax length: 4\n",
      "  8. DIV_NM\n",
      "\t<class 'str'>\n",
      "\tNulls: False\n",
      "\tUnique values: 728\n",
      "\t5 most frequent values:\n",
      "\t\tSupport Services:\t60792\n",
      "\t\tMiscellaneous:\t46114\n",
      "\t\tCommunity Services:\t16541\n",
      "\t\tService Centers:\t15858\n",
      "\t\tTreatment:\t14047\n",
      "\tMax length: 60\n",
      "  9. GP_CD\n",
      "\t<class 'str'>\n",
      "\tNulls: False\n",
      "\tUnique values: 1442\n",
      "\t5 most frequent values:\n",
      "\t\t9ADM:\t60427\n",
      "\t\tZZZZ:\t53647\n",
      "\t\t7PPM:\t15836\n",
      "\t\tDIST:\t11198\n",
      "\t\t7RCA:\t7109\n",
      "\tMax length: 4\n",
      " 10. GP_NM\n",
      "\t<class 'str'>\n",
      "\tNulls: False\n",
      "\tUnique values: 1514\n",
      "\t5 most frequent values:\n",
      "\t\tDepartmental Support Services:\t60427\n",
      "\t\tMiscellaneous:\t53647\n",
      "\t\tPreventive Maintenance:\t15836\n",
      "\t\tDistribution:\t11198\n",
      "\t\tRecreation and Program Services:\t7109\n",
      "\tMax length: 60\n",
      " 11. OCAT_CD\n",
      "\t<class 'int'>\n",
      "\tNulls: False\n",
      "\tValues: 0, 154, 155, 152, 158\n",
      " 12. OCAT_NM\n",
      "\t<class 'str'>\n",
      "\tNulls: False\n",
      "\tValues: Capital Equipment, Indirect Cost, Other, Commodities/Other, Contractual Services\n",
      " 13. OBJ_CD\n",
      "\t<class 'str'>\n",
      "\tNulls: False\n",
      "\tUnique values: 298\n",
      "\t5 most frequent values:\n",
      "\t\t7730:\t50964\n",
      "\t\t5860:\t34579\n",
      "\t\t6551:\t27207\n",
      "\t\t5560:\t21174\n",
      "\t\t7478:\t10450\n",
      "\tMax length: 4\n",
      " 14. OBJ_NM\n",
      "\t<class 'str'>\n",
      "\tNulls: False\n",
      "\tUnique values: 300\n",
      "\t5 most frequent values:\n",
      "\t\tInventory purchases:\t50964\n",
      "\t\tServices-other:\t34579\n",
      "\t\tMileage reimbursements:\t27207\n",
      "\t\tServices-construction contr:\t21174\n",
      "\t\tClothing/clothing material:\t10450\n",
      "\tMax length: 35\n",
      " 15. LGL_NM\n",
      "\t<class 'str'>\n",
      "\tNulls: False\n",
      "\tUnique values: 18314\n",
      "\t5 most frequent values:\n",
      "\t\tTECHLINE INC:\t9227\n",
      "\t\tUNIFIRST HOLDINGS, INC:\t7936\n",
      "\t\tXEROX CORPORATION:\t7913\n",
      "\t\tW W GRAINGER INC:\t7242\n",
      "\t\tPIKE ENTERPRISES INC:\t6609\n",
      "\tMax length: 60\n",
      " 16. VEND_CUST_CD\n",
      "\t<class 'str'>\n",
      "\tNulls: False\n",
      "\tUnique values: 6158\n",
      "\t5 most frequent values:\n",
      "\t\tMIS0000024:\t30311\n",
      "\t\tTEC4570250:\t9227\n",
      "\t\tUNI8303823:\t7936\n",
      "\t\tXER5246250:\t7913\n",
      "\t\tWWG2097000:\t7242\n",
      "\tMax length: 12\n",
      " 17. VEND_CUST_IND\n",
      "\t<class 'str'>\n",
      "\tNulls: False\n",
      "\tValues: V\n",
      " 18. RFED_DOC_CD\n",
      "\t<class 'str'>\n",
      "\tNulls: False\n",
      "\tValues: GAX, PRM, TPP, PRC, GAXI\n",
      " 19. RFED_DOC_DEPT_CD\n",
      "\t<class 'int'>\n",
      "\tNulls: False\n",
      "\tMin: 1100\n",
      "\tMax: 9300\n",
      "\tSum: 2048030800\n",
      "\tMean: 5247.499404284539\n",
      "\tMedian: 6100\n",
      "\tStandard Deviation: 2907.7803493738243\n",
      "\tUnique values: 40\n",
      "\t5 most frequent values:\n",
      "\t\t1100:\t65441\n",
      "\t\t2200:\t43981\n",
      "\t\t8600:\t23723\n",
      "\t\t7800:\t22843\n",
      "\t\t5600:\t18131\n",
      " 20. RFED_DOC_ID\n",
      "\t<class 'str'>\n",
      "\tNulls: False\n",
      "\tUnique values: 175059\n",
      "\t5 most frequent values:\n",
      "\t\t14021413494:\t345\n",
      "\t\t13122008601:\t299\n",
      "\t\t14011310623:\t276\n",
      "\t\t13111805449:\t216\n",
      "\t\t15033119661:\t154\n",
      "\tMax length: 11\n",
      " 21. COMM_CD\n",
      "\t<class 'str'>\n",
      "\tNulls: True\n",
      "\tUnique values: 6093\n",
      "\t5 most frequent values:\n",
      "\t\t98526:\t9379\n",
      "\t\t91577:\t7851\n",
      "\t\t91438:\t6342\n",
      "\t\t9613026:\t5502\n",
      "\t\t20085:\t5182\n",
      "\tMax length: 11\n",
      " 22. COMM_DSCR\n",
      "\t<class 'str'>\n",
      "\tNulls: True\n",
      "\tUnique values: 5942\n",
      "\t5 most frequent values:\n",
      "\t\tCopy Machine (Including Cost-Per-Copy Type Leases):\t9379\n",
      "\t\tTelephone Services, Long Distance and Local (Inclu:\t7851\n",
      "\t\tElectrical:\t6342\n",
      "\t\tTEMPORARY SERVICES FOR THE EMPLOYMENT OF COMPUTER PROGRAMMER:\t5502\n",
      "\t\tUniforms, Blended Fabric:\t5182\n",
      "\tMax length: 60\n",
      " 23. CHK_EFT_ISS_DT\n",
      "\t<class 'datetime.date'>\n",
      "\tNulls: False\n",
      "\tMin: 2013-10-03\n",
      "\tMax: 2016-09-11\n",
      "\tUnique values: 735\n",
      "\t5 most frequent values:\n",
      "\t\t2014-10-16:\t1355\n",
      "\t\t2015-10-04:\t1353\n",
      "\t\t2014-02-20:\t1327\n",
      "\t\t2014-01-16:\t1282\n",
      "\t\t2014-07-18:\t1264\n",
      " 24. CVL_CHK_STA_DV\n",
      "\t<class 'str'>\n",
      "\tNulls: False\n",
      "\tValues: Paid, Outstanding\n",
      " 25. RFED_VEND_LN_NO\n",
      "\t<class 'int'>\n",
      "\tNulls: False\n",
      "\tMin: 1\n",
      "\tMax: 12\n",
      "\tSum: 395981\n",
      "\tMean: 1.0145892637981793\n",
      "\tMedian: 1\n",
      "\tStandard Deviation: 0.3003631825317965\n",
      "\tUnique values: 12\n",
      "\t5 most frequent values:\n",
      "\t\t1:\t389084\n",
      "\t\t2:\t176\n",
      "\t\t3:\t142\n",
      "\t\t4:\t136\n",
      "\t\t5:\t132\n",
      " 26. RFED_COMM_LN_NO\n",
      "\t<class 'int'>\n",
      "\tNulls: False\n",
      "\tMin: 0\n",
      "\tMax: 121\n",
      "\tSum: 1026569\n",
      "\tMean: 2.6302925795632444\n",
      "\tMedian: 1\n",
      "\tStandard Deviation: 4.838039038132338\n",
      "\tUnique values: 122\n",
      "\t5 most frequent values:\n",
      "\t\t1:\t156885\n",
      "\t\t0:\t87185\n",
      "\t\t2:\t46228\n",
      "\t\t3:\t24205\n",
      "\t\t4:\t16502\n",
      " 27. RFED_ACTG_LN_NO\n",
      "\t<class 'int'>\n",
      "\tNulls: False\n",
      "\tMin: 1\n",
      "\tMax: 84\n",
      "\tSum: 943882\n",
      "\tMean: 2.4184305395772854\n",
      "\tMedian: 1\n",
      "\tStandard Deviation: 5.183701537797155\n",
      "\tUnique values: 84\n",
      "\t5 most frequent values:\n",
      "\t\t1:\t301088\n",
      "\t\t2:\t26005\n",
      "\t\t3:\t14345\n",
      "\t\t4:\t9280\n",
      "\t\t5:\t7205\n",
      " 28. RF_DOC_CD\n",
      "\t<class 'str'>\n",
      "\tNulls: True\n",
      "\tValues: DOM, PO, CT, DO, CTM\n",
      " 29. RF_DOC_DEPT_CD\n",
      "\t<class 'int'>\n",
      "\tNulls: True\n",
      "\tMin: 1100\n",
      "\tMax: 9300\n",
      "\tSum: 1548072200\n",
      "\tMean: 5120.539417714653\n",
      "\tMedian: 6100.0\n",
      "\tStandard Deviation: 2951.4943394896604\n",
      "\tUnique values: 40\n",
      "\t5 most frequent values:\n",
      "\t\t1100:\t57050\n",
      "\t\t2200:\t35401\n",
      "\t\t7800:\t22137\n",
      "\t\t8600:\t18893\n",
      "\t\t6100:\t17834\n",
      " 30. RF_DOC_ID\n",
      "\t<class 'str'>\n",
      "\tNulls: True\n",
      "\tUnique values: 83960\n",
      "\t5 most frequent values:\n",
      "\t\t15100100005:\t1355\n",
      "\t\t13100100047:\t1328\n",
      "\t\t13111303215:\t1007\n",
      "\t\t13120604511:\t966\n",
      "\t\t14123005770:\t948\n",
      "\tMax length: 20\n",
      " 31. ACTG_LN_DSCR\n",
      "\t<class 'str'>\n",
      "\tNulls: False\n",
      "\tUnique values: 6150\n",
      "\t5 most frequent values:\n",
      "\t\tMileage reimbursements:\t27201\n",
      "\t\tCopy Machine (Including Cost-Per-Copy Type Leases):\t9379\n",
      "\t\tTelephone Services, Long Distance and Local (Inclu:\t7851\n",
      "\t\tElectrical:\t6342\n",
      "\t\tTEMPORARY SERVICES FOR THE EMPLOYMENT OF COMPUTER PROGRAMMER:\t5502\n",
      "\tMax length: 60\n",
      " 32. AMOUNT\n",
      "\t<class 'float'>\n",
      "\tNulls: False\n",
      "\tMin: -55764.22\n",
      "\tMax: 22885000.0\n",
      "\tSum: 4673104131.770001\n",
      "\tMean: 11973.507013479828\n",
      "\tMedian: 340.67\n",
      "\tStandard Deviation: 168889.94198753554\n",
      "\tUnique values: 122620\n",
      "\t5 most frequent values:\n",
      "\t\t75.0:\t2059\n",
      "\t\t150.0:\t1789\n",
      "\t\t10.86:\t1717\n",
      "\t\t30.0:\t1688\n",
      "\t\t100.0:\t1593\n",
      " 33. CAL_YEAR\n",
      "\t<class 'int'>\n",
      "\tNulls: False\n",
      "\tValues: 2016, 2013, 2014, 2015\n",
      " 34. CAL_MONTH\n",
      "\t<class 'int'>\n",
      "\tNulls: False\n",
      "\tMin: 1\n",
      "\tMax: 12\n",
      "\tSum: 2515696\n",
      "\tMean: 6.445759146474261\n",
      "\tMedian: 6\n",
      "\tStandard Deviation: 3.396769234427204\n",
      "\tUnique values: 12\n",
      "\t5 most frequent values:\n",
      "\t\t10:\t40565\n",
      "\t\t3:\t36605\n",
      "\t\t8:\t35201\n",
      "\t\t7:\t34643\n",
      "\t\t6:\t34298\n",
      "\n",
      "Row count: 390287\n"
     ]
    }
   ],
   "source": [
    "!csvstat austin.csv"
   ]
  },
  {
   "cell_type": "markdown",
   "metadata": {
    "slideshow": {
     "slide_type": "skip"
    }
   },
   "source": [
    "### Challenges and Concerns:\n",
    "The data is thoroughly recorded, so in future we have to figure out how to set up the star schema, like which columns should formed as one dimension table and etc. \n",
    "\n",
    "Second, some columns has missing value issues, so we have to deal with it. \n",
    "\n",
    "Third, we found some columns may referenced to another table, which is not related to our analysis, so we have to decided how to handle these columns. \n",
    "\n",
    "Then, there are some description colunms include similar information, such as the column Accounting line description and column Commodity description, so we will decide to choose which one. \n",
    "\n",
    "Furthermore, some categorical columns are include too many categories, for example the column Fund_Name so it will be difficult to show an insteresting trend by grouping them. \n",
    "\n",
    "Fianlly, the original data includes more than 1000,000 records, which is relatively burdensome for us and for notebook and VM-vare. In order to do the analysis smoothly we will reduce the amount of the data. "
   ]
  },
  {
   "cell_type": "markdown",
   "metadata": {
    "slideshow": {
     "slide_type": "slide"
    }
   },
   "source": [
    "### Cleaning: \n",
    "#### missing value in column: \n",
    "    1. COMM_CD : 85604 missing \n",
    "    2. COMM_DSCR : 85604 missing \n",
    "    3. RF_DOC_CD : 86356 missing \n",
    "    4. RF_DOC_DEPT_CD : 86356 missing \n",
    "    5. RF_DOC_ID : 86356 missing \n",
    "#### deleting the columns:\n",
    "    1. Column 'VEND_CUST_IND', which is the Vendor or Costomer indicator. In our database, all records are recorded as V,which stands for Vendor, so will not provide some useful information by analyzing this column.The column number for 'VEND_CUST_IND' is 17."
   ]
  },
  {
   "cell_type": "code",
   "execution_count": 12,
   "metadata": {
    "slideshow": {
     "slide_type": "skip"
    }
   },
   "outputs": [],
   "source": [
    "!csvcut -c 1,2,3,4,5,6,7,8,9,10,11,12,13,14,15,16,18,19,20,21,22,23,24,25,26,27,28,29,30,31,32,33,34 austin.csv >austin_clean.csv "
   ]
  },
  {
   "cell_type": "markdown",
   "metadata": {
    "slideshow": {
     "slide_type": "skip"
    }
   },
   "source": [
    "Actually we tried using 'cut' to cut the column we do not need, but turns out it will mess up our data. So we use 'csvcut' choosing the column we need and just left the one that we want to delete."
   ]
  },
  {
   "cell_type": "markdown",
   "metadata": {
    "slideshow": {
     "slide_type": "skip"
    }
   },
   "source": [
    "Now we will connect to the POSTGRESql server"
   ]
  },
  {
   "cell_type": "code",
   "execution_count": 2,
   "metadata": {
    "slideshow": {
     "slide_type": "skip"
    }
   },
   "outputs": [
    {
     "name": "stderr",
     "output_type": "stream",
     "text": [
      "//anaconda/lib/python3.5/site-packages/IPython/config.py:13: ShimWarning: The `IPython.config` package has been deprecated. You should import from traitlets.config instead.\n",
      "  \"You should import from traitlets.config instead.\", ShimWarning)\n",
      "//anaconda/lib/python3.5/site-packages/IPython/utils/traitlets.py:5: UserWarning: IPython.utils.traitlets has moved to a top-level traitlets package.\n",
      "  warn(\"IPython.utils.traitlets has moved to a top-level traitlets package.\")\n"
     ]
    }
   ],
   "source": [
    "%load_ext sql"
   ]
  },
  {
   "cell_type": "markdown",
   "metadata": {
    "slideshow": {
     "slide_type": "skip"
    }
   },
   "source": [
    "If you are using a VM please proceed with the following code to connect to POSTGREsql server\n"
   ]
  },
  {
   "cell_type": "code",
   "execution_count": 2,
   "metadata": {
    "slideshow": {
     "slide_type": "skip"
    }
   },
   "outputs": [],
   "source": [
    "!createdb -U dbuser project3"
   ]
  },
  {
   "cell_type": "code",
   "execution_count": null,
   "metadata": {
    "slideshow": {
     "slide_type": "skip"
    }
   },
   "outputs": [],
   "source": [
    "%sql postgresql://dbuser@localhost:5432/project3"
   ]
  },
  {
   "cell_type": "markdown",
   "metadata": {
    "slideshow": {
     "slide_type": "skip"
    }
   },
   "source": [
    "If you are using DATANOTEBOOK.ORG please proceed with the following code to connect to POSTGREsql server"
   ]
  },
  {
   "cell_type": "code",
   "execution_count": null,
   "metadata": {
    "collapsed": true,
    "slideshow": {
     "slide_type": "skip"
    }
   },
   "outputs": [],
   "source": [
    "!echo 'redspot' | sudo -S service postgresql restart"
   ]
  },
  {
   "cell_type": "code",
   "execution_count": null,
   "metadata": {
    "collapsed": true,
    "slideshow": {
     "slide_type": "skip"
    }
   },
   "outputs": [],
   "source": [
    "!createdb -U dbuser project3"
   ]
  },
  {
   "cell_type": "code",
   "execution_count": null,
   "metadata": {
    "collapsed": true,
    "slideshow": {
     "slide_type": "skip"
    }
   },
   "outputs": [],
   "source": [
    "%sql postgresql://dbuser@localhost:5432/project3"
   ]
  },
  {
   "cell_type": "markdown",
   "metadata": {
    "slideshow": {
     "slide_type": "skip"
    }
   },
   "source": [
    "Now we create an empty table named austin and load the data from the file austin_clean.csv to the austin table."
   ]
  },
  {
   "cell_type": "code",
   "execution_count": 45,
   "metadata": {
    "slideshow": {
     "slide_type": "skip"
    }
   },
   "outputs": [
    {
     "name": "stdout",
     "output_type": "stream",
     "text": [
      "Done.\n",
      "Done.\n"
     ]
    },
    {
     "data": {
      "text/plain": [
       "[]"
      ]
     },
     "execution_count": 45,
     "metadata": {},
     "output_type": "execute_result"
    }
   ],
   "source": [
    "%%sql\n",
    "DROP TABLE IF EXISTS austin;\n",
    "CREATE TABLE AUSTIN(\n",
    "    fy_dc INTEGER,\n",
    "    per_cd INTEGER,\n",
    "    dept_cd INTEGER,\n",
    "    dept_nm VARCHAR(50),\n",
    "    fund_cd VARCHAR(15),\n",
    "    fund_nm VARCHAR(60),\n",
    "    div_cd VARCHAR(10),\n",
    "    div_nm VARCHAR(60),\n",
    "    gp_cd CHAR (10),\n",
    "    gp_nm VARCHAR(60),\n",
    "    ocat_cd INTEGER,\n",
    "    ocat_nm VARCHAR(70),\n",
    "    obj_cd VARCHAR(15),\n",
    "    obj_nm VARCHAR(50),\n",
    "    lgl_nm VARCHAR(65),\n",
    "    vend_cust_cd VARCHAR(20),\n",
    "    rfed_doc_cd VARCHAR(15),\n",
    "    rfed_doc_dept_cd INTEGER,   \n",
    "    rfed_doc_id VARCHAR(25),\n",
    "    comm_cd VARCHAR(15),\n",
    "    comm_descr VARCHAR(65),\n",
    "    chk_eft_iss_dt DATE,\n",
    "    cvl_chk_sta_dv VARCHAR(15),\n",
    "    rfed_vend_ln_no INTEGER,\n",
    "    rfed_comm_ln_no INTEGER,\n",
    "    rfed_actg_ln_no INTEGER,\n",
    "    rf_doc_cd VARCHAR(20),\n",
    "    rf_doc_dept_cd INTEGER,\n",
    "    rf_doc_id VARCHAR(25),\n",
    "    actg_ln_dscr VARCHAR(60),\n",
    "    amount MONEY,\n",
    "    cal_year INTEGER,\n",
    "    cal_month INTEGER\n",
    ");"
   ]
  },
  {
   "cell_type": "code",
   "execution_count": 46,
   "metadata": {
    "slideshow": {
     "slide_type": "skip"
    }
   },
   "outputs": [
    {
     "name": "stdout",
     "output_type": "stream",
     "text": [
      "/Users/zhaorc/Desktop\r\n"
     ]
    }
   ],
   "source": [
    "!pwd"
   ]
  },
  {
   "cell_type": "code",
   "execution_count": 47,
   "metadata": {
    "slideshow": {
     "slide_type": "skip"
    }
   },
   "outputs": [
    {
     "name": "stdout",
     "output_type": "stream",
     "text": [
      "390287 rows affected.\n"
     ]
    },
    {
     "data": {
      "text/plain": [
       "[]"
      ]
     },
     "execution_count": 47,
     "metadata": {},
     "output_type": "execute_result"
    }
   ],
   "source": [
    "%%sql\n",
    "\n",
    "COPY austin FROM '/Users/zhaorc/Desktop/austin_clean.csv'\n",
    "CSV\n",
    "HEADER\n",
    "QUOTE '\"'\n",
    "DELIMITER ',';"
   ]
  },
  {
   "cell_type": "code",
   "execution_count": 48,
   "metadata": {
    "scrolled": true,
    "slideshow": {
     "slide_type": "skip"
    }
   },
   "outputs": [
    {
     "name": "stdout",
     "output_type": "stream",
     "text": [
      "10 rows affected.\n"
     ]
    },
    {
     "data": {
      "text/html": [
       "<table>\n",
       "    <tr>\n",
       "        <th>fy_dc</th>\n",
       "        <th>per_cd</th>\n",
       "        <th>dept_cd</th>\n",
       "        <th>dept_nm</th>\n",
       "        <th>fund_cd</th>\n",
       "        <th>fund_nm</th>\n",
       "        <th>div_cd</th>\n",
       "        <th>div_nm</th>\n",
       "        <th>gp_cd</th>\n",
       "        <th>gp_nm</th>\n",
       "        <th>ocat_cd</th>\n",
       "        <th>ocat_nm</th>\n",
       "        <th>obj_cd</th>\n",
       "        <th>obj_nm</th>\n",
       "        <th>lgl_nm</th>\n",
       "        <th>vend_cust_cd</th>\n",
       "        <th>rfed_doc_cd</th>\n",
       "        <th>rfed_doc_dept_cd</th>\n",
       "        <th>rfed_doc_id</th>\n",
       "        <th>comm_cd</th>\n",
       "        <th>comm_descr</th>\n",
       "        <th>chk_eft_iss_dt</th>\n",
       "        <th>cvl_chk_sta_dv</th>\n",
       "        <th>rfed_vend_ln_no</th>\n",
       "        <th>rfed_comm_ln_no</th>\n",
       "        <th>rfed_actg_ln_no</th>\n",
       "        <th>rf_doc_cd</th>\n",
       "        <th>rf_doc_dept_cd</th>\n",
       "        <th>rf_doc_id</th>\n",
       "        <th>actg_ln_dscr</th>\n",
       "        <th>amount</th>\n",
       "        <th>cal_year</th>\n",
       "        <th>cal_month</th>\n",
       "    </tr>\n",
       "    <tr>\n",
       "        <td>2014</td>\n",
       "        <td>11</td>\n",
       "        <td>93</td>\n",
       "        <td>Emergency Medical Services</td>\n",
       "        <td>1000</td>\n",
       "        <td>General Fund</td>\n",
       "        <td>5BSV</td>\n",
       "        <td>Billing Services</td>\n",
       "        <td>5BLS      </td>\n",
       "        <td>Billing Services</td>\n",
       "        <td>152</td>\n",
       "        <td>Contractual Services</td>\n",
       "        <td>5860</td>\n",
       "        <td>Services-other</td>\n",
       "        <td>GMSL CONSULTING LLC</td>\n",
       "        <td>VC0000102791</td>\n",
       "        <td>PRM</td>\n",
       "        <td>9300</td>\n",
       "        <td>14082134394</td>\n",
       "        <td>96671</td>\n",
       "        <td>Paper Cutting, Drilling, Folding, Punching, Shredd</td>\n",
       "        <td>0014-08-24</td>\n",
       "        <td>Paid</td>\n",
       "        <td>1</td>\n",
       "        <td>2</td>\n",
       "        <td>1</td>\n",
       "        <td>DO</td>\n",
       "        <td>9300</td>\n",
       "        <td>14081818973</td>\n",
       "        <td>Paper Cutting, Drilling, Folding, Punching, Shredd</td>\n",
       "        <td>$306.00</td>\n",
       "        <td>2014</td>\n",
       "        <td>8</td>\n",
       "    </tr>\n",
       "    <tr>\n",
       "        <td>2014</td>\n",
       "        <td>8</td>\n",
       "        <td>22</td>\n",
       "        <td>Austin Water Utility</td>\n",
       "        <td>5220</td>\n",
       "        <td>Water Inventory Fund</td>\n",
       "        <td>ZZZZ</td>\n",
       "        <td>Miscellaneous</td>\n",
       "        <td>ZZZZ      </td>\n",
       "        <td>Miscellaneous</td>\n",
       "        <td>154</td>\n",
       "        <td>Commodities/Other</td>\n",
       "        <td>7730</td>\n",
       "        <td>Inventory purchases</td>\n",
       "        <td>W W GRAINGER INC</td>\n",
       "        <td>WWG2097000</td>\n",
       "        <td>PRM</td>\n",
       "        <td>2200</td>\n",
       "        <td>14051923636</td>\n",
       "        <td>20027100001</td>\n",
       "        <td>GLOVES WORK RBR NEOPRENE COATED 14&quot;LONG GAUNTLET</td>\n",
       "        <td>0014-05-22</td>\n",
       "        <td>Paid</td>\n",
       "        <td>1</td>\n",
       "        <td>22</td>\n",
       "        <td>1</td>\n",
       "        <td>DO</td>\n",
       "        <td>2200</td>\n",
       "        <td>14042312106</td>\n",
       "        <td>GLOVES WORK RBR NEOPRENE COATED 14&quot;LONG GAUNTLET</td>\n",
       "        <td>$93.60</td>\n",
       "        <td>2014</td>\n",
       "        <td>5</td>\n",
       "    </tr>\n",
       "    <tr>\n",
       "        <td>2014</td>\n",
       "        <td>8</td>\n",
       "        <td>63</td>\n",
       "        <td>Watershed</td>\n",
       "        <td>5100</td>\n",
       "        <td>Drainage Utility Fund</td>\n",
       "        <td>63FC</td>\n",
       "        <td>Flood Hazard Mitigation</td>\n",
       "        <td>52WM      </td>\n",
       "        <td>Watershed Management</td>\n",
       "        <td>152</td>\n",
       "        <td>Contractual Services</td>\n",
       "        <td>6406</td>\n",
       "        <td>Telephone equipment</td>\n",
       "        <td>USA MOBILITY WIRELESS INC</td>\n",
       "        <td>VC0000100379</td>\n",
       "        <td>PRM</td>\n",
       "        <td>6300</td>\n",
       "        <td>14052023824</td>\n",
       "        <td>91505</td>\n",
       "        <td>Answering/Paging Services</td>\n",
       "        <td>0014-05-23</td>\n",
       "        <td>Paid</td>\n",
       "        <td>1</td>\n",
       "        <td>1</td>\n",
       "        <td>14</td>\n",
       "        <td>DO</td>\n",
       "        <td>6300</td>\n",
       "        <td>14051213114</td>\n",
       "        <td>Answering/Paging Services</td>\n",
       "        <td>$14.32</td>\n",
       "        <td>2014</td>\n",
       "        <td>5</td>\n",
       "    </tr>\n",
       "    <tr>\n",
       "        <td>2014</td>\n",
       "        <td>11</td>\n",
       "        <td>63</td>\n",
       "        <td>Watershed</td>\n",
       "        <td>5100</td>\n",
       "        <td>Drainage Utility Fund</td>\n",
       "        <td>63WM</td>\n",
       "        <td>Infrastructure &amp; Waterway Maintenance</td>\n",
       "        <td>42SM      </td>\n",
       "        <td>Storm Water Management</td>\n",
       "        <td>152</td>\n",
       "        <td>Contractual Services</td>\n",
       "        <td>6175</td>\n",
       "        <td>Garbage/refuse collection</td>\n",
       "        <td>973 MATERIALS LLC</td>\n",
       "        <td>VC0000102565</td>\n",
       "        <td>PRM</td>\n",
       "        <td>6300</td>\n",
       "        <td>14080732787</td>\n",
       "        <td>96871</td>\n",
       "        <td>Solid or Liquid Waste Disposal (Including Manageme</td>\n",
       "        <td>0014-08-10</td>\n",
       "        <td>Paid</td>\n",
       "        <td>1</td>\n",
       "        <td>1</td>\n",
       "        <td>1</td>\n",
       "        <td>DO</td>\n",
       "        <td>6300</td>\n",
       "        <td>14080518158</td>\n",
       "        <td>Solid or Liquid Waste Disposal (Including Manageme</td>\n",
       "        <td>$42.00</td>\n",
       "        <td>2014</td>\n",
       "        <td>8</td>\n",
       "    </tr>\n",
       "    <tr>\n",
       "        <td>2014</td>\n",
       "        <td>11</td>\n",
       "        <td>22</td>\n",
       "        <td>Austin Water Utility</td>\n",
       "        <td>5220</td>\n",
       "        <td>Water Inventory Fund</td>\n",
       "        <td>ZZZZ</td>\n",
       "        <td>Miscellaneous</td>\n",
       "        <td>ZZZZ      </td>\n",
       "        <td>Miscellaneous</td>\n",
       "        <td>154</td>\n",
       "        <td>Commodities/Other</td>\n",
       "        <td>7730</td>\n",
       "        <td>Inventory purchases</td>\n",
       "        <td>W W GRAINGER INC</td>\n",
       "        <td>WWG2097000</td>\n",
       "        <td>PRM</td>\n",
       "        <td>2200</td>\n",
       "        <td>14081933852</td>\n",
       "        <td>44591104050</td>\n",
       "        <td>WRENCH PIPE OFFSET 90DEG 14 INCH</td>\n",
       "        <td>0014-08-22</td>\n",
       "        <td>Paid</td>\n",
       "        <td>1</td>\n",
       "        <td>30</td>\n",
       "        <td>1</td>\n",
       "        <td>PO</td>\n",
       "        <td>2200</td>\n",
       "        <td>14073104820</td>\n",
       "        <td>WRENCH PIPE OFFSET 90DEG 14 INCH</td>\n",
       "        <td>$169.89</td>\n",
       "        <td>2014</td>\n",
       "        <td>8</td>\n",
       "    </tr>\n",
       "    <tr>\n",
       "        <td>2014</td>\n",
       "        <td>8</td>\n",
       "        <td>63</td>\n",
       "        <td>Watershed</td>\n",
       "        <td>4850</td>\n",
       "        <td>Drainage Cip</td>\n",
       "        <td>6400</td>\n",
       "        <td>Flood Control Improvements</td>\n",
       "        <td>6443      </td>\n",
       "        <td>Northwest Park ID 1454</td>\n",
       "        <td>152</td>\n",
       "        <td>Contractual Services</td>\n",
       "        <td>5590</td>\n",
       "        <td>Services-engineering</td>\n",
       "        <td>FREESE &amp; NICHOLS INC</td>\n",
       "        <td>FRE1930500</td>\n",
       "        <td>PRM</td>\n",
       "        <td>6100</td>\n",
       "        <td>14050522003</td>\n",
       "        <td>92523</td>\n",
       "        <td>Dam Engineering</td>\n",
       "        <td>0014-05-08</td>\n",
       "        <td>Paid</td>\n",
       "        <td>1</td>\n",
       "        <td>2</td>\n",
       "        <td>1</td>\n",
       "        <td>DO</td>\n",
       "        <td>6100</td>\n",
       "        <td>13061916054</td>\n",
       "        <td>Dam Engineering</td>\n",
       "        <td>$5,936.00</td>\n",
       "        <td>2014</td>\n",
       "        <td>5</td>\n",
       "    </tr>\n",
       "    <tr>\n",
       "        <td>2014</td>\n",
       "        <td>10</td>\n",
       "        <td>74</td>\n",
       "        <td>Financial Services</td>\n",
       "        <td>5150</td>\n",
       "        <td>Support Services Fund</td>\n",
       "        <td>9MGT</td>\n",
       "        <td>Support Services</td>\n",
       "        <td>9ADM      </td>\n",
       "        <td>Departmental Support Services</td>\n",
       "        <td>154</td>\n",
       "        <td>Commodities/Other</td>\n",
       "        <td>7100</td>\n",
       "        <td>Purch.card costs to reclassify</td>\n",
       "        <td>TW TELECOM</td>\n",
       "        <td>VC0000100864</td>\n",
       "        <td>PRM</td>\n",
       "        <td>8100</td>\n",
       "        <td>14063028050</td>\n",
       "        <td>91577</td>\n",
       "        <td>Telephone Services, Long Distance and Local (Inclu</td>\n",
       "        <td>0014-07-05</td>\n",
       "        <td>Paid</td>\n",
       "        <td>1</td>\n",
       "        <td>1</td>\n",
       "        <td>1</td>\n",
       "        <td>DO</td>\n",
       "        <td>8100</td>\n",
       "        <td>13102101727</td>\n",
       "        <td>Telephone Services, Long Distance and Local (Inclu</td>\n",
       "        <td>$10,191.66</td>\n",
       "        <td>2014</td>\n",
       "        <td>7</td>\n",
       "    </tr>\n",
       "    <tr>\n",
       "        <td>2014</td>\n",
       "        <td>12</td>\n",
       "        <td>72</td>\n",
       "        <td>Neighborhood Housing</td>\n",
       "        <td>6144</td>\n",
       "        <td>US Housing/Urban Development-CDBG</td>\n",
       "        <td>1HSG</td>\n",
       "        <td>Housing</td>\n",
       "        <td>2HOA      </td>\n",
       "        <td>Homeowner Assistance</td>\n",
       "        <td>152</td>\n",
       "        <td>Contractual Services</td>\n",
       "        <td>5558</td>\n",
       "        <td>Services-closing/title insur</td>\n",
       "        <td>ITCOA LLC</td>\n",
       "        <td>IND8317166</td>\n",
       "        <td>GAX</td>\n",
       "        <td>7200</td>\n",
       "        <td>14092421586</td>\n",
       "        <td>None</td>\n",
       "        <td>None</td>\n",
       "        <td>0014-09-28</td>\n",
       "        <td>Paid</td>\n",
       "        <td>1</td>\n",
       "        <td>0</td>\n",
       "        <td>1</td>\n",
       "        <td>None</td>\n",
       "        <td>None</td>\n",
       "        <td>None</td>\n",
       "        <td>Services-closing/title insur</td>\n",
       "        <td>$1,357.10</td>\n",
       "        <td>2014</td>\n",
       "        <td>9</td>\n",
       "    </tr>\n",
       "    <tr>\n",
       "        <td>2014</td>\n",
       "        <td>11</td>\n",
       "        <td>15</td>\n",
       "        <td>Solid Waste Services</td>\n",
       "        <td>5040</td>\n",
       "        <td>Austin Resource Recovery Fund</td>\n",
       "        <td>5DVS</td>\n",
       "        <td>Waste Diversion</td>\n",
       "        <td>5ZRW      </td>\n",
       "        <td>Zero Waste</td>\n",
       "        <td>152</td>\n",
       "        <td>Contractual Services</td>\n",
       "        <td>5860</td>\n",
       "        <td>Services-other</td>\n",
       "        <td>EMPLOYEE OWNED NURSERY ENTERPRISES LTD</td>\n",
       "        <td>EMP8321200</td>\n",
       "        <td>PRM</td>\n",
       "        <td>1500</td>\n",
       "        <td>14082534500</td>\n",
       "        <td>92442</td>\n",
       "        <td>INSTRUCTORS, CLASSES FOR THE PUBLIC</td>\n",
       "        <td>0014-08-28</td>\n",
       "        <td>Paid</td>\n",
       "        <td>1</td>\n",
       "        <td>1</td>\n",
       "        <td>1</td>\n",
       "        <td>DO</td>\n",
       "        <td>1500</td>\n",
       "        <td>14030709292</td>\n",
       "        <td>INSTRUCTORS, CLASSES FOR THE PUBLIC</td>\n",
       "        <td>$75.00</td>\n",
       "        <td>2014</td>\n",
       "        <td>8</td>\n",
       "    </tr>\n",
       "    <tr>\n",
       "        <td>2014</td>\n",
       "        <td>11</td>\n",
       "        <td>16</td>\n",
       "        <td>Code Compliance</td>\n",
       "        <td>7050</td>\n",
       "        <td>Austin Code Fund</td>\n",
       "        <td>2CLR</td>\n",
       "        <td>Licensing and Registration Compliance</td>\n",
       "        <td>2LRC      </td>\n",
       "        <td>Licensing &amp; Registration Compliance</td>\n",
       "        <td>152</td>\n",
       "        <td>Contractual Services</td>\n",
       "        <td>6407</td>\n",
       "        <td>Telephone-cellular phones</td>\n",
       "        <td>USA MOBILITY WIRELESS INC</td>\n",
       "        <td>VC0000100379</td>\n",
       "        <td>PRM</td>\n",
       "        <td>1600</td>\n",
       "        <td>14073131986</td>\n",
       "        <td>91505</td>\n",
       "        <td>Answering/Paging Services</td>\n",
       "        <td>0014-08-03</td>\n",
       "        <td>Paid</td>\n",
       "        <td>1</td>\n",
       "        <td>3</td>\n",
       "        <td>1</td>\n",
       "        <td>DO</td>\n",
       "        <td>1600</td>\n",
       "        <td>14072917755</td>\n",
       "        <td>Answering/Paging Services</td>\n",
       "        <td>$39.42</td>\n",
       "        <td>2014</td>\n",
       "        <td>8</td>\n",
       "    </tr>\n",
       "</table>"
      ],
      "text/plain": [
       "[(2014, 11, 93, 'Emergency Medical Services', '1000', 'General Fund', '5BSV', 'Billing Services', '5BLS      ', 'Billing Services', 152, 'Contractual Services', '5860', 'Services-other', 'GMSL CONSULTING LLC', 'VC0000102791', 'PRM', 9300, '14082134394', '96671', 'Paper Cutting, Drilling, Folding, Punching, Shredd', datetime.date(14, 8, 24), 'Paid', 1, 2, 1, 'DO', 9300, '14081818973', 'Paper Cutting, Drilling, Folding, Punching, Shredd', '$306.00', 2014, 8),\n",
       " (2014, 8, 22, 'Austin Water Utility', '5220', 'Water Inventory Fund', 'ZZZZ', 'Miscellaneous', 'ZZZZ      ', 'Miscellaneous', 154, 'Commodities/Other', '7730', 'Inventory purchases', 'W W GRAINGER INC', 'WWG2097000', 'PRM', 2200, '14051923636', '20027100001', 'GLOVES WORK RBR NEOPRENE COATED 14\"LONG GAUNTLET', datetime.date(14, 5, 22), 'Paid', 1, 22, 1, 'DO', 2200, '14042312106', 'GLOVES WORK RBR NEOPRENE COATED 14\"LONG GAUNTLET', '$93.60', 2014, 5),\n",
       " (2014, 8, 63, 'Watershed', '5100', 'Drainage Utility Fund', '63FC', 'Flood Hazard Mitigation', '52WM      ', 'Watershed Management', 152, 'Contractual Services', '6406', 'Telephone equipment', 'USA MOBILITY WIRELESS INC', 'VC0000100379', 'PRM', 6300, '14052023824', '91505', 'Answering/Paging Services', datetime.date(14, 5, 23), 'Paid', 1, 1, 14, 'DO', 6300, '14051213114', 'Answering/Paging Services', '$14.32', 2014, 5),\n",
       " (2014, 11, 63, 'Watershed', '5100', 'Drainage Utility Fund', '63WM', 'Infrastructure & Waterway Maintenance', '42SM      ', 'Storm Water Management', 152, 'Contractual Services', '6175', 'Garbage/refuse collection', '973 MATERIALS LLC', 'VC0000102565', 'PRM', 6300, '14080732787', '96871', 'Solid or Liquid Waste Disposal (Including Manageme', datetime.date(14, 8, 10), 'Paid', 1, 1, 1, 'DO', 6300, '14080518158', 'Solid or Liquid Waste Disposal (Including Manageme', '$42.00', 2014, 8),\n",
       " (2014, 11, 22, 'Austin Water Utility', '5220', 'Water Inventory Fund', 'ZZZZ', 'Miscellaneous', 'ZZZZ      ', 'Miscellaneous', 154, 'Commodities/Other', '7730', 'Inventory purchases', 'W W GRAINGER INC', 'WWG2097000', 'PRM', 2200, '14081933852', '44591104050', 'WRENCH PIPE OFFSET 90DEG 14 INCH', datetime.date(14, 8, 22), 'Paid', 1, 30, 1, 'PO', 2200, '14073104820', 'WRENCH PIPE OFFSET 90DEG 14 INCH', '$169.89', 2014, 8),\n",
       " (2014, 8, 63, 'Watershed', '4850', 'Drainage Cip', '6400', 'Flood Control Improvements', '6443      ', 'Northwest Park ID 1454', 152, 'Contractual Services', '5590', 'Services-engineering', 'FREESE & NICHOLS INC', 'FRE1930500', 'PRM', 6100, '14050522003', '92523', 'Dam Engineering', datetime.date(14, 5, 8), 'Paid', 1, 2, 1, 'DO', 6100, '13061916054', 'Dam Engineering', '$5,936.00', 2014, 5),\n",
       " (2014, 10, 74, 'Financial Services', '5150', 'Support Services Fund', '9MGT', 'Support Services', '9ADM      ', 'Departmental Support Services', 154, 'Commodities/Other', '7100', 'Purch.card costs to reclassify', 'TW TELECOM', 'VC0000100864', 'PRM', 8100, '14063028050', '91577', 'Telephone Services, Long Distance and Local (Inclu', datetime.date(14, 7, 5), 'Paid', 1, 1, 1, 'DO', 8100, '13102101727', 'Telephone Services, Long Distance and Local (Inclu', '$10,191.66', 2014, 7),\n",
       " (2014, 12, 72, 'Neighborhood Housing', '6144', 'US Housing/Urban Development-CDBG', '1HSG', 'Housing', '2HOA      ', 'Homeowner Assistance', 152, 'Contractual Services', '5558', 'Services-closing/title insur', 'ITCOA LLC', 'IND8317166', 'GAX', 7200, '14092421586', None, None, datetime.date(14, 9, 28), 'Paid', 1, 0, 1, None, None, None, 'Services-closing/title insur', '$1,357.10', 2014, 9),\n",
       " (2014, 11, 15, 'Solid Waste Services', '5040', 'Austin Resource Recovery Fund', '5DVS', 'Waste Diversion', '5ZRW      ', 'Zero Waste', 152, 'Contractual Services', '5860', 'Services-other', 'EMPLOYEE OWNED NURSERY ENTERPRISES LTD', 'EMP8321200', 'PRM', 1500, '14082534500', '92442', 'INSTRUCTORS, CLASSES FOR THE PUBLIC', datetime.date(14, 8, 28), 'Paid', 1, 1, 1, 'DO', 1500, '14030709292', 'INSTRUCTORS, CLASSES FOR THE PUBLIC', '$75.00', 2014, 8),\n",
       " (2014, 11, 16, 'Code Compliance', '7050', 'Austin Code Fund', '2CLR', 'Licensing and Registration Compliance', '2LRC      ', 'Licensing & Registration Compliance', 152, 'Contractual Services', '6407', 'Telephone-cellular phones', 'USA MOBILITY WIRELESS INC', 'VC0000100379', 'PRM', 1600, '14073131986', '91505', 'Answering/Paging Services', datetime.date(14, 8, 3), 'Paid', 1, 3, 1, 'DO', 1600, '14072917755', 'Answering/Paging Services', '$39.42', 2014, 8)]"
      ]
     },
     "execution_count": 48,
     "metadata": {},
     "output_type": "execute_result"
    }
   ],
   "source": [
    "%%sql\n",
    "\n",
    "SELECT * from austin\n",
    "LIMIT 10;"
   ]
  },
  {
   "cell_type": "markdown",
   "metadata": {},
   "source": [
    "After checking the table we created, we feel that the data loaded well and hence we proceed with this table for analyzing the Austin spending data."
   ]
  },
  {
   "cell_type": "markdown",
   "metadata": {},
   "source": [
    "When we checked the columns 'actg_ln_dscr' and 'comm_descr' and result showed that actg_ln_dscr column includes same information as column 'comm_descr' except that the null values in 'comm_descr' have values in the 'actg_ln_dscr'. So we will remove the column 'comm_descr' along with 'comm_cd', which stands for commodity code and commodity description. "
   ]
  },
  {
   "cell_type": "code",
   "execution_count": 49,
   "metadata": {
    "slideshow": {
     "slide_type": "skip"
    }
   },
   "outputs": [
    {
     "name": "stdout",
     "output_type": "stream",
     "text": [
      "0 rows affected.\n"
     ]
    },
    {
     "data": {
      "text/html": [
       "<table>\n",
       "    <tr>\n",
       "        <th>actg_ln_dscr</th>\n",
       "        <th>comm_descr</th>\n",
       "    </tr>\n",
       "</table>"
      ],
      "text/plain": [
       "[]"
      ]
     },
     "execution_count": 49,
     "metadata": {},
     "output_type": "execute_result"
    }
   ],
   "source": [
    "%%sql\n",
    "SELECT actg_ln_dscr\n",
    "       ,comm_descr\n",
    "FROM austin\n",
    "WHERE actg_ln_dscr != comm_descr\n",
    "AND comm_descr IS NOT null;"
   ]
  },
  {
   "cell_type": "code",
   "execution_count": 50,
   "metadata": {
    "slideshow": {
     "slide_type": "skip"
    }
   },
   "outputs": [
    {
     "name": "stdout",
     "output_type": "stream",
     "text": [
      "Done.\n"
     ]
    },
    {
     "data": {
      "text/plain": [
       "[]"
      ]
     },
     "execution_count": 50,
     "metadata": {},
     "output_type": "execute_result"
    }
   ],
   "source": [
    "%%sql\n",
    "ALTER TABLE austin\n",
    "DROP COLUMN comm_descr,\n",
    "DROP COLUMN comm_cd;"
   ]
  },
  {
   "cell_type": "markdown",
   "metadata": {
    "collapsed": true,
    "slideshow": {
     "slide_type": "skip"
    }
   },
   "source": [
    "After dropping the commodity description and commodity code we go ahead and deal with the columns which have missing values."
   ]
  },
  {
   "cell_type": "code",
   "execution_count": 51,
   "metadata": {
    "slideshow": {
     "slide_type": "skip"
    }
   },
   "outputs": [
    {
     "name": "stdout",
     "output_type": "stream",
     "text": [
      "87961 rows affected.\n",
      "87961 rows affected.\n",
      "87961 rows affected.\n"
     ]
    },
    {
     "data": {
      "text/plain": [
       "[]"
      ]
     },
     "execution_count": 51,
     "metadata": {},
     "output_type": "execute_result"
    }
   ],
   "source": [
    "%%sql\n",
    "UPDATE austin SET rf_doc_cd = 999 WHERE rf_doc_cd IS null;\n",
    "UPDATE austin SET rf_doc_dept_cd = 999 WHERE rf_doc_dept_cd IS null;\n",
    "UPDATE austin SET rf_doc_id = 'N/A' WHERE rf_doc_id IS null;"
   ]
  },
  {
   "cell_type": "markdown",
   "metadata": {
    "slideshow": {
     "slide_type": "skip"
    }
   },
   "source": [
    "For integer nulls we are using '999' to represent the null value and for categorical column we coded as 'N/A' to represent the null value. "
   ]
  },
  {
   "cell_type": "code",
   "execution_count": 49,
   "metadata": {
    "slideshow": {
     "slide_type": "slide"
    }
   },
   "outputs": [
    {
     "name": "stdout",
     "output_type": "stream",
     "text": [
      "10 rows affected.\n"
     ]
    },
    {
     "data": {
      "text/html": [
       "<table>\n",
       "    <tr>\n",
       "        <th>fy_dc</th>\n",
       "        <th>per_cd</th>\n",
       "        <th>dept_cd</th>\n",
       "        <th>dept_nm</th>\n",
       "        <th>fund_cd</th>\n",
       "        <th>fund_nm</th>\n",
       "        <th>div_cd</th>\n",
       "        <th>div_nm</th>\n",
       "        <th>gp_cd</th>\n",
       "        <th>gp_nm</th>\n",
       "        <th>ocat_cd</th>\n",
       "        <th>ocat_nm</th>\n",
       "        <th>obj_cd</th>\n",
       "        <th>obj_nm</th>\n",
       "        <th>lgl_nm</th>\n",
       "        <th>vend_cust_cd</th>\n",
       "        <th>rfed_doc_cd</th>\n",
       "        <th>rfed_doc_dept_cd</th>\n",
       "        <th>rfed_doc_id</th>\n",
       "        <th>cvl_chk_sta_dv</th>\n",
       "        <th>rfed_vend_ln_no</th>\n",
       "        <th>rfed_comm_ln_no</th>\n",
       "        <th>rfed_actg_ln_no</th>\n",
       "        <th>rf_doc_cd</th>\n",
       "        <th>rf_doc_dept_cd</th>\n",
       "        <th>rf_doc_id</th>\n",
       "        <th>actg_ln_dscr</th>\n",
       "        <th>amount</th>\n",
       "        <th>cal_year</th>\n",
       "        <th>cal_month</th>\n",
       "        <th>check_date</th>\n",
       "    </tr>\n",
       "    <tr>\n",
       "        <td>2014</td>\n",
       "        <td>11</td>\n",
       "        <td>93</td>\n",
       "        <td>Emergency Medical Services</td>\n",
       "        <td>1000</td>\n",
       "        <td>General Fund</td>\n",
       "        <td>5BSV</td>\n",
       "        <td>Billing Services</td>\n",
       "        <td>5BLS      </td>\n",
       "        <td>Billing Services</td>\n",
       "        <td>152</td>\n",
       "        <td>Contractual Services</td>\n",
       "        <td>5860</td>\n",
       "        <td>Services-other</td>\n",
       "        <td>GMSL CONSULTING LLC</td>\n",
       "        <td>VC0000102791</td>\n",
       "        <td>PRM</td>\n",
       "        <td>9300</td>\n",
       "        <td>14082134394</td>\n",
       "        <td>Paid</td>\n",
       "        <td>1</td>\n",
       "        <td>2</td>\n",
       "        <td>1</td>\n",
       "        <td>DO</td>\n",
       "        <td>9300</td>\n",
       "        <td>14081818973</td>\n",
       "        <td>Paper Cutting, Drilling, Folding, Punching, Shredd</td>\n",
       "        <td>$306.00</td>\n",
       "        <td>2014</td>\n",
       "        <td>8</td>\n",
       "        <td>2014-08-24</td>\n",
       "    </tr>\n",
       "    <tr>\n",
       "        <td>2014</td>\n",
       "        <td>8</td>\n",
       "        <td>22</td>\n",
       "        <td>Austin Water Utility</td>\n",
       "        <td>5220</td>\n",
       "        <td>Water Inventory Fund</td>\n",
       "        <td>ZZZZ</td>\n",
       "        <td>Miscellaneous</td>\n",
       "        <td>ZZZZ      </td>\n",
       "        <td>Miscellaneous</td>\n",
       "        <td>154</td>\n",
       "        <td>Commodities/Other</td>\n",
       "        <td>7730</td>\n",
       "        <td>Inventory purchases</td>\n",
       "        <td>W W GRAINGER INC</td>\n",
       "        <td>WWG2097000</td>\n",
       "        <td>PRM</td>\n",
       "        <td>2200</td>\n",
       "        <td>14051923636</td>\n",
       "        <td>Paid</td>\n",
       "        <td>1</td>\n",
       "        <td>22</td>\n",
       "        <td>1</td>\n",
       "        <td>DO</td>\n",
       "        <td>2200</td>\n",
       "        <td>14042312106</td>\n",
       "        <td>GLOVES WORK RBR NEOPRENE COATED 14&quot;LONG GAUNTLET</td>\n",
       "        <td>$93.60</td>\n",
       "        <td>2014</td>\n",
       "        <td>5</td>\n",
       "        <td>2014-05-22</td>\n",
       "    </tr>\n",
       "    <tr>\n",
       "        <td>2014</td>\n",
       "        <td>8</td>\n",
       "        <td>63</td>\n",
       "        <td>Watershed</td>\n",
       "        <td>5100</td>\n",
       "        <td>Drainage Utility Fund</td>\n",
       "        <td>63FC</td>\n",
       "        <td>Flood Hazard Mitigation</td>\n",
       "        <td>52WM      </td>\n",
       "        <td>Watershed Management</td>\n",
       "        <td>152</td>\n",
       "        <td>Contractual Services</td>\n",
       "        <td>6406</td>\n",
       "        <td>Telephone equipment</td>\n",
       "        <td>USA MOBILITY WIRELESS INC</td>\n",
       "        <td>VC0000100379</td>\n",
       "        <td>PRM</td>\n",
       "        <td>6300</td>\n",
       "        <td>14052023824</td>\n",
       "        <td>Paid</td>\n",
       "        <td>1</td>\n",
       "        <td>1</td>\n",
       "        <td>14</td>\n",
       "        <td>DO</td>\n",
       "        <td>6300</td>\n",
       "        <td>14051213114</td>\n",
       "        <td>Answering/Paging Services</td>\n",
       "        <td>$14.32</td>\n",
       "        <td>2014</td>\n",
       "        <td>5</td>\n",
       "        <td>2014-05-23</td>\n",
       "    </tr>\n",
       "    <tr>\n",
       "        <td>2014</td>\n",
       "        <td>11</td>\n",
       "        <td>63</td>\n",
       "        <td>Watershed</td>\n",
       "        <td>5100</td>\n",
       "        <td>Drainage Utility Fund</td>\n",
       "        <td>63WM</td>\n",
       "        <td>Infrastructure &amp; Waterway Maintenance</td>\n",
       "        <td>42SM      </td>\n",
       "        <td>Storm Water Management</td>\n",
       "        <td>152</td>\n",
       "        <td>Contractual Services</td>\n",
       "        <td>6175</td>\n",
       "        <td>Garbage/refuse collection</td>\n",
       "        <td>973 MATERIALS LLC</td>\n",
       "        <td>VC0000102565</td>\n",
       "        <td>PRM</td>\n",
       "        <td>6300</td>\n",
       "        <td>14080732787</td>\n",
       "        <td>Paid</td>\n",
       "        <td>1</td>\n",
       "        <td>1</td>\n",
       "        <td>1</td>\n",
       "        <td>DO</td>\n",
       "        <td>6300</td>\n",
       "        <td>14080518158</td>\n",
       "        <td>Solid or Liquid Waste Disposal (Including Manageme</td>\n",
       "        <td>$42.00</td>\n",
       "        <td>2014</td>\n",
       "        <td>8</td>\n",
       "        <td>2014-08-10</td>\n",
       "    </tr>\n",
       "    <tr>\n",
       "        <td>2014</td>\n",
       "        <td>11</td>\n",
       "        <td>22</td>\n",
       "        <td>Austin Water Utility</td>\n",
       "        <td>5220</td>\n",
       "        <td>Water Inventory Fund</td>\n",
       "        <td>ZZZZ</td>\n",
       "        <td>Miscellaneous</td>\n",
       "        <td>ZZZZ      </td>\n",
       "        <td>Miscellaneous</td>\n",
       "        <td>154</td>\n",
       "        <td>Commodities/Other</td>\n",
       "        <td>7730</td>\n",
       "        <td>Inventory purchases</td>\n",
       "        <td>W W GRAINGER INC</td>\n",
       "        <td>WWG2097000</td>\n",
       "        <td>PRM</td>\n",
       "        <td>2200</td>\n",
       "        <td>14081933852</td>\n",
       "        <td>Paid</td>\n",
       "        <td>1</td>\n",
       "        <td>30</td>\n",
       "        <td>1</td>\n",
       "        <td>PO</td>\n",
       "        <td>2200</td>\n",
       "        <td>14073104820</td>\n",
       "        <td>WRENCH PIPE OFFSET 90DEG 14 INCH</td>\n",
       "        <td>$169.89</td>\n",
       "        <td>2014</td>\n",
       "        <td>8</td>\n",
       "        <td>2014-08-22</td>\n",
       "    </tr>\n",
       "    <tr>\n",
       "        <td>2014</td>\n",
       "        <td>8</td>\n",
       "        <td>63</td>\n",
       "        <td>Watershed</td>\n",
       "        <td>4850</td>\n",
       "        <td>Drainage Cip</td>\n",
       "        <td>6400</td>\n",
       "        <td>Flood Control Improvements</td>\n",
       "        <td>6443      </td>\n",
       "        <td>Northwest Park ID 1454</td>\n",
       "        <td>152</td>\n",
       "        <td>Contractual Services</td>\n",
       "        <td>5590</td>\n",
       "        <td>Services-engineering</td>\n",
       "        <td>FREESE &amp; NICHOLS INC</td>\n",
       "        <td>FRE1930500</td>\n",
       "        <td>PRM</td>\n",
       "        <td>6100</td>\n",
       "        <td>14050522003</td>\n",
       "        <td>Paid</td>\n",
       "        <td>1</td>\n",
       "        <td>2</td>\n",
       "        <td>1</td>\n",
       "        <td>DO</td>\n",
       "        <td>6100</td>\n",
       "        <td>13061916054</td>\n",
       "        <td>Dam Engineering</td>\n",
       "        <td>$5,936.00</td>\n",
       "        <td>2014</td>\n",
       "        <td>5</td>\n",
       "        <td>2014-05-08</td>\n",
       "    </tr>\n",
       "    <tr>\n",
       "        <td>2014</td>\n",
       "        <td>11</td>\n",
       "        <td>91</td>\n",
       "        <td>Health &amp; Human Services</td>\n",
       "        <td>1000</td>\n",
       "        <td>General Fund</td>\n",
       "        <td>5DPH</td>\n",
       "        <td>Disease Prevention &amp; Health Promotion</td>\n",
       "        <td>5CDA      </td>\n",
       "        <td>Communicable Disease</td>\n",
       "        <td>152</td>\n",
       "        <td>Contractual Services</td>\n",
       "        <td>6126</td>\n",
       "        <td>Rental-other equipment</td>\n",
       "        <td>SPOK INC</td>\n",
       "        <td>VC0000100379</td>\n",
       "        <td>PRM</td>\n",
       "        <td>9100</td>\n",
       "        <td>14082134373</td>\n",
       "        <td>Paid</td>\n",
       "        <td>1</td>\n",
       "        <td>2</td>\n",
       "        <td>1</td>\n",
       "        <td>DO</td>\n",
       "        <td>9100</td>\n",
       "        <td>14061615149</td>\n",
       "        <td>Answering/Paging Services</td>\n",
       "        <td>$7.75</td>\n",
       "        <td>2014</td>\n",
       "        <td>8</td>\n",
       "        <td>2014-08-24</td>\n",
       "    </tr>\n",
       "    <tr>\n",
       "        <td>2014</td>\n",
       "        <td>8</td>\n",
       "        <td>11</td>\n",
       "        <td>Austin Energy</td>\n",
       "        <td>5540</td>\n",
       "        <td>Electric Inventory Fund</td>\n",
       "        <td>ZZZZ</td>\n",
       "        <td>Miscellaneous</td>\n",
       "        <td>ZZZZ      </td>\n",
       "        <td>Miscellaneous</td>\n",
       "        <td>154</td>\n",
       "        <td>Commodities/Other</td>\n",
       "        <td>7730</td>\n",
       "        <td>Inventory purchases</td>\n",
       "        <td>POWER SUPPLY INC</td>\n",
       "        <td>VC0000100372</td>\n",
       "        <td>PRC</td>\n",
       "        <td>1100</td>\n",
       "        <td>MAX28848</td>\n",
       "        <td>Paid</td>\n",
       "        <td>1</td>\n",
       "        <td>3</td>\n",
       "        <td>1</td>\n",
       "        <td>DOM</td>\n",
       "        <td>1100</td>\n",
       "        <td>MAX39425</td>\n",
       "        <td>INSULATORS AND PARTS, POLE LINE</td>\n",
       "        <td>$222.02</td>\n",
       "        <td>2014</td>\n",
       "        <td>5</td>\n",
       "        <td>2014-05-23</td>\n",
       "    </tr>\n",
       "    <tr>\n",
       "        <td>2014</td>\n",
       "        <td>12</td>\n",
       "        <td>82</td>\n",
       "        <td>Convention Center</td>\n",
       "        <td>5430</td>\n",
       "        <td>Convention Center Palmer Events Center Operating Fund</td>\n",
       "        <td>2EVT</td>\n",
       "        <td>Event Operations</td>\n",
       "        <td>2FAC      </td>\n",
       "        <td>Facility Operations &amp; Maintenance</td>\n",
       "        <td>152</td>\n",
       "        <td>Contractual Services</td>\n",
       "        <td>6389</td>\n",
       "        <td>Maintenance-other equipment</td>\n",
       "        <td>Pest Management, Inc.</td>\n",
       "        <td>VS0000034047</td>\n",
       "        <td>PRM</td>\n",
       "        <td>8200</td>\n",
       "        <td>14090536000</td>\n",
       "        <td>Paid</td>\n",
       "        <td>1</td>\n",
       "        <td>2</td>\n",
       "        <td>1</td>\n",
       "        <td>DO</td>\n",
       "        <td>8200</td>\n",
       "        <td>13100100190</td>\n",
       "        <td>Pest Control (Incl Termite Insp, birds, rodent)</td>\n",
       "        <td>$48.00</td>\n",
       "        <td>2014</td>\n",
       "        <td>9</td>\n",
       "        <td>2014-09-10</td>\n",
       "    </tr>\n",
       "    <tr>\n",
       "        <td>2014</td>\n",
       "        <td>11</td>\n",
       "        <td>22</td>\n",
       "        <td>Austin Water Utility</td>\n",
       "        <td>4480</td>\n",
       "        <td>S-Wastewater Improvements</td>\n",
       "        <td>3118</td>\n",
       "        <td>Wastewater Collection 4480 Parent</td>\n",
       "        <td>8425      </td>\n",
       "        <td>Southern Walnut Creek Trail Wastewater Improvements</td>\n",
       "        <td>152</td>\n",
       "        <td>Contractual Services</td>\n",
       "        <td>5590</td>\n",
       "        <td>Services-engineering</td>\n",
       "        <td>HALFF ASSOCIATES INC</td>\n",
       "        <td>HAL7038625</td>\n",
       "        <td>PRM</td>\n",
       "        <td>6100</td>\n",
       "        <td>14081333389</td>\n",
       "        <td>Paid</td>\n",
       "        <td>1</td>\n",
       "        <td>2</td>\n",
       "        <td>1</td>\n",
       "        <td>CT</td>\n",
       "        <td>6100</td>\n",
       "        <td>09031801107</td>\n",
       "        <td>Civil Engineering</td>\n",
       "        <td>$1,712.42</td>\n",
       "        <td>2014</td>\n",
       "        <td>8</td>\n",
       "        <td>2014-08-16</td>\n",
       "    </tr>\n",
       "</table>"
      ],
      "text/plain": [
       "[(2014, 11, 93, 'Emergency Medical Services', '1000', 'General Fund', '5BSV', 'Billing Services', '5BLS      ', 'Billing Services', 152, 'Contractual Services', '5860', 'Services-other', 'GMSL CONSULTING LLC', 'VC0000102791', 'PRM', 9300, '14082134394', 'Paid', 1, 2, 1, 'DO', 9300, '14081818973', 'Paper Cutting, Drilling, Folding, Punching, Shredd', '$306.00', 2014, 8, datetime.date(2014, 8, 24)),\n",
       " (2014, 8, 22, 'Austin Water Utility', '5220', 'Water Inventory Fund', 'ZZZZ', 'Miscellaneous', 'ZZZZ      ', 'Miscellaneous', 154, 'Commodities/Other', '7730', 'Inventory purchases', 'W W GRAINGER INC', 'WWG2097000', 'PRM', 2200, '14051923636', 'Paid', 1, 22, 1, 'DO', 2200, '14042312106', 'GLOVES WORK RBR NEOPRENE COATED 14\"LONG GAUNTLET', '$93.60', 2014, 5, datetime.date(2014, 5, 22)),\n",
       " (2014, 8, 63, 'Watershed', '5100', 'Drainage Utility Fund', '63FC', 'Flood Hazard Mitigation', '52WM      ', 'Watershed Management', 152, 'Contractual Services', '6406', 'Telephone equipment', 'USA MOBILITY WIRELESS INC', 'VC0000100379', 'PRM', 6300, '14052023824', 'Paid', 1, 1, 14, 'DO', 6300, '14051213114', 'Answering/Paging Services', '$14.32', 2014, 5, datetime.date(2014, 5, 23)),\n",
       " (2014, 11, 63, 'Watershed', '5100', 'Drainage Utility Fund', '63WM', 'Infrastructure & Waterway Maintenance', '42SM      ', 'Storm Water Management', 152, 'Contractual Services', '6175', 'Garbage/refuse collection', '973 MATERIALS LLC', 'VC0000102565', 'PRM', 6300, '14080732787', 'Paid', 1, 1, 1, 'DO', 6300, '14080518158', 'Solid or Liquid Waste Disposal (Including Manageme', '$42.00', 2014, 8, datetime.date(2014, 8, 10)),\n",
       " (2014, 11, 22, 'Austin Water Utility', '5220', 'Water Inventory Fund', 'ZZZZ', 'Miscellaneous', 'ZZZZ      ', 'Miscellaneous', 154, 'Commodities/Other', '7730', 'Inventory purchases', 'W W GRAINGER INC', 'WWG2097000', 'PRM', 2200, '14081933852', 'Paid', 1, 30, 1, 'PO', 2200, '14073104820', 'WRENCH PIPE OFFSET 90DEG 14 INCH', '$169.89', 2014, 8, datetime.date(2014, 8, 22)),\n",
       " (2014, 8, 63, 'Watershed', '4850', 'Drainage Cip', '6400', 'Flood Control Improvements', '6443      ', 'Northwest Park ID 1454', 152, 'Contractual Services', '5590', 'Services-engineering', 'FREESE & NICHOLS INC', 'FRE1930500', 'PRM', 6100, '14050522003', 'Paid', 1, 2, 1, 'DO', 6100, '13061916054', 'Dam Engineering', '$5,936.00', 2014, 5, datetime.date(2014, 5, 8)),\n",
       " (2014, 11, 91, 'Health & Human Services', '1000', 'General Fund', '5DPH', 'Disease Prevention & Health Promotion', '5CDA      ', 'Communicable Disease', 152, 'Contractual Services', '6126', 'Rental-other equipment', 'SPOK INC', 'VC0000100379', 'PRM', 9100, '14082134373', 'Paid', 1, 2, 1, 'DO', 9100, '14061615149', 'Answering/Paging Services', '$7.75', 2014, 8, datetime.date(2014, 8, 24)),\n",
       " (2014, 8, 11, 'Austin Energy', '5540', 'Electric Inventory Fund', 'ZZZZ', 'Miscellaneous', 'ZZZZ      ', 'Miscellaneous', 154, 'Commodities/Other', '7730', 'Inventory purchases', 'POWER SUPPLY INC', 'VC0000100372', 'PRC', 1100, 'MAX28848', 'Paid', 1, 3, 1, 'DOM', 1100, 'MAX39425', 'INSULATORS AND PARTS, POLE LINE', '$222.02', 2014, 5, datetime.date(2014, 5, 23)),\n",
       " (2014, 12, 82, 'Convention Center', '5430', 'Convention Center Palmer Events Center Operating Fund', '2EVT', 'Event Operations', '2FAC      ', 'Facility Operations & Maintenance', 152, 'Contractual Services', '6389', 'Maintenance-other equipment', 'Pest Management, Inc.', 'VS0000034047', 'PRM', 8200, '14090536000', 'Paid', 1, 2, 1, 'DO', 8200, '13100100190', 'Pest Control (Incl Termite Insp, birds, rodent)', '$48.00', 2014, 9, datetime.date(2014, 9, 10)),\n",
       " (2014, 11, 22, 'Austin Water Utility', '4480', 'S-Wastewater Improvements', '3118', 'Wastewater Collection 4480 Parent', '8425      ', 'Southern Walnut Creek Trail Wastewater Improvements', 152, 'Contractual Services', '5590', 'Services-engineering', 'HALFF ASSOCIATES INC', 'HAL7038625', 'PRM', 6100, '14081333389', 'Paid', 1, 2, 1, 'CT', 6100, '09031801107', 'Civil Engineering', '$1,712.42', 2014, 8, datetime.date(2014, 8, 16))]"
      ]
     },
     "execution_count": 49,
     "metadata": {},
     "output_type": "execute_result"
    }
   ],
   "source": [
    "%%sql\n",
    "\n",
    "SELECT * FROM austin\n",
    "LIMIT 10"
   ]
  },
  {
   "cell_type": "markdown",
   "metadata": {
    "slideshow": {
     "slide_type": "skip"
    }
   },
   "source": [
    "After wrangling our data, we are ready to set up the star schema for our analysis."
   ]
  },
  {
   "cell_type": "markdown",
   "metadata": {},
   "source": [
    "### Star schema diagram "
   ]
  },
  {
   "cell_type": "code",
   "execution_count": 10,
   "metadata": {
    "slideshow": {
     "slide_type": "skip"
    }
   },
   "outputs": [
    {
     "data": {
      "text/html": [
       "<img src=\"https://raw.githubusercontent.com/gwsb-istm-6212-fall-2016/Rongchu-Zhao/master/DM/STARSCHEMA%20(1).png\"/>"
      ],
      "text/plain": [
       "<IPython.core.display.Image object>"
      ]
     },
     "execution_count": 10,
     "metadata": {},
     "output_type": "execute_result"
    }
   ],
   "source": [
    "from IPython.display import Image\n",
    "from IPython.core.display import HTML\n",
    "Image(url = \"https://raw.githubusercontent.com/gwsb-istm-6212-fall-2016/Rongchu-Zhao/master/DM/STARSCHEMA%20(1).png\")"
   ]
  },
  {
   "cell_type": "markdown",
   "metadata": {
    "slideshow": {
     "slide_type": "skip"
    }
   },
   "source": [
    "First, there are 8 columns that we feel not so useful in our analysis, which are 'rfed_doc_cd','rfed_doc_dept_cd'  'rfed_doc_id','rfed_vend_ln_no','rfed_comm_ln_no','rfed_actg_ln_no','rf_doc_cd','rf_doc_dept_cd' and 'rf_doc_id'. These columns include the information about referenced document and the department of the referenced document, which we think is unrelated to our analysis and there is no further description about what were code of document and department imply, hence we decide to keep those columns into junk dimension table. Although at this point, it is not useful, we did not simply delete it because we feel once we get more information about those code and ID, these columns may tell some interesting insights of spending. "
   ]
  },
  {
   "cell_type": "markdown",
   "metadata": {
    "slideshow": {
     "slide_type": "skip"
    }
   },
   "source": [
    "#### Junk dimension table\n",
    "Create a Junk dimension table to store information that is not our interest at this point, but could be possibly used for referencing purpose in the future."
   ]
  },
  {
   "cell_type": "code",
   "execution_count": 52,
   "metadata": {
    "slideshow": {
     "slide_type": "skip"
    }
   },
   "outputs": [
    {
     "name": "stdout",
     "output_type": "stream",
     "text": [
      "Done.\n",
      "390287 rows affected.\n"
     ]
    },
    {
     "data": {
      "text/plain": [
       "[]"
      ]
     },
     "execution_count": 52,
     "metadata": {},
     "output_type": "execute_result"
    }
   ],
   "source": [
    "%%sql\n",
    "\n",
    "DROP TABLE IF EXISTS DIM_junkdata;\n",
    "CREATE TABLE DIM_junkdata AS\n",
    "SELECT DISTINCT\n",
    "     rfed_doc_cd\n",
    "    ,rfed_doc_dept_cd\n",
    "    ,rfed_doc_id\n",
    "    ,rfed_vend_ln_no\n",
    "    ,rfed_comm_ln_no\n",
    "    ,rfed_actg_ln_no\n",
    "    ,rf_doc_cd\n",
    "    ,rf_doc_dept_cd\n",
    "    ,rf_doc_id\n",
    "FROM austin;"
   ]
  },
  {
   "cell_type": "code",
   "execution_count": 53,
   "metadata": {
    "slideshow": {
     "slide_type": "skip"
    }
   },
   "outputs": [
    {
     "name": "stdout",
     "output_type": "stream",
     "text": [
      "Done.\n"
     ]
    },
    {
     "data": {
      "text/plain": [
       "[]"
      ]
     },
     "execution_count": 53,
     "metadata": {},
     "output_type": "execute_result"
    }
   ],
   "source": [
    "%%sql\n",
    "\n",
    "ALTER TABLE DIM_junkdata\n",
    "ADD COLUMN junk_key SERIAL PRIMARY KEY;"
   ]
  },
  {
   "cell_type": "markdown",
   "metadata": {
    "slideshow": {
     "slide_type": "skip"
    }
   },
   "source": [
    "Now checking the data in the Junk dimension table"
   ]
  },
  {
   "cell_type": "code",
   "execution_count": 54,
   "metadata": {
    "scrolled": true,
    "slideshow": {
     "slide_type": "skip"
    }
   },
   "outputs": [
    {
     "name": "stdout",
     "output_type": "stream",
     "text": [
      "10 rows affected.\n"
     ]
    },
    {
     "data": {
      "text/html": [
       "<table>\n",
       "    <tr>\n",
       "        <th>rfed_doc_cd</th>\n",
       "        <th>rfed_doc_dept_cd</th>\n",
       "        <th>rfed_doc_id</th>\n",
       "        <th>rfed_vend_ln_no</th>\n",
       "        <th>rfed_comm_ln_no</th>\n",
       "        <th>rfed_actg_ln_no</th>\n",
       "        <th>rf_doc_cd</th>\n",
       "        <th>rf_doc_dept_cd</th>\n",
       "        <th>rf_doc_id</th>\n",
       "        <th>junk_key</th>\n",
       "    </tr>\n",
       "    <tr>\n",
       "        <td>PRM</td>\n",
       "        <td>1500</td>\n",
       "        <td>16041321479</td>\n",
       "        <td>1</td>\n",
       "        <td>2</td>\n",
       "        <td>1</td>\n",
       "        <td>DO</td>\n",
       "        <td>1500</td>\n",
       "        <td>16010605843</td>\n",
       "        <td>1</td>\n",
       "    </tr>\n",
       "    <tr>\n",
       "        <td>GAX</td>\n",
       "        <td>1100</td>\n",
       "        <td>16060713411</td>\n",
       "        <td>1</td>\n",
       "        <td>0</td>\n",
       "        <td>3</td>\n",
       "        <td>999</td>\n",
       "        <td>999</td>\n",
       "        <td>N/A</td>\n",
       "        <td>2</td>\n",
       "    </tr>\n",
       "    <tr>\n",
       "        <td>PRM</td>\n",
       "        <td>1100</td>\n",
       "        <td>14121207414</td>\n",
       "        <td>1</td>\n",
       "        <td>1</td>\n",
       "        <td>21</td>\n",
       "        <td>DO</td>\n",
       "        <td>1100</td>\n",
       "        <td>14120504472</td>\n",
       "        <td>3</td>\n",
       "    </tr>\n",
       "    <tr>\n",
       "        <td>PRM</td>\n",
       "        <td>2200</td>\n",
       "        <td>16020513450</td>\n",
       "        <td>1</td>\n",
       "        <td>1</td>\n",
       "        <td>1</td>\n",
       "        <td>DO</td>\n",
       "        <td>2200</td>\n",
       "        <td>16010605797</td>\n",
       "        <td>4</td>\n",
       "    </tr>\n",
       "    <tr>\n",
       "        <td>GAX</td>\n",
       "        <td>6800</td>\n",
       "        <td>14050913192</td>\n",
       "        <td>1</td>\n",
       "        <td>0</td>\n",
       "        <td>1</td>\n",
       "        <td>999</td>\n",
       "        <td>999</td>\n",
       "        <td>N/A</td>\n",
       "        <td>5</td>\n",
       "    </tr>\n",
       "    <tr>\n",
       "        <td>PRM</td>\n",
       "        <td>2200</td>\n",
       "        <td>16080533027</td>\n",
       "        <td>1</td>\n",
       "        <td>3</td>\n",
       "        <td>3</td>\n",
       "        <td>PO</td>\n",
       "        <td>2200</td>\n",
       "        <td>16072103826</td>\n",
       "        <td>6</td>\n",
       "    </tr>\n",
       "    <tr>\n",
       "        <td>PRM</td>\n",
       "        <td>1100</td>\n",
       "        <td>14062727749</td>\n",
       "        <td>1</td>\n",
       "        <td>1</td>\n",
       "        <td>23</td>\n",
       "        <td>DO</td>\n",
       "        <td>1100</td>\n",
       "        <td>14061815323</td>\n",
       "        <td>7</td>\n",
       "    </tr>\n",
       "    <tr>\n",
       "        <td>PRM</td>\n",
       "        <td>5800</td>\n",
       "        <td>14041820497</td>\n",
       "        <td>1</td>\n",
       "        <td>1</td>\n",
       "        <td>1</td>\n",
       "        <td>DO</td>\n",
       "        <td>5800</td>\n",
       "        <td>14041011388</td>\n",
       "        <td>8</td>\n",
       "    </tr>\n",
       "    <tr>\n",
       "        <td>PRM</td>\n",
       "        <td>2200</td>\n",
       "        <td>14102002375</td>\n",
       "        <td>1</td>\n",
       "        <td>2</td>\n",
       "        <td>1</td>\n",
       "        <td>DO</td>\n",
       "        <td>2200</td>\n",
       "        <td>14093021823</td>\n",
       "        <td>9</td>\n",
       "    </tr>\n",
       "    <tr>\n",
       "        <td>PRM</td>\n",
       "        <td>5700</td>\n",
       "        <td>16042022297</td>\n",
       "        <td>1</td>\n",
       "        <td>1</td>\n",
       "        <td>1</td>\n",
       "        <td>DO</td>\n",
       "        <td>5700</td>\n",
       "        <td>15110902819</td>\n",
       "        <td>10</td>\n",
       "    </tr>\n",
       "</table>"
      ],
      "text/plain": [
       "[('PRM', 1500, '16041321479', 1, 2, 1, 'DO', 1500, '16010605843', 1),\n",
       " ('GAX', 1100, '16060713411', 1, 0, 3, '999', 999, 'N/A', 2),\n",
       " ('PRM', 1100, '14121207414', 1, 1, 21, 'DO', 1100, '14120504472', 3),\n",
       " ('PRM', 2200, '16020513450', 1, 1, 1, 'DO', 2200, '16010605797', 4),\n",
       " ('GAX', 6800, '14050913192', 1, 0, 1, '999', 999, 'N/A', 5),\n",
       " ('PRM', 2200, '16080533027', 1, 3, 3, 'PO', 2200, '16072103826', 6),\n",
       " ('PRM', 1100, '14062727749', 1, 1, 23, 'DO', 1100, '14061815323', 7),\n",
       " ('PRM', 5800, '14041820497', 1, 1, 1, 'DO', 5800, '14041011388', 8),\n",
       " ('PRM', 2200, '14102002375', 1, 2, 1, 'DO', 2200, '14093021823', 9),\n",
       " ('PRM', 5700, '16042022297', 1, 1, 1, 'DO', 5700, '15110902819', 10)]"
      ]
     },
     "execution_count": 54,
     "metadata": {},
     "output_type": "execute_result"
    }
   ],
   "source": [
    "%%sql\n",
    "SELECT * FROM dim_junkdata\n",
    "LIMIT 10;"
   ]
  },
  {
   "cell_type": "markdown",
   "metadata": {},
   "source": [
    "#### Date dimension table"
   ]
  },
  {
   "cell_type": "markdown",
   "metadata": {
    "slideshow": {
     "slide_type": "skip"
    }
   },
   "source": [
    "Now exploring the 'chk_eft_iss_dt' "
   ]
  },
  {
   "cell_type": "code",
   "execution_count": 55,
   "metadata": {
    "slideshow": {
     "slide_type": "skip"
    }
   },
   "outputs": [
    {
     "name": "stdout",
     "output_type": "stream",
     "text": [
      "10 rows affected.\n"
     ]
    },
    {
     "data": {
      "text/html": [
       "<table>\n",
       "    <tr>\n",
       "        <th>chk_eft_iss_dt</th>\n",
       "    </tr>\n",
       "    <tr>\n",
       "        <td>0014-08-24</td>\n",
       "    </tr>\n",
       "    <tr>\n",
       "        <td>0014-05-22</td>\n",
       "    </tr>\n",
       "    <tr>\n",
       "        <td>0014-05-23</td>\n",
       "    </tr>\n",
       "    <tr>\n",
       "        <td>0014-08-10</td>\n",
       "    </tr>\n",
       "    <tr>\n",
       "        <td>0014-08-22</td>\n",
       "    </tr>\n",
       "    <tr>\n",
       "        <td>0014-05-08</td>\n",
       "    </tr>\n",
       "    <tr>\n",
       "        <td>0014-07-05</td>\n",
       "    </tr>\n",
       "    <tr>\n",
       "        <td>0014-08-28</td>\n",
       "    </tr>\n",
       "    <tr>\n",
       "        <td>0014-08-03</td>\n",
       "    </tr>\n",
       "    <tr>\n",
       "        <td>0014-09-04</td>\n",
       "    </tr>\n",
       "</table>"
      ],
      "text/plain": [
       "[(datetime.date(14, 8, 24),),\n",
       " (datetime.date(14, 5, 22),),\n",
       " (datetime.date(14, 5, 23),),\n",
       " (datetime.date(14, 8, 10),),\n",
       " (datetime.date(14, 8, 22),),\n",
       " (datetime.date(14, 5, 8),),\n",
       " (datetime.date(14, 7, 5),),\n",
       " (datetime.date(14, 8, 28),),\n",
       " (datetime.date(14, 8, 3),),\n",
       " (datetime.date(14, 9, 4),)]"
      ]
     },
     "execution_count": 55,
     "metadata": {},
     "output_type": "execute_result"
    }
   ],
   "source": [
    "%%sql\n",
    "\n",
    "SELECT chk_eft_iss_dt\n",
    "FROM austin\n",
    "LIMIT 10;"
   ]
  },
  {
   "cell_type": "markdown",
   "metadata": {
    "collapsed": true,
    "slideshow": {
     "slide_type": "skip"
    }
   },
   "source": [
    "The year values in the column 'chk_eft_iss_dt' are messy and hence we plan to clean them"
   ]
  },
  {
   "cell_type": "markdown",
   "metadata": {
    "slideshow": {
     "slide_type": "skip"
    }
   },
   "source": [
    "Now we add a new column to the austin table in order to store the new date column"
   ]
  },
  {
   "cell_type": "code",
   "execution_count": 56,
   "metadata": {
    "slideshow": {
     "slide_type": "skip"
    }
   },
   "outputs": [
    {
     "name": "stdout",
     "output_type": "stream",
     "text": [
      "Done.\n"
     ]
    },
    {
     "data": {
      "text/plain": [
       "[]"
      ]
     },
     "execution_count": 56,
     "metadata": {},
     "output_type": "execute_result"
    }
   ],
   "source": [
    "%%sql \n",
    "\n",
    "ALTER TABLE austin\n",
    "ADD COLUMN check_date DATE;"
   ]
  },
  {
   "cell_type": "code",
   "execution_count": 57,
   "metadata": {
    "slideshow": {
     "slide_type": "skip"
    }
   },
   "outputs": [
    {
     "name": "stdout",
     "output_type": "stream",
     "text": [
      "390287 rows affected.\n"
     ]
    },
    {
     "data": {
      "text/plain": [
       "[]"
      ]
     },
     "execution_count": 57,
     "metadata": {},
     "output_type": "execute_result"
    }
   ],
   "source": [
    "%%sql\n",
    "\n",
    "UPDATE austin\n",
    "SET check_date = CAST('20'|| EXTRACT(year from chk_eft_iss_dt)||'-'||EXTRACT(month from chk_eft_iss_dt)||'-'||EXTRACT(day from chk_eft_iss_dt) AS DATE)"
   ]
  },
  {
   "cell_type": "code",
   "execution_count": 58,
   "metadata": {
    "slideshow": {
     "slide_type": "skip"
    }
   },
   "outputs": [
    {
     "name": "stdout",
     "output_type": "stream",
     "text": [
      "10 rows affected.\n"
     ]
    },
    {
     "data": {
      "text/html": [
       "<table>\n",
       "    <tr>\n",
       "        <th>check_date</th>\n",
       "    </tr>\n",
       "    <tr>\n",
       "        <td>2014-08-24</td>\n",
       "    </tr>\n",
       "    <tr>\n",
       "        <td>2014-05-22</td>\n",
       "    </tr>\n",
       "    <tr>\n",
       "        <td>2014-05-23</td>\n",
       "    </tr>\n",
       "    <tr>\n",
       "        <td>2014-08-10</td>\n",
       "    </tr>\n",
       "    <tr>\n",
       "        <td>2014-08-22</td>\n",
       "    </tr>\n",
       "    <tr>\n",
       "        <td>2014-05-08</td>\n",
       "    </tr>\n",
       "    <tr>\n",
       "        <td>2014-08-24</td>\n",
       "    </tr>\n",
       "    <tr>\n",
       "        <td>2014-05-23</td>\n",
       "    </tr>\n",
       "    <tr>\n",
       "        <td>2014-09-10</td>\n",
       "    </tr>\n",
       "    <tr>\n",
       "        <td>2014-08-16</td>\n",
       "    </tr>\n",
       "</table>"
      ],
      "text/plain": [
       "[(datetime.date(2014, 8, 24),),\n",
       " (datetime.date(2014, 5, 22),),\n",
       " (datetime.date(2014, 5, 23),),\n",
       " (datetime.date(2014, 8, 10),),\n",
       " (datetime.date(2014, 8, 22),),\n",
       " (datetime.date(2014, 5, 8),),\n",
       " (datetime.date(2014, 8, 24),),\n",
       " (datetime.date(2014, 5, 23),),\n",
       " (datetime.date(2014, 9, 10),),\n",
       " (datetime.date(2014, 8, 16),)]"
      ]
     },
     "execution_count": 58,
     "metadata": {},
     "output_type": "execute_result"
    }
   ],
   "source": [
    "%%sql\n",
    "\n",
    "SELECT check_date\n",
    "FROM austin\n",
    "limit 10;"
   ]
  },
  {
   "cell_type": "markdown",
   "metadata": {
    "slideshow": {
     "slide_type": "skip"
    }
   },
   "source": [
    "Now we will delete the old column 'chk_eft_iss_dt' from the table austin"
   ]
  },
  {
   "cell_type": "code",
   "execution_count": 59,
   "metadata": {
    "slideshow": {
     "slide_type": "skip"
    }
   },
   "outputs": [
    {
     "name": "stdout",
     "output_type": "stream",
     "text": [
      "Done.\n"
     ]
    },
    {
     "data": {
      "text/plain": [
       "[]"
      ]
     },
     "execution_count": 59,
     "metadata": {},
     "output_type": "execute_result"
    }
   ],
   "source": [
    "%%sql\n",
    "\n",
    "ALTER TABLE austin\n",
    "DROP COLUMN chk_eft_iss_dt;"
   ]
  },
  {
   "cell_type": "markdown",
   "metadata": {
    "slideshow": {
     "slide_type": "skip"
    }
   },
   "source": [
    "Now creating the time dimension table called DIM_date"
   ]
  },
  {
   "cell_type": "code",
   "execution_count": 125,
   "metadata": {},
   "outputs": [
    {
     "name": "stdout",
     "output_type": "stream",
     "text": [
      "Done.\n",
      "735 rows affected.\n"
     ]
    },
    {
     "data": {
      "text/plain": [
       "[]"
      ]
     },
     "execution_count": 125,
     "metadata": {},
     "output_type": "execute_result"
    }
   ],
   "source": [
    "%%sql\n",
    "\n",
    "DROP TABLE IF EXISTS DIM_date CASCADE;\n",
    "CREATE TABLE DIM_date AS\n",
    "SELECT DISTINCT check_date\n",
    "       ,cal_year\n",
    "       ,cal_month\n",
    "       ,CAST(EXTRACT(day from check_date) AS INTEGER) AS cal_day \n",
    "       ,fy_dc\n",
    "       ,per_cd\n",
    "       ,case WHEN per_cd=1 THEN 'OCT'\n",
    "             WHEN per_cd=2 THEN 'NOV'\n",
    "             WHEN per_cd=3 THEN 'DEC'\n",
    "             WHEN per_cd=4 THEN 'JAN'\n",
    "             WHEN per_cd=5 THEN 'FEB'\n",
    "             WHEN per_cd=6 THEN 'MAR'\n",
    "             WHEN per_cd=7 THEN 'APR'\n",
    "             WHEN per_cd=8 THEN 'MAY'\n",
    "             WHEN per_cd=9 THEN 'JUN'\n",
    "             WHEN per_cd=10 THEN 'JUL'\n",
    "             WHEN per_cd=11 THEN 'AUG'\n",
    "             WHEN per_cd=12 THEN 'SEP'\n",
    "        END AS \"fy_month\"\n",
    "       ,case WHEN PER_CD=1 OR PER_CD=2 OR PER_CD=3 THEN 'Q1'\n",
    "             WHEN PER_CD=4 OR PER_CD=5 OR PER_CD=6 THEN 'Q2'\n",
    "             WHEN PER_CD=7 OR PER_CD=8 OR PER_CD=9 THEN 'Q3'\n",
    "            else 'Q4'\n",
    "        END AS \"fy_quarter\"\n",
    "        ,case WHEN fy_dc=2014 THEN 'FY14'\n",
    "              WHEN fy_dc=2015 THEN 'FY15'\n",
    "              WHEN fy_dc=2016 THEN 'FY16'\n",
    "        END AS \"fy\"\n",
    "       \n",
    "FROM AUSTIN;"
   ]
  },
  {
   "cell_type": "markdown",
   "metadata": {},
   "source": [
    "In the date table we converted the 'per_cd' column to make it more informative in actually showing the month names and we also created a new column called 'fy_quarter' which helps us in analyzing spending data based on financial quarters and finally we created a column 'fy' which clearly distinguishes the financial year from the calendar year."
   ]
  },
  {
   "cell_type": "code",
   "execution_count": 126,
   "metadata": {
    "slideshow": {
     "slide_type": "skip"
    }
   },
   "outputs": [
    {
     "name": "stdout",
     "output_type": "stream",
     "text": [
      "10 rows affected.\n"
     ]
    },
    {
     "data": {
      "text/html": [
       "<table>\n",
       "    <tr>\n",
       "        <th>check_date</th>\n",
       "        <th>cal_year</th>\n",
       "        <th>cal_month</th>\n",
       "        <th>cal_day</th>\n",
       "        <th>fy_dc</th>\n",
       "        <th>per_cd</th>\n",
       "        <th>fy_month</th>\n",
       "        <th>fy_quarter</th>\n",
       "        <th>fy</th>\n",
       "    </tr>\n",
       "    <tr>\n",
       "        <td>2013-10-03</td>\n",
       "        <td>2013</td>\n",
       "        <td>10</td>\n",
       "        <td>3</td>\n",
       "        <td>2014</td>\n",
       "        <td>1</td>\n",
       "        <td>OCT</td>\n",
       "        <td>Q1</td>\n",
       "        <td>FY14</td>\n",
       "    </tr>\n",
       "    <tr>\n",
       "        <td>2013-10-04</td>\n",
       "        <td>2013</td>\n",
       "        <td>10</td>\n",
       "        <td>4</td>\n",
       "        <td>2014</td>\n",
       "        <td>1</td>\n",
       "        <td>OCT</td>\n",
       "        <td>Q1</td>\n",
       "        <td>FY14</td>\n",
       "    </tr>\n",
       "    <tr>\n",
       "        <td>2013-10-05</td>\n",
       "        <td>2013</td>\n",
       "        <td>10</td>\n",
       "        <td>5</td>\n",
       "        <td>2014</td>\n",
       "        <td>1</td>\n",
       "        <td>OCT</td>\n",
       "        <td>Q1</td>\n",
       "        <td>FY14</td>\n",
       "    </tr>\n",
       "    <tr>\n",
       "        <td>2013-10-06</td>\n",
       "        <td>2013</td>\n",
       "        <td>10</td>\n",
       "        <td>6</td>\n",
       "        <td>2014</td>\n",
       "        <td>1</td>\n",
       "        <td>OCT</td>\n",
       "        <td>Q1</td>\n",
       "        <td>FY14</td>\n",
       "    </tr>\n",
       "    <tr>\n",
       "        <td>2013-10-09</td>\n",
       "        <td>2013</td>\n",
       "        <td>10</td>\n",
       "        <td>9</td>\n",
       "        <td>2014</td>\n",
       "        <td>1</td>\n",
       "        <td>OCT</td>\n",
       "        <td>Q1</td>\n",
       "        <td>FY14</td>\n",
       "    </tr>\n",
       "    <tr>\n",
       "        <td>2013-10-10</td>\n",
       "        <td>2013</td>\n",
       "        <td>10</td>\n",
       "        <td>10</td>\n",
       "        <td>2014</td>\n",
       "        <td>1</td>\n",
       "        <td>OCT</td>\n",
       "        <td>Q1</td>\n",
       "        <td>FY14</td>\n",
       "    </tr>\n",
       "    <tr>\n",
       "        <td>2013-10-11</td>\n",
       "        <td>2013</td>\n",
       "        <td>10</td>\n",
       "        <td>11</td>\n",
       "        <td>2014</td>\n",
       "        <td>1</td>\n",
       "        <td>OCT</td>\n",
       "        <td>Q1</td>\n",
       "        <td>FY14</td>\n",
       "    </tr>\n",
       "    <tr>\n",
       "        <td>2013-10-12</td>\n",
       "        <td>2013</td>\n",
       "        <td>10</td>\n",
       "        <td>12</td>\n",
       "        <td>2014</td>\n",
       "        <td>1</td>\n",
       "        <td>OCT</td>\n",
       "        <td>Q1</td>\n",
       "        <td>FY14</td>\n",
       "    </tr>\n",
       "    <tr>\n",
       "        <td>2013-10-13</td>\n",
       "        <td>2013</td>\n",
       "        <td>10</td>\n",
       "        <td>13</td>\n",
       "        <td>2014</td>\n",
       "        <td>1</td>\n",
       "        <td>OCT</td>\n",
       "        <td>Q1</td>\n",
       "        <td>FY14</td>\n",
       "    </tr>\n",
       "    <tr>\n",
       "        <td>2013-10-16</td>\n",
       "        <td>2013</td>\n",
       "        <td>10</td>\n",
       "        <td>16</td>\n",
       "        <td>2014</td>\n",
       "        <td>1</td>\n",
       "        <td>OCT</td>\n",
       "        <td>Q1</td>\n",
       "        <td>FY14</td>\n",
       "    </tr>\n",
       "</table>"
      ],
      "text/plain": [
       "[(datetime.date(2013, 10, 3), 2013, 10, 3, 2014, 1, 'OCT', 'Q1', 'FY14'),\n",
       " (datetime.date(2013, 10, 4), 2013, 10, 4, 2014, 1, 'OCT', 'Q1', 'FY14'),\n",
       " (datetime.date(2013, 10, 5), 2013, 10, 5, 2014, 1, 'OCT', 'Q1', 'FY14'),\n",
       " (datetime.date(2013, 10, 6), 2013, 10, 6, 2014, 1, 'OCT', 'Q1', 'FY14'),\n",
       " (datetime.date(2013, 10, 9), 2013, 10, 9, 2014, 1, 'OCT', 'Q1', 'FY14'),\n",
       " (datetime.date(2013, 10, 10), 2013, 10, 10, 2014, 1, 'OCT', 'Q1', 'FY14'),\n",
       " (datetime.date(2013, 10, 11), 2013, 10, 11, 2014, 1, 'OCT', 'Q1', 'FY14'),\n",
       " (datetime.date(2013, 10, 12), 2013, 10, 12, 2014, 1, 'OCT', 'Q1', 'FY14'),\n",
       " (datetime.date(2013, 10, 13), 2013, 10, 13, 2014, 1, 'OCT', 'Q1', 'FY14'),\n",
       " (datetime.date(2013, 10, 16), 2013, 10, 16, 2014, 1, 'OCT', 'Q1', 'FY14')]"
      ]
     },
     "execution_count": 126,
     "metadata": {},
     "output_type": "execute_result"
    }
   ],
   "source": [
    "%%sql\n",
    "\n",
    "SELECT * FROM dim_date\n",
    "LIMIT 10;"
   ]
  },
  {
   "cell_type": "code",
   "execution_count": 127,
   "metadata": {
    "slideshow": {
     "slide_type": "skip"
    }
   },
   "outputs": [
    {
     "name": "stdout",
     "output_type": "stream",
     "text": [
      "Done.\n"
     ]
    },
    {
     "data": {
      "text/plain": [
       "[]"
      ]
     },
     "execution_count": 127,
     "metadata": {},
     "output_type": "execute_result"
    }
   ],
   "source": [
    "%%sql\n",
    "\n",
    "ALTER TABLE DIM_date\n",
    "ADD COLUMN date_key SERIAL PRIMARY KEY;"
   ]
  },
  {
   "cell_type": "code",
   "execution_count": 128,
   "metadata": {
    "slideshow": {
     "slide_type": "skip"
    }
   },
   "outputs": [
    {
     "name": "stdout",
     "output_type": "stream",
     "text": [
      "10 rows affected.\n"
     ]
    },
    {
     "data": {
      "text/html": [
       "<table>\n",
       "    <tr>\n",
       "        <th>check_date</th>\n",
       "        <th>cal_year</th>\n",
       "        <th>cal_month</th>\n",
       "        <th>cal_day</th>\n",
       "        <th>fy_dc</th>\n",
       "        <th>per_cd</th>\n",
       "        <th>fy_month</th>\n",
       "        <th>fy_quarter</th>\n",
       "        <th>fy</th>\n",
       "        <th>date_key</th>\n",
       "    </tr>\n",
       "    <tr>\n",
       "        <td>2013-10-03</td>\n",
       "        <td>2013</td>\n",
       "        <td>10</td>\n",
       "        <td>3</td>\n",
       "        <td>2014</td>\n",
       "        <td>1</td>\n",
       "        <td>OCT</td>\n",
       "        <td>Q1</td>\n",
       "        <td>FY14</td>\n",
       "        <td>1</td>\n",
       "    </tr>\n",
       "    <tr>\n",
       "        <td>2013-10-04</td>\n",
       "        <td>2013</td>\n",
       "        <td>10</td>\n",
       "        <td>4</td>\n",
       "        <td>2014</td>\n",
       "        <td>1</td>\n",
       "        <td>OCT</td>\n",
       "        <td>Q1</td>\n",
       "        <td>FY14</td>\n",
       "        <td>2</td>\n",
       "    </tr>\n",
       "    <tr>\n",
       "        <td>2013-10-05</td>\n",
       "        <td>2013</td>\n",
       "        <td>10</td>\n",
       "        <td>5</td>\n",
       "        <td>2014</td>\n",
       "        <td>1</td>\n",
       "        <td>OCT</td>\n",
       "        <td>Q1</td>\n",
       "        <td>FY14</td>\n",
       "        <td>3</td>\n",
       "    </tr>\n",
       "    <tr>\n",
       "        <td>2013-10-06</td>\n",
       "        <td>2013</td>\n",
       "        <td>10</td>\n",
       "        <td>6</td>\n",
       "        <td>2014</td>\n",
       "        <td>1</td>\n",
       "        <td>OCT</td>\n",
       "        <td>Q1</td>\n",
       "        <td>FY14</td>\n",
       "        <td>4</td>\n",
       "    </tr>\n",
       "    <tr>\n",
       "        <td>2013-10-09</td>\n",
       "        <td>2013</td>\n",
       "        <td>10</td>\n",
       "        <td>9</td>\n",
       "        <td>2014</td>\n",
       "        <td>1</td>\n",
       "        <td>OCT</td>\n",
       "        <td>Q1</td>\n",
       "        <td>FY14</td>\n",
       "        <td>5</td>\n",
       "    </tr>\n",
       "    <tr>\n",
       "        <td>2013-10-10</td>\n",
       "        <td>2013</td>\n",
       "        <td>10</td>\n",
       "        <td>10</td>\n",
       "        <td>2014</td>\n",
       "        <td>1</td>\n",
       "        <td>OCT</td>\n",
       "        <td>Q1</td>\n",
       "        <td>FY14</td>\n",
       "        <td>6</td>\n",
       "    </tr>\n",
       "    <tr>\n",
       "        <td>2013-10-11</td>\n",
       "        <td>2013</td>\n",
       "        <td>10</td>\n",
       "        <td>11</td>\n",
       "        <td>2014</td>\n",
       "        <td>1</td>\n",
       "        <td>OCT</td>\n",
       "        <td>Q1</td>\n",
       "        <td>FY14</td>\n",
       "        <td>7</td>\n",
       "    </tr>\n",
       "    <tr>\n",
       "        <td>2013-10-12</td>\n",
       "        <td>2013</td>\n",
       "        <td>10</td>\n",
       "        <td>12</td>\n",
       "        <td>2014</td>\n",
       "        <td>1</td>\n",
       "        <td>OCT</td>\n",
       "        <td>Q1</td>\n",
       "        <td>FY14</td>\n",
       "        <td>8</td>\n",
       "    </tr>\n",
       "    <tr>\n",
       "        <td>2013-10-13</td>\n",
       "        <td>2013</td>\n",
       "        <td>10</td>\n",
       "        <td>13</td>\n",
       "        <td>2014</td>\n",
       "        <td>1</td>\n",
       "        <td>OCT</td>\n",
       "        <td>Q1</td>\n",
       "        <td>FY14</td>\n",
       "        <td>9</td>\n",
       "    </tr>\n",
       "    <tr>\n",
       "        <td>2013-10-16</td>\n",
       "        <td>2013</td>\n",
       "        <td>10</td>\n",
       "        <td>16</td>\n",
       "        <td>2014</td>\n",
       "        <td>1</td>\n",
       "        <td>OCT</td>\n",
       "        <td>Q1</td>\n",
       "        <td>FY14</td>\n",
       "        <td>10</td>\n",
       "    </tr>\n",
       "</table>"
      ],
      "text/plain": [
       "[(datetime.date(2013, 10, 3), 2013, 10, 3, 2014, 1, 'OCT', 'Q1', 'FY14', 1),\n",
       " (datetime.date(2013, 10, 4), 2013, 10, 4, 2014, 1, 'OCT', 'Q1', 'FY14', 2),\n",
       " (datetime.date(2013, 10, 5), 2013, 10, 5, 2014, 1, 'OCT', 'Q1', 'FY14', 3),\n",
       " (datetime.date(2013, 10, 6), 2013, 10, 6, 2014, 1, 'OCT', 'Q1', 'FY14', 4),\n",
       " (datetime.date(2013, 10, 9), 2013, 10, 9, 2014, 1, 'OCT', 'Q1', 'FY14', 5),\n",
       " (datetime.date(2013, 10, 10), 2013, 10, 10, 2014, 1, 'OCT', 'Q1', 'FY14', 6),\n",
       " (datetime.date(2013, 10, 11), 2013, 10, 11, 2014, 1, 'OCT', 'Q1', 'FY14', 7),\n",
       " (datetime.date(2013, 10, 12), 2013, 10, 12, 2014, 1, 'OCT', 'Q1', 'FY14', 8),\n",
       " (datetime.date(2013, 10, 13), 2013, 10, 13, 2014, 1, 'OCT', 'Q1', 'FY14', 9),\n",
       " (datetime.date(2013, 10, 16), 2013, 10, 16, 2014, 1, 'OCT', 'Q1', 'FY14', 10)]"
      ]
     },
     "execution_count": 128,
     "metadata": {},
     "output_type": "execute_result"
    }
   ],
   "source": [
    "%%sql \n",
    "\n",
    "SELECT * FROM DIM_date\n",
    "limit 10;"
   ]
  },
  {
   "cell_type": "markdown",
   "metadata": {
    "slideshow": {
     "slide_type": "skip"
    }
   },
   "source": [
    "#### Object dimension table\n",
    "Now we are creating the object dimension table "
   ]
  },
  {
   "cell_type": "code",
   "execution_count": 64,
   "metadata": {
    "slideshow": {
     "slide_type": "skip"
    }
   },
   "outputs": [
    {
     "name": "stdout",
     "output_type": "stream",
     "text": [
      "Done.\n",
      "300 rows affected.\n"
     ]
    },
    {
     "data": {
      "text/plain": [
       "[]"
      ]
     },
     "execution_count": 64,
     "metadata": {},
     "output_type": "execute_result"
    }
   ],
   "source": [
    "%%sql\n",
    "\n",
    "DROP TABLE IF EXISTS DIM_obj;\n",
    "CREATE TABLE DIM_obj AS\n",
    "SELECT DISTINCT \n",
    "        ocat_cd\n",
    "       ,ocat_nm\n",
    "       ,obj_cd\n",
    "       ,obj_nm\n",
    "FROM austin;"
   ]
  },
  {
   "cell_type": "code",
   "execution_count": 65,
   "metadata": {
    "slideshow": {
     "slide_type": "skip"
    }
   },
   "outputs": [
    {
     "name": "stdout",
     "output_type": "stream",
     "text": [
      "Done.\n"
     ]
    },
    {
     "data": {
      "text/plain": [
       "[]"
      ]
     },
     "execution_count": 65,
     "metadata": {},
     "output_type": "execute_result"
    }
   ],
   "source": [
    "%%sql\n",
    "\n",
    "ALTER TABLE DIM_obj\n",
    "ADD COLUMN obj_key SERIAL PRIMARY KEY;"
   ]
  },
  {
   "cell_type": "markdown",
   "metadata": {},
   "source": [
    "We figured out that the information covered in the obj_nm column is too detailed, so we manually grouped and created a obj group column that may provide us more insightful information in order to do a meaningful analysis. For example, there are some categories that are closely related, therefore we think it will be reasonable to group it into one related category."
   ]
  },
  {
   "cell_type": "markdown",
   "metadata": {},
   "source": [
    "Create table and load the csv file that has the grouping information to the table"
   ]
  },
  {
   "cell_type": "code",
   "execution_count": 120,
   "metadata": {},
   "outputs": [
    {
     "name": "stdout",
     "output_type": "stream",
     "text": [
      "Done.\n",
      "Done.\n"
     ]
    },
    {
     "data": {
      "text/plain": [
       "[]"
      ]
     },
     "execution_count": 120,
     "metadata": {},
     "output_type": "execute_result"
    }
   ],
   "source": [
    "%%sql\n",
    "DROP TABLE IF EXISTS GRP;\n",
    "CREATE TABLE GRP (\n",
    "    obj_cd VARCHAR(10), \n",
    "    obj_nm VARCHAR(50),\n",
    "    grp_nm VARCHAR(50)\n",
    ");"
   ]
  },
  {
   "cell_type": "code",
   "execution_count": 123,
   "metadata": {},
   "outputs": [
    {
     "data": {
      "text/plain": [
       "'/Users/zhaorc/Desktop'"
      ]
     },
     "execution_count": 123,
     "metadata": {},
     "output_type": "execute_result"
    }
   ],
   "source": [
    "pwd"
   ]
  },
  {
   "cell_type": "code",
   "execution_count": 124,
   "metadata": {},
   "outputs": [
    {
     "name": "stdout",
     "output_type": "stream",
     "text": [
      "299 rows affected.\n"
     ]
    },
    {
     "data": {
      "text/plain": [
       "[]"
      ]
     },
     "execution_count": 124,
     "metadata": {},
     "output_type": "execute_result"
    }
   ],
   "source": [
    "%%sql\n",
    "COPY GRP FROM '/Users/zhaorc/Desktop/objgroup.csv'\n",
    "CSV\n",
    "HEADER\n",
    "QUOTE '\"'\n",
    "DELIMITER ',';"
   ]
  },
  {
   "cell_type": "code",
   "execution_count": 128,
   "metadata": {},
   "outputs": [
    {
     "name": "stdout",
     "output_type": "stream",
     "text": [
      "Done.\n"
     ]
    },
    {
     "data": {
      "text/plain": [
       "[]"
      ]
     },
     "execution_count": 128,
     "metadata": {},
     "output_type": "execute_result"
    }
   ],
   "source": [
    "%%sql\n",
    "ALTER TABLE DIM_obj\n",
    "ADD COLUMN objgrp_nm VARCHAR(50);"
   ]
  },
  {
   "cell_type": "code",
   "execution_count": 129,
   "metadata": {},
   "outputs": [
    {
     "name": "stdout",
     "output_type": "stream",
     "text": [
      "300 rows affected.\n"
     ]
    },
    {
     "data": {
      "text/plain": [
       "[]"
      ]
     },
     "execution_count": 129,
     "metadata": {},
     "output_type": "execute_result"
    }
   ],
   "source": [
    "%%sql\n",
    "UPDATE dim_obj\n",
    "SET objgrp_nm = g.grp_nm\n",
    "FROM grp g\n",
    "WHERE dim_obj.obj_cd = g.obj_cd"
   ]
  },
  {
   "cell_type": "code",
   "execution_count": 130,
   "metadata": {
    "slideshow": {
     "slide_type": "skip"
    }
   },
   "outputs": [
    {
     "name": "stdout",
     "output_type": "stream",
     "text": [
      "10 rows affected.\n"
     ]
    },
    {
     "data": {
      "text/html": [
       "<table>\n",
       "    <tr>\n",
       "        <th>ocat_cd</th>\n",
       "        <th>ocat_nm</th>\n",
       "        <th>obj_cd</th>\n",
       "        <th>obj_nm</th>\n",
       "        <th>obj_key</th>\n",
       "        <th>objgrp_nm</th>\n",
       "    </tr>\n",
       "    <tr>\n",
       "        <td>0</td>\n",
       "        <td>Other</td>\n",
       "        <td>8502</td>\n",
       "        <td>Interdepartmental reimbursements</td>\n",
       "        <td>1</td>\n",
       "        <td>Interdepartmental </td>\n",
       "    </tr>\n",
       "    <tr>\n",
       "        <td>0</td>\n",
       "        <td>Other</td>\n",
       "        <td>8503</td>\n",
       "        <td>Grant reimbursement</td>\n",
       "        <td>2</td>\n",
       "        <td>Grant Related</td>\n",
       "    </tr>\n",
       "    <tr>\n",
       "        <td>0</td>\n",
       "        <td>Other</td>\n",
       "        <td>8505</td>\n",
       "        <td>Expense refunds</td>\n",
       "        <td>3</td>\n",
       "        <td>Expense refunds</td>\n",
       "    </tr>\n",
       "    <tr>\n",
       "        <td>0</td>\n",
       "        <td>Other</td>\n",
       "        <td>8508</td>\n",
       "        <td>Other 3rd party billings</td>\n",
       "        <td>4</td>\n",
       "        <td>Other</td>\n",
       "    </tr>\n",
       "    <tr>\n",
       "        <td>0</td>\n",
       "        <td>Other</td>\n",
       "        <td>8509</td>\n",
       "        <td>Reimbursed overtime</td>\n",
       "        <td>5</td>\n",
       "        <td>Reimbursable</td>\n",
       "    </tr>\n",
       "    <tr>\n",
       "        <td>0</td>\n",
       "        <td>Other</td>\n",
       "        <td>9775</td>\n",
       "        <td>Trf to ABIA D/S-Serial A Notes</td>\n",
       "        <td>6</td>\n",
       "        <td>Trf to ABIA D/S-Serial A Notes</td>\n",
       "    </tr>\n",
       "    <tr>\n",
       "        <td>0</td>\n",
       "        <td>Other</td>\n",
       "        <td>9885</td>\n",
       "        <td>Capital lease principal</td>\n",
       "        <td>7</td>\n",
       "        <td>Capital lease principal</td>\n",
       "    </tr>\n",
       "    <tr>\n",
       "        <td>0</td>\n",
       "        <td>Other</td>\n",
       "        <td>9892</td>\n",
       "        <td>TRF CRF to Debt Defeasance</td>\n",
       "        <td>8</td>\n",
       "        <td>TRF CRF to Debt Defeasance</td>\n",
       "    </tr>\n",
       "    <tr>\n",
       "        <td>152</td>\n",
       "        <td>Contractual Services</td>\n",
       "        <td>5220</td>\n",
       "        <td>Consultant-benefits/compensat</td>\n",
       "        <td>9</td>\n",
       "        <td>Consultant</td>\n",
       "    </tr>\n",
       "    <tr>\n",
       "        <td>152</td>\n",
       "        <td>Contractual Services</td>\n",
       "        <td>5230</td>\n",
       "        <td>Consultant-engineering</td>\n",
       "        <td>10</td>\n",
       "        <td>Consultant</td>\n",
       "    </tr>\n",
       "</table>"
      ],
      "text/plain": [
       "[(0, 'Other', '8502', 'Interdepartmental reimbursements', 1, 'Interdepartmental '),\n",
       " (0, 'Other', '8503', 'Grant reimbursement', 2, 'Grant Related'),\n",
       " (0, 'Other', '8505', 'Expense refunds', 3, 'Expense refunds'),\n",
       " (0, 'Other', '8508', 'Other 3rd party billings', 4, 'Other'),\n",
       " (0, 'Other', '8509', 'Reimbursed overtime', 5, 'Reimbursable'),\n",
       " (0, 'Other', '9775', 'Trf to ABIA D/S-Serial A Notes', 6, 'Trf to ABIA D/S-Serial A Notes'),\n",
       " (0, 'Other', '9885', 'Capital lease principal', 7, 'Capital lease principal'),\n",
       " (0, 'Other', '9892', 'TRF CRF to Debt Defeasance', 8, 'TRF CRF to Debt Defeasance'),\n",
       " (152, 'Contractual Services', '5220', 'Consultant-benefits/compensat', 9, 'Consultant'),\n",
       " (152, 'Contractual Services', '5230', 'Consultant-engineering', 10, 'Consultant')]"
      ]
     },
     "execution_count": 130,
     "metadata": {},
     "output_type": "execute_result"
    }
   ],
   "source": [
    "%%sql\n",
    "\n",
    "SELECT * FROM DIM_obj\n",
    "LIMIT 10;"
   ]
  },
  {
   "cell_type": "markdown",
   "metadata": {
    "slideshow": {
     "slide_type": "skip"
    }
   },
   "source": [
    "#### Fund dimension table\n",
    "\n",
    "Now, we go ahead and create a Fund dimension table."
   ]
  },
  {
   "cell_type": "markdown",
   "metadata": {
    "slideshow": {
     "slide_type": "skip"
    }
   },
   "source": [
    "Our assumption was that Fund_cd will be the unique value that corresponding to each fun_nm. If our assumption was right, we could have assigned Fund_cd as the primary key to the fund dimension. Now we write an SQL query to test our assumption and result showed that they are not completely different."
   ]
  },
  {
   "cell_type": "code",
   "execution_count": 67,
   "metadata": {
    "slideshow": {
     "slide_type": "skip"
    }
   },
   "outputs": [
    {
     "name": "stdout",
     "output_type": "stream",
     "text": [
      "5 rows affected.\n"
     ]
    },
    {
     "data": {
      "text/html": [
       "<table>\n",
       "    <tr>\n",
       "        <th>fund_cd</th>\n",
       "        <th>count</th>\n",
       "    </tr>\n",
       "    <tr>\n",
       "        <td>7911</td>\n",
       "        <td>2</td>\n",
       "    </tr>\n",
       "    <tr>\n",
       "        <td>7910</td>\n",
       "        <td>2</td>\n",
       "    </tr>\n",
       "    <tr>\n",
       "        <td>1005</td>\n",
       "        <td>1</td>\n",
       "    </tr>\n",
       "    <tr>\n",
       "        <td>1007</td>\n",
       "        <td>1</td>\n",
       "    </tr>\n",
       "    <tr>\n",
       "        <td>1004</td>\n",
       "        <td>1</td>\n",
       "    </tr>\n",
       "</table>"
      ],
      "text/plain": [
       "[('7911', 2), ('7910', 2), ('1005', 1), ('1007', 1), ('1004', 1)]"
      ]
     },
     "execution_count": 67,
     "metadata": {},
     "output_type": "execute_result"
    }
   ],
   "source": [
    "%%sql\n",
    "\n",
    "SELECT fund_cd, COUNT(DISTINCT fund_nm) as Count\n",
    "FROM austin\n",
    "GROUP BY fund_cd\n",
    "ORDER BY Count DESC\n",
    "LIMIT 5;"
   ]
  },
  {
   "cell_type": "markdown",
   "metadata": {
    "slideshow": {
     "slide_type": "skip"
    }
   },
   "source": [
    "Here we see that the code is not unique for each of the fund names, hence when we are creating a dimension table for fund we need to create a unique key identifier."
   ]
  },
  {
   "cell_type": "code",
   "execution_count": 68,
   "metadata": {
    "slideshow": {
     "slide_type": "skip"
    }
   },
   "outputs": [
    {
     "name": "stdout",
     "output_type": "stream",
     "text": [
      "Done.\n",
      "239 rows affected.\n"
     ]
    },
    {
     "data": {
      "text/plain": [
       "[]"
      ]
     },
     "execution_count": 68,
     "metadata": {},
     "output_type": "execute_result"
    }
   ],
   "source": [
    "%%sql\n",
    "\n",
    "DROP TABLE IF EXISTS DIM_fund;\n",
    "CREATE TABLE DIM_fund AS\n",
    "SELECT DISTINCT\n",
    "     fund_nm\n",
    "    ,fund_cd\n",
    "FROM austin;"
   ]
  },
  {
   "cell_type": "code",
   "execution_count": 69,
   "metadata": {
    "slideshow": {
     "slide_type": "skip"
    }
   },
   "outputs": [
    {
     "name": "stdout",
     "output_type": "stream",
     "text": [
      "Done.\n"
     ]
    },
    {
     "data": {
      "text/plain": [
       "[]"
      ]
     },
     "execution_count": 69,
     "metadata": {},
     "output_type": "execute_result"
    }
   ],
   "source": [
    "%%sql \n",
    "\n",
    "ALTER TABLE DIM_fund\n",
    "ADD COLUMN fund_key SERIAL PRIMARY KEY;"
   ]
  },
  {
   "cell_type": "markdown",
   "metadata": {},
   "source": [
    "Like what we did in the obj_dim, for the same reason, we also manually grouped and created a fund group column that assigned related categories in to one."
   ]
  },
  {
   "cell_type": "code",
   "execution_count": 137,
   "metadata": {},
   "outputs": [
    {
     "name": "stdout",
     "output_type": "stream",
     "text": [
      "Done.\n",
      "Done.\n"
     ]
    },
    {
     "data": {
      "text/plain": [
       "[]"
      ]
     },
     "execution_count": 137,
     "metadata": {},
     "output_type": "execute_result"
    }
   ],
   "source": [
    "%%sql\n",
    "DROP TABLE IF EXISTS GRP_F;\n",
    "CREATE TABLE GRP_F (\n",
    "    fund_cd VARCHAR(10), \n",
    "    fund_nm VARCHAR(70),\n",
    "    grp_nm VARCHAR(70)\n",
    ");"
   ]
  },
  {
   "cell_type": "code",
   "execution_count": 134,
   "metadata": {},
   "outputs": [
    {
     "data": {
      "text/plain": [
       "'/Users/zhaorc/Desktop'"
      ]
     },
     "execution_count": 134,
     "metadata": {},
     "output_type": "execute_result"
    }
   ],
   "source": [
    "pwd"
   ]
  },
  {
   "cell_type": "code",
   "execution_count": 138,
   "metadata": {},
   "outputs": [
    {
     "name": "stdout",
     "output_type": "stream",
     "text": [
      "239 rows affected.\n"
     ]
    },
    {
     "data": {
      "text/plain": [
       "[]"
      ]
     },
     "execution_count": 138,
     "metadata": {},
     "output_type": "execute_result"
    }
   ],
   "source": [
    "%%sql\n",
    "COPY GRP_F FROM '/Users/zhaorc/Desktop/fundgroup.csv'\n",
    "CSV\n",
    "HEADER\n",
    "QUOTE '\"'\n",
    "DELIMITER ',';"
   ]
  },
  {
   "cell_type": "code",
   "execution_count": 146,
   "metadata": {},
   "outputs": [
    {
     "name": "stdout",
     "output_type": "stream",
     "text": [
      "Done.\n"
     ]
    },
    {
     "data": {
      "text/plain": [
       "[]"
      ]
     },
     "execution_count": 146,
     "metadata": {},
     "output_type": "execute_result"
    }
   ],
   "source": [
    "%%sql\n",
    "ALTER TABLE DIM_fund\n",
    "ADD COLUMN fundgrp_nm VARCHAR(70);"
   ]
  },
  {
   "cell_type": "code",
   "execution_count": 147,
   "metadata": {},
   "outputs": [
    {
     "name": "stdout",
     "output_type": "stream",
     "text": [
      "239 rows affected.\n"
     ]
    },
    {
     "data": {
      "text/plain": [
       "[]"
      ]
     },
     "execution_count": 147,
     "metadata": {},
     "output_type": "execute_result"
    }
   ],
   "source": [
    "%%sql\n",
    "UPDATE dim_fund\n",
    "SET fundgrp_nm = g.grp_nm\n",
    "FROM grp_f g\n",
    "WHERE dim_fund.fund_cd = g.fund_cd"
   ]
  },
  {
   "cell_type": "markdown",
   "metadata": {
    "slideshow": {
     "slide_type": "skip"
    }
   },
   "source": [
    "Now checking the data in the fund dimension table."
   ]
  },
  {
   "cell_type": "code",
   "execution_count": 150,
   "metadata": {
    "slideshow": {
     "slide_type": "skip"
    }
   },
   "outputs": [
    {
     "name": "stdout",
     "output_type": "stream",
     "text": [
      "20 rows affected.\n"
     ]
    },
    {
     "data": {
      "text/html": [
       "<table>\n",
       "    <tr>\n",
       "        <th>fund_nm</th>\n",
       "        <th>fund_cd</th>\n",
       "        <th>fund_key</th>\n",
       "        <th>fundgrp_nm</th>\n",
       "    </tr>\n",
       "    <tr>\n",
       "        <td>1115 Medicaid Waiver</td>\n",
       "        <td>1115</td>\n",
       "        <td>1</td>\n",
       "        <td>1115 Medicaid Waiver</td>\n",
       "    </tr>\n",
       "    <tr>\n",
       "        <td>2013ABIA Construction RevBonds</td>\n",
       "        <td>4911</td>\n",
       "        <td>2</td>\n",
       "        <td>2013ABIA Construction RevBonds</td>\n",
       "    </tr>\n",
       "    <tr>\n",
       "        <td>2013ABIA Terminal East Infill RevBonds</td>\n",
       "        <td>4912</td>\n",
       "        <td>3</td>\n",
       "        <td>2013ABIA Terminal East Infill RevBonds</td>\n",
       "    </tr>\n",
       "    <tr>\n",
       "        <td>ABIA Improvements</td>\n",
       "        <td>4910</td>\n",
       "        <td>4</td>\n",
       "        <td>ABIA Improvements</td>\n",
       "    </tr>\n",
       "    <tr>\n",
       "        <td>AE Debt Service Fund</td>\n",
       "        <td>9761</td>\n",
       "        <td>5</td>\n",
       "        <td>AE Debt Service Fund</td>\n",
       "    </tr>\n",
       "    <tr>\n",
       "        <td>ARIC Sustainability</td>\n",
       "        <td>7860</td>\n",
       "        <td>6</td>\n",
       "        <td>ARIC Sustainability</td>\n",
       "    </tr>\n",
       "    <tr>\n",
       "        <td>ARR-Austin Resource Recovery Cip</td>\n",
       "        <td>4800</td>\n",
       "        <td>7</td>\n",
       "        <td>ARR-Austin Resource Recovery Cip</td>\n",
       "    </tr>\n",
       "    <tr>\n",
       "        <td>ARRA - Tobacco Prevention</td>\n",
       "        <td>6241</td>\n",
       "        <td>8</td>\n",
       "        <td>ARRA - Tobacco Prevention</td>\n",
       "    </tr>\n",
       "    <tr>\n",
       "        <td>ARRA Wastewater Improvements--Nva</td>\n",
       "        <td>4600</td>\n",
       "        <td>9</td>\n",
       "        <td>ARRA Wastewater Improvements--Nva</td>\n",
       "    </tr>\n",
       "    <tr>\n",
       "        <td>ATD Transportation CIP</td>\n",
       "        <td>4720</td>\n",
       "        <td>10</td>\n",
       "        <td>ATD Transportation CIP</td>\n",
       "    </tr>\n",
       "    <tr>\n",
       "        <td>AWU Debt Service Fund</td>\n",
       "        <td>9762</td>\n",
       "        <td>11</td>\n",
       "        <td>AWU Debt Service Fund</td>\n",
       "    </tr>\n",
       "    <tr>\n",
       "        <td>Airport Operating Fund</td>\n",
       "        <td>5070</td>\n",
       "        <td>12</td>\n",
       "        <td>Airport related fund</td>\n",
       "    </tr>\n",
       "    <tr>\n",
       "        <td>Airport Revenue Bond Redemption Fund</td>\n",
       "        <td>9660</td>\n",
       "        <td>13</td>\n",
       "        <td>Airport related fund</td>\n",
       "    </tr>\n",
       "    <tr>\n",
       "        <td>Airport Variable Rate Bond Debt Service Fund</td>\n",
       "        <td>9650</td>\n",
       "        <td>14</td>\n",
       "        <td>Airport related fund</td>\n",
       "    </tr>\n",
       "    <tr>\n",
       "        <td>Animal Services Fund</td>\n",
       "        <td>7035</td>\n",
       "        <td>15</td>\n",
       "        <td>Animal Services Fund</td>\n",
       "    </tr>\n",
       "    <tr>\n",
       "        <td>Austin Cable Access Fund</td>\n",
       "        <td>7110</td>\n",
       "        <td>16</td>\n",
       "        <td>Austin related Fund</td>\n",
       "    </tr>\n",
       "    <tr>\n",
       "        <td>Austin Code Fund</td>\n",
       "        <td>7050</td>\n",
       "        <td>17</td>\n",
       "        <td>Austin related Fund</td>\n",
       "    </tr>\n",
       "    <tr>\n",
       "        <td>Austin Energy Enterprise Grants</td>\n",
       "        <td>6920</td>\n",
       "        <td>18</td>\n",
       "        <td>Austin related Fund</td>\n",
       "    </tr>\n",
       "    <tr>\n",
       "        <td>Austin Energy Fund</td>\n",
       "        <td>5010</td>\n",
       "        <td>19</td>\n",
       "        <td>Austin related Fund</td>\n",
       "    </tr>\n",
       "    <tr>\n",
       "        <td>Austin History Center</td>\n",
       "        <td>7450</td>\n",
       "        <td>20</td>\n",
       "        <td>Austin related Fund</td>\n",
       "    </tr>\n",
       "</table>"
      ],
      "text/plain": [
       "[('1115 Medicaid Waiver', '1115', 1, '1115 Medicaid Waiver'),\n",
       " ('2013ABIA Construction RevBonds', '4911', 2, '2013ABIA Construction RevBonds'),\n",
       " ('2013ABIA Terminal East Infill RevBonds', '4912', 3, '2013ABIA Terminal East Infill RevBonds'),\n",
       " ('ABIA Improvements', '4910', 4, 'ABIA Improvements'),\n",
       " ('AE Debt Service Fund', '9761', 5, 'AE Debt Service Fund'),\n",
       " ('ARIC Sustainability', '7860', 6, 'ARIC Sustainability'),\n",
       " ('ARR-Austin Resource Recovery Cip', '4800', 7, 'ARR-Austin Resource Recovery Cip'),\n",
       " ('ARRA - Tobacco Prevention', '6241', 8, 'ARRA - Tobacco Prevention'),\n",
       " ('ARRA Wastewater Improvements--Nva', '4600', 9, 'ARRA Wastewater Improvements--Nva'),\n",
       " ('ATD Transportation CIP', '4720', 10, 'ATD Transportation CIP'),\n",
       " ('AWU Debt Service Fund', '9762', 11, 'AWU Debt Service Fund'),\n",
       " ('Airport Operating Fund', '5070', 12, 'Airport related fund'),\n",
       " ('Airport Revenue Bond Redemption Fund', '9660', 13, 'Airport related fund'),\n",
       " ('Airport Variable Rate Bond Debt Service Fund', '9650', 14, 'Airport related fund'),\n",
       " ('Animal Services Fund', '7035', 15, 'Animal Services Fund'),\n",
       " ('Austin Cable Access Fund', '7110', 16, 'Austin related Fund'),\n",
       " ('Austin Code Fund', '7050', 17, 'Austin related Fund'),\n",
       " ('Austin Energy Enterprise Grants', '6920', 18, 'Austin related Fund'),\n",
       " ('Austin Energy Fund', '5010', 19, 'Austin related Fund'),\n",
       " ('Austin History Center', '7450', 20, 'Austin related Fund')]"
      ]
     },
     "execution_count": 150,
     "metadata": {},
     "output_type": "execute_result"
    }
   ],
   "source": [
    "%%sql\n",
    "\n",
    "SELECT * \n",
    "FROM DIM_fund\n",
    "LIMIT 20;"
   ]
  },
  {
   "cell_type": "markdown",
   "metadata": {
    "slideshow": {
     "slide_type": "skip"
    }
   },
   "source": [
    "#### Vendor dimension table\n",
    "\n",
    "Then create the vendor dimension table. \n",
    "\n",
    "First we did the same test to see wether the 'vendor_cust_cd' can be used as primary key in vendor dimension table."
   ]
  },
  {
   "cell_type": "code",
   "execution_count": 71,
   "metadata": {
    "slideshow": {
     "slide_type": "skip"
    }
   },
   "outputs": [
    {
     "name": "stdout",
     "output_type": "stream",
     "text": [
      "5 rows affected.\n"
     ]
    },
    {
     "data": {
      "text/html": [
       "<table>\n",
       "    <tr>\n",
       "        <th>vend_cust_cd</th>\n",
       "        <th>count</th>\n",
       "    </tr>\n",
       "    <tr>\n",
       "        <td>MIS0000024</td>\n",
       "        <td>5588</td>\n",
       "    </tr>\n",
       "    <tr>\n",
       "        <td>MIS0000222</td>\n",
       "        <td>2376</td>\n",
       "    </tr>\n",
       "    <tr>\n",
       "        <td>MIS0000004</td>\n",
       "        <td>2165</td>\n",
       "    </tr>\n",
       "    <tr>\n",
       "        <td>MIS0000025</td>\n",
       "        <td>699</td>\n",
       "    </tr>\n",
       "    <tr>\n",
       "        <td>MIS0000572</td>\n",
       "        <td>693</td>\n",
       "    </tr>\n",
       "</table>"
      ],
      "text/plain": [
       "[('MIS0000024', 5588),\n",
       " ('MIS0000222', 2376),\n",
       " ('MIS0000004', 2165),\n",
       " ('MIS0000025', 699),\n",
       " ('MIS0000572', 693)]"
      ]
     },
     "execution_count": 71,
     "metadata": {},
     "output_type": "execute_result"
    }
   ],
   "source": [
    "%%sql\n",
    "\n",
    "SELECT vend_cust_Cd, COUNT(DISTINCT lgl_nm) as Count\n",
    "FROM austin\n",
    "GROUP BY vend_cust_cd\n",
    "ORDER BY Count DESC\n",
    "LIMIT 5;"
   ]
  },
  {
   "cell_type": "markdown",
   "metadata": {
    "slideshow": {
     "slide_type": "skip"
    }
   },
   "source": [
    "Here we see that the vend_cust_cd is not unique for each of the Company/Individual names, hence when we are creating a dimension table for vendor we need to create a unique key identifier.\n"
   ]
  },
  {
   "cell_type": "code",
   "execution_count": 72,
   "metadata": {
    "slideshow": {
     "slide_type": "skip"
    }
   },
   "outputs": [
    {
     "name": "stdout",
     "output_type": "stream",
     "text": [
      "Done.\n",
      "18739 rows affected.\n"
     ]
    },
    {
     "data": {
      "text/plain": [
       "[]"
      ]
     },
     "execution_count": 72,
     "metadata": {},
     "output_type": "execute_result"
    }
   ],
   "source": [
    "%%sql\n",
    "\n",
    "DROP TABLE IF EXISTS DIM_Vendor;\n",
    "CREATE TABLE DIM_Vendor AS\n",
    "SELECT DISTINCT\n",
    "     vend_cust_cd \n",
    "    ,lgl_nm    \n",
    "FROM austin;"
   ]
  },
  {
   "cell_type": "code",
   "execution_count": 73,
   "metadata": {
    "slideshow": {
     "slide_type": "skip"
    }
   },
   "outputs": [
    {
     "name": "stdout",
     "output_type": "stream",
     "text": [
      "Done.\n"
     ]
    },
    {
     "data": {
      "text/plain": [
       "[]"
      ]
     },
     "execution_count": 73,
     "metadata": {},
     "output_type": "execute_result"
    }
   ],
   "source": [
    "%%sql \n",
    "\n",
    "ALTER TABLE DIM_VENDOR\n",
    "ADD COLUMN vendor_key SERIAL PRIMARY KEY;"
   ]
  },
  {
   "cell_type": "code",
   "execution_count": 74,
   "metadata": {
    "slideshow": {
     "slide_type": "skip"
    }
   },
   "outputs": [
    {
     "name": "stdout",
     "output_type": "stream",
     "text": [
      "10 rows affected.\n"
     ]
    },
    {
     "data": {
      "text/html": [
       "<table>\n",
       "    <tr>\n",
       "        <th>vend_cust_cd</th>\n",
       "        <th>lgl_nm</th>\n",
       "        <th>vendor_key</th>\n",
       "    </tr>\n",
       "    <tr>\n",
       "        <td>AAA0002500</td>\n",
       "        <td>AAA FIRE &amp; SAFETY EQUIPMENT CO INC</td>\n",
       "        <td>1</td>\n",
       "    </tr>\n",
       "    <tr>\n",
       "        <td>AAA7061200</td>\n",
       "        <td>AAA MILL INC</td>\n",
       "        <td>2</td>\n",
       "    </tr>\n",
       "    <tr>\n",
       "        <td>AAA7166780</td>\n",
       "        <td>AAA COOPER TRANSPORTATION</td>\n",
       "        <td>3</td>\n",
       "    </tr>\n",
       "    <tr>\n",
       "        <td>AAR0007200</td>\n",
       "        <td>AARON CONCRETE CONTRACTORS LP</td>\n",
       "        <td>4</td>\n",
       "    </tr>\n",
       "    <tr>\n",
       "        <td>AAR7005170</td>\n",
       "        <td>AAR INC</td>\n",
       "        <td>5</td>\n",
       "    </tr>\n",
       "    <tr>\n",
       "        <td>ABB0011500</td>\n",
       "        <td>JRE ENTERPRISES INC</td>\n",
       "        <td>6</td>\n",
       "    </tr>\n",
       "    <tr>\n",
       "        <td>ABB6010930</td>\n",
       "        <td>ABB INC</td>\n",
       "        <td>7</td>\n",
       "    </tr>\n",
       "    <tr>\n",
       "        <td>ABC0013000</td>\n",
       "        <td>DELTA QUEEN INC</td>\n",
       "        <td>8</td>\n",
       "    </tr>\n",
       "    <tr>\n",
       "        <td>ABC0014300</td>\n",
       "        <td>ABC HOTEL &amp; RESTAURANT SUPPLY INC</td>\n",
       "        <td>9</td>\n",
       "    </tr>\n",
       "    <tr>\n",
       "        <td>ABC0014750</td>\n",
       "        <td>ABC PEST CONTROL OF AUSTIN INC</td>\n",
       "        <td>10</td>\n",
       "    </tr>\n",
       "</table>"
      ],
      "text/plain": [
       "[('AAA0002500', 'AAA FIRE & SAFETY EQUIPMENT CO INC', 1),\n",
       " ('AAA7061200', 'AAA MILL INC', 2),\n",
       " ('AAA7166780', 'AAA COOPER TRANSPORTATION', 3),\n",
       " ('AAR0007200', 'AARON CONCRETE CONTRACTORS LP', 4),\n",
       " ('AAR7005170', 'AAR INC', 5),\n",
       " ('ABB0011500', 'JRE ENTERPRISES INC', 6),\n",
       " ('ABB6010930', 'ABB INC', 7),\n",
       " ('ABC0013000', 'DELTA QUEEN INC', 8),\n",
       " ('ABC0014300', 'ABC HOTEL & RESTAURANT SUPPLY INC', 9),\n",
       " ('ABC0014750', 'ABC PEST CONTROL OF AUSTIN INC', 10)]"
      ]
     },
     "execution_count": 74,
     "metadata": {},
     "output_type": "execute_result"
    }
   ],
   "source": [
    "%%sql\n",
    "\n",
    "SELECT * \n",
    "FROM dim_vendor\n",
    "LIMIT 10;"
   ]
  },
  {
   "cell_type": "markdown",
   "metadata": {
    "slideshow": {
     "slide_type": "skip"
    }
   },
   "source": [
    "Checking the Vendor dimension table. "
   ]
  },
  {
   "cell_type": "markdown",
   "metadata": {},
   "source": [
    "#### Organization dimension table\n",
    "Next creating the organization dimension table to include the information about the different level organization that made the transaction."
   ]
  },
  {
   "cell_type": "code",
   "execution_count": 75,
   "metadata": {
    "slideshow": {
     "slide_type": "skip"
    }
   },
   "outputs": [
    {
     "name": "stdout",
     "output_type": "stream",
     "text": [
      "Done.\n",
      "2151 rows affected.\n"
     ]
    },
    {
     "data": {
      "text/plain": [
       "[]"
      ]
     },
     "execution_count": 75,
     "metadata": {},
     "output_type": "execute_result"
    }
   ],
   "source": [
    "%%sql\n",
    "\n",
    "DROP TABLE IF EXISTS dim_org;\n",
    "CREATE TABLE dim_org AS\n",
    "SELECT DISTINCT\n",
    "     dept_cd\n",
    "    ,dept_nm\n",
    "    ,div_cd\n",
    "    ,div_nm\n",
    "    ,gp_cd\n",
    "    ,gp_nm\n",
    "FROM austin;"
   ]
  },
  {
   "cell_type": "code",
   "execution_count": 76,
   "metadata": {
    "slideshow": {
     "slide_type": "skip"
    }
   },
   "outputs": [
    {
     "name": "stdout",
     "output_type": "stream",
     "text": [
      "Done.\n"
     ]
    },
    {
     "data": {
      "text/plain": [
       "[]"
      ]
     },
     "execution_count": 76,
     "metadata": {},
     "output_type": "execute_result"
    }
   ],
   "source": [
    "%%sql\n",
    "ALTER TABLE dim_org\n",
    "ADD COLUMN org_key SERIAL PRIMARY KEY;"
   ]
  },
  {
   "cell_type": "code",
   "execution_count": 78,
   "metadata": {
    "slideshow": {
     "slide_type": "skip"
    }
   },
   "outputs": [
    {
     "name": "stdout",
     "output_type": "stream",
     "text": [
      "10 rows affected.\n"
     ]
    },
    {
     "data": {
      "text/html": [
       "<table>\n",
       "    <tr>\n",
       "        <th>dept_cd</th>\n",
       "        <th>dept_nm</th>\n",
       "        <th>div_cd</th>\n",
       "        <th>div_nm</th>\n",
       "        <th>gp_cd</th>\n",
       "        <th>gp_nm</th>\n",
       "        <th>org_key</th>\n",
       "    </tr>\n",
       "    <tr>\n",
       "        <td>11</td>\n",
       "        <td>Austin Energy</td>\n",
       "        <td>0100</td>\n",
       "        <td>Chilled Water Parent Acct</td>\n",
       "        <td>NEPA      </td>\n",
       "        <td>Non Electric Plant Assets</td>\n",
       "        <td>1</td>\n",
       "    </tr>\n",
       "    <tr>\n",
       "        <td>11</td>\n",
       "        <td>Austin Energy</td>\n",
       "        <td>1171</td>\n",
       "        <td>Alternate Energy Projects</td>\n",
       "        <td>ALTP      </td>\n",
       "        <td>Alternate Energy Project</td>\n",
       "        <td>2</td>\n",
       "    </tr>\n",
       "    <tr>\n",
       "        <td>11</td>\n",
       "        <td>Austin Energy</td>\n",
       "        <td>1PSM</td>\n",
       "        <td>Power Supply &amp; Market Operations</td>\n",
       "        <td>1GEN      </td>\n",
       "        <td>Power Production</td>\n",
       "        <td>3</td>\n",
       "    </tr>\n",
       "    <tr>\n",
       "        <td>11</td>\n",
       "        <td>Austin Energy</td>\n",
       "        <td>2900</td>\n",
       "        <td>Fy2001 Transmission Parent</td>\n",
       "        <td>DSUB      </td>\n",
       "        <td>Distribution Substation</td>\n",
       "        <td>4</td>\n",
       "    </tr>\n",
       "    <tr>\n",
       "        <td>11</td>\n",
       "        <td>Austin Energy</td>\n",
       "        <td>2900</td>\n",
       "        <td>Fy2001 Transmission Parent</td>\n",
       "        <td>FPPP      </td>\n",
       "        <td>Fayette Capital Additions-</td>\n",
       "        <td>5</td>\n",
       "    </tr>\n",
       "    <tr>\n",
       "        <td>11</td>\n",
       "        <td>Austin Energy</td>\n",
       "        <td>2900</td>\n",
       "        <td>Fy2001 Transmission Parent</td>\n",
       "        <td>TRAN      </td>\n",
       "        <td>Transmission</td>\n",
       "        <td>6</td>\n",
       "    </tr>\n",
       "    <tr>\n",
       "        <td>11</td>\n",
       "        <td>Austin Energy</td>\n",
       "        <td>2900</td>\n",
       "        <td>Fy2001 Transmission Parent</td>\n",
       "        <td>TSUB      </td>\n",
       "        <td>Transmission Substation</td>\n",
       "        <td>7</td>\n",
       "    </tr>\n",
       "    <tr>\n",
       "        <td>11</td>\n",
       "        <td>Austin Energy</td>\n",
       "        <td>2ESD</td>\n",
       "        <td>Electric Service Delivery</td>\n",
       "        <td>2DST      </td>\n",
       "        <td>Distribution Services</td>\n",
       "        <td>8</td>\n",
       "    </tr>\n",
       "    <tr>\n",
       "        <td>11</td>\n",
       "        <td>Austin Energy</td>\n",
       "        <td>2ESD</td>\n",
       "        <td>Electric Service Delivery</td>\n",
       "        <td>2PDL      </td>\n",
       "        <td>Power Delivery Support</td>\n",
       "        <td>9</td>\n",
       "    </tr>\n",
       "    <tr>\n",
       "        <td>11</td>\n",
       "        <td>Austin Energy</td>\n",
       "        <td>2ESD</td>\n",
       "        <td>Electric Service Delivery</td>\n",
       "        <td>2TRN      </td>\n",
       "        <td>Transmission Services</td>\n",
       "        <td>10</td>\n",
       "    </tr>\n",
       "</table>"
      ],
      "text/plain": [
       "[(11, 'Austin Energy', '0100', 'Chilled Water Parent Acct', 'NEPA      ', 'Non Electric Plant Assets', 1),\n",
       " (11, 'Austin Energy', '1171', 'Alternate Energy Projects', 'ALTP      ', 'Alternate Energy Project', 2),\n",
       " (11, 'Austin Energy', '1PSM', 'Power Supply & Market Operations', '1GEN      ', 'Power Production', 3),\n",
       " (11, 'Austin Energy', '2900', 'Fy2001 Transmission Parent', 'DSUB      ', 'Distribution Substation', 4),\n",
       " (11, 'Austin Energy', '2900', 'Fy2001 Transmission Parent', 'FPPP      ', 'Fayette Capital Additions-', 5),\n",
       " (11, 'Austin Energy', '2900', 'Fy2001 Transmission Parent', 'TRAN      ', 'Transmission', 6),\n",
       " (11, 'Austin Energy', '2900', 'Fy2001 Transmission Parent', 'TSUB      ', 'Transmission Substation', 7),\n",
       " (11, 'Austin Energy', '2ESD', 'Electric Service Delivery', '2DST      ', 'Distribution Services', 8),\n",
       " (11, 'Austin Energy', '2ESD', 'Electric Service Delivery', '2PDL      ', 'Power Delivery Support', 9),\n",
       " (11, 'Austin Energy', '2ESD', 'Electric Service Delivery', '2TRN      ', 'Transmission Services', 10)]"
      ]
     },
     "execution_count": 78,
     "metadata": {},
     "output_type": "execute_result"
    }
   ],
   "source": [
    "%%sql\n",
    "\n",
    "SELECT * FROM dim_org LIMIT 10;"
   ]
  },
  {
   "cell_type": "markdown",
   "metadata": {
    "slideshow": {
     "slide_type": "skip"
    }
   },
   "source": [
    "Checking the organization dimension table. "
   ]
  },
  {
   "cell_type": "markdown",
   "metadata": {
    "slideshow": {
     "slide_type": "skip"
    }
   },
   "source": [
    "#### Fact table\n",
    "Now creating the Fact table. This table will involve 6 surrogate keys that refer to each dimension table, 2 degenerate dimensions of accounting line description and check_status that do not fit in to any neat dimension but store important information that are not numerical, and 1 numeric data, which is the payment amount. "
   ]
  },
  {
   "cell_type": "markdown",
   "metadata": {
    "slideshow": {
     "slide_type": "skip"
    }
   },
   "source": [
    "Now Inserting data into the fact table. This is the part we select information that matches between the original table –austin and the dimension tables by left joining the austin table to the dimension tables with proper foreign keys and put those matching records into the fact table."
   ]
  },
  {
   "cell_type": "code",
   "execution_count": 151,
   "metadata": {
    "slideshow": {
     "slide_type": "skip"
    }
   },
   "outputs": [
    {
     "name": "stdout",
     "output_type": "stream",
     "text": [
      "Done.\n",
      "Done.\n"
     ]
    },
    {
     "data": {
      "text/plain": [
       "[]"
      ]
     },
     "execution_count": 151,
     "metadata": {},
     "output_type": "execute_result"
    }
   ],
   "source": [
    "%%sql\n",
    "\n",
    "DROP TABLE IF EXISTS FACT_spending;\n",
    "CREATE TABLE FACT_spending(\n",
    "serial_id SERIAL PRIMARY KEY,\n",
    "fund_id INTEGER,\n",
    "org_id INTEGER,\n",
    "obj_id INTEGER,\n",
    "vendor_id INTEGER,\n",
    "date_id INTEGER,\n",
    "junk_id INTEGER,\n",
    "description VARCHAR(60),\n",
    "check_status VARCHAR(15),\n",
    "amount NUMERIC\n",
    ");"
   ]
  },
  {
   "cell_type": "code",
   "execution_count": 152,
   "metadata": {
    "scrolled": true,
    "slideshow": {
     "slide_type": "skip"
    }
   },
   "outputs": [
    {
     "name": "stdout",
     "output_type": "stream",
     "text": [
      "390287 rows affected.\n"
     ]
    },
    {
     "data": {
      "text/plain": [
       "[]"
      ]
     },
     "execution_count": 152,
     "metadata": {},
     "output_type": "execute_result"
    }
   ],
   "source": [
    "%%sql\n",
    "\n",
    "INSERT INTO FACT_spending (fund_id,org_id,obj_id,vendor_id,date_id,junk_id,description,check_status,amount)\n",
    "SELECT f.fund_key\n",
    "        ,o.org_key\n",
    "        ,b.obj_key\n",
    "        ,v.vendor_key\n",
    "        ,d.date_key\n",
    "        ,j.junk_key\n",
    "        ,a.actg_ln_dscr\n",
    "        ,a.cvl_chk_sta_dv\n",
    "        ,a.amount\n",
    "FROM austin a \n",
    "LEFT JOIN DIM_fund f ON a.fund_cd=f.fund_cd AND a.fund_nm=f.fund_nm\n",
    "LEFT JOIN DIM_org o ON a.dept_cd=o.dept_cd AND a.dept_nm=o.dept_nm AND a.div_cd=o.div_cd\n",
    "        AND a.div_nm=o.div_nm AND a.gp_cd=o.gp_cd AND a.gp_nm=o.gp_nm\n",
    "LEFT JOIN DIM_obj b ON a.obj_nm=b.obj_nm\n",
    "LEFT JOIN DIM_vendor v ON a.lgl_nm=v.lgl_nm AND a.vend_cust_cd=v.vend_cust_cd\n",
    "LEFT JOIN DIM_date d ON a.check_date=d.check_date\n",
    "LEFT JOIN DIM_junkdata j ON a.rfed_doc_cd=j.rfed_doc_cd AND a.rfed_doc_dept_cd=j.rfed_doc_dept_cd AND a.rfed_doc_id=j.rfed_doc_id \n",
    "        AND a.rfed_vend_ln_no=j.rfed_vend_ln_no AND a.rfed_comm_ln_no=j.rfed_comm_ln_no AND a.rfed_actg_ln_no=j.rfed_actg_ln_no\n",
    "        AND a.rf_doc_cd=j.rf_doc_cd AND a.rf_doc_dept_cd=j.rf_doc_dept_cd AND a.rf_doc_id=j.rf_doc_id;"
   ]
  },
  {
   "cell_type": "code",
   "execution_count": 153,
   "metadata": {
    "slideshow": {
     "slide_type": "slide"
    }
   },
   "outputs": [
    {
     "name": "stdout",
     "output_type": "stream",
     "text": [
      "10 rows affected.\n"
     ]
    },
    {
     "data": {
      "text/html": [
       "<table>\n",
       "    <tr>\n",
       "        <th>serial_id</th>\n",
       "        <th>fund_id</th>\n",
       "        <th>org_id</th>\n",
       "        <th>obj_id</th>\n",
       "        <th>vendor_id</th>\n",
       "        <th>date_id</th>\n",
       "        <th>junk_id</th>\n",
       "        <th>description</th>\n",
       "        <th>check_status</th>\n",
       "        <th>amount</th>\n",
       "    </tr>\n",
       "    <tr>\n",
       "        <td>1</td>\n",
       "        <td>19</td>\n",
       "        <td>17</td>\n",
       "        <td>178</td>\n",
       "        <td>12908</td>\n",
       "        <td>432</td>\n",
       "        <td>110511</td>\n",
       "        <td>Grants to others/subrecipients</td>\n",
       "        <td>Paid</td>\n",
       "        <td>1421.54</td>\n",
       "    </tr>\n",
       "    <tr>\n",
       "        <td>2</td>\n",
       "        <td>19</td>\n",
       "        <td>17</td>\n",
       "        <td>178</td>\n",
       "        <td>12837</td>\n",
       "        <td>433</td>\n",
       "        <td>257256</td>\n",
       "        <td>Grants to others/subrecipients</td>\n",
       "        <td>Paid</td>\n",
       "        <td>1200.53</td>\n",
       "    </tr>\n",
       "    <tr>\n",
       "        <td>3</td>\n",
       "        <td>177</td>\n",
       "        <td>34</td>\n",
       "        <td>246</td>\n",
       "        <td>257</td>\n",
       "        <td>677</td>\n",
       "        <td>313930</td>\n",
       "        <td>Educational/promotional</td>\n",
       "        <td>Paid</td>\n",
       "        <td>1000.00</td>\n",
       "    </tr>\n",
       "    <tr>\n",
       "        <td>4</td>\n",
       "        <td>19</td>\n",
       "        <td>31</td>\n",
       "        <td>161</td>\n",
       "        <td>927</td>\n",
       "        <td>131</td>\n",
       "        <td>155804</td>\n",
       "        <td>Memberships</td>\n",
       "        <td>Paid</td>\n",
       "        <td>2000.00</td>\n",
       "    </tr>\n",
       "    <tr>\n",
       "        <td>5</td>\n",
       "        <td>19</td>\n",
       "        <td>18</td>\n",
       "        <td>178</td>\n",
       "        <td>13001</td>\n",
       "        <td>85</td>\n",
       "        <td>255446</td>\n",
       "        <td>Grants to others/subrecipients</td>\n",
       "        <td>Paid</td>\n",
       "        <td>590.00</td>\n",
       "    </tr>\n",
       "    <tr>\n",
       "        <td>6</td>\n",
       "        <td>19</td>\n",
       "        <td>19</td>\n",
       "        <td>145</td>\n",
       "        <td>339</td>\n",
       "        <td>4</td>\n",
       "        <td>69406</td>\n",
       "        <td>Advertising/publication</td>\n",
       "        <td>Paid</td>\n",
       "        <td>2645.40</td>\n",
       "    </tr>\n",
       "    <tr>\n",
       "        <td>7</td>\n",
       "        <td>19</td>\n",
       "        <td>9</td>\n",
       "        <td>151</td>\n",
       "        <td>7476</td>\n",
       "        <td>1</td>\n",
       "        <td>67904</td>\n",
       "        <td>Employee recruiting</td>\n",
       "        <td>Paid</td>\n",
       "        <td>4368.81</td>\n",
       "    </tr>\n",
       "    <tr>\n",
       "        <td>8</td>\n",
       "        <td>19</td>\n",
       "        <td>19</td>\n",
       "        <td>145</td>\n",
       "        <td>14975</td>\n",
       "        <td>1</td>\n",
       "        <td>128089</td>\n",
       "        <td>Advertising/publication</td>\n",
       "        <td>Outstanding</td>\n",
       "        <td>1850.00</td>\n",
       "    </tr>\n",
       "    <tr>\n",
       "        <td>9</td>\n",
       "        <td>19</td>\n",
       "        <td>19</td>\n",
       "        <td>178</td>\n",
       "        <td>12792</td>\n",
       "        <td>1</td>\n",
       "        <td>165712</td>\n",
       "        <td>Grants to others/subrecipients</td>\n",
       "        <td>Paid</td>\n",
       "        <td>904.00</td>\n",
       "    </tr>\n",
       "    <tr>\n",
       "        <td>10</td>\n",
       "        <td>19</td>\n",
       "        <td>19</td>\n",
       "        <td>145</td>\n",
       "        <td>246</td>\n",
       "        <td>4</td>\n",
       "        <td>242226</td>\n",
       "        <td>Advertising/publication</td>\n",
       "        <td>Paid</td>\n",
       "        <td>825.00</td>\n",
       "    </tr>\n",
       "</table>"
      ],
      "text/plain": [
       "[(1, 19, 17, 178, 12908, 432, 110511, 'Grants to others/subrecipients', 'Paid', Decimal('1421.54')),\n",
       " (2, 19, 17, 178, 12837, 433, 257256, 'Grants to others/subrecipients', 'Paid', Decimal('1200.53')),\n",
       " (3, 177, 34, 246, 257, 677, 313930, 'Educational/promotional', 'Paid', Decimal('1000.00')),\n",
       " (4, 19, 31, 161, 927, 131, 155804, 'Memberships', 'Paid', Decimal('2000.00')),\n",
       " (5, 19, 18, 178, 13001, 85, 255446, 'Grants to others/subrecipients', 'Paid', Decimal('590.00')),\n",
       " (6, 19, 19, 145, 339, 4, 69406, 'Advertising/publication', 'Paid', Decimal('2645.40')),\n",
       " (7, 19, 9, 151, 7476, 1, 67904, 'Employee recruiting', 'Paid', Decimal('4368.81')),\n",
       " (8, 19, 19, 145, 14975, 1, 128089, 'Advertising/publication', 'Outstanding', Decimal('1850.00')),\n",
       " (9, 19, 19, 178, 12792, 1, 165712, 'Grants to others/subrecipients', 'Paid', Decimal('904.00')),\n",
       " (10, 19, 19, 145, 246, 4, 242226, 'Advertising/publication', 'Paid', Decimal('825.00'))]"
      ]
     },
     "execution_count": 153,
     "metadata": {},
     "output_type": "execute_result"
    }
   ],
   "source": [
    "%%sql\n",
    "\n",
    "SELECT * FROM FACT_SPENDING\n",
    "LIMIT 10;"
   ]
  },
  {
   "cell_type": "markdown",
   "metadata": {},
   "source": [
    "Now we need to verify whether the FACT_spending tables contains the same number of records as the original data table"
   ]
  },
  {
   "cell_type": "code",
   "execution_count": 132,
   "metadata": {},
   "outputs": [
    {
     "name": "stdout",
     "output_type": "stream",
     "text": [
      "1 rows affected.\n"
     ]
    },
    {
     "data": {
      "text/html": [
       "<table>\n",
       "    <tr>\n",
       "        <th>count</th>\n",
       "    </tr>\n",
       "    <tr>\n",
       "        <td>390287</td>\n",
       "    </tr>\n",
       "</table>"
      ],
      "text/plain": [
       "[(390287,)]"
      ]
     },
     "execution_count": 132,
     "metadata": {},
     "output_type": "execute_result"
    }
   ],
   "source": [
    "%%sql\n",
    "\n",
    "SELECT COUNT(*) FROM austin;"
   ]
  },
  {
   "cell_type": "markdown",
   "metadata": {},
   "source": [
    "Hence we verify that our fact table contains the same number of rows as our original data."
   ]
  },
  {
   "cell_type": "markdown",
   "metadata": {},
   "source": [
    "Now adding the Foreign Key references to the dimension table keys (Surrogate Keys) which are being referenced in the FACT_spending table."
   ]
  },
  {
   "cell_type": "code",
   "execution_count": 154,
   "metadata": {},
   "outputs": [
    {
     "name": "stdout",
     "output_type": "stream",
     "text": [
      "Done.\n"
     ]
    },
    {
     "data": {
      "text/plain": [
       "[]"
      ]
     },
     "execution_count": 154,
     "metadata": {},
     "output_type": "execute_result"
    }
   ],
   "source": [
    "%%sql\n",
    "\n",
    "ALTER TABLE FACT_spending\n",
    "ADD CONSTRAINT fund_fk\n",
    "FOREIGN KEY (fund_id) REFERENCES DIM_fund\n",
    "ON DELETE CASCADE;"
   ]
  },
  {
   "cell_type": "code",
   "execution_count": 155,
   "metadata": {},
   "outputs": [
    {
     "name": "stdout",
     "output_type": "stream",
     "text": [
      "Done.\n"
     ]
    },
    {
     "data": {
      "text/plain": [
       "[]"
      ]
     },
     "execution_count": 155,
     "metadata": {},
     "output_type": "execute_result"
    }
   ],
   "source": [
    "%%sql\n",
    "\n",
    "ALTER TABLE FACT_spending\n",
    "ADD CONSTRAINT org_fk\n",
    "FOREIGN KEY (org_id) REFERENCES DIM_org\n",
    "ON DELETE CASCADE;"
   ]
  },
  {
   "cell_type": "code",
   "execution_count": 156,
   "metadata": {},
   "outputs": [
    {
     "name": "stdout",
     "output_type": "stream",
     "text": [
      "Done.\n"
     ]
    },
    {
     "data": {
      "text/plain": [
       "[]"
      ]
     },
     "execution_count": 156,
     "metadata": {},
     "output_type": "execute_result"
    }
   ],
   "source": [
    "%%sql\n",
    "\n",
    "ALTER TABLE FACT_spending\n",
    "ADD CONSTRAINT obj_fk\n",
    "FOREIGN KEY (obj_id) REFERENCES DIM_obj\n",
    "ON DELETE CASCADE;"
   ]
  },
  {
   "cell_type": "code",
   "execution_count": 157,
   "metadata": {},
   "outputs": [
    {
     "name": "stdout",
     "output_type": "stream",
     "text": [
      "Done.\n"
     ]
    },
    {
     "data": {
      "text/plain": [
       "[]"
      ]
     },
     "execution_count": 157,
     "metadata": {},
     "output_type": "execute_result"
    }
   ],
   "source": [
    "%%sql\n",
    "\n",
    "ALTER TABLE FACT_spending\n",
    "ADD CONSTRAINT date_fk\n",
    "FOREIGN KEY (date_id) REFERENCES DIM_date\n",
    "ON DELETE CASCADE;"
   ]
  },
  {
   "cell_type": "code",
   "execution_count": 158,
   "metadata": {},
   "outputs": [
    {
     "name": "stdout",
     "output_type": "stream",
     "text": [
      "Done.\n"
     ]
    },
    {
     "data": {
      "text/plain": [
       "[]"
      ]
     },
     "execution_count": 158,
     "metadata": {},
     "output_type": "execute_result"
    }
   ],
   "source": [
    "%%sql\n",
    "\n",
    "ALTER TABLE FACT_spending\n",
    "ADD CONSTRAINT vendor_fk\n",
    "FOREIGN KEY (vendor_id) REFERENCES DIM_vendor\n",
    "ON DELETE CASCADE;"
   ]
  },
  {
   "cell_type": "code",
   "execution_count": 159,
   "metadata": {},
   "outputs": [
    {
     "name": "stdout",
     "output_type": "stream",
     "text": [
      "Done.\n"
     ]
    },
    {
     "data": {
      "text/plain": [
       "[]"
      ]
     },
     "execution_count": 159,
     "metadata": {},
     "output_type": "execute_result"
    }
   ],
   "source": [
    "%%sql\n",
    "\n",
    "ALTER TABLE FACT_spending\n",
    "ADD CONSTRAINT junk_fk\n",
    "FOREIGN KEY (junk_id) REFERENCES DIM_junkdata\n",
    "ON DELETE CASCADE;"
   ]
  },
  {
   "cell_type": "markdown",
   "metadata": {
    "slideshow": {
     "slide_type": "slide"
    }
   },
   "source": [
    "# PART 3 - ANALYSIS\n"
   ]
  },
  {
   "cell_type": "markdown",
   "metadata": {},
   "source": [
    "####  We will start from importing packages that are related to the libraries we used for the analysis and plots. If you are missing the packages for seaborn or plotly, please use pip install plotly and pip install seaborn to install them."
   ]
  },
  {
   "cell_type": "code",
   "execution_count": 14,
   "metadata": {
    "slideshow": {
     "slide_type": "skip"
    }
   },
   "outputs": [],
   "source": [
    "import pandas as pd\n",
    "from pandas import DataFrame\n",
    "import numpy as np\n",
    "\n",
    "import matplotlib\n",
    "import matplotlib.pyplot as plt\n",
    "%matplotlib inline\n",
    "\n",
    "import plotly\n",
    "import plotly.plotly as py\n",
    "import plotly.graph_objs as go\n",
    "plotly.tools.set_credentials_file(username='zoeyxrz', api_key='CPHKqljiad3I1ShOUvAk')\n",
    "\n",
    "import seaborn as sns"
   ]
  },
  {
   "cell_type": "markdown",
   "metadata": {},
   "source": [
    "#### Our analysis will start from analyzing government spending over time to give you a broader view of how it looks like."
   ]
  },
  {
   "cell_type": "markdown",
   "metadata": {
    "slideshow": {
     "slide_type": "slide"
    }
   },
   "source": [
    "#### What is the Quarter wise total spend per year?"
   ]
  },
  {
   "cell_type": "code",
   "execution_count": 109,
   "metadata": {
    "scrolled": true,
    "slideshow": {
     "slide_type": "skip"
    }
   },
   "outputs": [
    {
     "name": "stdout",
     "output_type": "stream",
     "text": [
      "12 rows affected.\n"
     ]
    },
    {
     "data": {
      "text/html": [
       "<table>\n",
       "    <tr>\n",
       "        <th>fy_dc</th>\n",
       "        <th>fy_quarter</th>\n",
       "        <th>year-quarter</th>\n",
       "        <th>Total Spend</th>\n",
       "    </tr>\n",
       "    <tr>\n",
       "        <td>2014</td>\n",
       "        <td>Q1</td>\n",
       "        <td>2014-Q1</td>\n",
       "        <td>559883785.39</td>\n",
       "    </tr>\n",
       "    <tr>\n",
       "        <td>2014</td>\n",
       "        <td>Q2</td>\n",
       "        <td>2014-Q2</td>\n",
       "        <td>284642298.70</td>\n",
       "    </tr>\n",
       "    <tr>\n",
       "        <td>2014</td>\n",
       "        <td>Q3</td>\n",
       "        <td>2014-Q3</td>\n",
       "        <td>447861000.75</td>\n",
       "    </tr>\n",
       "    <tr>\n",
       "        <td>2014</td>\n",
       "        <td>Q4</td>\n",
       "        <td>2014-Q4</td>\n",
       "        <td>365499023.52</td>\n",
       "    </tr>\n",
       "    <tr>\n",
       "        <td>2015</td>\n",
       "        <td>Q1</td>\n",
       "        <td>2015-Q1</td>\n",
       "        <td>524747640.50</td>\n",
       "    </tr>\n",
       "    <tr>\n",
       "        <td>2015</td>\n",
       "        <td>Q2</td>\n",
       "        <td>2015-Q2</td>\n",
       "        <td>271548707.82</td>\n",
       "    </tr>\n",
       "    <tr>\n",
       "        <td>2015</td>\n",
       "        <td>Q3</td>\n",
       "        <td>2015-Q3</td>\n",
       "        <td>383701150.70</td>\n",
       "    </tr>\n",
       "    <tr>\n",
       "        <td>2015</td>\n",
       "        <td>Q4</td>\n",
       "        <td>2015-Q4</td>\n",
       "        <td>355083112.87</td>\n",
       "    </tr>\n",
       "    <tr>\n",
       "        <td>2016</td>\n",
       "        <td>Q1</td>\n",
       "        <td>2016-Q1</td>\n",
       "        <td>507861370.61</td>\n",
       "    </tr>\n",
       "    <tr>\n",
       "        <td>2016</td>\n",
       "        <td>Q2</td>\n",
       "        <td>2016-Q2</td>\n",
       "        <td>293662855.55</td>\n",
       "    </tr>\n",
       "    <tr>\n",
       "        <td>2016</td>\n",
       "        <td>Q3</td>\n",
       "        <td>2016-Q3</td>\n",
       "        <td>393783271.87</td>\n",
       "    </tr>\n",
       "    <tr>\n",
       "        <td>2016</td>\n",
       "        <td>Q4</td>\n",
       "        <td>2016-Q4</td>\n",
       "        <td>284829913.49</td>\n",
       "    </tr>\n",
       "</table>"
      ],
      "text/plain": [
       "[(2014, 'Q1', '2014-Q1', Decimal('559883785.39')),\n",
       " (2014, 'Q2', '2014-Q2', Decimal('284642298.70')),\n",
       " (2014, 'Q3', '2014-Q3', Decimal('447861000.75')),\n",
       " (2014, 'Q4', '2014-Q4', Decimal('365499023.52')),\n",
       " (2015, 'Q1', '2015-Q1', Decimal('524747640.50')),\n",
       " (2015, 'Q2', '2015-Q2', Decimal('271548707.82')),\n",
       " (2015, 'Q3', '2015-Q3', Decimal('383701150.70')),\n",
       " (2015, 'Q4', '2015-Q4', Decimal('355083112.87')),\n",
       " (2016, 'Q1', '2016-Q1', Decimal('507861370.61')),\n",
       " (2016, 'Q2', '2016-Q2', Decimal('293662855.55')),\n",
       " (2016, 'Q3', '2016-Q3', Decimal('393783271.87')),\n",
       " (2016, 'Q4', '2016-Q4', Decimal('284829913.49'))]"
      ]
     },
     "execution_count": 109,
     "metadata": {},
     "output_type": "execute_result"
    }
   ],
   "source": [
    "%%sql\n",
    "\n",
    "SELECT \n",
    "    d.fy_dc\n",
    "    ,d.fy_quarter\n",
    "    ,d.fy_dc ||'-' || d.fy_quarter as \"year-quarter\"\n",
    "    ,SUM(f.amount) AS \"Total Spend\"\n",
    "FROM FACT_spending f LEFT JOIN DIM_date d\n",
    "ON f.date_id=d.date_key\n",
    "GROUP BY d.fy_dc,d.fy_quarter\n",
    "ORDER BY d.fy_dc,d.fy_quarter;"
   ]
  },
  {
   "cell_type": "code",
   "execution_count": 110,
   "metadata": {
    "collapsed": true,
    "slideshow": {
     "slide_type": "skip"
    }
   },
   "outputs": [],
   "source": [
    "result=_"
   ]
  },
  {
   "cell_type": "code",
   "execution_count": 113,
   "metadata": {
    "slideshow": {
     "slide_type": "slide"
    }
   },
   "outputs": [
    {
     "data": {
      "text/plain": [
       "<seaborn.axisgrid.FacetGrid at 0x11cbc86d8>"
      ]
     },
     "execution_count": 113,
     "metadata": {},
     "output_type": "execute_result"
    },
    {
     "data": {
      "image/png": "[encoded data removed]",
      "text/plain": [
       "<matplotlib.figure.Figure at 0x11bc7fb38>"
      ]
     },
     "metadata": {},
     "output_type": "display_data"
    }
   ],
   "source": [
    "data=pd.DataFrame(result)\n",
    "data.columns=['fy_year','fy_quarter','year-quarter','total_spend']\n",
    "sns.set(style = \"whitegrid\")\n",
    "g = sns.factorplot(x = 'year-quarter',y='total_spend',data = data,size = 7.5, kind  = 'bar', palette = 'Set2')\n",
    "g.despine(left = True)"
   ]
  },
  {
   "cell_type": "markdown",
   "metadata": {},
   "source": [
    "We see that every Quarter1 and Quarter3 of each financial year there is increase in spending and hence we see a trend in the spending by the Austin city government. As there is lot of fluctuation in spending we go ahead and see the %Change in spending per quarter."
   ]
  },
  {
   "cell_type": "markdown",
   "metadata": {
    "slideshow": {
     "slide_type": "slide"
    }
   },
   "source": [
    "#### What is the Quarter on Quarter change in the spend of Austin city?"
   ]
  },
  {
   "cell_type": "code",
   "execution_count": 104,
   "metadata": {
    "slideshow": {
     "slide_type": "skip"
    }
   },
   "outputs": [
    {
     "name": "stdout",
     "output_type": "stream",
     "text": [
      "12 rows affected.\n"
     ]
    },
    {
     "data": {
      "text/html": [
       "<table>\n",
       "    <tr>\n",
       "        <th>fy_dc</th>\n",
       "        <th>fy_quarter</th>\n",
       "        <th>year-quarter</th>\n",
       "        <th>Total Spend</th>\n",
       "        <th>%Change Per Quarter</th>\n",
       "    </tr>\n",
       "    <tr>\n",
       "        <td>2014</td>\n",
       "        <td>Q1</td>\n",
       "        <td>2014-Q1</td>\n",
       "        <td>559883785.39</td>\n",
       "        <td>None</td>\n",
       "    </tr>\n",
       "    <tr>\n",
       "        <td>2014</td>\n",
       "        <td>Q2</td>\n",
       "        <td>2014-Q2</td>\n",
       "        <td>284642298.70</td>\n",
       "        <td>-49</td>\n",
       "    </tr>\n",
       "    <tr>\n",
       "        <td>2014</td>\n",
       "        <td>Q3</td>\n",
       "        <td>2014-Q3</td>\n",
       "        <td>447861000.75</td>\n",
       "        <td>57</td>\n",
       "    </tr>\n",
       "    <tr>\n",
       "        <td>2014</td>\n",
       "        <td>Q4</td>\n",
       "        <td>2014-Q4</td>\n",
       "        <td>365499023.52</td>\n",
       "        <td>-18</td>\n",
       "    </tr>\n",
       "    <tr>\n",
       "        <td>2015</td>\n",
       "        <td>Q1</td>\n",
       "        <td>2015-Q1</td>\n",
       "        <td>524747640.50</td>\n",
       "        <td>44</td>\n",
       "    </tr>\n",
       "    <tr>\n",
       "        <td>2015</td>\n",
       "        <td>Q2</td>\n",
       "        <td>2015-Q2</td>\n",
       "        <td>271548707.82</td>\n",
       "        <td>-48</td>\n",
       "    </tr>\n",
       "    <tr>\n",
       "        <td>2015</td>\n",
       "        <td>Q3</td>\n",
       "        <td>2015-Q3</td>\n",
       "        <td>383701150.70</td>\n",
       "        <td>41</td>\n",
       "    </tr>\n",
       "    <tr>\n",
       "        <td>2015</td>\n",
       "        <td>Q4</td>\n",
       "        <td>2015-Q4</td>\n",
       "        <td>355083112.87</td>\n",
       "        <td>-7</td>\n",
       "    </tr>\n",
       "    <tr>\n",
       "        <td>2016</td>\n",
       "        <td>Q1</td>\n",
       "        <td>2016-Q1</td>\n",
       "        <td>507861370.61</td>\n",
       "        <td>43</td>\n",
       "    </tr>\n",
       "    <tr>\n",
       "        <td>2016</td>\n",
       "        <td>Q2</td>\n",
       "        <td>2016-Q2</td>\n",
       "        <td>293662855.55</td>\n",
       "        <td>-42</td>\n",
       "    </tr>\n",
       "    <tr>\n",
       "        <td>2016</td>\n",
       "        <td>Q3</td>\n",
       "        <td>2016-Q3</td>\n",
       "        <td>393783271.87</td>\n",
       "        <td>34</td>\n",
       "    </tr>\n",
       "    <tr>\n",
       "        <td>2016</td>\n",
       "        <td>Q4</td>\n",
       "        <td>2016-Q4</td>\n",
       "        <td>284829913.49</td>\n",
       "        <td>-28</td>\n",
       "    </tr>\n",
       "</table>"
      ],
      "text/plain": [
       "[(2014, 'Q1', '2014-Q1', Decimal('559883785.39'), None),\n",
       " (2014, 'Q2', '2014-Q2', Decimal('284642298.70'), -49),\n",
       " (2014, 'Q3', '2014-Q3', Decimal('447861000.75'), 57),\n",
       " (2014, 'Q4', '2014-Q4', Decimal('365499023.52'), -18),\n",
       " (2015, 'Q1', '2015-Q1', Decimal('524747640.50'), 44),\n",
       " (2015, 'Q2', '2015-Q2', Decimal('271548707.82'), -48),\n",
       " (2015, 'Q3', '2015-Q3', Decimal('383701150.70'), 41),\n",
       " (2015, 'Q4', '2015-Q4', Decimal('355083112.87'), -7),\n",
       " (2016, 'Q1', '2016-Q1', Decimal('507861370.61'), 43),\n",
       " (2016, 'Q2', '2016-Q2', Decimal('293662855.55'), -42),\n",
       " (2016, 'Q3', '2016-Q3', Decimal('393783271.87'), 34),\n",
       " (2016, 'Q4', '2016-Q4', Decimal('284829913.49'), -28)]"
      ]
     },
     "execution_count": 104,
     "metadata": {},
     "output_type": "execute_result"
    }
   ],
   "source": [
    "%%sql\n",
    "\n",
    "SELECT \n",
    "    d.fy_dc\n",
    "    ,d.fy_quarter\n",
    "    ,d.fy_dc ||'-' || d.fy_quarter as \"year-quarter\"\n",
    "    ,SUM(f.amount) AS \"Total Spend\" \n",
    "    ,CAST(((SUM(f.amount)- LAG(SUM(f.amount)) OVER (ORDER BY d.fy_dc,d.fy_quarter))/LAG(SUM(f.amount)) OVER (ORDER BY d.fy_dc,d.fy_quarter))*100 AS INTEGER) AS \"%Change Per Quarter\"\n",
    "FROM FACT_spending f LEFT JOIN DIM_date d\n",
    "ON f.date_id=d.date_key\n",
    "GROUP BY d.fy_dc,d.fy_quarter\n",
    "ORDER BY d.fy_dc,d.fy_quarter;"
   ]
  },
  {
   "cell_type": "code",
   "execution_count": 105,
   "metadata": {},
   "outputs": [
    {
     "data": {
      "text/plain": [
       "<matplotlib.axes._subplots.AxesSubplot at 0x1152ddc88>"
      ]
     },
     "execution_count": 105,
     "metadata": {},
     "output_type": "execute_result"
    },
    {
     "data": {
      "image/png": "[encoded data removed]",
      "text/plain": [
       "<matplotlib.figure.Figure at 0x1152e1da0>"
      ]
     },
     "metadata": {},
     "output_type": "display_data"
    }
   ],
   "source": [
    "result=_\n",
    "data=pd.DataFrame(result)\n",
    "data.columns= ['fy','quarter','year-quarter','Total Spend','%Change in Spend']\n",
    "data.plot(x='year-quarter',y='%Change in Spend', color='red')"
   ]
  },
  {
   "cell_type": "markdown",
   "metadata": {
    "slideshow": {
     "slide_type": "skip"
    }
   },
   "source": [
    "We can see a trend that first and third quarters of each year have high %change in spending when compared to the previous quarter and hence we can assume some seasonality effect. Similarly we see a slump in the amount spent in the second and fourth quarters."
   ]
  },
  {
   "cell_type": "markdown",
   "metadata": {
    "slideshow": {
     "slide_type": "slide"
    }
   },
   "source": [
    "Further drilling down the quarter we look at the monthly behaviour to find the seasonality."
   ]
  },
  {
   "cell_type": "code",
   "execution_count": 141,
   "metadata": {},
   "outputs": [
    {
     "name": "stdout",
     "output_type": "stream",
     "text": [
      "36 rows affected.\n"
     ]
    },
    {
     "data": {
      "text/html": [
       "<table>\n",
       "    <tr>\n",
       "        <th>fy</th>\n",
       "        <th>fy_quarter</th>\n",
       "        <th>fy_month</th>\n",
       "        <th>Year-month</th>\n",
       "        <th>sum</th>\n",
       "    </tr>\n",
       "    <tr>\n",
       "        <td>FY14</td>\n",
       "        <td>Q1</td>\n",
       "        <td>OCT</td>\n",
       "        <td>FY14-OCT</td>\n",
       "        <td>130338506.44</td>\n",
       "    </tr>\n",
       "    <tr>\n",
       "        <td>FY14</td>\n",
       "        <td>Q1</td>\n",
       "        <td>NOV</td>\n",
       "        <td>FY14-NOV</td>\n",
       "        <td>306771180.57</td>\n",
       "    </tr>\n",
       "    <tr>\n",
       "        <td>FY14</td>\n",
       "        <td>Q1</td>\n",
       "        <td>DEC</td>\n",
       "        <td>FY14-DEC</td>\n",
       "        <td>122774098.38</td>\n",
       "    </tr>\n",
       "    <tr>\n",
       "        <td>FY14</td>\n",
       "        <td>Q2</td>\n",
       "        <td>JAN</td>\n",
       "        <td>FY14-JAN</td>\n",
       "        <td>82773844.62</td>\n",
       "    </tr>\n",
       "    <tr>\n",
       "        <td>FY14</td>\n",
       "        <td>Q2</td>\n",
       "        <td>FEB</td>\n",
       "        <td>FY14-FEB</td>\n",
       "        <td>80949014.44</td>\n",
       "    </tr>\n",
       "    <tr>\n",
       "        <td>FY14</td>\n",
       "        <td>Q2</td>\n",
       "        <td>MAR</td>\n",
       "        <td>FY14-MAR</td>\n",
       "        <td>120919439.64</td>\n",
       "    </tr>\n",
       "    <tr>\n",
       "        <td>FY14</td>\n",
       "        <td>Q3</td>\n",
       "        <td>APR</td>\n",
       "        <td>FY14-APR</td>\n",
       "        <td>107933955.68</td>\n",
       "    </tr>\n",
       "    <tr>\n",
       "        <td>FY14</td>\n",
       "        <td>Q3</td>\n",
       "        <td>MAY</td>\n",
       "        <td>FY14-MAY</td>\n",
       "        <td>239525125.22</td>\n",
       "    </tr>\n",
       "    <tr>\n",
       "        <td>FY14</td>\n",
       "        <td>Q3</td>\n",
       "        <td>JUN</td>\n",
       "        <td>FY14-JUN</td>\n",
       "        <td>100401919.85</td>\n",
       "    </tr>\n",
       "    <tr>\n",
       "        <td>FY14</td>\n",
       "        <td>Q4</td>\n",
       "        <td>JUL</td>\n",
       "        <td>FY14-JUL</td>\n",
       "        <td>99641448.24</td>\n",
       "    </tr>\n",
       "    <tr>\n",
       "        <td>FY14</td>\n",
       "        <td>Q4</td>\n",
       "        <td>AUG</td>\n",
       "        <td>FY14-AUG</td>\n",
       "        <td>86490160.87</td>\n",
       "    </tr>\n",
       "    <tr>\n",
       "        <td>FY14</td>\n",
       "        <td>Q4</td>\n",
       "        <td>SEP</td>\n",
       "        <td>FY14-SEP</td>\n",
       "        <td>179367414.41</td>\n",
       "    </tr>\n",
       "    <tr>\n",
       "        <td>FY15</td>\n",
       "        <td>Q1</td>\n",
       "        <td>OCT</td>\n",
       "        <td>FY15-OCT</td>\n",
       "        <td>117622265.40</td>\n",
       "    </tr>\n",
       "    <tr>\n",
       "        <td>FY15</td>\n",
       "        <td>Q1</td>\n",
       "        <td>NOV</td>\n",
       "        <td>FY15-NOV</td>\n",
       "        <td>293835492.48</td>\n",
       "    </tr>\n",
       "    <tr>\n",
       "        <td>FY15</td>\n",
       "        <td>Q1</td>\n",
       "        <td>DEC</td>\n",
       "        <td>FY15-DEC</td>\n",
       "        <td>113289882.62</td>\n",
       "    </tr>\n",
       "    <tr>\n",
       "        <td>FY15</td>\n",
       "        <td>Q2</td>\n",
       "        <td>JAN</td>\n",
       "        <td>FY15-JAN</td>\n",
       "        <td>77069252.30</td>\n",
       "    </tr>\n",
       "    <tr>\n",
       "        <td>FY15</td>\n",
       "        <td>Q2</td>\n",
       "        <td>FEB</td>\n",
       "        <td>FY15-FEB</td>\n",
       "        <td>82002408.60</td>\n",
       "    </tr>\n",
       "    <tr>\n",
       "        <td>FY15</td>\n",
       "        <td>Q2</td>\n",
       "        <td>MAR</td>\n",
       "        <td>FY15-MAR</td>\n",
       "        <td>112477046.92</td>\n",
       "    </tr>\n",
       "    <tr>\n",
       "        <td>FY15</td>\n",
       "        <td>Q3</td>\n",
       "        <td>APR</td>\n",
       "        <td>FY15-APR</td>\n",
       "        <td>83459372.68</td>\n",
       "    </tr>\n",
       "    <tr>\n",
       "        <td>FY15</td>\n",
       "        <td>Q3</td>\n",
       "        <td>MAY</td>\n",
       "        <td>FY15-MAY</td>\n",
       "        <td>218409905.89</td>\n",
       "    </tr>\n",
       "    <tr>\n",
       "        <td>FY15</td>\n",
       "        <td>Q3</td>\n",
       "        <td>JUN</td>\n",
       "        <td>FY15-JUN</td>\n",
       "        <td>81831872.13</td>\n",
       "    </tr>\n",
       "    <tr>\n",
       "        <td>FY15</td>\n",
       "        <td>Q4</td>\n",
       "        <td>JUL</td>\n",
       "        <td>FY15-JUL</td>\n",
       "        <td>102547832.03</td>\n",
       "    </tr>\n",
       "    <tr>\n",
       "        <td>FY15</td>\n",
       "        <td>Q4</td>\n",
       "        <td>AUG</td>\n",
       "        <td>FY15-AUG</td>\n",
       "        <td>75782947.67</td>\n",
       "    </tr>\n",
       "    <tr>\n",
       "        <td>FY15</td>\n",
       "        <td>Q4</td>\n",
       "        <td>SEP</td>\n",
       "        <td>FY15-SEP</td>\n",
       "        <td>176752333.17</td>\n",
       "    </tr>\n",
       "    <tr>\n",
       "        <td>FY16</td>\n",
       "        <td>Q1</td>\n",
       "        <td>OCT</td>\n",
       "        <td>FY16-OCT</td>\n",
       "        <td>106210470.49</td>\n",
       "    </tr>\n",
       "    <tr>\n",
       "        <td>FY16</td>\n",
       "        <td>Q1</td>\n",
       "        <td>NOV</td>\n",
       "        <td>FY16-NOV</td>\n",
       "        <td>298882745.82</td>\n",
       "    </tr>\n",
       "    <tr>\n",
       "        <td>FY16</td>\n",
       "        <td>Q1</td>\n",
       "        <td>DEC</td>\n",
       "        <td>FY16-DEC</td>\n",
       "        <td>102768154.30</td>\n",
       "    </tr>\n",
       "    <tr>\n",
       "        <td>FY16</td>\n",
       "        <td>Q2</td>\n",
       "        <td>JAN</td>\n",
       "        <td>FY16-JAN</td>\n",
       "        <td>78375474.54</td>\n",
       "    </tr>\n",
       "    <tr>\n",
       "        <td>FY16</td>\n",
       "        <td>Q2</td>\n",
       "        <td>FEB</td>\n",
       "        <td>FY16-FEB</td>\n",
       "        <td>72563842.19</td>\n",
       "    </tr>\n",
       "    <tr>\n",
       "        <td>FY16</td>\n",
       "        <td>Q2</td>\n",
       "        <td>MAR</td>\n",
       "        <td>FY16-MAR</td>\n",
       "        <td>142723538.82</td>\n",
       "    </tr>\n",
       "    <tr>\n",
       "        <td>FY16</td>\n",
       "        <td>Q3</td>\n",
       "        <td>APR</td>\n",
       "        <td>FY16-APR</td>\n",
       "        <td>79016023.21</td>\n",
       "    </tr>\n",
       "    <tr>\n",
       "        <td>FY16</td>\n",
       "        <td>Q3</td>\n",
       "        <td>MAY</td>\n",
       "        <td>FY16-MAY</td>\n",
       "        <td>199722637.82</td>\n",
       "    </tr>\n",
       "    <tr>\n",
       "        <td>FY16</td>\n",
       "        <td>Q3</td>\n",
       "        <td>JUN</td>\n",
       "        <td>FY16-JUN</td>\n",
       "        <td>115044610.84</td>\n",
       "    </tr>\n",
       "    <tr>\n",
       "        <td>FY16</td>\n",
       "        <td>Q4</td>\n",
       "        <td>JUL</td>\n",
       "        <td>FY16-JUL</td>\n",
       "        <td>71899905.85</td>\n",
       "    </tr>\n",
       "    <tr>\n",
       "        <td>FY16</td>\n",
       "        <td>Q4</td>\n",
       "        <td>AUG</td>\n",
       "        <td>FY16-AUG</td>\n",
       "        <td>103461722.38</td>\n",
       "    </tr>\n",
       "    <tr>\n",
       "        <td>FY16</td>\n",
       "        <td>Q4</td>\n",
       "        <td>SEP</td>\n",
       "        <td>FY16-SEP</td>\n",
       "        <td>109468285.26</td>\n",
       "    </tr>\n",
       "</table>"
      ],
      "text/plain": [
       "[('FY14', 'Q1', 'OCT', 'FY14-OCT', Decimal('130338506.44')),\n",
       " ('FY14', 'Q1', 'NOV', 'FY14-NOV', Decimal('306771180.57')),\n",
       " ('FY14', 'Q1', 'DEC', 'FY14-DEC', Decimal('122774098.38')),\n",
       " ('FY14', 'Q2', 'JAN', 'FY14-JAN', Decimal('82773844.62')),\n",
       " ('FY14', 'Q2', 'FEB', 'FY14-FEB', Decimal('80949014.44')),\n",
       " ('FY14', 'Q2', 'MAR', 'FY14-MAR', Decimal('120919439.64')),\n",
       " ('FY14', 'Q3', 'APR', 'FY14-APR', Decimal('107933955.68')),\n",
       " ('FY14', 'Q3', 'MAY', 'FY14-MAY', Decimal('239525125.22')),\n",
       " ('FY14', 'Q3', 'JUN', 'FY14-JUN', Decimal('100401919.85')),\n",
       " ('FY14', 'Q4', 'JUL', 'FY14-JUL', Decimal('99641448.24')),\n",
       " ('FY14', 'Q4', 'AUG', 'FY14-AUG', Decimal('86490160.87')),\n",
       " ('FY14', 'Q4', 'SEP', 'FY14-SEP', Decimal('179367414.41')),\n",
       " ('FY15', 'Q1', 'OCT', 'FY15-OCT', Decimal('117622265.40')),\n",
       " ('FY15', 'Q1', 'NOV', 'FY15-NOV', Decimal('293835492.48')),\n",
       " ('FY15', 'Q1', 'DEC', 'FY15-DEC', Decimal('113289882.62')),\n",
       " ('FY15', 'Q2', 'JAN', 'FY15-JAN', Decimal('77069252.30')),\n",
       " ('FY15', 'Q2', 'FEB', 'FY15-FEB', Decimal('82002408.60')),\n",
       " ('FY15', 'Q2', 'MAR', 'FY15-MAR', Decimal('112477046.92')),\n",
       " ('FY15', 'Q3', 'APR', 'FY15-APR', Decimal('83459372.68')),\n",
       " ('FY15', 'Q3', 'MAY', 'FY15-MAY', Decimal('218409905.89')),\n",
       " ('FY15', 'Q3', 'JUN', 'FY15-JUN', Decimal('81831872.13')),\n",
       " ('FY15', 'Q4', 'JUL', 'FY15-JUL', Decimal('102547832.03')),\n",
       " ('FY15', 'Q4', 'AUG', 'FY15-AUG', Decimal('75782947.67')),\n",
       " ('FY15', 'Q4', 'SEP', 'FY15-SEP', Decimal('176752333.17')),\n",
       " ('FY16', 'Q1', 'OCT', 'FY16-OCT', Decimal('106210470.49')),\n",
       " ('FY16', 'Q1', 'NOV', 'FY16-NOV', Decimal('298882745.82')),\n",
       " ('FY16', 'Q1', 'DEC', 'FY16-DEC', Decimal('102768154.30')),\n",
       " ('FY16', 'Q2', 'JAN', 'FY16-JAN', Decimal('78375474.54')),\n",
       " ('FY16', 'Q2', 'FEB', 'FY16-FEB', Decimal('72563842.19')),\n",
       " ('FY16', 'Q2', 'MAR', 'FY16-MAR', Decimal('142723538.82')),\n",
       " ('FY16', 'Q3', 'APR', 'FY16-APR', Decimal('79016023.21')),\n",
       " ('FY16', 'Q3', 'MAY', 'FY16-MAY', Decimal('199722637.82')),\n",
       " ('FY16', 'Q3', 'JUN', 'FY16-JUN', Decimal('115044610.84')),\n",
       " ('FY16', 'Q4', 'JUL', 'FY16-JUL', Decimal('71899905.85')),\n",
       " ('FY16', 'Q4', 'AUG', 'FY16-AUG', Decimal('103461722.38')),\n",
       " ('FY16', 'Q4', 'SEP', 'FY16-SEP', Decimal('109468285.26'))]"
      ]
     },
     "execution_count": 141,
     "metadata": {},
     "output_type": "execute_result"
    }
   ],
   "source": [
    "%%sql\n",
    "\n",
    "SELECT d.fy\n",
    "    ,d.fy_quarter\n",
    "    ,d.fy_month\n",
    "    ,d.fy || '-' || d.fy_month AS \"Year-month\"\n",
    "    ,SUM(f.amount)\n",
    "FROM FACT_spending f LEFT JOIN DIM_date d ON f.date_id=d.date_key\n",
    "GROUP BY d.fy,d.fy_quarter,d.fy_month\n",
    "ORDER BY d.fy,d.fy_quarter,to_date(fy_month,'Mon');"
   ]
  },
  {
   "cell_type": "markdown",
   "metadata": {},
   "source": [
    "Now we need to store the above query output to a csv file in order to import it to Tableau."
   ]
  },
  {
   "cell_type": "code",
   "execution_count": 92,
   "metadata": {
    "scrolled": true,
    "slideshow": {
     "slide_type": "skip"
    }
   },
   "outputs": [
    {
     "data": {
      "text/plain": [
       "'/Users/zhaorc/Desktop'"
      ]
     },
     "execution_count": 92,
     "metadata": {},
     "output_type": "execute_result"
    }
   ],
   "source": [
    "pwd"
   ]
  },
  {
   "cell_type": "code",
   "execution_count": 140,
   "metadata": {
    "slideshow": {
     "slide_type": "skip"
    }
   },
   "outputs": [
    {
     "name": "stdout",
     "output_type": "stream",
     "text": [
      "36 rows affected.\n"
     ]
    },
    {
     "data": {
      "text/plain": [
       "[]"
      ]
     },
     "execution_count": 140,
     "metadata": {},
     "output_type": "execute_result"
    }
   ],
   "source": [
    "%%sql\n",
    "\n",
    "COPY(\n",
    "SELECT d.fy\n",
    "    ,d.fy_quarter\n",
    "    ,d.fy_month\n",
    "    ,d.fy || '-' || d.fy_month AS \"Year-month\"\n",
    "    ,SUM(f.amount)\n",
    "FROM FACT_spending f LEFT JOIN DIM_date d ON f.date_id=d.date_key\n",
    "GROUP BY d.fy,d.fy_quarter,d.fy_month\n",
    "ORDER BY d.fy,d.fy_quarter,to_date(fy_month,'Mon')) TO '/Users/zhaorc/Desktop/time_series.csv' CSV HEADER"
   ]
  },
  {
   "cell_type": "markdown",
   "metadata": {},
   "source": [
    "Now plotting the visualization from Tableau."
   ]
  },
  {
   "cell_type": "code",
   "execution_count": 124,
   "metadata": {
    "slideshow": {
     "slide_type": "slide"
    }
   },
   "outputs": [
    {
     "data": {
      "text/html": [
       "<img src=\"https://raw.githubusercontent.com/rithvikmundra/istm-6212/master/Project3-Tableau-images/time%20series2.png\"/>"
      ],
      "text/plain": [
       "<IPython.core.display.Image object>"
      ]
     },
     "execution_count": 124,
     "metadata": {},
     "output_type": "execute_result"
    }
   ],
   "source": [
    "Image(url = \"https://raw.githubusercontent.com/rithvikmundra/istm-6212/master/Project3-Tableau-images/time%20series2.png\")"
   ]
  },
  {
   "cell_type": "markdown",
   "metadata": {},
   "source": [
    "The above graph shows that the spending time series graph follows a perfect trend every financial year. We see that there is a spike in spending in every November and May months of each financial year."
   ]
  },
  {
   "cell_type": "markdown",
   "metadata": {},
   "source": [
    "#### Spending per each Department."
   ]
  },
  {
   "cell_type": "markdown",
   "metadata": {},
   "source": [
    "#### Second, we want to view yearly spending broadly, by departments which is the the highest orginization level."
   ]
  },
  {
   "cell_type": "code",
   "execution_count": 12,
   "metadata": {
    "scrolled": true,
    "slideshow": {
     "slide_type": "skip"
    }
   },
   "outputs": [
    {
     "name": "stdout",
     "output_type": "stream",
     "text": [
      "46 rows affected.\n"
     ]
    },
    {
     "data": {
      "text/html": [
       "<table>\n",
       "    <tr>\n",
       "        <th>dept_nm</th>\n",
       "        <th>sum_2014</th>\n",
       "        <th>sum_2015</th>\n",
       "        <th>sum_2016</th>\n",
       "    </tr>\n",
       "    <tr>\n",
       "        <td>Enterprise Debt Service</td>\n",
       "        <td>396986784.29</td>\n",
       "        <td>378731720.96</td>\n",
       "        <td>389685656.40</td>\n",
       "    </tr>\n",
       "    <tr>\n",
       "        <td>Austin Energy</td>\n",
       "        <td>187801805.69</td>\n",
       "        <td>204958031.27</td>\n",
       "        <td>189611570.42</td>\n",
       "    </tr>\n",
       "    <tr>\n",
       "        <td>Austin Water Utility</td>\n",
       "        <td>233396631.51</td>\n",
       "        <td>143013038.71</td>\n",
       "        <td>128804161.59</td>\n",
       "    </tr>\n",
       "    <tr>\n",
       "        <td>General Obligation Debt Service</td>\n",
       "        <td>141624150.31</td>\n",
       "        <td>147350005.19</td>\n",
       "        <td>126723709.38</td>\n",
       "    </tr>\n",
       "    <tr>\n",
       "        <td>Watershed</td>\n",
       "        <td>89332410.93</td>\n",
       "        <td>69959938.54</td>\n",
       "        <td>80861203.03</td>\n",
       "    </tr>\n",
       "    <tr>\n",
       "        <td>Aviation</td>\n",
       "        <td>63209915.39</td>\n",
       "        <td>71439828.92</td>\n",
       "        <td>73974291.80</td>\n",
       "    </tr>\n",
       "    <tr>\n",
       "        <td>Public Works - Transportation</td>\n",
       "        <td>92702907.37</td>\n",
       "        <td>59709392.87</td>\n",
       "        <td>52415779.76</td>\n",
       "    </tr>\n",
       "    <tr>\n",
       "        <td>Library</td>\n",
       "        <td>25643158.72</td>\n",
       "        <td>42455081.89</td>\n",
       "        <td>43741166.93</td>\n",
       "    </tr>\n",
       "    <tr>\n",
       "        <td>Communications &amp; Technology Management</td>\n",
       "        <td>44638562.88</td>\n",
       "        <td>44424583.28</td>\n",
       "        <td>43601529.84</td>\n",
       "    </tr>\n",
       "    <tr>\n",
       "        <td>Financial Services</td>\n",
       "        <td>38888185.19</td>\n",
       "        <td>44709562.41</td>\n",
       "        <td>43502497.07</td>\n",
       "    </tr>\n",
       "    <tr>\n",
       "        <td>Economic Growth &amp; Redevelopment Services</td>\n",
       "        <td>58544443.96</td>\n",
       "        <td>48081773.16</td>\n",
       "        <td>43026937.27</td>\n",
       "    </tr>\n",
       "    <tr>\n",
       "        <td>Fleet Services</td>\n",
       "        <td>40626208.95</td>\n",
       "        <td>38068937.92</td>\n",
       "        <td>35397586.74</td>\n",
       "    </tr>\n",
       "    <tr>\n",
       "        <td>Neighborhood Housing</td>\n",
       "        <td>27023029.75</td>\n",
       "        <td>18919747.81</td>\n",
       "        <td>28985200.36</td>\n",
       "    </tr>\n",
       "    <tr>\n",
       "        <td>Human Resources</td>\n",
       "        <td>24411670.09</td>\n",
       "        <td>27340595.96</td>\n",
       "        <td>28127696.27</td>\n",
       "    </tr>\n",
       "    <tr>\n",
       "        <td>Social Services</td>\n",
       "        <td>20649892.81</td>\n",
       "        <td>22592404.56</td>\n",
       "        <td>23509328.89</td>\n",
       "    </tr>\n",
       "    <tr>\n",
       "        <td>Health &amp; Human Services</td>\n",
       "        <td>13129256.27</td>\n",
       "        <td>16120320.40</td>\n",
       "        <td>18784892.01</td>\n",
       "    </tr>\n",
       "    <tr>\n",
       "        <td>Parks &amp; Recreation</td>\n",
       "        <td>43873811.49</td>\n",
       "        <td>24670826.98</td>\n",
       "        <td>18113734.30</td>\n",
       "    </tr>\n",
       "    <tr>\n",
       "        <td>Solid Waste Services</td>\n",
       "        <td>24242559.39</td>\n",
       "        <td>24834631.39</td>\n",
       "        <td>15986445.11</td>\n",
       "    </tr>\n",
       "    <tr>\n",
       "        <td>Police</td>\n",
       "        <td>16574669.33</td>\n",
       "        <td>19281751.25</td>\n",
       "        <td>14766775.07</td>\n",
       "    </tr>\n",
       "    <tr>\n",
       "        <td>Austin Conv &amp; Visitors Bureau</td>\n",
       "        <td>11176560.00</td>\n",
       "        <td>12112125.00</td>\n",
       "        <td>13930047.00</td>\n",
       "    </tr>\n",
       "    <tr>\n",
       "        <td>Convention Center</td>\n",
       "        <td>8828751.62</td>\n",
       "        <td>16229787.12</td>\n",
       "        <td>10948828.22</td>\n",
       "    </tr>\n",
       "    <tr>\n",
       "        <td>Transportation</td>\n",
       "        <td>4966749.87</td>\n",
       "        <td>5680870.78</td>\n",
       "        <td>7179501.79</td>\n",
       "    </tr>\n",
       "    <tr>\n",
       "        <td>Building Services</td>\n",
       "        <td>5429884.34</td>\n",
       "        <td>7483534.91</td>\n",
       "        <td>6638098.28</td>\n",
       "    </tr>\n",
       "    <tr>\n",
       "        <td>Emergency Medical Services</td>\n",
       "        <td>6434631.84</td>\n",
       "        <td>6156283.14</td>\n",
       "        <td>5376828.59</td>\n",
       "    </tr>\n",
       "    <tr>\n",
       "        <td>Fire</td>\n",
       "        <td>6527391.88</td>\n",
       "        <td>4633118.92</td>\n",
       "        <td>4713851.31</td>\n",
       "    </tr>\n",
       "    <tr>\n",
       "        <td>Law</td>\n",
       "        <td>4253812.66</td>\n",
       "        <td>7774276.56</td>\n",
       "        <td>4499196.87</td>\n",
       "    </tr>\n",
       "    <tr>\n",
       "        <td>Planning &amp; Zoning</td>\n",
       "        <td>6246803.78</td>\n",
       "        <td>6029527.11</td>\n",
       "        <td>4456414.82</td>\n",
       "    </tr>\n",
       "    <tr>\n",
       "        <td>Wireless</td>\n",
       "        <td>5025915.07</td>\n",
       "        <td>5144604.47</td>\n",
       "        <td>4288310.92</td>\n",
       "    </tr>\n",
       "    <tr>\n",
       "        <td>Municipal Court</td>\n",
       "        <td>4755273.82</td>\n",
       "        <td>3907434.54</td>\n",
       "        <td>4072022.93</td>\n",
       "    </tr>\n",
       "    <tr>\n",
       "        <td>Management Services</td>\n",
       "        <td>2854796.12</td>\n",
       "        <td>3238126.56</td>\n",
       "        <td>2714906.38</td>\n",
       "    </tr>\n",
       "    <tr>\n",
       "        <td>Development Services</td>\n",
       "        <td>0</td>\n",
       "        <td>0</td>\n",
       "        <td>2263140.60</td>\n",
       "    </tr>\n",
       "    <tr>\n",
       "        <td>Animal Services</td>\n",
       "        <td>1495746.02</td>\n",
       "        <td>1661052.15</td>\n",
       "        <td>1778959.96</td>\n",
       "    </tr>\n",
       "    <tr>\n",
       "        <td>Code Compliance</td>\n",
       "        <td>1691688.23</td>\n",
       "        <td>2454433.70</td>\n",
       "        <td>1641918.49</td>\n",
       "    </tr>\n",
       "    <tr>\n",
       "        <td>Public Works</td>\n",
       "        <td>1196946.07</td>\n",
       "        <td>1518466.97</td>\n",
       "        <td>1387425.83</td>\n",
       "    </tr>\n",
       "    <tr>\n",
       "        <td>Telecommunications &amp; Regulatory Affairs</td>\n",
       "        <td>0</td>\n",
       "        <td>0</td>\n",
       "        <td>1147863.61</td>\n",
       "    </tr>\n",
       "    <tr>\n",
       "        <td>Office of the City Clerk</td>\n",
       "        <td>1033441.02</td>\n",
       "        <td>1201144.97</td>\n",
       "        <td>1058292.70</td>\n",
       "    </tr>\n",
       "    <tr>\n",
       "        <td>Government Relations</td>\n",
       "        <td>749190.71</td>\n",
       "        <td>884637.75</td>\n",
       "        <td>728333.87</td>\n",
       "    </tr>\n",
       "    <tr>\n",
       "        <td>Office of Real Estate Services</td>\n",
       "        <td>454070.45</td>\n",
       "        <td>544218.57</td>\n",
       "        <td>678635.69</td>\n",
       "    </tr>\n",
       "    <tr>\n",
       "        <td>Small Minority Business Resources</td>\n",
       "        <td>718076.45</td>\n",
       "        <td>951777.56</td>\n",
       "        <td>440645.24</td>\n",
       "    </tr>\n",
       "    <tr>\n",
       "        <td>Communications &amp; Public Information</td>\n",
       "        <td>251347.83</td>\n",
       "        <td>318558.60</td>\n",
       "        <td>336370.63</td>\n",
       "    </tr>\n",
       "    <tr>\n",
       "        <td>Mayor &amp; Council</td>\n",
       "        <td>151912.64</td>\n",
       "        <td>130965.41</td>\n",
       "        <td>123399.81</td>\n",
       "    </tr>\n",
       "    <tr>\n",
       "        <td>Office of the City Auditor</td>\n",
       "        <td>52599.41</td>\n",
       "        <td>61312.47</td>\n",
       "        <td>53948.84</td>\n",
       "    </tr>\n",
       "    <tr>\n",
       "        <td>Medical Director</td>\n",
       "        <td>0</td>\n",
       "        <td>0</td>\n",
       "        <td>40690.39</td>\n",
       "    </tr>\n",
       "    <tr>\n",
       "        <td>Office of Contract and Land Management</td>\n",
       "        <td>283944.21</td>\n",
       "        <td>301844.66</td>\n",
       "        <td>10965.47</td>\n",
       "    </tr>\n",
       "    <tr>\n",
       "        <td>Labor Relations</td>\n",
       "        <td>0</td>\n",
       "        <td>0</td>\n",
       "        <td>8651.04</td>\n",
       "    </tr>\n",
       "    <tr>\n",
       "        <td>Nondepartmental</td>\n",
       "        <td>6520.00</td>\n",
       "        <td>336.50</td>\n",
       "        <td>0</td>\n",
       "    </tr>\n",
       "</table>"
      ],
      "text/plain": [
       "[('Enterprise Debt Service', Decimal('396986784.29'), Decimal('378731720.96'), Decimal('389685656.40')),\n",
       " ('Austin Energy', Decimal('187801805.69'), Decimal('204958031.27'), Decimal('189611570.42')),\n",
       " ('Austin Water Utility', Decimal('233396631.51'), Decimal('143013038.71'), Decimal('128804161.59')),\n",
       " ('General Obligation Debt Service', Decimal('141624150.31'), Decimal('147350005.19'), Decimal('126723709.38')),\n",
       " ('Watershed', Decimal('89332410.93'), Decimal('69959938.54'), Decimal('80861203.03')),\n",
       " ('Aviation', Decimal('63209915.39'), Decimal('71439828.92'), Decimal('73974291.80')),\n",
       " ('Public Works - Transportation', Decimal('92702907.37'), Decimal('59709392.87'), Decimal('52415779.76')),\n",
       " ('Library', Decimal('25643158.72'), Decimal('42455081.89'), Decimal('43741166.93')),\n",
       " ('Communications & Technology Management', Decimal('44638562.88'), Decimal('44424583.28'), Decimal('43601529.84')),\n",
       " ('Financial Services', Decimal('38888185.19'), Decimal('44709562.41'), Decimal('43502497.07')),\n",
       " ('Economic Growth & Redevelopment Services', Decimal('58544443.96'), Decimal('48081773.16'), Decimal('43026937.27')),\n",
       " ('Fleet Services', Decimal('40626208.95'), Decimal('38068937.92'), Decimal('35397586.74')),\n",
       " ('Neighborhood Housing', Decimal('27023029.75'), Decimal('18919747.81'), Decimal('28985200.36')),\n",
       " ('Human Resources', Decimal('24411670.09'), Decimal('27340595.96'), Decimal('28127696.27')),\n",
       " ('Social Services', Decimal('20649892.81'), Decimal('22592404.56'), Decimal('23509328.89')),\n",
       " ('Health & Human Services', Decimal('13129256.27'), Decimal('16120320.40'), Decimal('18784892.01')),\n",
       " ('Parks & Recreation', Decimal('43873811.49'), Decimal('24670826.98'), Decimal('18113734.30')),\n",
       " ('Solid Waste Services', Decimal('24242559.39'), Decimal('24834631.39'), Decimal('15986445.11')),\n",
       " ('Police', Decimal('16574669.33'), Decimal('19281751.25'), Decimal('14766775.07')),\n",
       " ('Austin Conv & Visitors Bureau', Decimal('11176560.00'), Decimal('12112125.00'), Decimal('13930047.00')),\n",
       " ('Convention Center', Decimal('8828751.62'), Decimal('16229787.12'), Decimal('10948828.22')),\n",
       " ('Transportation', Decimal('4966749.87'), Decimal('5680870.78'), Decimal('7179501.79')),\n",
       " ('Building Services', Decimal('5429884.34'), Decimal('7483534.91'), Decimal('6638098.28')),\n",
       " ('Emergency Medical Services', Decimal('6434631.84'), Decimal('6156283.14'), Decimal('5376828.59')),\n",
       " ('Fire', Decimal('6527391.88'), Decimal('4633118.92'), Decimal('4713851.31')),\n",
       " ('Law', Decimal('4253812.66'), Decimal('7774276.56'), Decimal('4499196.87')),\n",
       " ('Planning & Zoning', Decimal('6246803.78'), Decimal('6029527.11'), Decimal('4456414.82')),\n",
       " ('Wireless', Decimal('5025915.07'), Decimal('5144604.47'), Decimal('4288310.92')),\n",
       " ('Municipal Court', Decimal('4755273.82'), Decimal('3907434.54'), Decimal('4072022.93')),\n",
       " ('Management Services', Decimal('2854796.12'), Decimal('3238126.56'), Decimal('2714906.38')),\n",
       " ('Development Services', Decimal('0'), Decimal('0'), Decimal('2263140.60')),\n",
       " ('Animal Services', Decimal('1495746.02'), Decimal('1661052.15'), Decimal('1778959.96')),\n",
       " ('Code Compliance', Decimal('1691688.23'), Decimal('2454433.70'), Decimal('1641918.49')),\n",
       " ('Public Works', Decimal('1196946.07'), Decimal('1518466.97'), Decimal('1387425.83')),\n",
       " ('Telecommunications & Regulatory Affairs', Decimal('0'), Decimal('0'), Decimal('1147863.61')),\n",
       " ('Office of the City Clerk', Decimal('1033441.02'), Decimal('1201144.97'), Decimal('1058292.70')),\n",
       " ('Government Relations', Decimal('749190.71'), Decimal('884637.75'), Decimal('728333.87')),\n",
       " ('Office of Real Estate Services', Decimal('454070.45'), Decimal('544218.57'), Decimal('678635.69')),\n",
       " ('Small Minority Business Resources', Decimal('718076.45'), Decimal('951777.56'), Decimal('440645.24')),\n",
       " ('Communications & Public Information', Decimal('251347.83'), Decimal('318558.60'), Decimal('336370.63')),\n",
       " ('Mayor & Council', Decimal('151912.64'), Decimal('130965.41'), Decimal('123399.81')),\n",
       " ('Office of the City Auditor', Decimal('52599.41'), Decimal('61312.47'), Decimal('53948.84')),\n",
       " ('Medical Director', Decimal('0'), Decimal('0'), Decimal('40690.39')),\n",
       " ('Office of Contract and Land Management', Decimal('283944.21'), Decimal('301844.66'), Decimal('10965.47')),\n",
       " ('Labor Relations', Decimal('0'), Decimal('0'), Decimal('8651.04')),\n",
       " ('Nondepartmental', Decimal('6520.00'), Decimal('336.50'), Decimal('0'))]"
      ]
     },
     "execution_count": 12,
     "metadata": {},
     "output_type": "execute_result"
    }
   ],
   "source": [
    "%%sql\n",
    "select distinct o.dept_nm, coalesce(a.sum_amount,0) as sum_2014, coalesce(b.sum_amount,0) as sum_2015, coalesce(c.sum_amount,0)  as sum_2016 \n",
    "From dim_org o\n",
    "    LEFT JOIN (select o.dept_cd, sum(f.amount) as sum_amount\n",
    "    From fact_spending f, dim_org o, dim_date d\n",
    "    where f.org_id=o.org_key and f.date_id=d.date_key and d.fy_dc = '2014'\n",
    "    group by d.fy_dc, o.dept_cd, o.dept_nm) a ON a.dept_cd=o.dept_cd\n",
    "    \n",
    "    LEFT JOIN (select o.dept_cd, sum(f.amount) as sum_amount\n",
    "    From fact_spending f, dim_org o, dim_date d\n",
    "    where f.org_id=o.org_key and f.date_id=d.date_key and d.fy_dc = '2015'\n",
    "    group by d.fy_dc, o.dept_cd, o.dept_nm) b ON b.dept_cd=o.dept_cd\n",
    "    \n",
    "    LEFT JOIN (select o.dept_cd, sum(f.amount) as sum_amount\n",
    "    From fact_spending f, dim_org o, dim_date d\n",
    "    where f.org_id=o.org_key and f.date_id=d.date_key and d.fy_dc = '2016'\n",
    "    group by d.fy_dc, o.dept_cd, o.dept_nm) c ON c.dept_cd=o.dept_cd\n",
    "    \n",
    "order by sum_2016 desc\n",
    ";"
   ]
  },
  {
   "cell_type": "markdown",
   "metadata": {},
   "source": [
    "And we are going to see only the top 10 yearly pending proportion by departments using a pie chart. \n",
    "To do that, we make the above data as a pandas dataframe, leave only the top 10 and add the others."
   ]
  },
  {
   "cell_type": "code",
   "execution_count": 13,
   "metadata": {
    "collapsed": true,
    "slideshow": {
     "slide_type": "skip"
    }
   },
   "outputs": [],
   "source": [
    "result = _\n",
    "df = result.DataFrame()\n",
    "df.sum_2014 = df.sum_2014.astype(float)\n",
    "df.sum_2015 = df.sum_2015.astype(float)\n",
    "df.sum_2016 = df.sum_2016.astype(float)"
   ]
  },
  {
   "cell_type": "code",
   "execution_count": 14,
   "metadata": {
    "slideshow": {
     "slide_type": "skip"
    }
   },
   "outputs": [
    {
     "name": "stderr",
     "output_type": "stream",
     "text": [
      "//anaconda/lib/python3.5/site-packages/pandas/core/indexing.py:465: SettingWithCopyWarning: \n",
      "A value is trying to be set on a copy of a slice from a DataFrame.\n",
      "Try using .loc[row_indexer,col_indexer] = value instead\n",
      "\n",
      "See the caveats in the documentation: http://pandas.pydata.org/pandas-docs/stable/indexing.html#indexing-view-versus-copy\n",
      "  self.obj[item] = s\n"
     ]
    }
   ],
   "source": [
    "df2 = df[:11]\n",
    "df2.iloc[10, 0]='etc.'\n",
    "df2.iloc[10, 1]= df[10:]['sum_2014'].sum()\n",
    "df2.iloc[10, 2]= df[10:]['sum_2015'].sum()\n",
    "df2.iloc[10, 3]= df[10:]['sum_2016'].sum()"
   ]
  },
  {
   "cell_type": "markdown",
   "metadata": {},
   "source": [
    "Pulling out the data to panda dataframe, so we can plot it more easily."
   ]
  },
  {
   "cell_type": "markdown",
   "metadata": {},
   "source": [
    "We used the plotly to plot our output, and this application required the API key."
   ]
  },
  {
   "cell_type": "code",
   "execution_count": 17,
   "metadata": {
    "slideshow": {
     "slide_type": "skip"
    }
   },
   "outputs": [
    {
     "data": {
      "text/html": [
       "<iframe id=\"igraph\" scrolling=\"no\" style=\"border:none;\" seamless=\"seamless\" src=\"https://plot.ly/~zoeyxrz/34.embed\" height=\"525px\" width=\"100%\"></iframe>"
      ],
      "text/plain": [
       "<plotly.tools.PlotlyDisplay object>"
      ]
     },
     "execution_count": 17,
     "metadata": {},
     "output_type": "execute_result"
    }
   ],
   "source": [
    "fig = {\n",
    "    'data': [\n",
    "        {'labels': list(df2['dept_nm']),\n",
    "        'values': list(df2['sum_2014']),\n",
    "        'type': 'pie',\n",
    "        'name': '2014',\n",
    "        'domain': {'x': [0,.3]\n",
    "                   #,'y': [0, 5]\n",
    "                  }\n",
    "        }, \n",
    "        {'labels': list(df2['dept_nm']),\n",
    "        'values': list(df2['sum_2015']),\n",
    "        'type': 'pie',\n",
    "        'name': '2015',\n",
    "        'domain': {'x': [.35,.65]\n",
    "                   #,'y': [0, 5]\n",
    "                  }\n",
    "        }, \n",
    "        {'labels': list(df2['dept_nm']),\n",
    "        'values': list(df2['sum_2016']),\n",
    "        'type': 'pie', \n",
    "        'name': '2016',\n",
    "        'domain': {'x': [.7,1]\n",
    "                   #,'y': [0, 5]\n",
    "                  }\n",
    "        }, \n",
    "    ],\n",
    "    'layout': {'title': 'Yearly Spending proportion by department (2014~2016)'}\n",
    "     }\n",
    "py.iplot(fig)"
   ]
  },
  {
   "cell_type": "markdown",
   "metadata": {},
   "source": [
    "Hovering the mouse on the chart, we can the detail information about each part. \n",
    "\n",
    "We saw from here that the most of the Austin government's spendings are from Enterprise Dept Service, and adding up Dept service's spending, the spending proportion is greater than 50% for every year. Is it really that the Austin government spend the money only on paying their debt?  \n",
    "\n",
    "We also can see that Austin Water Utility and Austin Energy departments spend a large parts of the total spending amount which are increasing every year, which might indicate that the Austin government regard water and energy important for the city. But we need to figure out the detailed purpose of the spendings."
   ]
  },
  {
   "cell_type": "markdown",
   "metadata": {
    "slideshow": {
     "slide_type": "skip"
    }
   },
   "source": [
    "#### For each year, we want to see the top 10 vendors that received most money from government."
   ]
  },
  {
   "cell_type": "code",
   "execution_count": 45,
   "metadata": {
    "slideshow": {
     "slide_type": "skip"
    }
   },
   "outputs": [
    {
     "name": "stdout",
     "output_type": "stream",
     "text": [
      "30 rows affected.\n"
     ]
    },
    {
     "data": {
      "text/html": [
       "<table>\n",
       "    <tr>\n",
       "        <th>lgl_nm</th>\n",
       "        <th>fy_dc</th>\n",
       "        <th>sum_amount</th>\n",
       "    </tr>\n",
       "    <tr>\n",
       "        <td>BANK OF NEW YORK-EFT</td>\n",
       "        <td>2014</td>\n",
       "        <td>143067422.68</td>\n",
       "    </tr>\n",
       "    <tr>\n",
       "        <td>BANK OF OKLAHOMA NA</td>\n",
       "        <td>2014</td>\n",
       "        <td>63920807.97</td>\n",
       "    </tr>\n",
       "    <tr>\n",
       "        <td>HENSEL PHELPS CONSTRUCTION CO</td>\n",
       "        <td>2014</td>\n",
       "        <td>48213777.02</td>\n",
       "    </tr>\n",
       "    <tr>\n",
       "        <td>HERITAGE TITLE CO OF AUSTIN INC</td>\n",
       "        <td>2014</td>\n",
       "        <td>29614436.26</td>\n",
       "    </tr>\n",
       "    <tr>\n",
       "        <td>MWH CONSTRUCTORS INC</td>\n",
       "        <td>2014</td>\n",
       "        <td>82432845.60</td>\n",
       "    </tr>\n",
       "    <tr>\n",
       "        <td>REGIONS BANK</td>\n",
       "        <td>2014</td>\n",
       "        <td>25906769.35</td>\n",
       "    </tr>\n",
       "    <tr>\n",
       "        <td>TRAVIS COUNTY</td>\n",
       "        <td>2014</td>\n",
       "        <td>23903897.87</td>\n",
       "    </tr>\n",
       "    <tr>\n",
       "        <td>U S BANK TRUST N A</td>\n",
       "        <td>2014</td>\n",
       "        <td>138037884.37</td>\n",
       "    </tr>\n",
       "    <tr>\n",
       "        <td>WELLS FARGO BANK NA</td>\n",
       "        <td>2014</td>\n",
       "        <td>84662697.26</td>\n",
       "    </tr>\n",
       "    <tr>\n",
       "        <td>Wilmington Trust, National Association</td>\n",
       "        <td>2014</td>\n",
       "        <td>49126571.22</td>\n",
       "    </tr>\n",
       "    <tr>\n",
       "        <td>BANK OF AMERICA-EFT</td>\n",
       "        <td>2015</td>\n",
       "        <td>23206234.01</td>\n",
       "    </tr>\n",
       "    <tr>\n",
       "        <td>BANK OF NEW YORK-EFT</td>\n",
       "        <td>2015</td>\n",
       "        <td>95866050.85</td>\n",
       "    </tr>\n",
       "    <tr>\n",
       "        <td>BANK OF OKLAHOMA NA</td>\n",
       "        <td>2015</td>\n",
       "        <td>61272941.92</td>\n",
       "    </tr>\n",
       "    <tr>\n",
       "        <td>HENSEL PHELPS CONSTRUCTION CO</td>\n",
       "        <td>2015</td>\n",
       "        <td>72793928.06</td>\n",
       "    </tr>\n",
       "    <tr>\n",
       "        <td>REGIONS BANK</td>\n",
       "        <td>2015</td>\n",
       "        <td>26346797.49</td>\n",
       "    </tr>\n",
       "    <tr>\n",
       "        <td>SURETEC INFORMATION SYSTEMS INC</td>\n",
       "        <td>2015</td>\n",
       "        <td>19403339.89</td>\n",
       "    </tr>\n",
       "    <tr>\n",
       "        <td>The Bank of New York Mellon Trust Co., N.A.</td>\n",
       "        <td>2015</td>\n",
       "        <td>19121375.00</td>\n",
       "    </tr>\n",
       "    <tr>\n",
       "        <td>U S BANK TRUST N A</td>\n",
       "        <td>2015</td>\n",
       "        <td>146027533.38</td>\n",
       "    </tr>\n",
       "    <tr>\n",
       "        <td>WELLS FARGO BANK NA</td>\n",
       "        <td>2015</td>\n",
       "        <td>78397992.04</td>\n",
       "    </tr>\n",
       "    <tr>\n",
       "        <td>Wilmington Trust, National Association</td>\n",
       "        <td>2015</td>\n",
       "        <td>66128502.58</td>\n",
       "    </tr>\n",
       "    <tr>\n",
       "        <td>BANK OF AMERICA-EFT</td>\n",
       "        <td>2016</td>\n",
       "        <td>20377714.44</td>\n",
       "    </tr>\n",
       "    <tr>\n",
       "        <td>BANK OF OKLAHOMA NA</td>\n",
       "        <td>2016</td>\n",
       "        <td>83635671.62</td>\n",
       "    </tr>\n",
       "    <tr>\n",
       "        <td>HENSEL PHELPS CONSTRUCTION CO</td>\n",
       "        <td>2016</td>\n",
       "        <td>66952454.54</td>\n",
       "    </tr>\n",
       "    <tr>\n",
       "        <td>ITCOA LLC</td>\n",
       "        <td>2016</td>\n",
       "        <td>33552941.18</td>\n",
       "    </tr>\n",
       "    <tr>\n",
       "        <td>M. Arthur Gensler, Jr., and Associates, Inc.</td>\n",
       "        <td>2016</td>\n",
       "        <td>14411024.77</td>\n",
       "    </tr>\n",
       "    <tr>\n",
       "        <td>REGIONS BANK</td>\n",
       "        <td>2016</td>\n",
       "        <td>20556200.61</td>\n",
       "    </tr>\n",
       "    <tr>\n",
       "        <td>The Bank of New York Mellon Trust Co., N.A.</td>\n",
       "        <td>2016</td>\n",
       "        <td>70536724.78</td>\n",
       "    </tr>\n",
       "    <tr>\n",
       "        <td>U S BANK TRUST N A</td>\n",
       "        <td>2016</td>\n",
       "        <td>166706353.62</td>\n",
       "    </tr>\n",
       "    <tr>\n",
       "        <td>WELLS FARGO BANK NA</td>\n",
       "        <td>2016</td>\n",
       "        <td>54656477.48</td>\n",
       "    </tr>\n",
       "    <tr>\n",
       "        <td>Wilmington Trust, National Association</td>\n",
       "        <td>2016</td>\n",
       "        <td>90989202.35</td>\n",
       "    </tr>\n",
       "</table>"
      ],
      "text/plain": [
       "[('BANK OF NEW YORK-EFT', 2014, Decimal('143067422.68')),\n",
       " ('BANK OF OKLAHOMA NA', 2014, Decimal('63920807.97')),\n",
       " ('HENSEL PHELPS CONSTRUCTION CO', 2014, Decimal('48213777.02')),\n",
       " ('HERITAGE TITLE CO OF AUSTIN INC', 2014, Decimal('29614436.26')),\n",
       " ('MWH CONSTRUCTORS INC', 2014, Decimal('82432845.60')),\n",
       " ('REGIONS BANK', 2014, Decimal('25906769.35')),\n",
       " ('TRAVIS COUNTY', 2014, Decimal('23903897.87')),\n",
       " ('U S BANK TRUST N A', 2014, Decimal('138037884.37')),\n",
       " ('WELLS FARGO BANK NA', 2014, Decimal('84662697.26')),\n",
       " ('Wilmington Trust, National Association', 2014, Decimal('49126571.22')),\n",
       " ('BANK OF AMERICA-EFT', 2015, Decimal('23206234.01')),\n",
       " ('BANK OF NEW YORK-EFT', 2015, Decimal('95866050.85')),\n",
       " ('BANK OF OKLAHOMA NA', 2015, Decimal('61272941.92')),\n",
       " ('HENSEL PHELPS CONSTRUCTION CO', 2015, Decimal('72793928.06')),\n",
       " ('REGIONS BANK', 2015, Decimal('26346797.49')),\n",
       " ('SURETEC INFORMATION SYSTEMS INC', 2015, Decimal('19403339.89')),\n",
       " ('The Bank of New York Mellon Trust Co., N.A.', 2015, Decimal('19121375.00')),\n",
       " ('U S BANK TRUST N A', 2015, Decimal('146027533.38')),\n",
       " ('WELLS FARGO BANK NA', 2015, Decimal('78397992.04')),\n",
       " ('Wilmington Trust, National Association', 2015, Decimal('66128502.58')),\n",
       " ('BANK OF AMERICA-EFT', 2016, Decimal('20377714.44')),\n",
       " ('BANK OF OKLAHOMA NA', 2016, Decimal('83635671.62')),\n",
       " ('HENSEL PHELPS CONSTRUCTION CO', 2016, Decimal('66952454.54')),\n",
       " ('ITCOA LLC', 2016, Decimal('33552941.18')),\n",
       " ('M. Arthur Gensler, Jr., and Associates, Inc.', 2016, Decimal('14411024.77')),\n",
       " ('REGIONS BANK', 2016, Decimal('20556200.61')),\n",
       " ('The Bank of New York Mellon Trust Co., N.A.', 2016, Decimal('70536724.78')),\n",
       " ('U S BANK TRUST N A', 2016, Decimal('166706353.62')),\n",
       " ('WELLS FARGO BANK NA', 2016, Decimal('54656477.48')),\n",
       " ('Wilmington Trust, National Association', 2016, Decimal('90989202.35'))]"
      ]
     },
     "execution_count": 45,
     "metadata": {},
     "output_type": "execute_result"
    }
   ],
   "source": [
    "%%sql\n",
    "\n",
    "WITH FST AS(\n",
    "    SELECT DISTINCT v.lgl_nm, SUM(a.amount) as sum_amount_2014, d.fy_dc\n",
    "    FROM fact_spending a, dim_date d, dim_vendor v\n",
    "    WHERE a.date_id = d.date_key AND a.vendor_id =v.vendor_key AND d.fy_dc = '2014'\n",
    "    GROUP BY v.lgl_nm,d.fy_dc\n",
    "    ORDER BY sum_amount_2014 DESC\n",
    "    LIMIT 10\n",
    "    ), SEC AS(\n",
    "    SELECT DISTINCT v.lgl_nm, SUM(a.amount) as sum_amount_2015,d.fy_dc\n",
    "    FROM fact_spending a, dim_date d, dim_vendor v\n",
    "    WHERE a.date_id = d.date_key AND a.vendor_id =v.vendor_key AND d.fy_dc = '2015'\n",
    "    GROUP BY v.lgl_nm,d.fy_dc\n",
    "    ORDER BY sum_amount_2015 DESC\n",
    "    LIMIT 10\n",
    "    ), THR AS(\n",
    "    SELECT DISTINCT v.lgl_nm, SUM(a.amount) as sum_amount_2016,d.fy_dc\n",
    "    FROM fact_spending a, dim_date d, dim_vendor v\n",
    "    WHERE a.date_id = d.date_key AND a.vendor_id =v.vendor_key AND d.fy_dc = '2016'\n",
    "    GROUP BY v.lgl_nm,d.fy_dc\n",
    "    ORDER BY sum_amount_2016 DESC\n",
    "    LIMIT 10\n",
    "    ), final AS(\n",
    "    SELECT f.lgl_nm\n",
    "        ,f.fy_dc\n",
    "        ,f.sum_amount_2014\n",
    "    FROM FST f\n",
    "    UNION\n",
    "    SELECT s.lgl_nm\n",
    "        ,s.fy_dc\n",
    "        ,s.sum_amount_2015\n",
    "    FROM SEC s\n",
    "    UNION \n",
    "    SELECT t.lgl_nm\n",
    "        ,t.fy_dc\n",
    "        ,t.sum_amount_2016 \n",
    "    FROM THR t\n",
    "    )\n",
    "SELECT \n",
    "    n.lgl_nm\n",
    "    ,n.fy_dc\n",
    "    ,n.sum_amount_2014 as sum_amount\n",
    "FROM final n\n",
    "GROUP BY n.fy_dc,n.lgl_nm,sum_amount\n",
    "ORDER BY n.fy_dc"
   ]
  },
  {
   "cell_type": "markdown",
   "metadata": {
    "slideshow": {
     "slide_type": "skip"
    }
   },
   "source": [
    "Basically, we created four temporary table to hold three years top 10 vendors and keep 30 vendors to another temporary table. Then, select all records and group them by year from the last temporary table to show the result. "
   ]
  },
  {
   "cell_type": "code",
   "execution_count": 46,
   "metadata": {
    "slideshow": {
     "slide_type": "skip"
    }
   },
   "outputs": [],
   "source": [
    "result=_"
   ]
  },
  {
   "cell_type": "code",
   "execution_count": 47,
   "metadata": {
    "slideshow": {
     "slide_type": "skip"
    }
   },
   "outputs": [
    {
     "data": {
      "text/html": [
       "<div>\n",
       "<table border=\"1\" class=\"dataframe\">\n",
       "  <thead>\n",
       "    <tr style=\"text-align: right;\">\n",
       "      <th></th>\n",
       "      <th>name</th>\n",
       "      <th>year</th>\n",
       "      <th>amount</th>\n",
       "    </tr>\n",
       "  </thead>\n",
       "  <tbody>\n",
       "    <tr>\n",
       "      <th>0</th>\n",
       "      <td>BANK OF NEW YORK-EFT</td>\n",
       "      <td>2014</td>\n",
       "      <td>143067422.68</td>\n",
       "    </tr>\n",
       "    <tr>\n",
       "      <th>1</th>\n",
       "      <td>BANK OF OKLAHOMA NA</td>\n",
       "      <td>2014</td>\n",
       "      <td>63920807.97</td>\n",
       "    </tr>\n",
       "    <tr>\n",
       "      <th>2</th>\n",
       "      <td>HENSEL PHELPS CONSTRUCTION CO</td>\n",
       "      <td>2014</td>\n",
       "      <td>48213777.02</td>\n",
       "    </tr>\n",
       "    <tr>\n",
       "      <th>3</th>\n",
       "      <td>HERITAGE TITLE CO OF AUSTIN INC</td>\n",
       "      <td>2014</td>\n",
       "      <td>29614436.26</td>\n",
       "    </tr>\n",
       "    <tr>\n",
       "      <th>4</th>\n",
       "      <td>MWH CONSTRUCTORS INC</td>\n",
       "      <td>2014</td>\n",
       "      <td>82432845.60</td>\n",
       "    </tr>\n",
       "  </tbody>\n",
       "</table>\n",
       "</div>"
      ],
      "text/plain": [
       "                              name  year        amount\n",
       "0             BANK OF NEW YORK-EFT  2014  143067422.68\n",
       "1              BANK OF OKLAHOMA NA  2014   63920807.97\n",
       "2    HENSEL PHELPS CONSTRUCTION CO  2014   48213777.02\n",
       "3  HERITAGE TITLE CO OF AUSTIN INC  2014   29614436.26\n",
       "4             MWH CONSTRUCTORS INC  2014   82432845.60"
      ]
     },
     "execution_count": 47,
     "metadata": {},
     "output_type": "execute_result"
    }
   ],
   "source": [
    "df = pd.DataFrame(result,columns = ['name','year','amount'])\n",
    "df.head()"
   ]
  },
  {
   "cell_type": "code",
   "execution_count": 48,
   "metadata": {
    "slideshow": {
     "slide_type": "slide"
    }
   },
   "outputs": [
    {
     "data": {
      "text/plain": [
       "<seaborn.axisgrid.FacetGrid at 0x11b6f56a0>"
      ]
     },
     "execution_count": 48,
     "metadata": {},
     "output_type": "execute_result"
    },
    {
     "data": {
      "image/png": "[encoded data removed]",
      "text/plain": [
       "<matplotlib.figure.Figure at 0x11b6f55c0>"
      ]
     },
     "metadata": {},
     "output_type": "display_data"
    }
   ],
   "source": [
    "sns.set(style=\"whitegrid\")\n",
    "g = sns.factorplot(x=\"year\", y=\"amount\", hue=\"name\", data=df,\n",
    "                   size=8, kind=\"bar\", palette=\"coolwarm\")\n",
    "g.despine(left=True)\n",
    "g.set_ylabels(\"top 10 vendor each year\")"
   ]
  },
  {
   "cell_type": "markdown",
   "metadata": {
    "collapsed": true,
    "slideshow": {
     "slide_type": "skip"
    }
   },
   "source": [
    "Here we are using seaborn package to see the top 10 vendors across three years. We are focusing on fiscal year, which starts from Oct1 to Sept 30.\n",
    "\n",
    "We found that, most vendors in top 10 list are bank and trusting company, which indicates bank and trusting company may be one of the major sources of fund.\n",
    "\n",
    "Other than that, we can see from the chart, vendor 'BANK OF NEW YORK-EFT' is the top 3 vendors in 2014 and 2015, but suddenly disappear from the top 10 ranking in 2016.\n",
    "\n",
    "Furthermore, generally the top 10 vendors in 2014 and 2015 are similar, we can tell from the color coded bar, but in year 2016 'M.Arthur Gensler' and 'UMB BANK N A' are two new vendors that in top 10 ranking."
   ]
  },
  {
   "cell_type": "markdown",
   "metadata": {
    "slideshow": {
     "slide_type": "skip"
    }
   },
   "source": [
    "#### In this query, we want to find out the ranking of fund_type(in a grouped form) that government spent on throughout the 3 years.\n",
    "Here we use a subquery to select the unique type of fund and then sum up the amount for each type. To show our result in a much more meaningful way, we put it to a pie chart that shows us the composition of fund expenditure."
   ]
  },
  {
   "cell_type": "code",
   "execution_count": 211,
   "metadata": {
    "scrolled": true,
    "slideshow": {
     "slide_type": "skip"
    }
   },
   "outputs": [
    {
     "name": "stdout",
     "output_type": "stream",
     "text": [
      "136 rows affected.\n"
     ]
    },
    {
     "data": {
      "text/html": [
       "<table>\n",
       "    <tr>\n",
       "        <th>fundgrp_nm</th>\n",
       "        <th>spending_sum</th>\n",
       "    </tr>\n",
       "    <tr>\n",
       "        <td>General Fund</td>\n",
       "        <td>666027322.30</td>\n",
       "    </tr>\n",
       "    <tr>\n",
       "        <td>AWU Debt Service Fund</td>\n",
       "        <td>579158367.00</td>\n",
       "    </tr>\n",
       "    <tr>\n",
       "        <td>GCP</td>\n",
       "        <td>441846012.59</td>\n",
       "    </tr>\n",
       "    <tr>\n",
       "        <td>AE Debt Service Fund</td>\n",
       "        <td>339709606.91</td>\n",
       "    </tr>\n",
       "    <tr>\n",
       "        <td>Austin related Fund</td>\n",
       "        <td>330631390.55</td>\n",
       "    </tr>\n",
       "    <tr>\n",
       "        <td>Water related Fund</td>\n",
       "        <td>321995632.02</td>\n",
       "    </tr>\n",
       "    <tr>\n",
       "        <td>Airport related fund</td>\n",
       "        <td>152620656.09</td>\n",
       "    </tr>\n",
       "    <tr>\n",
       "        <td>Support Services Fund</td>\n",
       "        <td>150034980.55</td>\n",
       "    </tr>\n",
       "    <tr>\n",
       "        <td>E-Distribution Capital</td>\n",
       "        <td>109721858.19</td>\n",
       "    </tr>\n",
       "    <tr>\n",
       "        <td>Electric Inventory Fund</td>\n",
       "        <td>92111682.97</td>\n",
       "    </tr>\n",
       "    <tr>\n",
       "        <td>Wastewater Fund</td>\n",
       "        <td>91020908.85</td>\n",
       "    </tr>\n",
       "    <tr>\n",
       "        <td>Drainage Cip</td>\n",
       "        <td>89085122.27</td>\n",
       "    </tr>\n",
       "    <tr>\n",
       "        <td>Utility Debt Service Fund</td>\n",
       "        <td>86729412.80</td>\n",
       "    </tr>\n",
       "    <tr>\n",
       "        <td>2013ABIA Terminal East Infill RevBonds</td>\n",
       "        <td>84584512.31</td>\n",
       "    </tr>\n",
       "    <tr>\n",
       "        <td>GGCIP</td>\n",
       "        <td>79291574.78</td>\n",
       "    </tr>\n",
       "    <tr>\n",
       "        <td>Convention Center related Fund</td>\n",
       "        <td>69014475.65</td>\n",
       "    </tr>\n",
       "    <tr>\n",
       "        <td>Employee Benefits Fund</td>\n",
       "        <td>68631071.47</td>\n",
       "    </tr>\n",
       "    <tr>\n",
       "        <td>S-Wastewater Fund</td>\n",
       "        <td>66030185.36</td>\n",
       "    </tr>\n",
       "    <tr>\n",
       "        <td>ABIA Improvements</td>\n",
       "        <td>56735413.05</td>\n",
       "    </tr>\n",
       "    <tr>\n",
       "        <td>Transportation Fund</td>\n",
       "        <td>51142780.98</td>\n",
       "    </tr>\n",
       "    <tr>\n",
       "        <td>Communications and Technology Management Fund</td>\n",
       "        <td>48447084.19</td>\n",
       "    </tr>\n",
       "    <tr>\n",
       "        <td>Waller Creek Fund</td>\n",
       "        <td>46996670.77</td>\n",
       "    </tr>\n",
       "    <tr>\n",
       "        <td>E-Support Services Capital</td>\n",
       "        <td>46103455.08</td>\n",
       "    </tr>\n",
       "    <tr>\n",
       "        <td>Economic Incentives Reserve Fund</td>\n",
       "        <td>43605581.73</td>\n",
       "    </tr>\n",
       "    <tr>\n",
       "        <td>Floodplain Home Buyout Program</td>\n",
       "        <td>41686537.99</td>\n",
       "    </tr>\n",
       "    <tr>\n",
       "        <td>Tourism And Promotion Fund</td>\n",
       "        <td>37218732.00</td>\n",
       "    </tr>\n",
       "    <tr>\n",
       "        <td>ARR-Austin Resource Recovery Cip</td>\n",
       "        <td>35812866.06</td>\n",
       "    </tr>\n",
       "    <tr>\n",
       "        <td>Fleet Services Fund</td>\n",
       "        <td>33752004.97</td>\n",
       "    </tr>\n",
       "    <tr>\n",
       "        <td>US Housing/Urban Development</td>\n",
       "        <td>29354683.14</td>\n",
       "    </tr>\n",
       "    <tr>\n",
       "        <td>Housing Fund</td>\n",
       "        <td>26031447.92</td>\n",
       "    </tr>\n",
       "    <tr>\n",
       "        <td>Cultural Arts Fund</td>\n",
       "        <td>24284326.50</td>\n",
       "    </tr>\n",
       "    <tr>\n",
       "        <td>Vehicle Acquisition Fund</td>\n",
       "        <td>23462562.00</td>\n",
       "    </tr>\n",
       "    <tr>\n",
       "        <td>W-Water Fund</td>\n",
       "        <td>22463852.62</td>\n",
       "    </tr>\n",
       "    <tr>\n",
       "        <td>E-Transmission Capital</td>\n",
       "        <td>19710751.61</td>\n",
       "    </tr>\n",
       "    <tr>\n",
       "        <td>2013ABIA Construction RevBonds</td>\n",
       "        <td>18877048.29</td>\n",
       "    </tr>\n",
       "    <tr>\n",
       "        <td>Combined Transportation, Emergency &amp; Communications Ctr Fund</td>\n",
       "        <td>17858863.78</td>\n",
       "    </tr>\n",
       "    <tr>\n",
       "        <td>Drainage Utility Fund</td>\n",
       "        <td>17639911.97</td>\n",
       "    </tr>\n",
       "    <tr>\n",
       "        <td>Public related Fund</td>\n",
       "        <td>16163441.89</td>\n",
       "    </tr>\n",
       "    <tr>\n",
       "        <td>Liability Reserve Fund</td>\n",
       "        <td>14399876.60</td>\n",
       "    </tr>\n",
       "    <tr>\n",
       "        <td>Economic Development Fund</td>\n",
       "        <td>14395850.13</td>\n",
       "    </tr>\n",
       "    <tr>\n",
       "        <td>Wireless Communication Services Fund</td>\n",
       "        <td>13302066.11</td>\n",
       "    </tr>\n",
       "    <tr>\n",
       "        <td>Ryan White Fund</td>\n",
       "        <td>13043844.46</td>\n",
       "    </tr>\n",
       "    <tr>\n",
       "        <td>1115 Medicaid Waiver</td>\n",
       "        <td>11762187.66</td>\n",
       "    </tr>\n",
       "    <tr>\n",
       "        <td>Mueller related Fund</td>\n",
       "        <td>10362528.06</td>\n",
       "    </tr>\n",
       "    <tr>\n",
       "        <td>Conv Ctr Town Lake Park Venue Project Bond Redemption Fund</td>\n",
       "        <td>9115525.00</td>\n",
       "    </tr>\n",
       "    <tr>\n",
       "        <td>E-Distribution Substations Cap</td>\n",
       "        <td>7516227.49</td>\n",
       "    </tr>\n",
       "    <tr>\n",
       "        <td>HUD Section 108</td>\n",
       "        <td>7033075.77</td>\n",
       "    </tr>\n",
       "    <tr>\n",
       "        <td>Neighborhood Housing Fund</td>\n",
       "        <td>6077578.15</td>\n",
       "    </tr>\n",
       "    <tr>\n",
       "        <td>E-Metering Capital</td>\n",
       "        <td>5722242.81</td>\n",
       "    </tr>\n",
       "    <tr>\n",
       "        <td>Mobility Fund</td>\n",
       "        <td>5405624.69</td>\n",
       "    </tr>\n",
       "    <tr>\n",
       "        <td>Parking related Fund</td>\n",
       "        <td>5128610.18</td>\n",
       "    </tr>\n",
       "    <tr>\n",
       "        <td>Workers&#x27; Compensation Fund</td>\n",
       "        <td>4853384.48</td>\n",
       "    </tr>\n",
       "    <tr>\n",
       "        <td>CAMPO (formerly ATS)</td>\n",
       "        <td>4511405.55</td>\n",
       "    </tr>\n",
       "    <tr>\n",
       "        <td>E-Capital Equipment Additions</td>\n",
       "        <td>4347214.25</td>\n",
       "    </tr>\n",
       "    <tr>\n",
       "        <td>Performance Contracting Fund</td>\n",
       "        <td>4290585.96</td>\n",
       "    </tr>\n",
       "    <tr>\n",
       "        <td>Municipal related </td>\n",
       "        <td>4143429.68</td>\n",
       "    </tr>\n",
       "    <tr>\n",
       "        <td>Capital Projects Management Fund</td>\n",
       "        <td>4103358.87</td>\n",
       "    </tr>\n",
       "    <tr>\n",
       "        <td>Regional Stormwater Projects</td>\n",
       "        <td>3882448.18</td>\n",
       "    </tr>\n",
       "    <tr>\n",
       "        <td>Police related Fund</td>\n",
       "        <td>3384071.26</td>\n",
       "    </tr>\n",
       "    <tr>\n",
       "        <td>HOPWA- HUD 10</td>\n",
       "        <td>3038596.63</td>\n",
       "    </tr>\n",
       "    <tr>\n",
       "        <td>Golf Fund</td>\n",
       "        <td>2813865.11</td>\n",
       "    </tr>\n",
       "    <tr>\n",
       "        <td>US Department of Justice</td>\n",
       "        <td>2722296.78</td>\n",
       "    </tr>\n",
       "    <tr>\n",
       "        <td>US HUD-Office of Sustainable Housing and Communities</td>\n",
       "        <td>2399789.38</td>\n",
       "    </tr>\n",
       "    <tr>\n",
       "        <td>S-Ww/Improve Upgrade Replace</td>\n",
       "        <td>2364176.37</td>\n",
       "    </tr>\n",
       "    <tr>\n",
       "        <td>Sustainability Fund</td>\n",
       "        <td>2069601.10</td>\n",
       "    </tr>\n",
       "    <tr>\n",
       "        <td>US Dept of Homeland Security</td>\n",
       "        <td>2000219.09</td>\n",
       "    </tr>\n",
       "    <tr>\n",
       "        <td>E-Support Services Debt</td>\n",
       "        <td>1826168.41</td>\n",
       "    </tr>\n",
       "    <tr>\n",
       "        <td>Texas Related Fund</td>\n",
       "        <td>1796223.36</td>\n",
       "    </tr>\n",
       "    <tr>\n",
       "        <td>City Hall Fund</td>\n",
       "        <td>1612092.16</td>\n",
       "    </tr>\n",
       "    <tr>\n",
       "        <td>Rutherford Lane Facility Fund</td>\n",
       "        <td>1549968.43</td>\n",
       "    </tr>\n",
       "    <tr>\n",
       "        <td>Watershed Enterprise Grants</td>\n",
       "        <td>1522520.22</td>\n",
       "    </tr>\n",
       "    <tr>\n",
       "        <td>Refugee Health Services</td>\n",
       "        <td>1449080.90</td>\n",
       "    </tr>\n",
       "    <tr>\n",
       "        <td>Radio Inventory</td>\n",
       "        <td>1156764.35</td>\n",
       "    </tr>\n",
       "    <tr>\n",
       "        <td>Emergency Shelter Grant 2008-11</td>\n",
       "        <td>1146538.95</td>\n",
       "    </tr>\n",
       "    <tr>\n",
       "        <td>Women/Infants/Children</td>\n",
       "        <td>914577.22</td>\n",
       "    </tr>\n",
       "    <tr>\n",
       "        <td>Wildland Conservation Fund</td>\n",
       "        <td>854370.79</td>\n",
       "    </tr>\n",
       "    <tr>\n",
       "        <td>ATD Transportation CIP</td>\n",
       "        <td>727538.30</td>\n",
       "    </tr>\n",
       "    <tr>\n",
       "        <td>ARIC Sustainability</td>\n",
       "        <td>677836.05</td>\n",
       "    </tr>\n",
       "    <tr>\n",
       "        <td>Youth of Promise Initiative</td>\n",
       "        <td>654133.51</td>\n",
       "    </tr>\n",
       "    <tr>\n",
       "        <td>Friends of APL</td>\n",
       "        <td>505090.41</td>\n",
       "    </tr>\n",
       "    <tr>\n",
       "        <td>Rainey Street District Fund</td>\n",
       "        <td>500000.00</td>\n",
       "    </tr>\n",
       "    <tr>\n",
       "        <td>Urban Forest Replenishment Fun</td>\n",
       "        <td>481906.47</td>\n",
       "    </tr>\n",
       "    <tr>\n",
       "        <td>ARRA Wastewater Improvements--Nva</td>\n",
       "        <td>412589.64</td>\n",
       "    </tr>\n",
       "    <tr>\n",
       "        <td>HIV related Fund</td>\n",
       "        <td>407322.23</td>\n",
       "    </tr>\n",
       "    <tr>\n",
       "        <td>Community Transformation Grant</td>\n",
       "        <td>386429.75</td>\n",
       "    </tr>\n",
       "    <tr>\n",
       "        <td>East 6th Street Public Improvement District</td>\n",
       "        <td>352370.00</td>\n",
       "    </tr>\n",
       "    <tr>\n",
       "        <td>Second Street Tax Increment Financing Fund</td>\n",
       "        <td>340482.92</td>\n",
       "    </tr>\n",
       "    <tr>\n",
       "        <td>Long Center Capital Improvements Fund</td>\n",
       "        <td>300000.00</td>\n",
       "    </tr>\n",
       "    <tr>\n",
       "        <td>Community Services Block Grant</td>\n",
       "        <td>288913.54</td>\n",
       "    </tr>\n",
       "    <tr>\n",
       "        <td>Animal Services Fund</td>\n",
       "        <td>278308.39</td>\n",
       "    </tr>\n",
       "    <tr>\n",
       "        <td>US Department of Transportation</td>\n",
       "        <td>274868.96</td>\n",
       "    </tr>\n",
       "    <tr>\n",
       "        <td>Science Fest</td>\n",
       "        <td>230112.35</td>\n",
       "    </tr>\n",
       "    <tr>\n",
       "        <td>TX SHS-TB Prevention &amp; Control</td>\n",
       "        <td>226244.21</td>\n",
       "    </tr>\n",
       "    <tr>\n",
       "        <td>Pard Miscellaneous T &amp; A</td>\n",
       "        <td>214920.10</td>\n",
       "    </tr>\n",
       "    <tr>\n",
       "        <td>Community Development Incentives Fund</td>\n",
       "        <td>161752.50</td>\n",
       "    </tr>\n",
       "    <tr>\n",
       "        <td>Music Venue Assistance Program Fund</td>\n",
       "        <td>158315.24</td>\n",
       "    </tr>\n",
       "    <tr>\n",
       "        <td>Town Lake/Comm Events P11/99</td>\n",
       "        <td>157916.26</td>\n",
       "    </tr>\n",
       "    <tr>\n",
       "        <td>Tuberculosis Outreach</td>\n",
       "        <td>150675.18</td>\n",
       "    </tr>\n",
       "    <tr>\n",
       "        <td>Child Safety Fund</td>\n",
       "        <td>137598.56</td>\n",
       "    </tr>\n",
       "    <tr>\n",
       "        <td>US Department of State</td>\n",
       "        <td>124643.93</td>\n",
       "    </tr>\n",
       "    <tr>\n",
       "        <td>Special Library</td>\n",
       "        <td>112973.86</td>\n",
       "    </tr>\n",
       "    <tr>\n",
       "        <td>South Congress Public Improvement District</td>\n",
       "        <td>107447.00</td>\n",
       "    </tr>\n",
       "    <tr>\n",
       "        <td>Summer Musical</td>\n",
       "        <td>98152.45</td>\n",
       "    </tr>\n",
       "    <tr>\n",
       "        <td>Healthy Adolescent-US HHS</td>\n",
       "        <td>97660.21</td>\n",
       "    </tr>\n",
       "    <tr>\n",
       "        <td>Dept of State Health Services</td>\n",
       "        <td>84118.21</td>\n",
       "    </tr>\n",
       "    <tr>\n",
       "        <td>Campaign Financing Fund</td>\n",
       "        <td>83965.74</td>\n",
       "    </tr>\n",
       "    <tr>\n",
       "        <td>I-35 Parking Program Fund</td>\n",
       "        <td>78953.88</td>\n",
       "    </tr>\n",
       "    <tr>\n",
       "        <td>Reclaimed Water Utility Operating Fund</td>\n",
       "        <td>71261.16</td>\n",
       "    </tr>\n",
       "    <tr>\n",
       "        <td>Planting For The Future Fund</td>\n",
       "        <td>67225.80</td>\n",
       "    </tr>\n",
       "    <tr>\n",
       "        <td>Music Loan Program Fund</td>\n",
       "        <td>58000.00</td>\n",
       "    </tr>\n",
       "    <tr>\n",
       "        <td>Institute of Museum and Library Services</td>\n",
       "        <td>53439.07</td>\n",
       "    </tr>\n",
       "    <tr>\n",
       "        <td>Fund for Cities of Service, Inc</td>\n",
       "        <td>48571.56</td>\n",
       "    </tr>\n",
       "    <tr>\n",
       "        <td>US HHS-Immunization Outreach</td>\n",
       "        <td>47275.35</td>\n",
       "    </tr>\n",
       "    <tr>\n",
       "        <td>US Health &amp; Human Services</td>\n",
       "        <td>42567.62</td>\n",
       "    </tr>\n",
       "    <tr>\n",
       "        <td>Zoonosis Control</td>\n",
       "        <td>38812.35</td>\n",
       "    </tr>\n",
       "    <tr>\n",
       "        <td>Environmental Remediation Fund</td>\n",
       "        <td>36509.66</td>\n",
       "    </tr>\n",
       "    <tr>\n",
       "        <td>PHEP - Discretionary Fund Projects</td>\n",
       "        <td>34201.16</td>\n",
       "    </tr>\n",
       "    <tr>\n",
       "        <td>STD Control</td>\n",
       "        <td>28934.71</td>\n",
       "    </tr>\n",
       "    <tr>\n",
       "        <td>Auto Theft Interdiction Seizur</td>\n",
       "        <td>23899.50</td>\n",
       "    </tr>\n",
       "    <tr>\n",
       "        <td>Community Diabetes Proj-FY08-10</td>\n",
       "        <td>23159.20</td>\n",
       "    </tr>\n",
       "    <tr>\n",
       "        <td>Wtrshd Protectn Annexed Areas</td>\n",
       "        <td>18781.00</td>\n",
       "    </tr>\n",
       "    <tr>\n",
       "        <td>Influenza Incidence Surveillance Project</td>\n",
       "        <td>17621.57</td>\n",
       "    </tr>\n",
       "    <tr>\n",
       "        <td>Trustee-Ellis Library Fund</td>\n",
       "        <td>16685.38</td>\n",
       "    </tr>\n",
       "    <tr>\n",
       "        <td>City Manager/OEM Misc</td>\n",
       "        <td>15697.50</td>\n",
       "    </tr>\n",
       "    <tr>\n",
       "        <td>PARD Private Grant</td>\n",
       "        <td>11654.85</td>\n",
       "    </tr>\n",
       "    <tr>\n",
       "        <td>US Dept of Interior National Park Service</td>\n",
       "        <td>11043.75</td>\n",
       "    </tr>\n",
       "    <tr>\n",
       "        <td>US Environmental Protection Agency</td>\n",
       "        <td>3250.00</td>\n",
       "    </tr>\n",
       "    <tr>\n",
       "        <td>Fire Miscellaneous</td>\n",
       "        <td>2706.54</td>\n",
       "    </tr>\n",
       "    <tr>\n",
       "        <td>Unclaimed Property</td>\n",
       "        <td>2326.60</td>\n",
       "    </tr>\n",
       "    <tr>\n",
       "        <td>Tobacco Prevention and Control Coalition Program</td>\n",
       "        <td>2177.42</td>\n",
       "    </tr>\n",
       "    <tr>\n",
       "        <td>Parks and Wildlife</td>\n",
       "        <td>1506.07</td>\n",
       "    </tr>\n",
       "    <tr>\n",
       "        <td>Grant Clearing</td>\n",
       "        <td>1020.07</td>\n",
       "    </tr>\n",
       "    <tr>\n",
       "        <td>Conservation Rebates and Incentives Fund</td>\n",
       "        <td>855.00</td>\n",
       "    </tr>\n",
       "    <tr>\n",
       "        <td>One Texas Center Fund</td>\n",
       "        <td>771.49</td>\n",
       "    </tr>\n",
       "    <tr>\n",
       "        <td>Citizen Corps Council Iniatives</td>\n",
       "        <td>133.78</td>\n",
       "    </tr>\n",
       "    <tr>\n",
       "        <td>ARRA - Tobacco Prevention</td>\n",
       "        <td>29.97</td>\n",
       "    </tr>\n",
       "</table>"
      ],
      "text/plain": [
       "[('General Fund', Decimal('666027322.30')),\n",
       " ('AWU Debt Service Fund', Decimal('579158367.00')),\n",
       " ('GCP', Decimal('441846012.59')),\n",
       " ('AE Debt Service Fund', Decimal('339709606.91')),\n",
       " ('Austin related Fund', Decimal('330631390.55')),\n",
       " ('Water related Fund', Decimal('321995632.02')),\n",
       " ('Airport related fund', Decimal('152620656.09')),\n",
       " ('Support Services Fund', Decimal('150034980.55')),\n",
       " ('E-Distribution Capital', Decimal('109721858.19')),\n",
       " ('Electric Inventory Fund', Decimal('92111682.97')),\n",
       " ('Wastewater Fund', Decimal('91020908.85')),\n",
       " ('Drainage Cip', Decimal('89085122.27')),\n",
       " ('Utility Debt Service Fund', Decimal('86729412.80')),\n",
       " ('2013ABIA Terminal East Infill RevBonds', Decimal('84584512.31')),\n",
       " ('GGCIP', Decimal('79291574.78')),\n",
       " ('Convention Center related Fund', Decimal('69014475.65')),\n",
       " ('Employee Benefits Fund', Decimal('68631071.47')),\n",
       " ('S-Wastewater Fund', Decimal('66030185.36')),\n",
       " ('ABIA Improvements', Decimal('56735413.05')),\n",
       " ('Transportation Fund', Decimal('51142780.98')),\n",
       " ('Communications and Technology Management Fund', Decimal('48447084.19')),\n",
       " ('Waller Creek Fund', Decimal('46996670.77')),\n",
       " ('E-Support Services Capital', Decimal('46103455.08')),\n",
       " ('Economic Incentives Reserve Fund', Decimal('43605581.73')),\n",
       " ('Floodplain Home Buyout Program', Decimal('41686537.99')),\n",
       " ('Tourism And Promotion Fund', Decimal('37218732.00')),\n",
       " ('ARR-Austin Resource Recovery Cip', Decimal('35812866.06')),\n",
       " ('Fleet Services Fund', Decimal('33752004.97')),\n",
       " ('US Housing/Urban Development', Decimal('29354683.14')),\n",
       " ('Housing Fund', Decimal('26031447.92')),\n",
       " ('Cultural Arts Fund', Decimal('24284326.50')),\n",
       " ('Vehicle Acquisition Fund', Decimal('23462562.00')),\n",
       " ('W-Water Fund', Decimal('22463852.62')),\n",
       " ('E-Transmission Capital', Decimal('19710751.61')),\n",
       " ('2013ABIA Construction RevBonds', Decimal('18877048.29')),\n",
       " ('Combined Transportation, Emergency & Communications Ctr Fund', Decimal('17858863.78')),\n",
       " ('Drainage Utility Fund', Decimal('17639911.97')),\n",
       " ('Public related Fund', Decimal('16163441.89')),\n",
       " ('Liability Reserve Fund', Decimal('14399876.60')),\n",
       " ('Economic Development Fund', Decimal('14395850.13')),\n",
       " ('Wireless Communication Services Fund', Decimal('13302066.11')),\n",
       " ('Ryan White Fund', Decimal('13043844.46')),\n",
       " ('1115 Medicaid Waiver', Decimal('11762187.66')),\n",
       " ('Mueller related Fund', Decimal('10362528.06')),\n",
       " ('Conv Ctr Town Lake Park Venue Project Bond Redemption Fund', Decimal('9115525.00')),\n",
       " ('E-Distribution Substations Cap', Decimal('7516227.49')),\n",
       " ('HUD Section 108', Decimal('7033075.77')),\n",
       " ('Neighborhood Housing Fund', Decimal('6077578.15')),\n",
       " ('E-Metering Capital', Decimal('5722242.81')),\n",
       " ('Mobility Fund', Decimal('5405624.69')),\n",
       " ('Parking related Fund', Decimal('5128610.18')),\n",
       " (\"Workers' Compensation Fund\", Decimal('4853384.48')),\n",
       " ('CAMPO (formerly ATS)', Decimal('4511405.55')),\n",
       " ('E-Capital Equipment Additions', Decimal('4347214.25')),\n",
       " ('Performance Contracting Fund', Decimal('4290585.96')),\n",
       " ('Municipal related ', Decimal('4143429.68')),\n",
       " ('Capital Projects Management Fund', Decimal('4103358.87')),\n",
       " ('Regional Stormwater Projects', Decimal('3882448.18')),\n",
       " ('Police related Fund', Decimal('3384071.26')),\n",
       " ('HOPWA- HUD 10', Decimal('3038596.63')),\n",
       " ('Golf Fund', Decimal('2813865.11')),\n",
       " ('US Department of Justice', Decimal('2722296.78')),\n",
       " ('US HUD-Office of Sustainable Housing and Communities', Decimal('2399789.38')),\n",
       " ('S-Ww/Improve Upgrade Replace', Decimal('2364176.37')),\n",
       " ('Sustainability Fund', Decimal('2069601.10')),\n",
       " ('US Dept of Homeland Security', Decimal('2000219.09')),\n",
       " ('E-Support Services Debt', Decimal('1826168.41')),\n",
       " ('Texas Related Fund', Decimal('1796223.36')),\n",
       " ('City Hall Fund', Decimal('1612092.16')),\n",
       " ('Rutherford Lane Facility Fund', Decimal('1549968.43')),\n",
       " ('Watershed Enterprise Grants', Decimal('1522520.22')),\n",
       " ('Refugee Health Services', Decimal('1449080.90')),\n",
       " ('Radio Inventory', Decimal('1156764.35')),\n",
       " ('Emergency Shelter Grant 2008-11', Decimal('1146538.95')),\n",
       " ('Women/Infants/Children', Decimal('914577.22')),\n",
       " ('Wildland Conservation Fund', Decimal('854370.79')),\n",
       " ('ATD Transportation CIP', Decimal('727538.30')),\n",
       " ('ARIC Sustainability', Decimal('677836.05')),\n",
       " ('Youth of Promise Initiative', Decimal('654133.51')),\n",
       " ('Friends of APL', Decimal('505090.41')),\n",
       " ('Rainey Street District Fund', Decimal('500000.00')),\n",
       " ('Urban Forest Replenishment Fun', Decimal('481906.47')),\n",
       " ('ARRA Wastewater Improvements--Nva', Decimal('412589.64')),\n",
       " ('HIV related Fund', Decimal('407322.23')),\n",
       " ('Community Transformation Grant', Decimal('386429.75')),\n",
       " ('East 6th Street Public Improvement District', Decimal('352370.00')),\n",
       " ('Second Street Tax Increment Financing Fund', Decimal('340482.92')),\n",
       " ('Long Center Capital Improvements Fund', Decimal('300000.00')),\n",
       " ('Community Services Block Grant', Decimal('288913.54')),\n",
       " ('Animal Services Fund', Decimal('278308.39')),\n",
       " ('US Department of Transportation', Decimal('274868.96')),\n",
       " ('Science Fest', Decimal('230112.35')),\n",
       " ('TX SHS-TB Prevention & Control', Decimal('226244.21')),\n",
       " ('Pard Miscellaneous T & A', Decimal('214920.10')),\n",
       " ('Community Development Incentives Fund', Decimal('161752.50')),\n",
       " ('Music Venue Assistance Program Fund', Decimal('158315.24')),\n",
       " ('Town Lake/Comm Events P11/99', Decimal('157916.26')),\n",
       " ('Tuberculosis Outreach', Decimal('150675.18')),\n",
       " ('Child Safety Fund', Decimal('137598.56')),\n",
       " ('US Department of State', Decimal('124643.93')),\n",
       " ('Special Library', Decimal('112973.86')),\n",
       " ('South Congress Public Improvement District', Decimal('107447.00')),\n",
       " ('Summer Musical', Decimal('98152.45')),\n",
       " ('Healthy Adolescent-US HHS', Decimal('97660.21')),\n",
       " ('Dept of State Health Services', Decimal('84118.21')),\n",
       " ('Campaign Financing Fund', Decimal('83965.74')),\n",
       " ('I-35 Parking Program Fund', Decimal('78953.88')),\n",
       " ('Reclaimed Water Utility Operating Fund', Decimal('71261.16')),\n",
       " ('Planting For The Future Fund', Decimal('67225.80')),\n",
       " ('Music Loan Program Fund', Decimal('58000.00')),\n",
       " ('Institute of Museum and Library Services', Decimal('53439.07')),\n",
       " ('Fund for Cities of Service, Inc', Decimal('48571.56')),\n",
       " ('US HHS-Immunization Outreach', Decimal('47275.35')),\n",
       " ('US Health & Human Services', Decimal('42567.62')),\n",
       " ('Zoonosis Control', Decimal('38812.35')),\n",
       " ('Environmental Remediation Fund', Decimal('36509.66')),\n",
       " ('PHEP - Discretionary Fund Projects', Decimal('34201.16')),\n",
       " ('STD Control', Decimal('28934.71')),\n",
       " ('Auto Theft Interdiction Seizur', Decimal('23899.50')),\n",
       " ('Community Diabetes Proj-FY08-10', Decimal('23159.20')),\n",
       " ('Wtrshd Protectn Annexed Areas', Decimal('18781.00')),\n",
       " ('Influenza Incidence Surveillance Project', Decimal('17621.57')),\n",
       " ('Trustee-Ellis Library Fund', Decimal('16685.38')),\n",
       " ('City Manager/OEM Misc', Decimal('15697.50')),\n",
       " ('PARD Private Grant', Decimal('11654.85')),\n",
       " ('US Dept of Interior National Park Service', Decimal('11043.75')),\n",
       " ('US Environmental Protection Agency', Decimal('3250.00')),\n",
       " ('Fire Miscellaneous', Decimal('2706.54')),\n",
       " ('Unclaimed Property', Decimal('2326.60')),\n",
       " ('Tobacco Prevention and Control Coalition Program', Decimal('2177.42')),\n",
       " ('Parks and Wildlife', Decimal('1506.07')),\n",
       " ('Grant Clearing', Decimal('1020.07')),\n",
       " ('Conservation Rebates and Incentives Fund', Decimal('855.00')),\n",
       " ('One Texas Center Fund', Decimal('771.49')),\n",
       " ('Citizen Corps Council Iniatives', Decimal('133.78')),\n",
       " ('ARRA - Tobacco Prevention', Decimal('29.97'))]"
      ]
     },
     "execution_count": 211,
     "metadata": {},
     "output_type": "execute_result"
    }
   ],
   "source": [
    "%%sql\n",
    "\n",
    "SELECT f.fundgrp_nm, sum(a.amount) as spending_sum\n",
    "FROM fact_spending a, dim_fund f\n",
    "WHERE a.fund_id = f.fund_key\n",
    "AND f.fundgrp_nm in \n",
    "(SELECT distinct f.fundgrp_nm\n",
    "from dim_fund f\n",
    ")\n",
    "\n",
    "GROUP BY f.fundgrp_nm\n",
    "ORDER BY spending_sum DESC;"
   ]
  },
  {
   "cell_type": "code",
   "execution_count": 212,
   "metadata": {
    "collapsed": true,
    "slideshow": {
     "slide_type": "skip"
    }
   },
   "outputs": [],
   "source": [
    "result = _\n",
    "df = result.DataFrame()\n",
    "df.spending_sum = df.spending_sum.astype(float)"
   ]
  },
  {
   "cell_type": "code",
   "execution_count": 213,
   "metadata": {
    "slideshow": {
     "slide_type": "skip"
    }
   },
   "outputs": [
    {
     "name": "stderr",
     "output_type": "stream",
     "text": [
      "//anaconda/lib/python3.5/site-packages/pandas/core/indexing.py:465: SettingWithCopyWarning:\n",
      "\n",
      "\n",
      "A value is trying to be set on a copy of a slice from a DataFrame.\n",
      "Try using .loc[row_indexer,col_indexer] = value instead\n",
      "\n",
      "See the caveats in the documentation: http://pandas.pydata.org/pandas-docs/stable/indexing.html#indexing-view-versus-copy\n",
      "\n"
     ]
    }
   ],
   "source": [
    "df2 = df[:11]\n",
    "df2.iloc[10, 0]= 'other'\n",
    "df2.iloc[10, 1]= df[10:]['spending_sum'].sum()"
   ]
  },
  {
   "cell_type": "code",
   "execution_count": 218,
   "metadata": {
    "slideshow": {
     "slide_type": "skip"
    }
   },
   "outputs": [
    {
     "data": {
      "text/html": [
       "<iframe id=\"igraph\" scrolling=\"no\" style=\"border:none;\" seamless=\"seamless\" src=\"https://plot.ly/~zoeyxrz/26.embed\" height=\"525px\" width=\"100%\"></iframe>"
      ],
      "text/plain": [
       "<plotly.tools.PlotlyDisplay object>"
      ]
     },
     "execution_count": 218,
     "metadata": {},
     "output_type": "execute_result"
    }
   ],
   "source": [
    "fig = {\n",
    "    'data': [\n",
    "        {\n",
    "            'labels': df2['fundgrp_nm'],\n",
    "            'values': df2['spending_sum'],\n",
    "            'type': 'pie',\n",
    "            'name': 'Fund by',\n",
    "            'marker': {'colors': ['rgb(238, 239, 255)',\n",
    "                                  'rgb(252, 234, 187)',\n",
    "                                  'rgb(193, 192, 125)',\n",
    "                                  'rgb(252, 190, 193)',\n",
    "                                  'rgb(165, 163, 160)',\n",
    "                                  'rgb(206, 192, 187)',\n",
    "                                 'rgb(206, 202, 200)',\n",
    "                                 'rgb(194, 157, 200)',\n",
    "                                 'rgb(163,200,157)',\n",
    "                                 'rgb(173,157,200)',\n",
    "                                 'rgb(173, 216, 230)']},\n",
    "            'domain': {'x': [0, 1],\n",
    "                       'y': [0, 1]},\n",
    "            'hoverinfo':'label+percent+name',\n",
    "            'textinfo':df2['fundgrp_nm']\n",
    "        },\n",
    "        \n",
    "    ],\n",
    "    'layout': {'title': 'Spending proportion by fund type',\n",
    "               'showlegend': True}\n",
    "}\n",
    "py.iplot(fig)"
   ]
  },
  {
   "cell_type": "raw",
   "metadata": {
    "slideshow": {
     "slide_type": "skip"
    }
   },
   "source": [
    "As we can see from the pie chart, the type of fund that took the largest proportion is the general fund, while a large portion being the debt service fund. \n",
    "This corresponds to our findings in other queries that tell us the huge proportion of Austin government money was relying on the debt fund."
   ]
  },
  {
   "cell_type": "markdown",
   "metadata": {},
   "source": [
    "### Item Analysis\n",
    "For each financial year we want to find the top 10 Items with the department names under which they are used."
   ]
  },
  {
   "cell_type": "code",
   "execution_count": 108,
   "metadata": {},
   "outputs": [
    {
     "name": "stdout",
     "output_type": "stream",
     "text": [
      "30 rows affected.\n"
     ]
    },
    {
     "data": {
      "text/html": [
       "<table>\n",
       "    <tr>\n",
       "        <th>fy_dc</th>\n",
       "        <th>Item Name - Department</th>\n",
       "        <th>count</th>\n",
       "    </tr>\n",
       "    <tr>\n",
       "        <td>2014</td>\n",
       "        <td>Electrical-Austin Energy</td>\n",
       "        <td>2183</td>\n",
       "    </tr>\n",
       "    <tr>\n",
       "        <td>2014</td>\n",
       "        <td>Mileage reimbursements-Health &amp; Human Services</td>\n",
       "        <td>1549</td>\n",
       "    </tr>\n",
       "    <tr>\n",
       "        <td>2014</td>\n",
       "        <td>Mileage reimbursements-Parks &amp; Recreation</td>\n",
       "        <td>1530</td>\n",
       "    </tr>\n",
       "    <tr>\n",
       "        <td>2014</td>\n",
       "        <td>Shoes, Safety Toe-Solid Waste Services</td>\n",
       "        <td>1393</td>\n",
       "    </tr>\n",
       "    <tr>\n",
       "        <td>2014</td>\n",
       "        <td>Telephone Services, Long Distance and Local (Inclu-Parks &amp; Recreation</td>\n",
       "        <td>1353</td>\n",
       "    </tr>\n",
       "    <tr>\n",
       "        <td>2014</td>\n",
       "        <td>Copy Machine (Including Cost-Per-Copy Type Leases)-Fleet Services</td>\n",
       "        <td>1324</td>\n",
       "    </tr>\n",
       "    <tr>\n",
       "        <td>2014</td>\n",
       "        <td>TEMPORARY SERVICES FOR THE EMPLOYMENT OF COMPUTER PROGRAMMER-Austin Energy</td>\n",
       "        <td>1300</td>\n",
       "    </tr>\n",
       "    <tr>\n",
       "        <td>2014</td>\n",
       "        <td>ASPHALTIC CONCRETE, HOT MIX, IN ACCORDANCE WITH IT-Public Works - Transportation</td>\n",
       "        <td>1166</td>\n",
       "    </tr>\n",
       "    <tr>\n",
       "        <td>2014</td>\n",
       "        <td>Mileage reimbursements-Library</td>\n",
       "        <td>1101</td>\n",
       "    </tr>\n",
       "    <tr>\n",
       "        <td>2014</td>\n",
       "        <td>Impact Tools, Air Powered (Not Road Building)-Austin Water Utility</td>\n",
       "        <td>1097</td>\n",
       "    </tr>\n",
       "    <tr>\n",
       "        <td>2015</td>\n",
       "        <td>Electrical-Austin Energy</td>\n",
       "        <td>2940</td>\n",
       "    </tr>\n",
       "    <tr>\n",
       "        <td>2015</td>\n",
       "        <td>Mileage reimbursements-Health &amp; Human Services</td>\n",
       "        <td>1581</td>\n",
       "    </tr>\n",
       "    <tr>\n",
       "        <td>2015</td>\n",
       "        <td>TEMPORARY SERVICES FOR THE EMPLOYMENT OF COMPUTER PROGRAMMER-Austin Energy</td>\n",
       "        <td>1553</td>\n",
       "    </tr>\n",
       "    <tr>\n",
       "        <td>2015</td>\n",
       "        <td>Mileage reimbursements-Parks &amp; Recreation</td>\n",
       "        <td>1361</td>\n",
       "    </tr>\n",
       "    <tr>\n",
       "        <td>2015</td>\n",
       "        <td>Uniforms, Blended Fabric-Solid Waste Services</td>\n",
       "        <td>1352</td>\n",
       "    </tr>\n",
       "    <tr>\n",
       "        <td>2015</td>\n",
       "        <td>Mileage reimbursements-Library</td>\n",
       "        <td>1329</td>\n",
       "    </tr>\n",
       "    <tr>\n",
       "        <td>2015</td>\n",
       "        <td>ASPHALTIC CONCRETE, HOT MIX, IN ACCORDANCE WITH IT-Public Works - Transportation</td>\n",
       "        <td>1290</td>\n",
       "    </tr>\n",
       "    <tr>\n",
       "        <td>2015</td>\n",
       "        <td>PARTS AND ACCESSORIES, TRAILER HITCH (BRAND LISTED-Fleet Services</td>\n",
       "        <td>1260</td>\n",
       "    </tr>\n",
       "    <tr>\n",
       "        <td>2015</td>\n",
       "        <td>Telephone Services, Long Distance and Local (Inclu-Parks &amp; Recreation</td>\n",
       "        <td>1103</td>\n",
       "    </tr>\n",
       "    <tr>\n",
       "        <td>2015</td>\n",
       "        <td>Transformers, Power Distribution (Incl. Fluid Fill-Austin Energy</td>\n",
       "        <td>1004</td>\n",
       "    </tr>\n",
       "    <tr>\n",
       "        <td>2016</td>\n",
       "        <td>Uniforms, Blended Fabric-Solid Waste Services</td>\n",
       "        <td>1447</td>\n",
       "    </tr>\n",
       "    <tr>\n",
       "        <td>2016</td>\n",
       "        <td>PARTS AND ACCESSORIES, TRAILER HITCH (BRAND LISTED-Fleet Services</td>\n",
       "        <td>1429</td>\n",
       "    </tr>\n",
       "    <tr>\n",
       "        <td>2016</td>\n",
       "        <td>Mileage reimbursements-Health &amp; Human Services</td>\n",
       "        <td>1386</td>\n",
       "    </tr>\n",
       "    <tr>\n",
       "        <td>2016</td>\n",
       "        <td>Electrical-Austin Energy</td>\n",
       "        <td>1137</td>\n",
       "    </tr>\n",
       "    <tr>\n",
       "        <td>2016</td>\n",
       "        <td>ASPHALTIC CONCRETE, HOT MIX, IN ACCORDANCE WITH IT-Public Works - Transportation</td>\n",
       "        <td>1133</td>\n",
       "    </tr>\n",
       "    <tr>\n",
       "        <td>2016</td>\n",
       "        <td>Mileage reimbursements-Library</td>\n",
       "        <td>1131</td>\n",
       "    </tr>\n",
       "    <tr>\n",
       "        <td>2016</td>\n",
       "        <td>TEMPORARY SERVICES FOR THE EMPLOYMENT OF COMPUTER PROGRAMMER-Austin Energy</td>\n",
       "        <td>1122</td>\n",
       "    </tr>\n",
       "    <tr>\n",
       "        <td>2016</td>\n",
       "        <td>Engineering Consulting-Austin Water Utility</td>\n",
       "        <td>1076</td>\n",
       "    </tr>\n",
       "    <tr>\n",
       "        <td>2016</td>\n",
       "        <td>Mileage reimbursements-Parks &amp; Recreation</td>\n",
       "        <td>917</td>\n",
       "    </tr>\n",
       "    <tr>\n",
       "        <td>2016</td>\n",
       "        <td>Arts Services (Cultural, Design, Visual, etc.)-Economic Growth &amp; Redevelopment Services</td>\n",
       "        <td>916</td>\n",
       "    </tr>\n",
       "</table>"
      ],
      "text/plain": [
       "[(2014, 'Electrical-Austin Energy', 2183),\n",
       " (2014, 'Mileage reimbursements-Health & Human Services', 1549),\n",
       " (2014, 'Mileage reimbursements-Parks & Recreation', 1530),\n",
       " (2014, 'Shoes, Safety Toe-Solid Waste Services', 1393),\n",
       " (2014, 'Telephone Services, Long Distance and Local (Inclu-Parks & Recreation', 1353),\n",
       " (2014, 'Copy Machine (Including Cost-Per-Copy Type Leases)-Fleet Services', 1324),\n",
       " (2014, 'TEMPORARY SERVICES FOR THE EMPLOYMENT OF COMPUTER PROGRAMMER-Austin Energy', 1300),\n",
       " (2014, 'ASPHALTIC CONCRETE, HOT MIX, IN ACCORDANCE WITH IT-Public Works - Transportation', 1166),\n",
       " (2014, 'Mileage reimbursements-Library', 1101),\n",
       " (2014, 'Impact Tools, Air Powered (Not Road Building)-Austin Water Utility', 1097),\n",
       " (2015, 'Electrical-Austin Energy', 2940),\n",
       " (2015, 'Mileage reimbursements-Health & Human Services', 1581),\n",
       " (2015, 'TEMPORARY SERVICES FOR THE EMPLOYMENT OF COMPUTER PROGRAMMER-Austin Energy', 1553),\n",
       " (2015, 'Mileage reimbursements-Parks & Recreation', 1361),\n",
       " (2015, 'Uniforms, Blended Fabric-Solid Waste Services', 1352),\n",
       " (2015, 'Mileage reimbursements-Library', 1329),\n",
       " (2015, 'ASPHALTIC CONCRETE, HOT MIX, IN ACCORDANCE WITH IT-Public Works - Transportation', 1290),\n",
       " (2015, 'PARTS AND ACCESSORIES, TRAILER HITCH (BRAND LISTED-Fleet Services', 1260),\n",
       " (2015, 'Telephone Services, Long Distance and Local (Inclu-Parks & Recreation', 1103),\n",
       " (2015, 'Transformers, Power Distribution (Incl. Fluid Fill-Austin Energy', 1004),\n",
       " (2016, 'Uniforms, Blended Fabric-Solid Waste Services', 1447),\n",
       " (2016, 'PARTS AND ACCESSORIES, TRAILER HITCH (BRAND LISTED-Fleet Services', 1429),\n",
       " (2016, 'Mileage reimbursements-Health & Human Services', 1386),\n",
       " (2016, 'Electrical-Austin Energy', 1137),\n",
       " (2016, 'ASPHALTIC CONCRETE, HOT MIX, IN ACCORDANCE WITH IT-Public Works - Transportation', 1133),\n",
       " (2016, 'Mileage reimbursements-Library', 1131),\n",
       " (2016, 'TEMPORARY SERVICES FOR THE EMPLOYMENT OF COMPUTER PROGRAMMER-Austin Energy', 1122),\n",
       " (2016, 'Engineering Consulting-Austin Water Utility', 1076),\n",
       " (2016, 'Mileage reimbursements-Parks & Recreation', 917),\n",
       " (2016, 'Arts Services (Cultural, Design, Visual, etc.)-Economic Growth & Redevelopment Services', 916)]"
      ]
     },
     "execution_count": 108,
     "metadata": {},
     "output_type": "execute_result"
    }
   ],
   "source": [
    "%%sql\n",
    "\n",
    "WITH data_2014 AS (\n",
    "SELECT\n",
    "     d.fy_dc\n",
    "    ,f.description ||'-'|| o.dept_nm AS \"Item Name - Department\"\n",
    "    ,COUNT(f.description)\n",
    "FROM fact_spending f \n",
    "LEFT JOIN DIM_org o ON f.org_id=o.org_key\n",
    "LEFT JOIN DIM_date d on f.date_id=d.date_key\n",
    "WHERE d.fy_dc='2014'\n",
    "GROUP BY d.fy_dc,f.description,o.dept_nm\n",
    "ORDER BY count(description) DESC\n",
    "limit 10),\n",
    "data_2015 AS(\n",
    "SELECT\n",
    "     d.fy_dc\n",
    "    ,f.description ||'-'|| o.dept_nm AS \"Item Name - Department\"\n",
    "    ,COUNT(f.description)\n",
    "FROM fact_spending f \n",
    "LEFT JOIN DIM_org o ON f.org_id=o.org_key\n",
    "LEFT JOIN DIM_date d on f.date_id=d.date_key\n",
    "WHERE d.fy_dc='2015'\n",
    "GROUP BY d.fy_dc,f.description,o.dept_nm\n",
    "ORDER BY count(description) DESC\n",
    "limit 10),\n",
    "data_2016 AS(\n",
    "SELECT\n",
    "     d.fy_dc\n",
    "    ,f.description ||'-'|| o.dept_nm AS \"Item Name - Department\" \n",
    "    ,COUNT(f.description)\n",
    "FROM fact_spending f \n",
    "LEFT JOIN DIM_org o ON f.org_id=o.org_key\n",
    "LEFT JOIN DIM_date d on f.date_id=d.date_key\n",
    "WHERE d.fy_dc='2016'\n",
    "GROUP BY d.fy_dc,f.description,o.dept_nm\n",
    "ORDER BY count(description) DESC\n",
    "limit 10\n",
    "), final_data AS(\n",
    "\n",
    "SELECT * FROM data_2014\n",
    "UNION\n",
    "SELECT * FROM data_2015\n",
    "UNION\n",
    "SELECT * FROM data_2016\n",
    ")\n",
    "\n",
    "\n",
    "SELECT * from final_data\n",
    "ORDER BY fy_dc,count DESC;"
   ]
  },
  {
   "cell_type": "markdown",
   "metadata": {},
   "source": [
    "Here we have created a combined data table to store top 10 items for each year which are being bought/serviced by different departments. We wanted to analyze the items which the departments under Austin city government bought/serviced with the tax payer's money."
   ]
  },
  {
   "cell_type": "code",
   "execution_count": 109,
   "metadata": {
    "collapsed": true
   },
   "outputs": [],
   "source": [
    "result=_\n",
    "data=pd.DataFrame(result,columns=['Year','Item Name - Department','Count'])"
   ]
  },
  {
   "cell_type": "code",
   "execution_count": 113,
   "metadata": {},
   "outputs": [
    {
     "data": {
      "text/plain": [
       "<seaborn.axisgrid.FacetGrid at 0x11bbe5c88>"
      ]
     },
     "execution_count": 113,
     "metadata": {},
     "output_type": "execute_result"
    },
    {
     "data": {
      "image/png": "[encoded data removed]",
      "text/plain": [
       "<matplotlib.figure.Figure at 0x11bbe5cc0>"
      ]
     },
     "metadata": {},
     "output_type": "display_data"
    }
   ],
   "source": [
    "sns.set(style='whitegrid')\n",
    "graph=sns.factorplot(x=\"Year\",y=\"Count\",hue=\"Item Name - Department\",data=data,kind=\"bar\",size=9,palette=\"RdBu\")\n",
    "graph.despine(left=True)"
   ]
  },
  {
   "cell_type": "markdown",
   "metadata": {},
   "source": [
    "We see that in years 2014 and 2015 departments under Austin City Government bought/serviced Electrical items many number of times. Whereas in 2016 the count for Electrical items is less but new spending areas such as \"Arts Services\" and \"Engineering consulting\" have come up. We can also infer that the government is doing lot of Mileage reimbursements in all the 3 financial years. "
   ]
  },
  {
   "cell_type": "markdown",
   "metadata": {},
   "source": [
    "#### For each financial year we want to find the top 10 Items on which the Austin city Government spent the most."
   ]
  },
  {
   "cell_type": "code",
   "execution_count": 114,
   "metadata": {},
   "outputs": [
    {
     "name": "stdout",
     "output_type": "stream",
     "text": [
      "30 rows affected.\n"
     ]
    },
    {
     "data": {
      "text/html": [
       "<table>\n",
       "    <tr>\n",
       "        <th>fy_dc</th>\n",
       "        <th>Item Name - Department</th>\n",
       "        <th>sum</th>\n",
       "    </tr>\n",
       "    <tr>\n",
       "        <td>2014</td>\n",
       "        <td>Principal payment D/S funds-Enterprise Debt Service</td>\n",
       "        <td>207756213.50</td>\n",
       "    </tr>\n",
       "    <tr>\n",
       "        <td>2014</td>\n",
       "        <td>Interest payment D/S funds-Enterprise Debt Service</td>\n",
       "        <td>184471359.24</td>\n",
       "    </tr>\n",
       "    <tr>\n",
       "        <td>2014</td>\n",
       "        <td>Civil Engineering-Austin Water Utility</td>\n",
       "        <td>91585149.41</td>\n",
       "    </tr>\n",
       "    <tr>\n",
       "        <td>2014</td>\n",
       "        <td>Redemption of principal-gen-General Obligation Debt Service</td>\n",
       "        <td>88475000.00</td>\n",
       "    </tr>\n",
       "    <tr>\n",
       "        <td>2014</td>\n",
       "        <td>Interest-general-General Obligation Debt Service</td>\n",
       "        <td>52124305.68</td>\n",
       "    </tr>\n",
       "    <tr>\n",
       "        <td>2014</td>\n",
       "        <td>Real Estate: Land and Improvements-Watershed</td>\n",
       "        <td>36002395.01</td>\n",
       "    </tr>\n",
       "    <tr>\n",
       "        <td>2014</td>\n",
       "        <td>CONSTRUCTION, REMODEL &amp; ALTERA-Aviation</td>\n",
       "        <td>27115523.49</td>\n",
       "    </tr>\n",
       "    <tr>\n",
       "        <td>2014</td>\n",
       "        <td>Construction, Water System, Main and Service Line-Austin Water Utility</td>\n",
       "        <td>22386627.72</td>\n",
       "    </tr>\n",
       "    <tr>\n",
       "        <td>2014</td>\n",
       "        <td>Construction, Pipeline-Austin Water Utility</td>\n",
       "        <td>19195836.44</td>\n",
       "    </tr>\n",
       "    <tr>\n",
       "        <td>2014</td>\n",
       "        <td>Incentives, Rebates and Refunds-Economic Growth &amp; Redevelopment Services</td>\n",
       "        <td>19073572.50</td>\n",
       "    </tr>\n",
       "    <tr>\n",
       "        <td>2015</td>\n",
       "        <td>Interest payment D/S funds-Enterprise Debt Service</td>\n",
       "        <td>204028882.56</td>\n",
       "    </tr>\n",
       "    <tr>\n",
       "        <td>2015</td>\n",
       "        <td>Principal payment D/S funds-Enterprise Debt Service</td>\n",
       "        <td>172690722.20</td>\n",
       "    </tr>\n",
       "    <tr>\n",
       "        <td>2015</td>\n",
       "        <td>Redemption of principal-gen-General Obligation Debt Service</td>\n",
       "        <td>89445000.00</td>\n",
       "    </tr>\n",
       "    <tr>\n",
       "        <td>2015</td>\n",
       "        <td>Interest-general-General Obligation Debt Service</td>\n",
       "        <td>55521382.77</td>\n",
       "    </tr>\n",
       "    <tr>\n",
       "        <td>2015</td>\n",
       "        <td>MANAGEMENT, CONSTRUCTION-Library</td>\n",
       "        <td>34284220.29</td>\n",
       "    </tr>\n",
       "    <tr>\n",
       "        <td>2015</td>\n",
       "        <td>CONSTRUCTION, REMODEL &amp; ALTERA-Aviation</td>\n",
       "        <td>31158377.51</td>\n",
       "    </tr>\n",
       "    <tr>\n",
       "        <td>2015</td>\n",
       "        <td>Services-construction contr-Austin Water Utility</td>\n",
       "        <td>21512310.84</td>\n",
       "    </tr>\n",
       "    <tr>\n",
       "        <td>2015</td>\n",
       "        <td>Land-Watershed</td>\n",
       "        <td>21269110.68</td>\n",
       "    </tr>\n",
       "    <tr>\n",
       "        <td>2015</td>\n",
       "        <td>Software Maintenance/Support-Austin Energy</td>\n",
       "        <td>18631815.40</td>\n",
       "    </tr>\n",
       "    <tr>\n",
       "        <td>2015</td>\n",
       "        <td>Purch.card costs to reclassify-Financial Services</td>\n",
       "        <td>18500731.55</td>\n",
       "    </tr>\n",
       "    <tr>\n",
       "        <td>2016</td>\n",
       "        <td>Interest payment D/S funds-Enterprise Debt Service</td>\n",
       "        <td>196716242.88</td>\n",
       "    </tr>\n",
       "    <tr>\n",
       "        <td>2016</td>\n",
       "        <td>Principal payment D/S funds-Enterprise Debt Service</td>\n",
       "        <td>172914425.36</td>\n",
       "    </tr>\n",
       "    <tr>\n",
       "        <td>2016</td>\n",
       "        <td>Redemption of principal-gen-General Obligation Debt Service</td>\n",
       "        <td>69710000.00</td>\n",
       "    </tr>\n",
       "    <tr>\n",
       "        <td>2016</td>\n",
       "        <td>Interest-general-General Obligation Debt Service</td>\n",
       "        <td>53582034.03</td>\n",
       "    </tr>\n",
       "    <tr>\n",
       "        <td>2016</td>\n",
       "        <td>MANAGEMENT, CONSTRUCTION-Library</td>\n",
       "        <td>32865580.24</td>\n",
       "    </tr>\n",
       "    <tr>\n",
       "        <td>2016</td>\n",
       "        <td>Land-Watershed</td>\n",
       "        <td>31007410.07</td>\n",
       "    </tr>\n",
       "    <tr>\n",
       "        <td>2016</td>\n",
       "        <td>Software Maintenance/Support-Austin Energy</td>\n",
       "        <td>28177103.25</td>\n",
       "    </tr>\n",
       "    <tr>\n",
       "        <td>2016</td>\n",
       "        <td>Construction, Water System, Main and Service Line-Austin Water Utility</td>\n",
       "        <td>25064056.57</td>\n",
       "    </tr>\n",
       "    <tr>\n",
       "        <td>2016</td>\n",
       "        <td>Purch.card costs to reclassify-Financial Services</td>\n",
       "        <td>20046642.44</td>\n",
       "    </tr>\n",
       "    <tr>\n",
       "        <td>2016</td>\n",
       "        <td>Airport Facility Construction-Aviation</td>\n",
       "        <td>18236426.00</td>\n",
       "    </tr>\n",
       "</table>"
      ],
      "text/plain": [
       "[(2014, 'Principal payment D/S funds-Enterprise Debt Service', Decimal('207756213.50')),\n",
       " (2014, 'Interest payment D/S funds-Enterprise Debt Service', Decimal('184471359.24')),\n",
       " (2014, 'Civil Engineering-Austin Water Utility', Decimal('91585149.41')),\n",
       " (2014, 'Redemption of principal-gen-General Obligation Debt Service', Decimal('88475000.00')),\n",
       " (2014, 'Interest-general-General Obligation Debt Service', Decimal('52124305.68')),\n",
       " (2014, 'Real Estate: Land and Improvements-Watershed', Decimal('36002395.01')),\n",
       " (2014, 'CONSTRUCTION, REMODEL & ALTERA-Aviation', Decimal('27115523.49')),\n",
       " (2014, 'Construction, Water System, Main and Service Line-Austin Water Utility', Decimal('22386627.72')),\n",
       " (2014, 'Construction, Pipeline-Austin Water Utility', Decimal('19195836.44')),\n",
       " (2014, 'Incentives, Rebates and Refunds-Economic Growth & Redevelopment Services', Decimal('19073572.50')),\n",
       " (2015, 'Interest payment D/S funds-Enterprise Debt Service', Decimal('204028882.56')),\n",
       " (2015, 'Principal payment D/S funds-Enterprise Debt Service', Decimal('172690722.20')),\n",
       " (2015, 'Redemption of principal-gen-General Obligation Debt Service', Decimal('89445000.00')),\n",
       " (2015, 'Interest-general-General Obligation Debt Service', Decimal('55521382.77')),\n",
       " (2015, 'MANAGEMENT, CONSTRUCTION-Library', Decimal('34284220.29')),\n",
       " (2015, 'CONSTRUCTION, REMODEL & ALTERA-Aviation', Decimal('31158377.51')),\n",
       " (2015, 'Services-construction contr-Austin Water Utility', Decimal('21512310.84')),\n",
       " (2015, 'Land-Watershed', Decimal('21269110.68')),\n",
       " (2015, 'Software Maintenance/Support-Austin Energy', Decimal('18631815.40')),\n",
       " (2015, 'Purch.card costs to reclassify-Financial Services', Decimal('18500731.55')),\n",
       " (2016, 'Interest payment D/S funds-Enterprise Debt Service', Decimal('196716242.88')),\n",
       " (2016, 'Principal payment D/S funds-Enterprise Debt Service', Decimal('172914425.36')),\n",
       " (2016, 'Redemption of principal-gen-General Obligation Debt Service', Decimal('69710000.00')),\n",
       " (2016, 'Interest-general-General Obligation Debt Service', Decimal('53582034.03')),\n",
       " (2016, 'MANAGEMENT, CONSTRUCTION-Library', Decimal('32865580.24')),\n",
       " (2016, 'Land-Watershed', Decimal('31007410.07')),\n",
       " (2016, 'Software Maintenance/Support-Austin Energy', Decimal('28177103.25')),\n",
       " (2016, 'Construction, Water System, Main and Service Line-Austin Water Utility', Decimal('25064056.57')),\n",
       " (2016, 'Purch.card costs to reclassify-Financial Services', Decimal('20046642.44')),\n",
       " (2016, 'Airport Facility Construction-Aviation', Decimal('18236426.00'))]"
      ]
     },
     "execution_count": 114,
     "metadata": {},
     "output_type": "execute_result"
    }
   ],
   "source": [
    "%%sql\n",
    "\n",
    "WITH spend_data_2014 AS (\n",
    "SELECT\n",
    "     d.fy_dc\n",
    "    ,f.description ||'-'|| o.dept_nm AS \"Item Name - Department\"\n",
    "    ,SUM(f.amount)\n",
    "FROM fact_spending f \n",
    "LEFT JOIN DIM_org o ON f.org_id=o.org_key\n",
    "LEFT JOIN DIM_date d on f.date_id=d.date_key\n",
    "WHERE d.fy_dc='2014'\n",
    "GROUP BY d.fy_dc,f.description,o.dept_nm\n",
    "ORDER BY SUM(f.amount) DESC\n",
    "limit 10),\n",
    "spend_data_2015 AS(\n",
    "SELECT\n",
    "     d.fy_dc\n",
    "    ,f.description ||'-'|| o.dept_nm AS \"Item Name - Department\"\n",
    "    ,SUM(f.amount)\n",
    "FROM fact_spending f \n",
    "LEFT JOIN DIM_org o ON f.org_id=o.org_key\n",
    "LEFT JOIN DIM_date d on f.date_id=d.date_key\n",
    "WHERE d.fy_dc='2015'\n",
    "GROUP BY d.fy_dc,f.description,o.dept_nm\n",
    "ORDER BY SUM(f.amount) DESC\n",
    "limit 10),\n",
    "spend_data_2016 AS(\n",
    "SELECT\n",
    "     d.fy_dc\n",
    "    ,f.description ||'-'|| o.dept_nm AS \"Item Name - Department\" \n",
    "    ,SUM(f.amount)\n",
    "FROM fact_spending f \n",
    "LEFT JOIN DIM_org o ON f.org_id=o.org_key\n",
    "LEFT JOIN DIM_date d on f.date_id=d.date_key\n",
    "WHERE d.fy_dc='2016'\n",
    "GROUP BY d.fy_dc,f.description,o.dept_nm\n",
    "ORDER BY SUM(f.amount) DESC\n",
    "limit 10\n",
    "), final_spend_data AS(\n",
    "\n",
    "SELECT * FROM spend_data_2014\n",
    "UNION\n",
    "SELECT * FROM spend_data_2015\n",
    "UNION\n",
    "SELECT * FROM spend_data_2016\n",
    ")\n",
    "\n",
    "\n",
    "SELECT * from final_spend_data\n",
    "ORDER BY fy_dc,SUM DESC;"
   ]
  },
  {
   "cell_type": "code",
   "execution_count": 115,
   "metadata": {
    "collapsed": true
   },
   "outputs": [],
   "source": [
    "result=_\n",
    "data=pd.DataFrame(result,columns=['Year','Item Name - Department','Amount'])"
   ]
  },
  {
   "cell_type": "markdown",
   "metadata": {},
   "source": [
    "Here we have created a combined data table to store the amount spent on top 10 items for each year which are being bought/serviced by different departments. We wanted to analyze the amounts spent on items which the departments under Austin city government bought/serviced with the tax payer's money."
   ]
  },
  {
   "cell_type": "code",
   "execution_count": 118,
   "metadata": {},
   "outputs": [
    {
     "data": {
      "text/plain": [
       "<seaborn.axisgrid.FacetGrid at 0x1199fd208>"
      ]
     },
     "execution_count": 118,
     "metadata": {},
     "output_type": "execute_result"
    },
    {
     "data": {
      "image/png": "[encoded data removed]",
      "text/plain": [
       "<matplotlib.figure.Figure at 0x119a08d30>"
      ]
     },
     "metadata": {},
     "output_type": "display_data"
    }
   ],
   "source": [
    "sns.set(style='whitegrid')\n",
    "graph=sns.factorplot(x=\"Year\",y=\"Amount\",hue=\"Item Name - Department\",data=data,kind=\"bar\",size=9,palette=\"Set3\")\n",
    "graph.despine(left=True)"
   ]
  },
  {
   "cell_type": "markdown",
   "metadata": {},
   "source": [
    "We see that for each financial year most of the Tax payer's money is spent on paying the Principal and Interest amounts for the previous debts. In the year 2016 we see that the amount is spent on new items like \"Software Maintenance\", \"Purch card costs\" and \"Airport Facility Construction\"."
   ]
  },
  {
   "cell_type": "markdown",
   "metadata": {},
   "source": [
    "#### In the following query, we are doing a similar analysis, but this time, we want to see the top 10 objects that government spent most on, in a grouped form.\n",
    "\n",
    "To go into deeper, we want to see the trend of how the spending amount changed across three years. First, we start from a subquery that sums up the amount which meets the requirement of being in a specific year and has a distinct grouped obj name. And then we use the object code to join the three-year subqueries to one, and sum the amount of each year for same group, for example, from the subquery we mentioned earlier, some groups with same object name are recorded separately. We want to add them as one. After that, for each group we get the total amount across three years and using the total amount to get the top 10 groups. Finally, plot it."
   ]
  },
  {
   "cell_type": "code",
   "execution_count": 207,
   "metadata": {},
   "outputs": [
    {
     "name": "stdout",
     "output_type": "stream",
     "text": [
      "10 rows affected.\n"
     ]
    },
    {
     "data": {
      "text/html": [
       "<table>\n",
       "    <tr>\n",
       "        <th>objgrp_nm</th>\n",
       "        <th>sum2014</th>\n",
       "        <th>sum2015</th>\n",
       "        <th>sum2016</th>\n",
       "        <th>sum_three</th>\n",
       "    </tr>\n",
       "    <tr>\n",
       "        <td>Services</td>\n",
       "        <td>594160666.03</td>\n",
       "        <td>479898297.86</td>\n",
       "        <td>433612412.46</td>\n",
       "        <td>1507671376.35</td>\n",
       "    </tr>\n",
       "    <tr>\n",
       "        <td>Interest</td>\n",
       "        <td>237644639.02</td>\n",
       "        <td>261760133.09</td>\n",
       "        <td>252539842.68</td>\n",
       "        <td>751944614.79</td>\n",
       "    </tr>\n",
       "    <tr>\n",
       "        <td>Principal payment D/S funds</td>\n",
       "        <td>208586213.50</td>\n",
       "        <td>173725722.20</td>\n",
       "        <td>174024425.36</td>\n",
       "        <td>556336361.06</td>\n",
       "    </tr>\n",
       "    <tr>\n",
       "        <td>Redemption of principal-gen</td>\n",
       "        <td>90180000.00</td>\n",
       "        <td>91330000.00</td>\n",
       "        <td>71655000.00</td>\n",
       "        <td>253165000.00</td>\n",
       "    </tr>\n",
       "    <tr>\n",
       "        <td>Grant Related</td>\n",
       "        <td>65189698.52</td>\n",
       "        <td>65710476.33</td>\n",
       "        <td>67685451.37</td>\n",
       "        <td>198585626.22</td>\n",
       "    </tr>\n",
       "    <tr>\n",
       "        <td>Inventory purchases</td>\n",
       "        <td>64028544.60</td>\n",
       "        <td>54018279.64</td>\n",
       "        <td>48413971.43</td>\n",
       "        <td>166460795.67</td>\n",
       "    </tr>\n",
       "    <tr>\n",
       "        <td>Land</td>\n",
       "        <td>61761195.44</td>\n",
       "        <td>39035480.30</td>\n",
       "        <td>42797765.16</td>\n",
       "        <td>143594440.90</td>\n",
       "    </tr>\n",
       "    <tr>\n",
       "        <td>Maintenance</td>\n",
       "        <td>43096804.69</td>\n",
       "        <td>45059110.81</td>\n",
       "        <td>48834743.51</td>\n",
       "        <td>136990659.01</td>\n",
       "    </tr>\n",
       "    <tr>\n",
       "        <td>Purch.card costs to reclassify</td>\n",
       "        <td>35969474.71</td>\n",
       "        <td>40593741.14</td>\n",
       "        <td>42535172.25</td>\n",
       "        <td>119098388.10</td>\n",
       "    </tr>\n",
       "    <tr>\n",
       "        <td>Vehicle/Motored Equipment</td>\n",
       "        <td>23572343.86</td>\n",
       "        <td>41015872.98</td>\n",
       "        <td>27959687.01</td>\n",
       "        <td>92547903.85</td>\n",
       "    </tr>\n",
       "</table>"
      ],
      "text/plain": [
       "[('Services', Decimal('594160666.03'), Decimal('479898297.86'), Decimal('433612412.46'), Decimal('1507671376.35')),\n",
       " ('Interest', Decimal('237644639.02'), Decimal('261760133.09'), Decimal('252539842.68'), Decimal('751944614.79')),\n",
       " ('Principal payment D/S funds', Decimal('208586213.50'), Decimal('173725722.20'), Decimal('174024425.36'), Decimal('556336361.06')),\n",
       " ('Redemption of principal-gen', Decimal('90180000.00'), Decimal('91330000.00'), Decimal('71655000.00'), Decimal('253165000.00')),\n",
       " ('Grant Related', Decimal('65189698.52'), Decimal('65710476.33'), Decimal('67685451.37'), Decimal('198585626.22')),\n",
       " ('Inventory purchases', Decimal('64028544.60'), Decimal('54018279.64'), Decimal('48413971.43'), Decimal('166460795.67')),\n",
       " ('Land', Decimal('61761195.44'), Decimal('39035480.30'), Decimal('42797765.16'), Decimal('143594440.90')),\n",
       " ('Maintenance', Decimal('43096804.69'), Decimal('45059110.81'), Decimal('48834743.51'), Decimal('136990659.01')),\n",
       " ('Purch.card costs to reclassify', Decimal('35969474.71'), Decimal('40593741.14'), Decimal('42535172.25'), Decimal('119098388.10')),\n",
       " ('Vehicle/Motored Equipment', Decimal('23572343.86'), Decimal('41015872.98'), Decimal('27959687.01'), Decimal('92547903.85'))]"
      ]
     },
     "execution_count": 207,
     "metadata": {},
     "output_type": "execute_result"
    }
   ],
   "source": [
    "%%sql\n",
    "WITH spdobj AS(\n",
    "select distinct o.objgrp_nm, coalesce(a.sum_amount,0) as sum_2014, coalesce(b.sum_amount,0) as sum_2015, coalesce(c.sum_amount,0)  as sum_2016 \n",
    "From dim_obj o\n",
    "    LEFT JOIN (select o.obj_cd, o.objgrp_nm, sum(f.amount) as sum_amount\n",
    "    From fact_spending f, dim_obj o, dim_date d\n",
    "    where f.obj_id=o.obj_key and f.date_id=d.date_key and d.fy_dc = '2014'\n",
    "               AND o.objgrp_nm in (SELECT DISTINCT o.objgrp_nm from dim_obj o)\n",
    "    group by d.fy_dc, o.obj_cd, o.objgrp_nm) a ON a.obj_cd=o.obj_cd\n",
    "    \n",
    "    LEFT JOIN (select o.obj_cd, o.objgrp_nm, sum(f.amount) as sum_amount\n",
    "    From fact_spending f, dim_obj o, dim_date d\n",
    "    where f.obj_id=o.obj_key and f.date_id=d.date_key and d.fy_dc = '2015'\n",
    "                AND o.objgrp_nm in (SELECT DISTINCT o.objgrp_nm from dim_obj o)\n",
    "    group by d.fy_dc, o.obj_cd, o.objgrp_nm) b ON b.obj_cd=o.obj_cd\n",
    "    \n",
    "    LEFT JOIN (select o.obj_cd, o.objgrp_nm, sum(f.amount) as sum_amount\n",
    "    From fact_spending f, dim_obj o, dim_date d\n",
    "    where f.obj_id=o.obj_key and f.date_id=d.date_key and d.fy_dc = '2016'\n",
    "                AND o.objgrp_nm in (SELECT DISTINCT o.objgrp_nm from dim_obj o)\n",
    "    group by d.fy_dc, o.obj_cd, o.objgrp_nm) c ON c.obj_cd=o.obj_cd)\n",
    "\n",
    "SELECT  s.objgrp_nm\n",
    "        ,sum(sum_2014) as sum2014\n",
    "        ,sum(sum_2015) as sum2015\n",
    "        ,sum(sum_2016) as sum2016\n",
    "        ,COALESCE(sum(sum_2014),0) + COALESCE(sum(sum_2015),0) + COALESCE(sum(sum_2016),0) AS sum_three\n",
    "FROM spdobj s \n",
    "group by s.objgrp_nm\n",
    "order by sum_three DESC\n",
    "LIMIT 10\n",
    ";"
   ]
  },
  {
   "cell_type": "code",
   "execution_count": 208,
   "metadata": {},
   "outputs": [
    {
     "data": {
      "text/html": [
       "<div>\n",
       "<table border=\"1\" class=\"dataframe\">\n",
       "  <thead>\n",
       "    <tr style=\"text-align: right;\">\n",
       "      <th></th>\n",
       "      <th>objgrp_nm</th>\n",
       "      <th>sum2014</th>\n",
       "      <th>sum2015</th>\n",
       "      <th>sum2016</th>\n",
       "      <th>sum_three</th>\n",
       "    </tr>\n",
       "  </thead>\n",
       "  <tbody>\n",
       "    <tr>\n",
       "      <th>0</th>\n",
       "      <td>Services</td>\n",
       "      <td>594160666.03</td>\n",
       "      <td>479898297.86</td>\n",
       "      <td>433612412.46</td>\n",
       "      <td>1507671376.35</td>\n",
       "    </tr>\n",
       "    <tr>\n",
       "      <th>1</th>\n",
       "      <td>Interest</td>\n",
       "      <td>237644639.02</td>\n",
       "      <td>261760133.09</td>\n",
       "      <td>252539842.68</td>\n",
       "      <td>751944614.79</td>\n",
       "    </tr>\n",
       "    <tr>\n",
       "      <th>2</th>\n",
       "      <td>Principal payment D/S funds</td>\n",
       "      <td>208586213.50</td>\n",
       "      <td>173725722.20</td>\n",
       "      <td>174024425.36</td>\n",
       "      <td>556336361.06</td>\n",
       "    </tr>\n",
       "    <tr>\n",
       "      <th>3</th>\n",
       "      <td>Redemption of principal-gen</td>\n",
       "      <td>90180000.00</td>\n",
       "      <td>91330000.00</td>\n",
       "      <td>71655000.00</td>\n",
       "      <td>253165000.00</td>\n",
       "    </tr>\n",
       "    <tr>\n",
       "      <th>4</th>\n",
       "      <td>Grant Related</td>\n",
       "      <td>65189698.52</td>\n",
       "      <td>65710476.33</td>\n",
       "      <td>67685451.37</td>\n",
       "      <td>198585626.22</td>\n",
       "    </tr>\n",
       "    <tr>\n",
       "      <th>5</th>\n",
       "      <td>Inventory purchases</td>\n",
       "      <td>64028544.60</td>\n",
       "      <td>54018279.64</td>\n",
       "      <td>48413971.43</td>\n",
       "      <td>166460795.67</td>\n",
       "    </tr>\n",
       "    <tr>\n",
       "      <th>6</th>\n",
       "      <td>Land</td>\n",
       "      <td>61761195.44</td>\n",
       "      <td>39035480.30</td>\n",
       "      <td>42797765.16</td>\n",
       "      <td>143594440.90</td>\n",
       "    </tr>\n",
       "    <tr>\n",
       "      <th>7</th>\n",
       "      <td>Maintenance</td>\n",
       "      <td>43096804.69</td>\n",
       "      <td>45059110.81</td>\n",
       "      <td>48834743.51</td>\n",
       "      <td>136990659.01</td>\n",
       "    </tr>\n",
       "    <tr>\n",
       "      <th>8</th>\n",
       "      <td>Purch.card costs to reclassify</td>\n",
       "      <td>35969474.71</td>\n",
       "      <td>40593741.14</td>\n",
       "      <td>42535172.25</td>\n",
       "      <td>119098388.10</td>\n",
       "    </tr>\n",
       "    <tr>\n",
       "      <th>9</th>\n",
       "      <td>Vehicle/Motored Equipment</td>\n",
       "      <td>23572343.86</td>\n",
       "      <td>41015872.98</td>\n",
       "      <td>27959687.01</td>\n",
       "      <td>92547903.85</td>\n",
       "    </tr>\n",
       "  </tbody>\n",
       "</table>\n",
       "</div>"
      ],
      "text/plain": [
       "                        objgrp_nm       sum2014       sum2015       sum2016  \\\n",
       "0                        Services  594160666.03  479898297.86  433612412.46   \n",
       "1                        Interest  237644639.02  261760133.09  252539842.68   \n",
       "2     Principal payment D/S funds  208586213.50  173725722.20  174024425.36   \n",
       "3     Redemption of principal-gen   90180000.00   91330000.00   71655000.00   \n",
       "4                   Grant Related   65189698.52   65710476.33   67685451.37   \n",
       "5             Inventory purchases   64028544.60   54018279.64   48413971.43   \n",
       "6                            Land   61761195.44   39035480.30   42797765.16   \n",
       "7                     Maintenance   43096804.69   45059110.81   48834743.51   \n",
       "8  Purch.card costs to reclassify   35969474.71   40593741.14   42535172.25   \n",
       "9       Vehicle/Motored Equipment   23572343.86   41015872.98   27959687.01   \n",
       "\n",
       "       sum_three  \n",
       "0  1507671376.35  \n",
       "1   751944614.79  \n",
       "2   556336361.06  \n",
       "3   253165000.00  \n",
       "4   198585626.22  \n",
       "5   166460795.67  \n",
       "6   143594440.90  \n",
       "7   136990659.01  \n",
       "8   119098388.10  \n",
       "9    92547903.85  "
      ]
     },
     "execution_count": 208,
     "metadata": {},
     "output_type": "execute_result"
    }
   ],
   "source": [
    "result = _\n",
    "df = result.DataFrame()\n",
    "df.sum_2014 = df.sum2014.astype(float)\n",
    "df.sum_2015 = df.sum2015.astype(float)\n",
    "df.sum_2016 = df.sum2016.astype(float)\n",
    "df"
   ]
  },
  {
   "cell_type": "code",
   "execution_count": 210,
   "metadata": {},
   "outputs": [
    {
     "data": {
      "image/png": "[encoded data removed]",
      "text/plain": [
       "<matplotlib.figure.Figure at 0x11e1a4208>"
      ]
     },
     "metadata": {},
     "output_type": "display_data"
    }
   ],
   "source": [
    "# Create a figure with a single subplot\n",
    "f, ax = plt.subplots(1, figsize=(10,5))\n",
    "\n",
    "# Set bar width at 1\n",
    "bar_width = 1\n",
    "\n",
    "# positions of the left bar-boundaries\n",
    "bar_l = [i for i in range(len(df['sum2014']))] \n",
    "\n",
    "# positions of the x-axis ticks (center of the bars as bar labels)\n",
    "tick_pos = [i+(bar_width/2) for i in bar_l] \n",
    "\n",
    "# Create the total score for each participant\n",
    "totals = [i+j+k for i,j,k in zip(df['sum2014'], df['sum2015'], df['sum2016'])]\n",
    "\n",
    "# Create the percentage of the total score the pre_score value for each participant was\n",
    "pre_rel = [i / j * 100 for  i,j in zip(df['sum2014'], totals)]\n",
    "\n",
    "# Create the percentage of the total score the mid_score value for each participant was\n",
    "mid_rel = [i / j * 100 for  i,j in zip(df['sum2015'], totals)]\n",
    "\n",
    "# Create the percentage of the total score the post_score value for each participant was\n",
    "post_rel = [i / j * 100 for  i,j in zip(df['sum2016'], totals)]\n",
    "\n",
    "# Create a bar chart in position bar_1\n",
    "ax.bar(bar_l, \n",
    "       # using pre_rel data\n",
    "       pre_rel, \n",
    "       # labeled \n",
    "       label='sum_2014', \n",
    "       # with alpha\n",
    "       alpha=0.9, \n",
    "       # with color\n",
    "       color='#019600',\n",
    "       # with bar width\n",
    "       width=bar_width,\n",
    "       # with border color\n",
    "       edgecolor='white'\n",
    "       )\n",
    "\n",
    "# Create a bar chart in position bar_1\n",
    "ax.bar(bar_l, \n",
    "       # using mid_rel data\n",
    "       mid_rel, \n",
    "       # with pre_rel\n",
    "       bottom=pre_rel, \n",
    "       # labeled \n",
    "       label='sum_2015', \n",
    "       # with alpha\n",
    "       alpha=0.9, \n",
    "       # with color\n",
    "       color='#3C5F5A', \n",
    "       # with bar width\n",
    "       width=bar_width,\n",
    "       # with border color\n",
    "       edgecolor='white'\n",
    "       )\n",
    "\n",
    "# Create a bar chart in position bar_1\n",
    "ax.bar(bar_l, \n",
    "       # using post_rel data\n",
    "       post_rel, \n",
    "       # with pre_rel and mid_rel on bottom\n",
    "       bottom=[i+j for i,j in zip(pre_rel, mid_rel)], \n",
    "       # labeled \n",
    "       label='sum_2016',\n",
    "       # with alpha\n",
    "       alpha=0.9, \n",
    "       # with color\n",
    "       color='#219AD8', \n",
    "       # with bar width\n",
    "       width=bar_width,\n",
    "       # with border color\n",
    "       edgecolor='white'\n",
    "       )\n",
    "\n",
    "# Set the ticks to be first names\n",
    "plt.xticks(tick_pos, df['objgrp_nm'])\n",
    "ax.set_ylabel(\"Percentage\")\n",
    "ax.set_xlabel(\"objgrp_nm\")\n",
    "\n",
    "# Let the borders of the graphic\n",
    "plt.xlim([min(tick_pos)-bar_width, max(tick_pos)+bar_width])\n",
    "plt.ylim(-10, 110)\n",
    "\n",
    "# rotate axis labels\n",
    "plt.setp(plt.gca().get_xticklabels(), rotation=45, horizontalalignment='right')\n",
    "\n",
    "# shot plot\n",
    "plt.show()"
   ]
  },
  {
   "cell_type": "markdown",
   "metadata": {},
   "source": [
    "What we can see from the above stacked percentage bar plot is the proportional difference between 3 years grouped by the top 10 purchased items. The lowest proportion highlighted as green, represents the year of 2014, while the dark green one represents the 2015, and the blue as 2016. As we can see that for most of the items, except for the fact that year 2015, it takes a relatively small proportion, there are not much difference between the spending distribution of the three years. Other than that, the ones that the Austin government spent most on is service and still, the debt-related objects such as interest and principal payments."
   ]
  },
  {
   "cell_type": "markdown",
   "metadata": {},
   "source": [
    "### Outstanding checks - Analysis"
   ]
  },
  {
   "cell_type": "code",
   "execution_count": 12,
   "metadata": {},
   "outputs": [
    {
     "name": "stdout",
     "output_type": "stream",
     "text": [
      "10 rows affected.\n"
     ]
    },
    {
     "data": {
      "text/html": [
       "<table>\n",
       "    <tr>\n",
       "        <th>dept_nm</th>\n",
       "        <th>count</th>\n",
       "    </tr>\n",
       "    <tr>\n",
       "        <td>Enterprise Debt Service</td>\n",
       "        <td>1414</td>\n",
       "    </tr>\n",
       "    <tr>\n",
       "        <td>Austin Energy</td>\n",
       "        <td>1328</td>\n",
       "    </tr>\n",
       "    <tr>\n",
       "        <td>Austin Water Utility</td>\n",
       "        <td>1055</td>\n",
       "    </tr>\n",
       "    <tr>\n",
       "        <td>General Obligation Debt Service</td>\n",
       "        <td>547</td>\n",
       "    </tr>\n",
       "    <tr>\n",
       "        <td>Fleet Services</td>\n",
       "        <td>505</td>\n",
       "    </tr>\n",
       "    <tr>\n",
       "        <td>Public Works - Transportation</td>\n",
       "        <td>459</td>\n",
       "    </tr>\n",
       "    <tr>\n",
       "        <td>Parks &amp; Recreation</td>\n",
       "        <td>431</td>\n",
       "    </tr>\n",
       "    <tr>\n",
       "        <td>Solid Waste Services</td>\n",
       "        <td>381</td>\n",
       "    </tr>\n",
       "    <tr>\n",
       "        <td>Financial Services</td>\n",
       "        <td>381</td>\n",
       "    </tr>\n",
       "    <tr>\n",
       "        <td>Health &amp; Human Services</td>\n",
       "        <td>365</td>\n",
       "    </tr>\n",
       "</table>"
      ],
      "text/plain": [
       "[('Enterprise Debt Service', 1414),\n",
       " ('Austin Energy', 1328),\n",
       " ('Austin Water Utility', 1055),\n",
       " ('General Obligation Debt Service', 547),\n",
       " ('Fleet Services', 505),\n",
       " ('Public Works - Transportation', 459),\n",
       " ('Parks & Recreation', 431),\n",
       " ('Solid Waste Services', 381),\n",
       " ('Financial Services', 381),\n",
       " ('Health & Human Services', 365)]"
      ]
     },
     "execution_count": 12,
     "metadata": {},
     "output_type": "execute_result"
    }
   ],
   "source": [
    "%%sql\n",
    "\n",
    "SELECT \n",
    "    o.dept_nm\n",
    "    ,COUNT(f.check_status)\n",
    "FROM FACT_spending f LEFT JOIN DIM_org o ON f.org_id=o.org_key\n",
    "WHERE f.check_status='Outstanding'\n",
    "GROUP BY o.dept_nm\n",
    "ORDER BY COUNT(f.check_status) DESC\n",
    "LIMIT 10;"
   ]
  },
  {
   "cell_type": "markdown",
   "metadata": {},
   "source": [
    "Now storing the above query to a csv file in order to perform visualization in Tableau."
   ]
  },
  {
   "cell_type": "code",
   "execution_count": null,
   "metadata": {
    "collapsed": true
   },
   "outputs": [],
   "source": [
    "%%sql\n",
    "\n",
    "COPY (\n",
    "SELECT \n",
    "    o.dept_nm\n",
    "    ,COUNT(f.check_status)\n",
    "FROM FACT_spending f LEFT JOIN DIM_org o ON f.org_id=o.org_key\n",
    "WHERE f.check_status='Outstanding'\n",
    "GROUP BY o.dept_nm\n",
    "ORDER BY COUNT(f.check_status) DESC\n",
    "LIMIT 10) TO '/home/rithvik/datamanagement/final_proj/chk_status.csv' CSV HEADER"
   ]
  },
  {
   "cell_type": "code",
   "execution_count": 13,
   "metadata": {},
   "outputs": [
    {
     "data": {
      "text/html": [
       "<img src=\"https://raw.githubusercontent.com/rithvikmundra/istm-6212/master/Project3-Tableau-images/chk_outstanding.png\"/>"
      ],
      "text/plain": [
       "<IPython.core.display.Image object>"
      ]
     },
     "execution_count": 13,
     "metadata": {},
     "output_type": "execute_result"
    }
   ],
   "source": [
    "from IPython.display import Image\n",
    "from IPython.core.display import HTML\n",
    "Image(url = \"https://raw.githubusercontent.com/rithvikmundra/istm-6212/master/Project3-Tableau-images/chk_outstanding.png\")"
   ]
  },
  {
   "cell_type": "markdown",
   "metadata": {},
   "source": [
    "From the above query we can see that \"Enterprise Debt Services\",\"Austin Energy\" & \"Austin Water Utility\" have the highest number of outstanding checks. By seeing the number of outstanding checks we feel like we can prescribe this information to the Austin city government so that it can take appropriate measures to curb the number of outstanding checks."
   ]
  },
  {
   "cell_type": "markdown",
   "metadata": {},
   "source": [
    "### Bonus"
   ]
  },
  {
   "cell_type": "markdown",
   "metadata": {},
   "source": [
    "#### We choose the Budget data for Austin government, the data we analysis so far is spending data. So it may bring more insights if we combine budget dataset and spending dataset. \n",
    "\n",
    "We download the data from\n",
    "https://data.austintexas.gov/Financial/Program-Budget-Operating-Budget-Vs-Expense-Raw-Dat/g5k8-8sud."
   ]
  },
  {
   "cell_type": "code",
   "execution_count": 38,
   "metadata": {},
   "outputs": [
    {
     "name": "stdout",
     "output_type": "stream",
     "text": [
      "--2016-12-08 15:28:08--  https://data.austintexas.gov/api/views/g5k8-8sud/rows.csv?accessType=DOWNLOAD\n",
      "Resolving data.austintexas.gov... 52.206.140.199\n",
      "Connecting to data.austintexas.gov|52.206.140.199|:443... connected.\n",
      "HTTP request sent, awaiting response... 200 OK\n",
      "Length: unspecified [text/csv]\n",
      "Saving to: ‘rows.csv?accessType=DOWNLOAD’\n",
      "\n",
      "rows.csv?accessType     [           <=>      ]  11.79M  2.59MB/s    in 4.7s    \n",
      "\n",
      "Last-modified header invalid -- time-stamp ignored.\n",
      "2016-12-08 15:28:13 (2.52 MB/s) - ‘rows.csv?accessType=DOWNLOAD’ saved [12366996]\n",
      "\n"
     ]
    }
   ],
   "source": [
    "!wget https://data.austintexas.gov/api/views/g5k8-8sud/rows.csv?accessType=DOWNLOAD"
   ]
  },
  {
   "cell_type": "code",
   "execution_count": 39,
   "metadata": {
    "collapsed": true
   },
   "outputs": [],
   "source": [
    "!mv rows.csv?accessType=DOWNLOAD budget_original.csv"
   ]
  },
  {
   "cell_type": "code",
   "execution_count": 40,
   "metadata": {},
   "outputs": [
    {
     "name": "stdout",
     "output_type": "stream",
     "text": [
      "  1: BUDGET_FISCAL_YEAR\r\n",
      "  2: THRU_QUARTER\r\n",
      "  3: DEPT_ROLLUP\r\n",
      "  4: DEPT_ROLLUP_NAME\r\n",
      "  5: DEPARTMENT_CODE\r\n",
      "  6: DEPARTMENT_NAME\r\n",
      "  7: FUND_CODE\r\n",
      "  8: FUND_NAME\r\n",
      "  9: PROGRAM_CODE\r\n",
      " 10: PROGRAM_NAME\r\n",
      " 11: ACTIVITY_CODE\r\n",
      " 12: ACTIVITY_NAME\r\n",
      " 13: UNIT_CODE\r\n",
      " 14: UNIT_NAME\r\n",
      " 15: EXPENSE_CODE\r\n",
      " 16: EXPENSE_NAME\r\n",
      " 17: BUDGET\r\n",
      " 18: EXPENDITURES\r\n",
      " 19: KEY\r\n"
     ]
    }
   ],
   "source": [
    "!csvcut -n budget_original.csv"
   ]
  },
  {
   "cell_type": "markdown",
   "metadata": {},
   "source": [
    "We are only interested in the budget, so we delete the columns that related to expense. "
   ]
  },
  {
   "cell_type": "code",
   "execution_count": 51,
   "metadata": {
    "collapsed": true
   },
   "outputs": [],
   "source": [
    "!csvcut -c 1,2,3,4,7,8,9,10,11,12,17,19 budget_original.csv > budget.csv "
   ]
  },
  {
   "cell_type": "code",
   "execution_count": 52,
   "metadata": {},
   "outputs": [
    {
     "name": "stdout",
     "output_type": "stream",
     "text": [
      "  1: BUDGET_FISCAL_YEAR\r\n",
      "  2: THRU_QUARTER\r\n",
      "  3: DEPT_ROLLUP\r\n",
      "  4: DEPT_ROLLUP_NAME\r\n",
      "  5: FUND_CODE\r\n",
      "  6: FUND_NAME\r\n",
      "  7: PROGRAM_CODE\r\n",
      "  8: PROGRAM_NAME\r\n",
      "  9: ACTIVITY_CODE\r\n",
      " 10: ACTIVITY_NAME\r\n",
      " 11: BUDGET\r\n",
      " 12: KEY\r\n"
     ]
    }
   ],
   "source": [
    "!csvcut -n budget.csv"
   ]
  },
  {
   "cell_type": "markdown",
   "metadata": {},
   "source": [
    "As a result, we got 12 columns in our new table. "
   ]
  },
  {
   "cell_type": "code",
   "execution_count": 53,
   "metadata": {
    "scrolled": true
   },
   "outputs": [
    {
     "name": "stdout",
     "output_type": "stream",
     "text": [
      "  1. BUDGET_FISCAL_YEAR\n",
      "\t<class 'int'>\n",
      "\tNulls: False\n",
      "\tValues: 2016\n",
      "  2. THRU_QUARTER\n",
      "\t<class 'int'>\n",
      "\tNulls: False\n",
      "\tValues: 3\n",
      "  3. DEPT_ROLLUP\n",
      "\t<class 'int'>\n",
      "\tNulls: False\n",
      "\tMin: 11\n",
      "\tMax: 94\n",
      "\tSum: 3018699\n",
      "\tMean: 57.43448315226698\n",
      "\tMedian: 63\n",
      "\tStandard Deviation: 29.02914573350911\n",
      "\tUnique values: 46\n",
      "\t5 most frequent values:\n",
      "\t\t22:\t6329\n",
      "\t\t86:\t6174\n",
      "\t\t11:\t5807\n",
      "\t\t87:\t4558\n",
      "\t\t63:\t2045\n",
      "  4. DEPT_ROLLUP_NAME\n",
      "\t<class 'str'>\n",
      "\tNulls: False\n",
      "\tUnique values: 46\n",
      "\t5 most frequent values:\n",
      "\t\tAustin Water Utility:\t6329\n",
      "\t\tParks & Recreation:\t6174\n",
      "\t\tAustin Energy:\t5807\n",
      "\t\tPolice:\t4558\n",
      "\t\tWatershed:\t2045\n",
      "\tMax length: 40\n",
      "  5. FUND_CODE\n",
      "\t<class 'str'>\n",
      "\tNulls: False\n",
      "\tUnique values: 145\n",
      "\t5 most frequent values:\n",
      "\t\t1000:\t18199\n",
      "\t\t5010:\t5786\n",
      "\t\t5150:\t5246\n",
      "\t\t5020:\t3339\n",
      "\t\t5030:\t2915\n",
      "\tMax length: 4\n",
      "  6. FUND_NAME\n",
      "\t<class 'str'>\n",
      "\tNulls: False\n",
      "\tUnique values: 145\n",
      "\t5 most frequent values:\n",
      "\t\tGeneral Fund:\t18199\n",
      "\t\tAustin Energy Fund:\t5786\n",
      "\t\tSupport Services Fund:\t5246\n",
      "\t\tWater Utility Operating Fund:\t3339\n",
      "\t\tWastewater Utility Operating Fund:\t2915\n",
      "\tMax length: 60\n",
      "  7. PROGRAM_CODE\n",
      "\t<class 'str'>\n",
      "\tNulls: False\n",
      "\tUnique values: 145\n",
      "\t5 most frequent values:\n",
      "\t\t9MGT:\t10499\n",
      "\t\t7CRS:\t4104\n",
      "\t\t2ESD:\t2096\n",
      "\t\tTRMT:\t1767\n",
      "\t\t1SSP:\t1661\n",
      "\tMax length: 4\n",
      "  8. PROGRAM_NAME\n",
      "\t<class 'str'>\n",
      "\tNulls: False\n",
      "\tUnique values: 146\n",
      "\t5 most frequent values:\n",
      "\t\tSupport Services:\t10499\n",
      "\t\tCommunity Services:\t4455\n",
      "\t\tElectric Service Delivery:\t2096\n",
      "\t\tTreatment:\t1767\n",
      "\t\tOne Stop Shop:\t1661\n",
      "\tMax length: 55\n",
      "  9. ACTIVITY_CODE\n",
      "\t<class 'str'>\n",
      "\tNulls: False\n",
      "\tUnique values: 334\n",
      "\t5 most frequent values:\n",
      "\t\t9ADM:\t10499\n",
      "\t\t7RCA:\t1821\n",
      "\t\t2PDL:\t1085\n",
      "\t\t5PMA:\t1016\n",
      "\t\t31AA:\t865\n",
      "\tMax length: 4\n",
      " 10. ACTIVITY_NAME\n",
      "\t<class 'str'>\n",
      "\tNulls: False\n",
      "\tUnique values: 334\n",
      "\t5 most frequent values:\n",
      "\t\tDepartmental Support Services:\t10499\n",
      "\t\tRecreation and Program Services:\t1821\n",
      "\t\tGrounds Maintenance:\t1093\n",
      "\t\tPower Delivery Support:\t1085\n",
      "\t\tCentralized Investigations:\t865\n",
      "\tMax length: 57\n",
      " 11. BUDGET\n",
      "\t<class 'str'>\n",
      "\tNulls: False\n",
      "\tUnique values: 11678\n",
      "\t5 most frequent values:\n",
      "\t\t$0.00:\t23624\n",
      "\t\t$500.00:\t1100\n",
      "\t\t$1000.00:\t952\n",
      "\t\t$2000.00:\t589\n",
      "\t\t$100.00:\t588\n",
      "\tMax length: 13\n",
      " 12. KEY\n",
      "\t<class 'str'>\n",
      "\tNulls: False\n",
      "\tUnique values: 52559\n",
      "\tMax length: 31\n",
      "\n",
      "Row count: 52559\n"
     ]
    }
   ],
   "source": [
    "!csvstat budget.csv"
   ]
  },
  {
   "cell_type": "code",
   "execution_count": 11,
   "metadata": {},
   "outputs": [
    {
     "data": {
      "text/html": [
       "<img src=\"https://raw.githubusercontent.com/gwsb-istm-6212-fall-2016/Rongchu-Zhao/master/DM/STARSCHEMA9th%20(1).png\"/>"
      ],
      "text/plain": [
       "<IPython.core.display.Image object>"
      ]
     },
     "execution_count": 11,
     "metadata": {},
     "output_type": "execute_result"
    }
   ],
   "source": [
    "Image(url = \"https://raw.githubusercontent.com/gwsb-istm-6212-fall-2016/Rongchu-Zhao/master/DM/STARSCHEMA9th%20(1).png\")"
   ]
  },
  {
   "cell_type": "markdown",
   "metadata": {},
   "source": [
    "This is our new star schema after we added new data set."
   ]
  },
  {
   "cell_type": "code",
   "execution_count": 77,
   "metadata": {},
   "outputs": [
    {
     "name": "stdout",
     "output_type": "stream",
     "text": [
      "Done.\n",
      "Done.\n"
     ]
    },
    {
     "data": {
      "text/plain": [
       "[]"
      ]
     },
     "execution_count": 77,
     "metadata": {},
     "output_type": "execute_result"
    }
   ],
   "source": [
    "%%sql\n",
    "\n",
    "DROP TABLE IF EXISTS budget;\n",
    "CREATE TABLE budget(\n",
    "        budget_fiscal_year INTEGER\n",
    "        ,thru_quarter INTEGER\n",
    "        ,dept_rollup INTEGER \n",
    "        ,dept_rollup_name VARCHAR(50)\n",
    "        ,fund_code VARCHAR(20)\n",
    "        ,fund_name VARCHAR(70)\n",
    "        ,program_code VARCHAR(20)\n",
    "        ,program_name VARCHAR(60)\n",
    "        ,activity_code VARCHAR(20)\n",
    "        ,activity_name VARCHAR(65)\n",
    "        ,budget MONEY\n",
    "        ,key VARCHAR(40)\n",
    ");"
   ]
  },
  {
   "cell_type": "markdown",
   "metadata": {},
   "source": [
    "Creating the budget table to hold the original data."
   ]
  },
  {
   "cell_type": "code",
   "execution_count": 119,
   "metadata": {},
   "outputs": [
    {
     "data": {
      "text/plain": [
       "'/Users/zhaorc/Desktop'"
      ]
     },
     "execution_count": 119,
     "metadata": {},
     "output_type": "execute_result"
    }
   ],
   "source": [
    "pwd"
   ]
  },
  {
   "cell_type": "code",
   "execution_count": 79,
   "metadata": {},
   "outputs": [
    {
     "name": "stdout",
     "output_type": "stream",
     "text": [
      "52559 rows affected.\n"
     ]
    },
    {
     "data": {
      "text/plain": [
       "[]"
      ]
     },
     "execution_count": 79,
     "metadata": {},
     "output_type": "execute_result"
    }
   ],
   "source": [
    "%%sql\n",
    "\n",
    "COPY budget FROM '/Users/zhaorc/Desktop/budget.csv'\n",
    "CSV\n",
    "HEADER\n",
    "QUOTE '\"'\n",
    "DELIMITER ',';"
   ]
  },
  {
   "cell_type": "markdown",
   "metadata": {},
   "source": [
    "Loading data to the table. "
   ]
  },
  {
   "cell_type": "code",
   "execution_count": 80,
   "metadata": {
    "scrolled": true
   },
   "outputs": [
    {
     "name": "stdout",
     "output_type": "stream",
     "text": [
      "10 rows affected.\n"
     ]
    },
    {
     "data": {
      "text/html": [
       "<table>\n",
       "    <tr>\n",
       "        <th>budget_fiscal_year</th>\n",
       "        <th>thru_quarter</th>\n",
       "        <th>dept_rollup</th>\n",
       "        <th>dept_rollup_name</th>\n",
       "        <th>fund_code</th>\n",
       "        <th>fund_name</th>\n",
       "        <th>program_code</th>\n",
       "        <th>program_name</th>\n",
       "        <th>activity_code</th>\n",
       "        <th>activity_name</th>\n",
       "        <th>budget</th>\n",
       "        <th>key</th>\n",
       "    </tr>\n",
       "    <tr>\n",
       "        <td>2016</td>\n",
       "        <td>3</td>\n",
       "        <td>11</td>\n",
       "        <td>Austin Energy</td>\n",
       "        <td>5010</td>\n",
       "        <td>Austin Energy Fund</td>\n",
       "        <td>1PSM</td>\n",
       "        <td>Power Supply &amp; Market Operations</td>\n",
       "        <td>1GEN</td>\n",
       "        <td>Power Production</td>\n",
       "        <td>$210,000.00</td>\n",
       "        <td>2016311110050101PSM1GEN13075590</td>\n",
       "    </tr>\n",
       "    <tr>\n",
       "        <td>2016</td>\n",
       "        <td>3</td>\n",
       "        <td>11</td>\n",
       "        <td>Austin Energy</td>\n",
       "        <td>5010</td>\n",
       "        <td>Austin Energy Fund</td>\n",
       "        <td>1PSM</td>\n",
       "        <td>Power Supply &amp; Market Operations</td>\n",
       "        <td>1GEN</td>\n",
       "        <td>Power Production</td>\n",
       "        <td>$2,000.00</td>\n",
       "        <td>2016311110050101PSM1GEN13075730</td>\n",
       "    </tr>\n",
       "    <tr>\n",
       "        <td>2016</td>\n",
       "        <td>3</td>\n",
       "        <td>11</td>\n",
       "        <td>Austin Energy</td>\n",
       "        <td>5010</td>\n",
       "        <td>Austin Energy Fund</td>\n",
       "        <td>1PSM</td>\n",
       "        <td>Power Supply &amp; Market Operations</td>\n",
       "        <td>1GEN</td>\n",
       "        <td>Power Production</td>\n",
       "        <td>$70,000.00</td>\n",
       "        <td>2016311110050101PSM1GEN13075860</td>\n",
       "    </tr>\n",
       "    <tr>\n",
       "        <td>2016</td>\n",
       "        <td>3</td>\n",
       "        <td>11</td>\n",
       "        <td>Austin Energy</td>\n",
       "        <td>5010</td>\n",
       "        <td>Austin Energy Fund</td>\n",
       "        <td>1PSM</td>\n",
       "        <td>Power Supply &amp; Market Operations</td>\n",
       "        <td>1GEN</td>\n",
       "        <td>Power Production</td>\n",
       "        <td>$20,000.00</td>\n",
       "        <td>2016311110050101PSM1GEN13076236</td>\n",
       "    </tr>\n",
       "    <tr>\n",
       "        <td>2016</td>\n",
       "        <td>3</td>\n",
       "        <td>11</td>\n",
       "        <td>Austin Energy</td>\n",
       "        <td>5010</td>\n",
       "        <td>Austin Energy Fund</td>\n",
       "        <td>1PSM</td>\n",
       "        <td>Power Supply &amp; Market Operations</td>\n",
       "        <td>1GEN</td>\n",
       "        <td>Power Production</td>\n",
       "        <td>$20,000.00</td>\n",
       "        <td>2016311110050101PSM1GEN13076383</td>\n",
       "    </tr>\n",
       "    <tr>\n",
       "        <td>2016</td>\n",
       "        <td>3</td>\n",
       "        <td>11</td>\n",
       "        <td>Austin Energy</td>\n",
       "        <td>5010</td>\n",
       "        <td>Austin Energy Fund</td>\n",
       "        <td>1PSM</td>\n",
       "        <td>Power Supply &amp; Market Operations</td>\n",
       "        <td>1GEN</td>\n",
       "        <td>Power Production</td>\n",
       "        <td>$0.00</td>\n",
       "        <td>2016311110050101PSM1GEN13076388</td>\n",
       "    </tr>\n",
       "    <tr>\n",
       "        <td>2016</td>\n",
       "        <td>3</td>\n",
       "        <td>11</td>\n",
       "        <td>Austin Energy</td>\n",
       "        <td>5010</td>\n",
       "        <td>Austin Energy Fund</td>\n",
       "        <td>1PSM</td>\n",
       "        <td>Power Supply &amp; Market Operations</td>\n",
       "        <td>1GEN</td>\n",
       "        <td>Power Production</td>\n",
       "        <td>$0.00</td>\n",
       "        <td>2016311110050101PSM1GEN13076450</td>\n",
       "    </tr>\n",
       "    <tr>\n",
       "        <td>2016</td>\n",
       "        <td>3</td>\n",
       "        <td>11</td>\n",
       "        <td>Austin Energy</td>\n",
       "        <td>5010</td>\n",
       "        <td>Austin Energy Fund</td>\n",
       "        <td>1PSM</td>\n",
       "        <td>Power Supply &amp; Market Operations</td>\n",
       "        <td>1GEN</td>\n",
       "        <td>Power Production</td>\n",
       "        <td>$40,000.00</td>\n",
       "        <td>2016311110050101PSM1GEN13076633</td>\n",
       "    </tr>\n",
       "    <tr>\n",
       "        <td>2016</td>\n",
       "        <td>3</td>\n",
       "        <td>11</td>\n",
       "        <td>Austin Energy</td>\n",
       "        <td>5010</td>\n",
       "        <td>Austin Energy Fund</td>\n",
       "        <td>1PSM</td>\n",
       "        <td>Power Supply &amp; Market Operations</td>\n",
       "        <td>1GEN</td>\n",
       "        <td>Power Production</td>\n",
       "        <td>$2,000.00</td>\n",
       "        <td>2016311110050101PSM1GEN13076843</td>\n",
       "    </tr>\n",
       "    <tr>\n",
       "        <td>2016</td>\n",
       "        <td>3</td>\n",
       "        <td>11</td>\n",
       "        <td>Austin Energy</td>\n",
       "        <td>5010</td>\n",
       "        <td>Austin Energy Fund</td>\n",
       "        <td>1PSM</td>\n",
       "        <td>Power Supply &amp; Market Operations</td>\n",
       "        <td>1GEN</td>\n",
       "        <td>Power Production</td>\n",
       "        <td>$0.00</td>\n",
       "        <td>2016311110050101PSM1GEN13078502</td>\n",
       "    </tr>\n",
       "</table>"
      ],
      "text/plain": [
       "[(2016, 3, 11, 'Austin Energy', '5010', 'Austin Energy Fund', '1PSM', 'Power Supply & Market Operations', '1GEN', 'Power Production', '$210,000.00', '2016311110050101PSM1GEN13075590'),\n",
       " (2016, 3, 11, 'Austin Energy', '5010', 'Austin Energy Fund', '1PSM', 'Power Supply & Market Operations', '1GEN', 'Power Production', '$2,000.00', '2016311110050101PSM1GEN13075730'),\n",
       " (2016, 3, 11, 'Austin Energy', '5010', 'Austin Energy Fund', '1PSM', 'Power Supply & Market Operations', '1GEN', 'Power Production', '$70,000.00', '2016311110050101PSM1GEN13075860'),\n",
       " (2016, 3, 11, 'Austin Energy', '5010', 'Austin Energy Fund', '1PSM', 'Power Supply & Market Operations', '1GEN', 'Power Production', '$20,000.00', '2016311110050101PSM1GEN13076236'),\n",
       " (2016, 3, 11, 'Austin Energy', '5010', 'Austin Energy Fund', '1PSM', 'Power Supply & Market Operations', '1GEN', 'Power Production', '$20,000.00', '2016311110050101PSM1GEN13076383'),\n",
       " (2016, 3, 11, 'Austin Energy', '5010', 'Austin Energy Fund', '1PSM', 'Power Supply & Market Operations', '1GEN', 'Power Production', '$0.00', '2016311110050101PSM1GEN13076388'),\n",
       " (2016, 3, 11, 'Austin Energy', '5010', 'Austin Energy Fund', '1PSM', 'Power Supply & Market Operations', '1GEN', 'Power Production', '$0.00', '2016311110050101PSM1GEN13076450'),\n",
       " (2016, 3, 11, 'Austin Energy', '5010', 'Austin Energy Fund', '1PSM', 'Power Supply & Market Operations', '1GEN', 'Power Production', '$40,000.00', '2016311110050101PSM1GEN13076633'),\n",
       " (2016, 3, 11, 'Austin Energy', '5010', 'Austin Energy Fund', '1PSM', 'Power Supply & Market Operations', '1GEN', 'Power Production', '$2,000.00', '2016311110050101PSM1GEN13076843'),\n",
       " (2016, 3, 11, 'Austin Energy', '5010', 'Austin Energy Fund', '1PSM', 'Power Supply & Market Operations', '1GEN', 'Power Production', '$0.00', '2016311110050101PSM1GEN13078502')]"
      ]
     },
     "execution_count": 80,
     "metadata": {},
     "output_type": "execute_result"
    }
   ],
   "source": [
    "%%sql \n",
    "\n",
    "SELECT * FROM budget \n",
    "LIMIT 10;"
   ]
  },
  {
   "cell_type": "markdown",
   "metadata": {},
   "source": [
    "Checking the table that we created. "
   ]
  },
  {
   "cell_type": "code",
   "execution_count": 92,
   "metadata": {},
   "outputs": [
    {
     "name": "stdout",
     "output_type": "stream",
     "text": [
      "Done.\n",
      "1 rows affected.\n"
     ]
    },
    {
     "data": {
      "text/plain": [
       "[]"
      ]
     },
     "execution_count": 92,
     "metadata": {},
     "output_type": "execute_result"
    }
   ],
   "source": [
    "%%sql\n",
    "\n",
    "DROP TABLE IF EXISTS budget_date;\n",
    "CREATE TABLE budget_date AS(\n",
    "    SELECT DISTINCT budget_fiscal_year,thru_quarter FROM budget)"
   ]
  },
  {
   "cell_type": "markdown",
   "metadata": {},
   "source": [
    "Although the data we got is only including the third quarter in 2016, we put it in to one dimension. Because in the future we will get more date data, so we think it would be more reasonable to keep it as one dimension."
   ]
  },
  {
   "cell_type": "code",
   "execution_count": 93,
   "metadata": {},
   "outputs": [
    {
     "name": "stdout",
     "output_type": "stream",
     "text": [
      "Done.\n"
     ]
    },
    {
     "data": {
      "text/plain": [
       "[]"
      ]
     },
     "execution_count": 93,
     "metadata": {},
     "output_type": "execute_result"
    }
   ],
   "source": [
    "%%sql\n",
    "\n",
    "ALTER TABLE budget_date\n",
    "ADD COLUMN budget_date_key SERIAL PRIMARY KEY;"
   ]
  },
  {
   "cell_type": "code",
   "execution_count": 5,
   "metadata": {},
   "outputs": [
    {
     "name": "stdout",
     "output_type": "stream",
     "text": [
      "Done.\n",
      "Done.\n"
     ]
    },
    {
     "data": {
      "text/plain": [
       "[]"
      ]
     },
     "execution_count": 5,
     "metadata": {},
     "output_type": "execute_result"
    }
   ],
   "source": [
    "%%sql\n",
    "\n",
    "DROP TABLE IF EXISTS fact_budget;\n",
    "CREATE TABLE fact_budget (\n",
    "    fact_id SERIAL PRIMARY KEY\n",
    "    ,date_id INTEGER\n",
    "    ,fund_id INTEGER\n",
    "    ,org_id INTEGER\n",
    "    ,budget_amount MONEY\n",
    ");"
   ]
  },
  {
   "cell_type": "code",
   "execution_count": 6,
   "metadata": {},
   "outputs": [
    {
     "name": "stdout",
     "output_type": "stream",
     "text": [
      "52559 rows affected.\n"
     ]
    },
    {
     "data": {
      "text/plain": [
       "[]"
      ]
     },
     "execution_count": 6,
     "metadata": {},
     "output_type": "execute_result"
    }
   ],
   "source": [
    "%%sql\n",
    "\n",
    "INSERT INTO FACT_BUDGET(date_id,org_id,fund_id,budget_amount)\n",
    "SELECT bd.budget_date_key\n",
    "       ,o.org_key\n",
    "       ,f.fund_key\n",
    "       ,b.budget\n",
    "FROM budget b\n",
    "LEFT JOIN budget_date bd ON b.budget_fiscal_year = bd.budget_fiscal_year\n",
    "LEFT JOIN dim_org o ON b.activity_code = o.gp_cd and b.activity_name = o.gp_nm and b.program_name = o.div_nm and b.program_code = o.div_cd and b.dept_rollup_name = o.dept_nm\n",
    "LEFT JOIN dim_fund f ON b.fund_code = f.fund_cd and b.fund_name = f.fund_nm;"
   ]
  },
  {
   "cell_type": "code",
   "execution_count": 99,
   "metadata": {},
   "outputs": [
    {
     "name": "stdout",
     "output_type": "stream",
     "text": [
      "10 rows affected.\n"
     ]
    },
    {
     "data": {
      "text/html": [
       "<table>\n",
       "    <tr>\n",
       "        <th>fact_id</th>\n",
       "        <th>date_key</th>\n",
       "        <th>fund_key</th>\n",
       "        <th>org_key</th>\n",
       "        <th>budget_amount</th>\n",
       "    </tr>\n",
       "    <tr>\n",
       "        <td>1</td>\n",
       "        <td>1</td>\n",
       "        <td>19</td>\n",
       "        <td>24</td>\n",
       "        <td>$3,923,359.00</td>\n",
       "    </tr>\n",
       "    <tr>\n",
       "        <td>2</td>\n",
       "        <td>1</td>\n",
       "        <td>19</td>\n",
       "        <td>24</td>\n",
       "        <td>-$7,116,040.00</td>\n",
       "    </tr>\n",
       "    <tr>\n",
       "        <td>3</td>\n",
       "        <td>1</td>\n",
       "        <td>19</td>\n",
       "        <td>24</td>\n",
       "        <td>$18,000.00</td>\n",
       "    </tr>\n",
       "    <tr>\n",
       "        <td>4</td>\n",
       "        <td>1</td>\n",
       "        <td>19</td>\n",
       "        <td>24</td>\n",
       "        <td>$4,900.00</td>\n",
       "    </tr>\n",
       "    <tr>\n",
       "        <td>5</td>\n",
       "        <td>1</td>\n",
       "        <td>19</td>\n",
       "        <td>24</td>\n",
       "        <td>$85,000.00</td>\n",
       "    </tr>\n",
       "    <tr>\n",
       "        <td>6</td>\n",
       "        <td>1</td>\n",
       "        <td>19</td>\n",
       "        <td>24</td>\n",
       "        <td>$2,200,000.00</td>\n",
       "    </tr>\n",
       "    <tr>\n",
       "        <td>7</td>\n",
       "        <td>1</td>\n",
       "        <td>19</td>\n",
       "        <td>24</td>\n",
       "        <td>$0.00</td>\n",
       "    </tr>\n",
       "    <tr>\n",
       "        <td>8</td>\n",
       "        <td>1</td>\n",
       "        <td>19</td>\n",
       "        <td>24</td>\n",
       "        <td>$60,000.00</td>\n",
       "    </tr>\n",
       "    <tr>\n",
       "        <td>9</td>\n",
       "        <td>1</td>\n",
       "        <td>19</td>\n",
       "        <td>24</td>\n",
       "        <td>$50,000.00</td>\n",
       "    </tr>\n",
       "    <tr>\n",
       "        <td>10</td>\n",
       "        <td>1</td>\n",
       "        <td>19</td>\n",
       "        <td>24</td>\n",
       "        <td>$45,000.00</td>\n",
       "    </tr>\n",
       "</table>"
      ],
      "text/plain": [
       "[(1, 1, 19, 24, '$3,923,359.00'),\n",
       " (2, 1, 19, 24, '-$7,116,040.00'),\n",
       " (3, 1, 19, 24, '$18,000.00'),\n",
       " (4, 1, 19, 24, '$4,900.00'),\n",
       " (5, 1, 19, 24, '$85,000.00'),\n",
       " (6, 1, 19, 24, '$2,200,000.00'),\n",
       " (7, 1, 19, 24, '$0.00'),\n",
       " (8, 1, 19, 24, '$60,000.00'),\n",
       " (9, 1, 19, 24, '$50,000.00'),\n",
       " (10, 1, 19, 24, '$45,000.00')]"
      ]
     },
     "execution_count": 99,
     "metadata": {},
     "output_type": "execute_result"
    }
   ],
   "source": [
    "%%sql\n",
    "\n",
    "SELECT * FROM fact_budget\n",
    "LIMIT 10"
   ]
  },
  {
   "cell_type": "markdown",
   "metadata": {},
   "source": [
    "Checking the budget fact table that we just created. "
   ]
  },
  {
   "cell_type": "code",
   "execution_count": 7,
   "metadata": {},
   "outputs": [
    {
     "name": "stdout",
     "output_type": "stream",
     "text": [
      "Done.\n"
     ]
    },
    {
     "data": {
      "text/plain": [
       "[]"
      ]
     },
     "execution_count": 7,
     "metadata": {},
     "output_type": "execute_result"
    }
   ],
   "source": [
    "%%sql\n",
    "\n",
    "ALTER TABLE fact_budget\n",
    "ADD CONSTRAINT fund_fk\n",
    "FOREIGN KEY (fund_id) REFERENCES DIM_fund\n",
    "ON DELETE CASCADE;"
   ]
  },
  {
   "cell_type": "code",
   "execution_count": 8,
   "metadata": {},
   "outputs": [
    {
     "name": "stdout",
     "output_type": "stream",
     "text": [
      "Done.\n"
     ]
    },
    {
     "data": {
      "text/plain": [
       "[]"
      ]
     },
     "execution_count": 8,
     "metadata": {},
     "output_type": "execute_result"
    }
   ],
   "source": [
    "%%sql\n",
    "\n",
    "ALTER TABLE fact_budget\n",
    "ADD CONSTRAINT org_fk\n",
    "FOREIGN KEY (org_id) REFERENCES dim_org\n",
    "ON DELETE CASCADE;"
   ]
  },
  {
   "cell_type": "code",
   "execution_count": 9,
   "metadata": {},
   "outputs": [
    {
     "name": "stdout",
     "output_type": "stream",
     "text": [
      "Done.\n"
     ]
    },
    {
     "data": {
      "text/plain": [
       "[]"
      ]
     },
     "execution_count": 9,
     "metadata": {},
     "output_type": "execute_result"
    }
   ],
   "source": [
    "%%sql\n",
    "\n",
    "ALTER TABLE FACT_budget\n",
    "ADD CONSTRAINT date_fk\n",
    "FOREIGN KEY (date_id) REFERENCES budget_date\n",
    "ON DELETE CASCADE;"
   ]
  },
  {
   "cell_type": "markdown",
   "metadata": {},
   "source": [
    "#### We want to compare the Budget and the spending for each of the Departments under the Austin city Government."
   ]
  },
  {
   "cell_type": "markdown",
   "metadata": {},
   "source": [
    "#### Now performing Analysis on how much Budget the each department has and how much each of the department is spending in the Quarter 3 of Financial year 2016.\n",
    "We look at the top 10 departments with highest budget."
   ]
  },
  {
   "cell_type": "code",
   "execution_count": 25,
   "metadata": {},
   "outputs": [
    {
     "name": "stdout",
     "output_type": "stream",
     "text": [
      "10 rows affected.\n"
     ]
    },
    {
     "data": {
      "text/html": [
       "<table>\n",
       "    <tr>\n",
       "        <th>dept_nm</th>\n",
       "        <th>Budget</th>\n",
       "        <th>Spending</th>\n",
       "    </tr>\n",
       "    <tr>\n",
       "        <td>Austin Energy</td>\n",
       "        <td>145102504401.00</td>\n",
       "        <td>27981961731.03</td>\n",
       "    </tr>\n",
       "    <tr>\n",
       "        <td>Enterprise Debt Service</td>\n",
       "        <td>61003261650.00</td>\n",
       "        <td>4247045086.53</td>\n",
       "    </tr>\n",
       "    <tr>\n",
       "        <td>Austin Water Utility</td>\n",
       "        <td>51435223473.00</td>\n",
       "        <td>3493453297.63</td>\n",
       "    </tr>\n",
       "    <tr>\n",
       "        <td>Fire</td>\n",
       "        <td>31698889137.00</td>\n",
       "        <td>194184375.25</td>\n",
       "    </tr>\n",
       "    <tr>\n",
       "        <td>Police</td>\n",
       "        <td>30260581581.00</td>\n",
       "        <td>1070106083.82</td>\n",
       "    </tr>\n",
       "    <tr>\n",
       "        <td>Emergency Medical Services</td>\n",
       "        <td>10701165653.00</td>\n",
       "        <td>379361867.21</td>\n",
       "    </tr>\n",
       "    <tr>\n",
       "        <td>Communications &amp; Technology Management</td>\n",
       "        <td>9407954271.00</td>\n",
       "        <td>1314591219.55</td>\n",
       "    </tr>\n",
       "    <tr>\n",
       "        <td>Parks &amp; Recreation</td>\n",
       "        <td>9230450744.00</td>\n",
       "        <td>808466142.06</td>\n",
       "    </tr>\n",
       "    <tr>\n",
       "        <td>Fleet Services</td>\n",
       "        <td>9173824132.00</td>\n",
       "        <td>1221157011.90</td>\n",
       "    </tr>\n",
       "    <tr>\n",
       "        <td>Public Works - Transportation</td>\n",
       "        <td>7143949267.00</td>\n",
       "        <td>671627114.32</td>\n",
       "    </tr>\n",
       "</table>"
      ],
      "text/plain": [
       "[('Austin Energy', Decimal('145102504401.00'), Decimal('27981961731.03')),\n",
       " ('Enterprise Debt Service', Decimal('61003261650.00'), Decimal('4247045086.53')),\n",
       " ('Austin Water Utility', Decimal('51435223473.00'), Decimal('3493453297.63')),\n",
       " ('Fire', Decimal('31698889137.00'), Decimal('194184375.25')),\n",
       " ('Police', Decimal('30260581581.00'), Decimal('1070106083.82')),\n",
       " ('Emergency Medical Services', Decimal('10701165653.00'), Decimal('379361867.21')),\n",
       " ('Communications & Technology Management', Decimal('9407954271.00'), Decimal('1314591219.55')),\n",
       " ('Parks & Recreation', Decimal('9230450744.00'), Decimal('808466142.06')),\n",
       " ('Fleet Services', Decimal('9173824132.00'), Decimal('1221157011.90')),\n",
       " ('Public Works - Transportation', Decimal('7143949267.00'), Decimal('671627114.32'))]"
      ]
     },
     "execution_count": 25,
     "metadata": {},
     "output_type": "execute_result"
    }
   ],
   "source": [
    "%%sql\n",
    "\n",
    "SELECT \n",
    "    o.dept_nm\n",
    "    ,CAST(SUM(fb.budget_amount) AS NUMERIC)AS \"Budget\"\n",
    "    ,CAST(SUM(fs.amount) AS NUMERIC) AS \"Spending\"\n",
    "    \n",
    "    \n",
    "FROM FACT_spending fs \n",
    "JOIN FACT_budget fb ON fs.org_id=fb.org_id\n",
    "LEFT JOIN DIM_org o ON o.org_key=fs.org_id \n",
    "LEFT JOIN DIM_date d ON fs.date_id=d.date_key\n",
    "WHERE d.fy_dc=2016 AND d.fy_quarter='Q3'\n",
    "\n",
    "GROUP BY o.dept_nm\n",
    "ORDER BY SUM(fb.budget_amount) DESC\n",
    "LIMIT 10;"
   ]
  },
  {
   "cell_type": "code",
   "execution_count": 26,
   "metadata": {},
   "outputs": [],
   "source": [
    "result=_\n",
    "data=pd.DataFrame(result,columns=['Department','Budget','Spending'])"
   ]
  },
  {
   "cell_type": "code",
   "execution_count": 27,
   "metadata": {},
   "outputs": [
    {
     "data": {
      "text/plain": [
       "<matplotlib.text.Text at 0x11b385780>"
      ]
     },
     "execution_count": 27,
     "metadata": {},
     "output_type": "execute_result"
    },
    {
     "data": {
      "image/png": "[encoded data removed]",
      "text/plain": [
       "<matplotlib.figure.Figure at 0x1183c8080>"
      ]
     },
     "metadata": {},
     "output_type": "display_data"
    }
   ],
   "source": [
    "sns.set_style(\"white\")\n",
    "sns.set_context({\"figure.figsize\": (24, 10)})\n",
    "sns.barplot(x = 'Department', y = 'Budget',data=data, color = \"red\")\n",
    "bottom_plot = sns.barplot(x = 'Department', y = 'Spending', data=data,color = \"#0000A3\")\n",
    "topbar = plt.Rectangle((0,0),1,1,fc=\"red\", edgecolor = 'none')\n",
    "bottombar = plt.Rectangle((0,0),1,1,fc='#0000A3',  edgecolor = 'none')\n",
    "l = plt.legend([bottombar, topbar], ['Spending', 'Budget'], loc=1, ncol = 2, prop={'size':16})\n",
    "l.draw_frame(False)\n",
    "sns.despine(left=True)\n",
    "bottom_plot.set_ylabel(\"Budget vs Spending\")\n",
    "bottom_plot.set_xlabel(\"Department\")"
   ]
  },
  {
   "cell_type": "markdown",
   "metadata": {},
   "source": [
    "The first thing we realized from our budget and expense comparison is that the government is preparing higher budget and did not spend that much for the actual expense. The spending is less when compared to the estimated budget."
   ]
  },
  {
   "cell_type": "markdown",
   "metadata": {},
   "source": [
    "#### EACH OF THE TEAM MEMBER CONTRIBUTED EQUALLY FOR THE PROJECT. WE ALWAYS MET AND WORKED AS A TEAM THROUGHOUT THE PROJECT."
   ]
  },
  {
   "cell_type": "markdown",
   "metadata": {},
   "source": [
    "#### THANK YOU"
   ]
  }
 ],
 "metadata": {
  "anaconda-cloud": {},
  "kernelspec": {
   "display_name": "Python [Root]",
   "language": "python",
   "name": "Python [Root]"
  },
  "language_info": {
   "codemirror_mode": {
    "name": "ipython",
    "version": 3
   },
   "file_extension": ".py",
   "mimetype": "text/x-python",
   "name": "python",
   "nbconvert_exporter": "python",
   "pygments_lexer": "ipython3",
   "version": "3.5.2"
  }
 },
 "nbformat": 4,
 "nbformat_minor": 1
}
